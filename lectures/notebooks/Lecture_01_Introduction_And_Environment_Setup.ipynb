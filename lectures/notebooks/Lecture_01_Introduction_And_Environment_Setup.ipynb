{
 "cells": [
  {
   "cell_type": "markdown",
   "metadata": {
    "slideshow": {
     "slide_type": "slide"
    }
   },
   "source": [
    "# Fundamentals of Information Systems\n",
    "\n",
    "## Python Programming (for Data Science)\n",
    "\n",
    "### Master's Degree in Data Science\n",
    "\n",
    "#### Gabriele Tolomei\n",
    "<a href=\"mailto:gtolomei@math.unipd.it\">gtolomei@math.unipd.it</a><br/>\n",
    "University of Padua, Italy<br/>\n",
    "2017/2018<br/>\n",
    "October 11, 2018"
   ]
  },
  {
   "cell_type": "markdown",
   "metadata": {
    "slideshow": {
     "slide_type": "slide"
    }
   },
   "source": [
    "# Lecture 1: Introduction and Environment Setup"
   ]
  },
  {
   "cell_type": "markdown",
   "metadata": {
    "slideshow": {
     "slide_type": "slide"
    }
   },
   "source": [
    "# What is Data Science?\n",
    "<br />\n",
    "<br />\n",
    "<div>\n",
    "<center>According to [Wikipedia](https://en.wikipedia.org/wiki/Data_science):<br /><br />\n",
    "\"Data Science is an **interdisciplinary** field about scientific methods, processes, and systems to extract **knowledge** or insights from **data** in various forms, either structured or unstructured.\"</center>\n",
    "</div>"
   ]
  },
  {
   "cell_type": "markdown",
   "metadata": {
    "slideshow": {
     "slide_type": "slide"
    }
   },
   "source": [
    "# What is Data Science?\n",
    "<br />\n",
    "<center><i>A picture is worth a thousand words...</i></center>\n",
    "<center>![](./img/data_science.jpg)</center>"
   ]
  },
  {
   "cell_type": "markdown",
   "metadata": {
    "slideshow": {
     "slide_type": "slide"
    }
   },
   "source": [
    "# What kind of Data?\n",
    "\n",
    "Mostly, **structured data**, which is a (vague) term that encompasses many different common forms of data, such as:\n",
    "-  Tabular data like those stored in RDBMS or tab- or comma-separated text files, each column of a different type (*string*, *numeric*, *date*, etc.).\n",
    "-  Multidimensional arrays (matrices).\n",
    "-  Multiple tables of data interrelated by key columns (what would be primary or foreign keys for a SQL user).\n",
    "-  Evenly or unevenly spaced time series.\n",
    "-  In general, any source of data with a *schema* attached. "
   ]
  },
  {
   "cell_type": "markdown",
   "metadata": {
    "slideshow": {
     "slide_type": "slide"
    }
   },
   "source": [
    "# What kind of Data?\n",
    "\n",
    "-  The list above is by no means complete!\n",
    "-  Often, *unstructured* data sets can be transformed into a structured form that is more suitable for analysis and modeling. \n",
    "-  If not, it may be possible to **extract features** from a data set into a structured form. For example: \n",
    "    -  A collection _text documents_ could be processed into a word frequency table which could then be used to perform sentiment analysis.\n",
    "    -  A set of _images_ can be transformed into RGB matrices of fixed size to perform some visual recognition task (cat vs. dog)."
   ]
  },
  {
   "cell_type": "markdown",
   "metadata": {
    "slideshow": {
     "slide_type": "slide"
    }
   },
   "source": [
    "# Why Python?\n",
    "\n",
    "-  Since its first appearance in 1991, *Python* has become one of the most popular programming languages, along with *Perl*, *Ruby*, and others. \n",
    "-  It is often referred to as a *scripting language* to emphasize that it can be used to *quickly* write small programs (or scripts).\n",
    "-  Such \"rapid prototyping\" ability is one of the difference between Python and \"established\" programming languages like *C/C++* or *Java*.\n",
    "-  However, the term \"scripting language\" might be misleading as it seems that Python cannot be used for building more complex software systems."
   ]
  },
  {
   "cell_type": "markdown",
   "metadata": {
    "slideshow": {
     "slide_type": "slide"
    }
   },
   "source": [
    "# Why Python for Data Science? \n",
    "\n",
    "-  Alternatives to Python in the data analysis field are still widely used, e.g., R, MATLAB, SAS, Stata, etc.\n",
    "-  In the last 10 years, Python has become one of the most important languages for **data science**, **machine learning** both in academia and industry.\n",
    "    -  Highly active and collaborative community;\n",
    "    -  Huge library support (e.g., <code>**numpy**</code>, <code>**pandas**</code>, <code>**scikit-learn**</code>).\n",
    "-  As of today, Python is the primary language for anyone approaching data science (and, possibly, computer programming in general)."
   ]
  },
  {
   "cell_type": "markdown",
   "metadata": {
    "slideshow": {
     "slide_type": "slide"
    }
   },
   "source": [
    "## Python as a glue\n",
    "\n",
    "-  Easy to integrate with existing C, C++, and FORTRAN code for scientific computing. \n",
    "-  Modern computing environments share a similar set of legacy FORTRAN and C libraries for doing linear algebra, optimization, integration, fast fourier transforms, and other such algorithms.\n",
    "-  *Portability*: Python code can be executed on any platform (provided there is a Python implementation for that platform)"
   ]
  },
  {
   "cell_type": "markdown",
   "metadata": {
    "slideshow": {
     "slide_type": "slide"
    }
   },
   "source": [
    "## One language fits (almost) all\n",
    "\n",
    "-  Before Python, organizations used to have 2 separate development stages:\n",
    "    1. Research, prototyping, and testing using a specialized language like SAS or R;\n",
    "    2. Deployment of (some of the) prototypes in production using Java, C#, or C++.\n",
    "-  *There's a new kid on the block!* Python is a suitable language not only for research and prototyping but also building production systems.\n",
    "    -  No need to maintain two development environments when one will suffice."
   ]
  },
  {
   "cell_type": "markdown",
   "metadata": {
    "slideshow": {
     "slide_type": "slide"
    }
   },
   "source": [
    "# Why _not_ Python?\n",
    "\n",
    "## Performance\n",
    "\n",
    "-  Python (the language) has many run-time implementations. \n",
    "    -  [CPython](https://github.com/python/cpython) (most popular): C implementation; \n",
    "    -  [Jython](http://www.jython.org/): Java implementation;\n",
    "    -  [IronPython](http://ironpython.net/): C# implementation;\n",
    "    -  ...\n",
    "    \n",
    "Note that Python (the language) is not slow; some Python run-times (e.g., CPython) can be!"
   ]
  },
  {
   "cell_type": "markdown",
   "metadata": {
    "slideshow": {
     "slide_type": "slide"
    }
   },
   "source": [
    "### CPython\n",
    "\n",
    "-  Python source code is compiled to an intermediate language and then interpreted (i.e., executed) into a virtual machine.\n",
    "-  This is slower than native (assembly) code compiled directly from C/C++.\n",
    "-  It might also be slower than Java, which encapsulates some code optimization strategies (e.g., the Java JIT compiler)."
   ]
  },
  {
   "cell_type": "markdown",
   "metadata": {
    "slideshow": {
     "slide_type": "slide"
    }
   },
   "source": [
    "### Jython\n",
    "\n",
    "-  Python source code is compiled to Java intermediate language (*bytecode*) and then interpreted (i.e., executed) into the JVM.\n",
    "-  Performance is similar of that of a Java program."
   ]
  },
  {
   "cell_type": "markdown",
   "metadata": {
    "slideshow": {
     "slide_type": "slide"
    }
   },
   "source": [
    "### IronPython\n",
    "\n",
    "-  It relies on the same .NET libraries and Common Language Infrastructure (CLI) as C#. \n",
    "-  Performance is similar of that of a C# program."
   ]
  },
  {
   "cell_type": "markdown",
   "metadata": {
    "slideshow": {
     "slide_type": "slide"
    }
   },
   "source": [
    "### Other implementations\n",
    "\n",
    "-  Python can be directly translated to native code via PyREX, PyToC, and others. \n",
    "-  In this case, it will generally perform as well as C++."
   ]
  },
  {
   "cell_type": "markdown",
   "metadata": {
    "slideshow": {
     "slide_type": "slide"
    }
   },
   "source": [
    "# Why _not_ Python?\n",
    "\n",
    "## Concurrency\n",
    "\n",
    "-  Challenging language for building highly concurrent, multithreaded applications, particularly applications with many CPU-bound threads. \n",
    "-  This is due to the **global interpreter lock** (GIL), a mechanism which prevents the (CPython) interpreter from executing more than one Python instruction at a time.\n",
    "-  However, Python C extensions that use native multithreading (in C or C++) can run code in parallel without being impacted by the GIL, so long as they do not need to interact with Python objects."
   ]
  },
  {
   "cell_type": "markdown",
   "metadata": {
    "slideshow": {
     "slide_type": "slide"
    }
   },
   "source": [
    "# Let's start getting our hands dirty!\n",
    "\n",
    "[<span style=\"color:red\"><b>Note:</b></span> *At this stage we assume our Python environment is correctly set up. We will dedicate a specific lecture to this later on.*]"
   ]
  },
  {
   "cell_type": "markdown",
   "metadata": {
    "slideshow": {
     "slide_type": "slide"
    }
   },
   "source": [
    "# The Python Interpreter\n",
    "\n",
    "-  The standard Python interpreter (CPython) runs a program by executing one statement at a time. \n",
    "-  It can be invoked on the command line with the <code>**python**</code> command:\n",
    "```bash\n",
    "> python\n",
    "```\n",
    "<center>![](./img/launch_python.png)</center>"
   ]
  },
  {
   "cell_type": "markdown",
   "metadata": {
    "collapsed": true,
    "slideshow": {
     "slide_type": "slide"
    }
   },
   "source": [
    "# The Python Interpreter\n",
    "\n",
    "-  The <font face=\"Courier New\">>>></font> is the *prompt* where you will type expressions.\n",
    "-  To exit the Python interpreter and return to the shell command prompt, you can either type <code>**exit()**</code> or press <code>**Ctrl + D**</code>."
   ]
  },
  {
   "cell_type": "markdown",
   "metadata": {
    "slideshow": {
     "slide_type": "slide"
    }
   },
   "source": [
    "# Our first Python program: <code>Hello World!</code>\n",
    "<br />\n",
    "<center>![](./img/hello_world.png)</center>"
   ]
  },
  {
   "cell_type": "markdown",
   "metadata": {
    "collapsed": true,
    "slideshow": {
     "slide_type": "slide"
    }
   },
   "source": [
    "# Our first Python program: <code>Hello World!</code>\n",
    "\n",
    "-  Instead of running it in *interactive* mode with the interpreter, a Python program can be executed directly from the command line. To do so:\n",
    "    -  Open a file with your favorite text editor (e.g., *vi*, *emacs*) and save it with <code>**.py**</code> extension (e.g., <code>**hello_world.py**</code>)\n",
    "    -  Put in it all the instructions you want to execute:\n",
    "    ```python\n",
    "    s = \"Hello World!\"\n",
    "    print(s)\n",
    "    ```\n",
    "    -  Run the following command: <code>**> python hello_world.py**</code>"
   ]
  },
  {
   "cell_type": "markdown",
   "metadata": {
    "slideshow": {
     "slide_type": "slide"
    }
   },
   "source": [
    "# Installation and Setup\n",
    "\n",
    "-  There is no single solution for setting up Python and required add-on packages. \n",
    "-  I will try to give you detailed instructions on how to set those up on each major operating system. \n",
    "-  I recommend using the free [Anaconda](https://docs.continuum.io/) distribution provided by Continuum Analytics. \n",
    "-  Anaconda is offered in both Python 2.7 and 3.7 \"flavours\". \n",
    "-  This class assumes/encourage you to use Python 3.6 or 3.7 (more on Python 2.x vs. Python 3.x later)."
   ]
  },
  {
   "cell_type": "markdown",
   "metadata": {
    "slideshow": {
     "slide_type": "slide"
    }
   },
   "source": [
    "<span style=\"color: red\"><b>Note:</b></span> *Your system may come shipped with a default Python interpreter. Even so, we strongly encourage to follow the steps below in order to:*<br /> \n",
    "**i)** *replicate the exact environment used in this class and*<br /> \n",
    "**ii)** *practice with possible installation/configuration issues.*"
   ]
  },
  {
   "cell_type": "markdown",
   "metadata": {
    "slideshow": {
     "slide_type": "slide"
    }
   },
   "source": [
    "## Apple (OS X, macOS)\n",
    "\n",
    "-  Download the OS X Anaconda installer called something like <code>Anaconda3-5.3.0-MacOSX-x86_64.pkg</code>. \n",
    "-  Double-click the <code>.pkg</code> file to run the installer. \n",
    "-  When the installer runs, it automatically appends the Anaconda executable path (e.g., <code>/usr/local/anaconda3/bin/anaconda</code>) to your <code>/Users/$USER/.bash_profile</code> file.\n",
    "-  To verify everything is working, try launching <code>**python**</code> from the Terminal application."
   ]
  },
  {
   "cell_type": "markdown",
   "metadata": {
    "slideshow": {
     "slide_type": "slide"
    }
   },
   "source": [
    "## Additional note for OS X and macOS\n",
    "\n",
    "-  Anaconda provides an easy way to install/setup Python as it comes with hundreds of useful packages bundled.\n",
    "-  In alternative (not recommended!), you may want to install Python interpreter alone (e.g., via <code>Homebrew</code>) and then install each package you need via <code>pip</code>, which is the default Python package manager.\n",
    "-  For those who are curious, please refer to this tutorial: http://docs.python-guide.org/en/latest/starting/install3/osx/"
   ]
  },
  {
   "cell_type": "markdown",
   "metadata": {
    "slideshow": {
     "slide_type": "slide"
    }
   },
   "source": [
    "## GNU/Linux (1 of 3)\n",
    "\n",
    "-  Linux details will vary a bit depending on your distributions, e.g., Debian, Ubuntu, CentOS, and Fedora.\n",
    "-  Setup is similar to OS X with the exception of how Anaconda is installed.\n",
    "-  The installer is a shell script that must be executed in the terminal."
   ]
  },
  {
   "cell_type": "markdown",
   "metadata": {
    "slideshow": {
     "slide_type": "slide"
    }
   },
   "source": [
    "## GNU/Linux (2 of 3)\n",
    "\n",
    "-  Depending on whether you have a 32-bit or 64-bit system, you will either need to install the x86 (32-bit) or x86_64 (64-bit) installer. \n",
    "-  You will then have a file named something similar to <code>Anaconda3-5.3.0-Linux-x86_64.sh</code>. \n",
    "-  To install it, execute this script with bash:\n",
    "```bash\n",
    "bash Anaconda3-5.3.0-Linux-x86_64.sh\n",
    "```"
   ]
  },
  {
   "cell_type": "markdown",
   "metadata": {
    "slideshow": {
     "slide_type": "slide"
    }
   },
   "source": [
    "## GNU Linux (3 of 3)\n",
    "\n",
    "-  After accepting the license, you will be presented with a choice of where to put the Anaconda files. \n",
    "\n",
    "-  I recommend installing the files in the default location in your home directory, for example <code>/home/$USER/anaconda</code>.\n",
    "\n",
    "-  The Anaconda installer may ask if you wish to prepend its <code>bin</code> directory to your <code>$PATH</code> variable. You can always do this yourself by modifying your <code>~/.bashrc</code> file as follows:\n",
    "\n",
    "```bash\n",
    "export PATH=/home/$USER/anaconda/bin:$PATH; source ~/.bashrc\n",
    "```"
   ]
  },
  {
   "cell_type": "markdown",
   "metadata": {
    "slideshow": {
     "slide_type": "slide"
    }
   },
   "source": [
    "## Windows (1 of 2)\n",
    "\n",
    "-  Download the Anaconda installer for Windows from [http://continuum.io/downloads](http://continuum.io/downloads), an executable named like <code>Anaconda3-5.3.0-Windows-x86_64.exe</code>.\n",
    "-  Run the installer and accept the default installation location, which will either be <code>C:\\Python37</code> (if run as an administrator) or <code>C:\\Users\\\\$USERNAME\\Anaconda3</code> if run as a normal user.\n",
    "-  If you had previously installed Python in this location, you may want to remove it first."
   ]
  },
  {
   "cell_type": "markdown",
   "metadata": {
    "slideshow": {
     "slide_type": "slide"
    }
   },
   "source": [
    "## Windows (2 of 2)\n",
    "\n",
    "-  The installer will also ask you if you wish to make the Anaconda distribution the default Python on your system and whether to add it to your PATH environment variable (*recommended*).\n",
    "-  To verify that things are configured correctly: \n",
    "    -  Open a command prompt (Start Menu --> Command Prompt application);\n",
    "    -  Launch the Python interpreter by typing <code>**python**</code> and you should see a message that matches your version of Anaconda."
   ]
  },
  {
   "cell_type": "markdown",
   "metadata": {
    "slideshow": {
     "slide_type": "slide"
    }
   },
   "source": [
    "## Installing Previous Version\n",
    "\n",
    "-  You may be interested in installing a specific version of Anaconda Python distribution (e.g., 3.6 instead of the latest 3.7)\n",
    "\n",
    "-  You can do that by clicking on the following [link](https://docs.anaconda.com/anaconda/faq#how-do-i-get-the-latest-anaconda-with-python-3-5)\n",
    "\n",
    "-  In this class we will be using Python 3.6, although the latest Python 3.7 (shipped with the latest Anaconda distribution) should work seamlessly."
   ]
  },
  {
   "cell_type": "markdown",
   "metadata": {
    "slideshow": {
     "slide_type": "slide"
    }
   },
   "source": [
    "## Installing/Updating Packages\n",
    "\n",
    "-  To install additional Python packages which are not included in the Anaconda distribution you can either use <code>conda</code> (recommended) or <code>pip</code> as follows:\n",
    "    -  <code>conda install *package_name*</code>\n",
    "    -  <code>pip install *package_name*</code>\n",
    "-  A complete reference of available <code>conda</code> commands and comparison with <code>pip</code> can be found [here](https://conda.io/docs/commands.html?highlight=pip%20virtualenv#conda-vs-pip-vs-virtualenv-commands).\n"
   ]
  },
  {
   "cell_type": "markdown",
   "metadata": {
    "slideshow": {
     "slide_type": "slide"
    }
   },
   "source": [
    "## Python 2 vs. Python 3\n",
    "\n",
    "-  The first version of the Python 3.x line of interpreters was released at the end of 2008. \n",
    "\n",
    "-  It included a number of changes that made some previously-written Python 2.x code **incompatible**. \n",
    "\n",
    "-  It was the major \"breaking\" update since the very first release of Python in 1991."
   ]
  },
  {
   "cell_type": "markdown",
   "metadata": {
    "slideshow": {
     "slide_type": "slide"
    }
   },
   "source": [
    "## Python 2 vs. Python 3\n",
    "\n",
    "-  In 2012, much of the scientific and data analysis community was still using Python 2.x because many packages had not been made fully Python 3 compatible.\n",
    "\n",
    "-  However, Python 2.x will reach its development end of life in 2020, and so it is no longer a good idea to start new projects in Python 2.x.\n",
    "\n",
    "-  A good reference to understand the main differences between the two versions can be found [here](https://wiki.python.org/moin/Python2orPython3)."
   ]
  },
  {
   "cell_type": "markdown",
   "metadata": {
    "slideshow": {
     "slide_type": "slide"
    }
   },
   "source": [
    "## Text Editors and Integrated Development Environments (IDEs)\n",
    "\n",
    "-  Most text editors like [Atom](https://atom.io/) and [Sublime Text 3](https://www.sublimetext.com/) have excellent Python support.\n",
    "\n",
    "-  However, when it comes to building/package more complex software, you may want to use a more richly-featured IDE like:\n",
    "\n",
    "    -  [PyDev](http://www.pydev.org/) (free), a plugin built for the Eclipse platform;\n",
    "    -  [PyCharm](https://www.jetbrains.com/pycharm/) from JetBrains (paid for commercial users, free for open source developers);\n",
    "    -  [Python Tools for Visual Studio](https://www.visualstudio.com/vs/python/) (for Windows users);\n",
    "    -  [Spyder](https://pythonhosted.org/spyder/) (free), an IDE currently shipped with Anaconda."
   ]
  },
  {
   "cell_type": "markdown",
   "metadata": {
    "slideshow": {
     "slide_type": "slide"
    }
   },
   "source": [
    "# Our Development Environment: Jupyter Notebook\n",
    "\n",
    "-  In this class, we will not use text editors nor fancier Python IDEs like [PyDev](http://www.pydev.org/) (Python plugin for [Eclipse](http://www.eclipse.org/)).\n",
    "-  Instead, we will use [Jupyter Notebook](http://jupyter.org/) which is a web browser-based tool for fast developing, running and visualizing Python code.\n",
    "-  Let's see how to properly set up Jupyter Notebook's environment."
   ]
  },
  {
   "cell_type": "markdown",
   "metadata": {
    "slideshow": {
     "slide_type": "slide"
    }
   },
   "source": [
    "# What's Jupyter Notebook?"
   ]
  },
  {
   "cell_type": "markdown",
   "metadata": {
    "slideshow": {
     "slide_type": "slide"
    }
   },
   "source": [
    "## Overview\n",
    "\n",
    "-  In a nutshell: A web application combined with a browser-based GUI which allows to create and share documents that contain live code, equations, visualizations as well as (formatted) text, exactly like **this one**.\n",
    "\n",
    "-  You can get (another) taste of Jupyter Notebook without having to install it on your local machine! Just open your web browser and go to <a href=\"https://jupyter.org/try\" target=\"_blank\">https://jupyter.org/try</a>.\n",
    "\n",
    "-  Main documentation of Jupyter can be found [here](http://jupyter.readthedocs.org/en/latest/) (also available in [pdf](https://media.readthedocs.org/pdf/jupyter/latest/jupyter.pdf)) and [here](http://jupyter-notebook.readthedocs.io/en/latest/notebook.html)."
   ]
  },
  {
   "cell_type": "markdown",
   "metadata": {
    "slideshow": {
     "slide_type": "slide"
    }
   },
   "source": [
    "## A Brief History of Jupyter and IPython\n",
    "\n",
    "-  The project [Jupyter](http://jupyter.org) (as a whole) started as a spin-off project from [IPython](https://ipython.org), \n",
    "\n",
    "-  IPython was the first attempt towards developing an advanced and flexible framework for interactive, multi-language computing environment.\n",
    "\n",
    "-  Up to IPython <b>3.x</b>, this was a monolithic project.\n",
    "\n",
    "-  Starting from IPython <b>4.0</b>, the language-agnostic parts of the project have been moved out to an independent project codenamed, indeed, Jupyter."
   ]
  },
  {
   "cell_type": "markdown",
   "metadata": {
    "slideshow": {
     "slide_type": "slide"
    }
   },
   "source": [
    "## IPython Today: Terminal and Kernel\n",
    "\n",
    "-  IPython itself now only refers to:\n",
    "    -  **Terminal IPython** as an *advanced* Read-Eval-Print-Loop (REPL) Python console (i.e., similar to the classic Python interpreter but with some additional features, such as tab autocompletion, color highlighting, etc.);\n",
    "    -  **IPython Kernel** that provides computation and communication (i.e., backend) capabilities to the frontend interfaces, such as (but not limited to) the (web) Notebook, the Qt console, the IPython console, and any other third-party interface."
   ]
  },
  {
   "cell_type": "markdown",
   "metadata": {
    "slideshow": {
     "slide_type": "slide"
    }
   },
   "source": [
    "## IPython Today: Terminal and Kernel\n",
    "\n",
    "-  Frontends, like the Notebook or the Qt console, communicate with the IPython kernel using JSON messages sent over ZeroMQ sockets.\n",
    "\n",
    "-  The architecture of IPython (kernel and terminal) is depicted below:\n",
    "\n",
    "<!--<center><img src=\"img/ipython_kernel_and_terminal.png\", width=\"480\"/></center>-->\n",
    "<center>![](./img/ipython_kernel_and_terminal.png)</center>"
   ]
  },
  {
   "cell_type": "markdown",
   "metadata": {
    "slideshow": {
     "slide_type": "slide"
    }
   },
   "source": [
    "## IPython: Flexible Architecure\n",
    "\n",
    "-  IPython's architecture is designed to:\n",
    "    1. Allow easy development of different frontends based on the same kernel.\n",
    "    2. Support new languages in the same frontends, by developing kernels for those languages (e.g., **R**, **Julia**, **Haskell**, **C++**, etc.)."
   ]
  },
  {
   "cell_type": "markdown",
   "metadata": {
    "slideshow": {
     "slide_type": "slide"
    }
   },
   "source": [
    "## IPython: Adding Support for New Kernels\n",
    "\n",
    "-  There are **two** ways to develop a kernel for another language:\n",
    "    1. **Wrapper kernels** reuse the communications machinery from IPython kernel, and implement only the core execution part.\n",
    "    2. **Native kernels** implement execution and communications in the target language."
   ]
  },
  {
   "cell_type": "markdown",
   "metadata": {
    "slideshow": {
     "slide_type": "slide"
    }
   },
   "source": [
    "## IPython: Wrapper vs. Native Kernels\n",
    "\n",
    "-  **Wrapper kernels** are easier to write quickly for languages that have good Python wrappers, like [octave_kernel](https://pypi.python.org/pypi/octave_kernel), or languages where it's impractical to implement the communications machinery, like [bash_kernel](https://pypi.python.org/pypi/bash_kernel). \n",
    "\n",
    "-  **Native kernels** are likely to be better maintained by the community using them, like [IJulia](https://github.com/JuliaLang/IJulia.jl) or [IHaskell](https://github.com/gibiansky/IHaskell)."
   ]
  },
  {
   "cell_type": "markdown",
   "metadata": {
    "slideshow": {
     "slide_type": "slide"
    }
   },
   "source": [
    "## IPython: Wrapper vs. Native Kernels\n",
    "\n",
    "<center>![](./img/other_kernels.png)</center>"
   ]
  },
  {
   "cell_type": "markdown",
   "metadata": {
    "slideshow": {
     "slide_type": "slide"
    }
   },
   "source": [
    "## Jupyter Notebook's Overall Architecture\n",
    " \n",
    "-  Jupyter Notebook therefore refers to the combination of the IPython kernel (backend) with the web-based interface provided with Notebook (frontend).\n",
    "-  The following image describes the high-level architecture of Jupyter Notebook:\n",
    "\n",
    "<center>![](./img/architecture.png)</center>"
   ]
  },
  {
   "cell_type": "markdown",
   "metadata": {
    "collapsed": true,
    "slideshow": {
     "slide_type": "slide"
    }
   },
   "source": [
    "## Jupyter Notebook's Workflow\n",
    "\n",
    "- In addition to execute code, Jupyter Notebook stores code and output in an editable document called a *notebook*. \n",
    "\n",
    "-  Once saved, this is sent from your browser to the Notebook server, which saves it on disk as a JSON file with a <code>**.ipynb**</code> extension.\n",
    "\n",
    "-  Jupyter Notebook can be executed on a local machine without Internet access (i.e., via a web browser running on the same machine where the Notebook server is running), or on a remote server and accessed through the Internet.\n",
    "\n",
    "[<strong style=\"color: red;\">Note:</strong> *We refer to \"__Notebook__\" as the Jupyter web application, whereas \"__notebook__\" stands for the JSON file representing any session stored on the Notebook server.*]"
   ]
  },
  {
   "cell_type": "markdown",
   "metadata": {
    "slideshow": {
     "slide_type": "slide"
    }
   },
   "source": [
    "# Why Jupyter Notebook?"
   ]
  },
  {
   "cell_type": "markdown",
   "metadata": {
    "slideshow": {
     "slide_type": "slide"
    }
   },
   "source": [
    "## Overview\n",
    "\n",
    "-  Jupyter Notebook has gained momentum because represents the ideal tool for supporting Data/Machine Learning Scientists in their day-to-day work.\n",
    "\n",
    "-  There are now Jupyter Notebooks on numerous topics in many scientific disciplines. Here are a few examples of those:\n",
    "    -  [LIGO Gravitational Wave Data](https://losc.ligo.org/s/events/GW150914/GW150914_tutorial.html)\n",
    "    -  [Satellite Imagery Analysis](http://unidata.github.io/python-gallery/examples/Satellite_Example.html)\n",
    "    -  [12 Steps to Navier-Stokes](https://github.com/barbagroup/CFDPython)\n",
    "    -  [Computer Vision](http://nbviewer.jupyter.org/github/ogrisel/notebooks/blob/master/Labeled%2520Faces%2520in%2520the%2520Wild%2520recognition.ipynb)\n",
    "    -  [Machine Learning](https://nbviewer.jupyter.org/github/rhiever/Data-Analysis-and-Machine-Learning-Projects/blob/master/example-data-science-notebook/Example%2520Machine%2520Learning%2520Notebook.ipynb)"
   ]
  },
  {
   "cell_type": "markdown",
   "metadata": {
    "slideshow": {
     "slide_type": "slide"
    }
   },
   "source": [
    "## Literate Programming\n",
    "\n",
    "-  The reason for Jupyter’s immense success is it excels in a form of programming called \"*literate programming*\".\n",
    "\n",
    "-  A style of software development pioneered by [Donald Knuth](http://www-cs-faculty.stanford.edu/~uno/lp.html) which emphasizes a prose-first approach where exposition with human-friendly text is punctuated with code blocks. \n",
    "\n",
    "-  Cool for **research** and **teaching** (hope so!), especially for science.\n",
    "\n",
    "-  Jupyter Notebook allows and fosters the adoption of literate programming by embracing standard web technologies (i.e., mostly HTML5, JavaScript, and CSS)."
   ]
  },
  {
   "cell_type": "markdown",
   "metadata": {
    "slideshow": {
     "slide_type": "slide"
    }
   },
   "source": [
    "# How to Install Jupyter Notebook"
   ]
  },
  {
   "cell_type": "markdown",
   "metadata": {
    "slideshow": {
     "slide_type": "slide"
    }
   },
   "source": [
    "## Prerequisite: Python Interpreter\n",
    "\n",
    "-  While Jupyter runs code in many programming languages, the Python interpreter is a **requirement** (Python 3.3 or greater, or Python 2.7) for installing the Jupyter Notebook.\n",
    "\n",
    "-  The Python interpreter and Jupyter Notebook can be installed separately (in fact, this could be an option if you have already installed Python on your system). \n",
    "\n",
    "-  However, for a fresh install we **strongly recommend** using the [Anaconda](https://www.continuum.io/downloads) distribution."
   ]
  },
  {
   "cell_type": "markdown",
   "metadata": {
    "slideshow": {
     "slide_type": "slide"
    }
   },
   "source": [
    "## Anaconda Distribution: Standard\n",
    "\n",
    "-  Anaconda is available for Windows, macOS, and Unix/Linux, and it comes in two open-source flavours: standard and [Miniconda](http://conda.pydata.org/miniconda.html)\n",
    "\n",
    "-  The standard version installs the Python interpreter (either one among the following versions: 2.7.13, 3.5.3, 3.6.1, or 3.7), <code>conda</code> (i.e., the package, dependency and environment manager)\n",
    "\n",
    "-  Plus, it installs **over 100** other pre-built and tested scientific and analytic Python packages. \n",
    "\n",
    "-  Among these packages are: [NumPy](http://www.numpy.org/), [pandas](http://pandas.pydata.org/), [SciPy](https://www.scipy.org/), [matplotlib](https://matplotlib.org/), [scikit-learn](http://scikit-learn.org/stable/), and - indeed - Jupyter and IPython kernel."
   ]
  },
  {
   "cell_type": "markdown",
   "metadata": {
    "slideshow": {
     "slide_type": "slide"
    }
   },
   "source": [
    "## Anaconda Distribution: Miniconda\n",
    "\n",
    "-  Instead, Miniconda is a very basic distribution which only contains the Python interpreter and <code>conda</code>.\n",
    "\n",
    "-  In any case, over 720 additional packages (as well as the support for other languages, like R or Scala) can easily be installed with <code>conda</code>."
   ]
  },
  {
   "cell_type": "markdown",
   "metadata": {
    "slideshow": {
     "slide_type": "slide"
    }
   },
   "source": [
    "## Possible Alternatives\n",
    "\n",
    "-  Users who want to have more control over their systems may want to install the Python interpreter on their own (provided that either they do not have one installed on their machine or they want to install a different version of the Python interpreter already installed).\n",
    "\n",
    "-  macOS users should refer to the following [tutorial](http://docs.python-guide.org/en/latest/starting/install3/osx/)\n",
    "\n",
    "-  Linux users should look into [this](http://docs.python-guide.org/en/latest/starting/install3/linux/)\n",
    "\n",
    "-  Windows users, please follow this [tutorial](http://docs.python-guide.org/en/latest/starting/install3/win/)"
   ]
  },
  {
   "cell_type": "markdown",
   "metadata": {
    "slideshow": {
     "slide_type": "slide"
    }
   },
   "source": [
    "## Installing Jupyter Notebook\n",
    "\n",
    "Following from the discussion above, there are essentially two ways of installing Jupyter Notebook:\n",
    "\n",
    "-  Using the Anaconda Python Distribution (<b>highly recommended</b>);\n",
    "-  Using [pip](https://pypi.python.org/pypi/pip) (only for skilled users)."
   ]
  },
  {
   "cell_type": "markdown",
   "metadata": {
    "slideshow": {
     "slide_type": "slide"
    }
   },
   "source": [
    "## Installing Jupyter Notebook using Anaconda\n",
    "\n",
    "-  Once Anaconda is successfully installed on your machine, Jupyter Notebook (as well as any other required dependency, including the Python interpreter) is also installed, and ready to be executed.\n",
    "\n",
    "-  To actually run the Jupyter Notebook application, just open a shell and type the following command:\n",
    "\n",
    "```bash\n",
    "> jupyter notebook\n",
    "```"
   ]
  },
  {
   "cell_type": "markdown",
   "metadata": {
    "slideshow": {
     "slide_type": "slide"
    }
   },
   "source": [
    "## Installing Jupyter Notebook using <code>pip</code>\n",
    "\n",
    "-  This is the most \"*pythonic*\" way of installing Jupyter Notebook and, due to that, it is better for experienced and skilled Python users.\n",
    "\n",
    "-  <strong style=\"color: red;\">IMPORTANT:</strong> Jupyter installation requires Python 3.3 or greater, or Python 2.7. To provide support for Python 3.2 and 2.6, IPython 1.x - which included the parts that later became Jupyter - needs rather to be installed."
   ]
  },
  {
   "cell_type": "markdown",
   "metadata": {
    "slideshow": {
     "slide_type": "slide"
    }
   },
   "source": [
    "## Installing Jupyter Notebook using <code>pip</code>\n",
    "\n",
    "-  Make sure you have the latest <code>pip</code> as follows:\n",
    "\n",
    "```bash\n",
    "# Python 3.3 or above\n",
    "> pip3 install --upgrade pip\n",
    "```\n",
    "```bash\n",
    "# Python 2.7.x\n",
    "> pip install --upgrade pip\n",
    "```"
   ]
  },
  {
   "cell_type": "markdown",
   "metadata": {
    "slideshow": {
     "slide_type": "slide"
    }
   },
   "source": [
    "## Installing Jupyter Notebook using <code>pip</code>\n",
    "\n",
    "-  Then, you can install Jupyter Notebook as follows:\n",
    "\n",
    "```bash\n",
    "# Python 3.3 or above\n",
    "> pip3 install jupyter\n",
    "```\n",
    "```bash\n",
    "# Python 2.7.x\n",
    "> pip install jupyter\n",
    "```"
   ]
  },
  {
   "cell_type": "markdown",
   "metadata": {
    "slideshow": {
     "slide_type": "slide"
    }
   },
   "source": [
    "## *Optional*: How to Install Additional IPython Kernels\n",
    "\n",
    "-  Installing the Jupyter Notebook will also install the corresponding IPython kernel. This allows working on notebooks using the Python programming language.\n",
    "\n",
    "-  More specifically, if Jupyter Notebook is running on Python 3 the corresponding IPython kernel (for executing Python 3 compliant code) will be installed.\n",
    "\n",
    "-  Vice versa, if Jupyter Notebook is running on Python 2 the IPython kernel installed will allow the execution of Python 2 code."
   ]
  },
  {
   "cell_type": "markdown",
   "metadata": {
    "slideshow": {
     "slide_type": "slide"
    }
   },
   "source": [
    "## *Optional*: How to Install Additional IPython Kernels\n",
    "\n",
    "-  Still, if you are running Jupyter Notebook on Python 3, you may want to set up an IPython 2 kernel like this:\n",
    "\n",
    "```bash\n",
    "> python2 -m pip install ipykernel\n",
    "# 'Python 2' is the name shown in Notebook menus\n",
    "> python2 -m ipykernel install \\\n",
    "--user --display-name \"Python 2\"\n",
    "```"
   ]
  },
  {
   "cell_type": "markdown",
   "metadata": {
    "slideshow": {
     "slide_type": "slide"
    }
   },
   "source": [
    "## *Optional*: How to Install Additional IPython Kernels\n",
    "\n",
    "-  Or using <code>conda</code>, create a Python 2 environment:\n",
    "\n",
    "```bash\n",
    "> conda create -n ipykernel_py2 python=2 ipykernel\n",
    "# On Windows, remove the word 'source'\n",
    "> source activate ipykernel_py2\n",
    "# 'Python 2' is the name shown in Notebook menus\n",
    "> python -m ipykernel install --user \\\n",
    "--display-name \"Python 2\"\n",
    "```\n",
    "\n",
    "-  If you are running Jupyter on Python 2 and want to set up an IPython 3 kernel, follow the same steps as above, replacing <code>2</code> with <code>3</code>.\n",
    "\n",
    "-  Additional information on how to install/personalize kernels can be found [here](https://ipython.readthedocs.io/en/latest/install/kernel_install.html)."
   ]
  },
  {
   "cell_type": "markdown",
   "metadata": {
    "slideshow": {
     "slide_type": "slide"
    }
   },
   "source": [
    "## *Optional*: How to Install Additional Languages (R, Julia, etc.)\n",
    "\n",
    "-  To run notebooks in languages other than Python, such as R or Julia, you will need to install additional kernels. \n",
    "\n",
    "-  The full list of available kernels can be found [here](https://github.com/jupyter/jupyter/wiki/Jupyter-kernels).\n",
    "\n",
    "[<strong style=\"color: red;\">Note:</strong> *We investigate how to integrate Jupyter Notebook with R later on this notebook.*]"
   ]
  },
  {
   "cell_type": "markdown",
   "metadata": {
    "slideshow": {
     "slide_type": "slide"
    }
   },
   "source": [
    "# How to Use Jupyter Notebook"
   ]
  },
  {
   "cell_type": "markdown",
   "metadata": {
    "slideshow": {
     "slide_type": "slide"
    }
   },
   "source": [
    "## Starting Up the Notebook Server\n",
    "\n",
    "-  To start the Jupyter Notebook Server, open a terminal window and type the following command:\n",
    "\n",
    "```bash\n",
    "> jupyter notebook\n",
    "```\n",
    "\n",
    "-  This will print some information about the Notebook server to the stdout of your terminal, including the URL of the web application (by default, http://localhost:8888)."
   ]
  },
  {
   "cell_type": "markdown",
   "metadata": {
    "slideshow": {
     "slide_type": "slide"
    }
   },
   "source": [
    "## Starting Up the Notebook Server\n",
    "\n",
    "-  Once the notebook server is up and running, it will then open your default web browser to this URL showing the **Notebook Dashboard**, as follows:\n",
    "\n",
    "<center>![](./img/notebook_dashboard.png)</center>"
   ]
  },
  {
   "cell_type": "markdown",
   "metadata": {
    "slideshow": {
     "slide_type": "slide"
    }
   },
   "source": [
    "## Startup Options\n",
    "\n",
    "-  Any further Notebook Server's command line option (e.g., listening port) can be found [here](https://jupyter.readthedocs.io/en/latest/running.html)."
   ]
  },
  {
   "cell_type": "markdown",
   "metadata": {
    "slideshow": {
     "slide_type": "slide"
    }
   },
   "source": [
    "## Shutting Down the Notebook Server\n",
    "\n",
    "-  Finally, to shutdown the Notebook Server just go back to the terminal window where you originally started it up and press <code>**Ctrl + C**</code> and confirm your choice typing <code>**Y**</code>."
   ]
  },
  {
   "cell_type": "markdown",
   "metadata": {
    "slideshow": {
     "slide_type": "slide"
    }
   },
   "source": [
    "## The Notebook Dashboard\n",
    "\n",
    "-  The dashboard contains three tabs which are as follows:\n",
    "    -  **Files:** shows all files and notebooks in the current directory (i.e., the directory which you execute the <code>jupyter notebook</code> command from);\n",
    "    -  **Running:** keeps track of all kernels (processes) currently running on your computer;\n",
    "    -  **Clusters:** allows you launch kernels for parallel computing using the IPython's parallel computing framework."
   ]
  },
  {
   "cell_type": "markdown",
   "metadata": {
    "slideshow": {
     "slide_type": "slide"
    }
   },
   "source": [
    "## The Notebook User Interface\n",
    "\n",
    "-  To create a new notebook, click on the **New** button (top-right corner of the dashboard) and select **Notebook (Python 3)**. A new browser tab opens up and shows the Notebook interface below:\n",
    "\n",
    "<center>![](./img/notebook_interface.png)</center>"
   ]
  },
  {
   "cell_type": "markdown",
   "metadata": {
    "slideshow": {
     "slide_type": "slide"
    }
   },
   "source": [
    "## The Notebook User Interface\n",
    "\n",
    "-  Here are the main components of the interface, from top to bottom:\n",
    "    -  The *Notebook name*, which you can change by clicking on it. This is also the name of the <code>.ipynb</code> file.\n",
    "    -  The *Menu bar* gives you access to several actions pertaining to either the notebook or the kernel.\n",
    "    -  To the right of the Menu bar is the *Kernel name*. You can change the kernel language of your notebook from the Kernel menu.\n",
    "    -  The *Toolbar* contains icons for common actions."
   ]
  },
  {
   "cell_type": "markdown",
   "metadata": {
    "slideshow": {
     "slide_type": "slide"
    }
   },
   "source": [
    "## The Structure of a Notebook Cell\n",
    "\n",
    "-  There are two main types of cells: **Markdown** cells and **Code** cells.\n",
    "\n",
    "    -  A [Markdown](http://jupyter-notebook.readthedocs.io/en/latest/examples/Notebook/Working%20With%20Markdown%20Cells.html) cell contains rich text. In addition to classic formatting options like **bold** or *italics*, we can add links, images, HTML elements, LaTeX mathematical equations, and much more (full specifications available [here](http://daringfireball.net/projects/markdown/)).\n",
    "\n",
    "    -  A Code cell contains code to be executed by the kernel. The programming language corresponds to the kernel's language.\n",
    "\n",
    "-  The type of a cell can be changed by first clicking on a cell to select it, and then choosing the cell's type in the toolbar's dropdown menu showing **Markdown** or **Code**."
   ]
  },
  {
   "cell_type": "markdown",
   "metadata": {
    "slideshow": {
     "slide_type": "slide"
    }
   },
   "source": [
    "## Markdown Cell\n",
    "\n",
    "<center>![](./img/markdown_cell.png)</center>\n",
    "\n",
    "-  The top panel shows the cell in **edit mode**, while the bottom one shows it in **render mode**.\n",
    "\n",
    "-  The edit mode lets you edit the text, while the render mode lets you display the rendered cell."
   ]
  },
  {
   "cell_type": "markdown",
   "metadata": {
    "slideshow": {
     "slide_type": "skip"
    }
   },
   "source": [
    "## Example\n",
    "\n",
    "This is a Markdown cell where we can write **bold**, *italic*, or any other HTML-formatted text.\n",
    "\n",
    "We can add hyperlinks either using Markdown-specific syntax:\n",
    "\n",
    "[link using Markdown syntax](https://jupyter.readthedocs.io/en/latest/)\n",
    "\n",
    "or traditional HTML syntax:\n",
    "\n",
    "<a href=\"https://jupyter.readthedocs.io/en/latest/\" target=\"_blank\">link using HTML syntax</a>"
   ]
  },
  {
   "cell_type": "markdown",
   "metadata": {
    "slideshow": {
     "slide_type": "slide"
    }
   },
   "source": [
    "![](./img/markdown_cell_1.png)"
   ]
  },
  {
   "cell_type": "markdown",
   "metadata": {
    "slideshow": {
     "slide_type": "slide"
    }
   },
   "source": [
    "## Example\n",
    "\n",
    "This is a Markdown cell where we can write **bold**, *italic*, or any other HTML-formatted text.\n",
    "\n",
    "We can add hyperlinks either using Markdown-specific syntax:\n",
    "\n",
    "[link using Markdown syntax](https://jupyter.readthedocs.io/en/latest/)\n",
    "\n",
    "or traditional HTML syntax:\n",
    "\n",
    "<a href=\"https://jupyter.readthedocs.io/en/latest/\" target=\"_blank\">link using HTML syntax</a>"
   ]
  },
  {
   "cell_type": "markdown",
   "metadata": {
    "slideshow": {
     "slide_type": "skip"
    }
   },
   "source": [
    "## Example\n",
    "\n",
    "Plus, we can also include mathematics in a straightforward way, using standard LaTeX notation: \\$...\\$ for inline mathematics $\\bar{X}=\\frac{1}{N}\\sum_{i=1}^N X_i$, and \\$\\$...\\$\\$ for displayed mathematics:\n",
    "$$\\bar{X}=\\frac{1}{N}\\sum_{i=1}^N X_i$$\n",
    "\n",
    "Not to mention, we can write down code with highlight syntax:\n",
    "\n",
    "```python\n",
    "print(\"Hello world!\")\n",
    "```"
   ]
  },
  {
   "cell_type": "markdown",
   "metadata": {
    "slideshow": {
     "slide_type": "slide"
    }
   },
   "source": [
    "![](./img/markdown_cell_2.png)"
   ]
  },
  {
   "cell_type": "markdown",
   "metadata": {
    "slideshow": {
     "slide_type": "slide"
    }
   },
   "source": [
    "## Example\n",
    "\n",
    "Plus, we can also include mathematics in a straightforward way, using standard LaTeX notation: \\$...\\$ for inline mathematics $\\bar{X}=\\frac{1}{N}\\sum_{i=1}^N X_i$, and \\$\\$...\\$\\$ for displayed mathematics:\n",
    "$$\\bar{X}=\\frac{1}{N}\\sum_{i=1}^N X_i$$\n",
    "\n",
    "Not to mention, we can write down code with highlight syntax:\n",
    "\n",
    "```python\n",
    "print(\"Hello world!\")\n",
    "```"
   ]
  },
  {
   "cell_type": "markdown",
   "metadata": {
    "slideshow": {
     "slide_type": "skip"
    }
   },
   "source": [
    "## Example\n",
    "\n",
    "Finally, we can attach both local and remote images, again, using either Markdown-specific or HTML syntax.\n",
    "\n",
    "local/Markdown-specific:\n",
    "<center>![This is a local image using Markdown syntax](./img/jupyter_logo.svg)</center>\n",
    "local/HTML:\n",
    "<div>\n",
    "<center><img src=\"./img/jupyter_logo.svg\" title=\"This is a local image using HTML syntax\"></center>\n",
    "</div>"
   ]
  },
  {
   "cell_type": "markdown",
   "metadata": {
    "slideshow": {
     "slide_type": "slide"
    }
   },
   "source": [
    "![](./img/markdown_cell_3.png)"
   ]
  },
  {
   "cell_type": "markdown",
   "metadata": {
    "slideshow": {
     "slide_type": "slide"
    }
   },
   "source": [
    "## Example\n",
    "\n",
    "Finally, we can attach both local and remote images, again, using either Markdown-specific or HTML syntax.\n",
    "\n",
    "local/Markdown-specific:\n",
    "<center>![This is a local image using Markdown syntax](./img/jupyter_logo.svg)</center>\n",
    "local/HTML:\n",
    "<div>\n",
    "<center><img src=\"./img/jupyter_logo.svg\" title=\"This is a local image using HTML syntax\"></center>\n",
    "</div>"
   ]
  },
  {
   "cell_type": "markdown",
   "metadata": {
    "slideshow": {
     "slide_type": "skip"
    }
   },
   "source": [
    "## Example\n",
    "\n",
    "remote/Markdown-specific:\n",
    "<center>![This is a remote image using Markdown syntax](https://jupyter.readthedocs.io/en/latest/_static/_images/jupyter.svg)</center>\n",
    "remote/HTML:\n",
    "<div>\n",
    "<center><img src=\"https://jupyter.readthedocs.io/en/latest/_static/_images/jupyter.svg\" title=\"This is a remote image using HTML syntax\"></center>\n",
    "</div>"
   ]
  },
  {
   "cell_type": "markdown",
   "metadata": {
    "slideshow": {
     "slide_type": "slide"
    }
   },
   "source": [
    "![](./img/markdown_cell_4.png)"
   ]
  },
  {
   "cell_type": "markdown",
   "metadata": {
    "slideshow": {
     "slide_type": "slide"
    }
   },
   "source": [
    "## Example\n",
    "\n",
    "remote/Markdown-specific:\n",
    "<center>![This is a remote image using Markdown syntax](https://jupyter.readthedocs.io/en/latest/_static/_images/jupyter.svg)</center>\n",
    "remote/HTML:\n",
    "<div>\n",
    "<center><img src=\"https://jupyter.readthedocs.io/en/latest/_static/_images/jupyter.svg\" title=\"This is a remote image using HTML syntax\"></center>\n",
    "</div>"
   ]
  },
  {
   "cell_type": "markdown",
   "metadata": {
    "slideshow": {
     "slide_type": "slide"
    }
   },
   "source": [
    "## Code Cell\n",
    "\n",
    "<center>![](./img/code_cell.png)</center>"
   ]
  },
  {
   "cell_type": "markdown",
   "metadata": {
    "slideshow": {
     "slide_type": "slide"
    }
   },
   "source": [
    "## Code Cell\n",
    "\n",
    "-  The *Prompt number* shows the cell's number. This increases every time you run the cell (possibly unordered as you can run cells arbitrarily).\n",
    "-  The *Input area* contains a multiline text editor that lets you write code with syntax highlighting.\n",
    "-  The *Widget area* may contain graphical controls.\n",
    "-  The *Output area* can contain multiple outputs, specifically:\n",
    "    -  Standard output (text in black)\n",
    "    -  Error output (text with a red background)\n",
    "    -  Rich output (in the screenshot above, an HTML table and an image)"
   ]
  },
  {
   "cell_type": "code",
   "execution_count": 1,
   "metadata": {
    "slideshow": {
     "slide_type": "slide"
    }
   },
   "outputs": [
    {
     "data": {
      "text/plain": [
       "9"
      ]
     },
     "execution_count": 1,
     "metadata": {},
     "output_type": "execute_result"
    }
   ],
   "source": [
    "# This is a code cell\n",
    "def add(a, b):\n",
    "    return a + b\n",
    "\n",
    "add(5, 4)"
   ]
  },
  {
   "cell_type": "code",
   "execution_count": 1,
   "metadata": {
    "slideshow": {
     "slide_type": "slide"
    }
   },
   "outputs": [
    {
     "data": {
      "image/png": "[encoded data removed]",
      "text/plain": [
       "<matplotlib.figure.Figure at 0x10c6546d8>"
      ]
     },
     "metadata": {},
     "output_type": "display_data"
    }
   ],
   "source": [
    "%matplotlib inline\n",
    "\n",
    "import matplotlib\n",
    "import math\n",
    "import matplotlib.pyplot as plt\n",
    "import matplotlib.mlab as mlab\n",
    "import numpy as np\n",
    "\n",
    "mu = 0\n",
    "variance = 1\n",
    "sigma = math.sqrt(variance)\n",
    "x = np.linspace(mu-3*variance,mu+3*variance, 100)\n",
    "_ = plt.plot(x,mlab.normpdf(x, mu, sigma))"
   ]
  },
  {
   "cell_type": "markdown",
   "metadata": {
    "slideshow": {
     "slide_type": "slide"
    }
   },
   "source": [
    "## Modal Interface: Edit vs. Command Mode\n",
    "\n",
    "-  The Notebook implements a modal interface similar to some text editors such as <code>vim</code>."
   ]
  },
  {
   "cell_type": "markdown",
   "metadata": {
    "slideshow": {
     "slide_type": "slide"
    }
   },
   "source": [
    "## Edit Mode\n",
    "\n",
    "-  Use the **edit mode** to write code (the selected cell has a green border, and a pen icon appears at the top right of the interface). \n",
    "\n",
    "-  Click inside a cell or press <code>Enter</code> to enable the edit mode for this cell (you need to double-click with Markdown cells)."
   ]
  },
  {
   "cell_type": "markdown",
   "metadata": {
    "slideshow": {
     "slide_type": "slide"
    }
   },
   "source": [
    "## Command Mode\n",
    "\n",
    "-  Use the **command mode** to operate on cells (the selected cell has a light-blue border, and there is no pen icon).\n",
    "    \n",
    "-  Click outside the text area of a cell to enable the command mode (or press the <code>**Esc**</code> key).\n",
    "\n",
    "-  Type <tt>**H**</tt> (when in command mode) to show the list of available keyboard shortcuts."
   ]
  },
  {
   "cell_type": "markdown",
   "metadata": {
    "slideshow": {
     "slide_type": "slide"
    }
   },
   "source": [
    "## Keyboard Shortcuts (available in *both* modes)\n",
    "\n",
    "-  Here are a few keyboard shortcuts that are always available when a cell is selected:\n",
    "    -  <code>**Ctrl + Enter**</code>: run the cell\n",
    "    -  <code>**Shift + Enter**</code>: run the cell and select the cell below\n",
    "    -  <code>**Alt + Enter**</code>: run the cell and insert a new cell below\n",
    "    -  <code>**Ctrl + S**</code> (Windows/Linux) or <code>**Cmd + S**</code> (Mac): save the notebook"
   ]
  },
  {
   "cell_type": "markdown",
   "metadata": {
    "slideshow": {
     "slide_type": "slide"
    }
   },
   "source": [
    "## Keyboard Shortcuts (available in the *edit* mode)\n",
    "\n",
    "-  In the edit mode, you can type code as usual, and you have access to the following keyboard shortcuts:\n",
    "    -  <code>**Esc**</code>: switch to command mode\n",
    "    -  <code>**Ctrl + Shift + -**</code>: split the cell"
   ]
  },
  {
   "cell_type": "markdown",
   "metadata": {
    "slideshow": {
     "slide_type": "slide"
    }
   },
   "source": [
    "## Keyboard Shortcuts (available in the *command* mode)\n",
    "\n",
    "-  In the command mode, keystrokes are bound to cell operations. Don't write code in command mode or unexpected things will happen! For example, typing <code>**DD**</code> in command mode will delete the selected cell! Here are some keyboard shortcuts available in command mode:\n",
    "    -  <code>**Enter**</code>: switch to edit mode\n",
    "    -  <code>**Up**</code> or <code>**K**</code>: select the previous cell\n",
    "    -  <code>**Down**</code> or <code>**J**</code>: select the next cell\n",
    "    -  <code>**Y**</code>/<code>**M**</code>: change the cell type to Code cell/Markdown cell\n",
    "    -  <code>**A**</code>/<code>**B**</code>: insert a new cell above/below the current cell\n",
    "    -  <code>**X**</code>/<code>**C**</code>/<code>**V**</code>: cut/copy/paste the current cell\n",
    "    "
   ]
  },
  {
   "cell_type": "markdown",
   "metadata": {
    "collapsed": true,
    "slideshow": {
     "slide_type": "slide"
    }
   },
   "source": [
    "## Keyboard Shortcuts (available in the *command* mode)\n",
    "\n",
    "-  (Continue):\n",
    "    -  <code>**DD**</code>: delete the current cell\n",
    "    -  <code>**Z**</code>: undo the last delete operation\n",
    "    -  <code>**Shift + M**</code>: merge multiple cells into a single one\n",
    "    -  <code>**H**</code>: display the help menu with the list of keyboard shortcuts\n",
    "    \n",
    "-  Remember that some keyboard shortcuts may be different on different platforms (Windows/Linux and Mac).\n",
    "\n",
    "-  Please, have a look at [28 Jupyter Notebook tips, tricks and shortcuts](https://www.dataquest.io/blog/jupyter-notebook-tips-tricks-shortcuts/) and [Jupyter (IPython) notebooks features](http://arogozhnikov.github.io/2016/09/10/jupyter-features.html) for any further details."
   ]
  },
  {
   "cell_type": "markdown",
   "metadata": {
    "slideshow": {
     "slide_type": "slide"
    }
   },
   "source": [
    "# Jupyter Notebook (Advanced)"
   ]
  },
  {
   "cell_type": "markdown",
   "metadata": {
    "slideshow": {
     "slide_type": "slide"
    }
   },
   "source": [
    "## Jupyter and <code>conda</code> for R\n",
    "\n",
    "-  We already said that Jupyter began with Python but now has kernels for 50 different languages, including R, which is widely used by statisticians.\n",
    "\n",
    "-  [IRKernel](http://irkernel.github.io/) is the native R kernel for Jupyter.\n",
    "\n",
    "-  Therefore, those who are more familiar with R than Python still can benefit from Jupyter."
   ]
  },
  {
   "cell_type": "markdown",
   "metadata": {
    "slideshow": {
     "slide_type": "slide"
    }
   },
   "source": [
    "## Setup Jupyter for R: Get IRKernel\n",
    "\n",
    "-  The first step to do is to use <code>conda</code> package manager to download \"[R Essentials](http://anaconda.org/r/r-essentials)\" bundle.\n",
    "\n",
    "-  This bundle contains IRKernel and over 80 of the most widely-used R packages for data science, including <code>dplyr</code>, <code>shiny</code>, <code>ggplot2</code>, <code>tidyr</code>, <code>caret</code>, and <code>nnet</code>."
   ]
  },
  {
   "cell_type": "markdown",
   "metadata": {
    "slideshow": {
     "slide_type": "slide"
    }
   },
   "source": [
    "## Setup Jupyter for R: Install <code>r-essentials</code>\n",
    "\n",
    "-  Provided that <code>conda</code> is already available on your system, \"R Essentials\" can be installed in the current environment by issuing the following shell command:\n",
    "\n",
    "```bash\n",
    "> conda install -c r r-essentials\n",
    "```"
   ]
  },
  {
   "cell_type": "markdown",
   "metadata": {
    "slideshow": {
     "slide_type": "slide"
    }
   },
   "source": [
    "## Setup Jupyter for R: Install <code>r-essentials</code> on a dedicated environment\n",
    "\n",
    "-  Alternatively, if you want to create a dedicated environment just for R (e.g., called <code>R-env</code>), you can type as follows:\n",
    "\n",
    "```bash\n",
    "> conda create -n R-env -c r r-essentials\n",
    "```"
   ]
  },
  {
   "cell_type": "markdown",
   "metadata": {
    "collapsed": true,
    "slideshow": {
     "slide_type": "slide"
    }
   },
   "source": [
    "## Setup Jupyter for R: Install <code>r-essentials</code> on a dedicated environment \n",
    "\n",
    "-  This will require you to **activate** that environment in order for Jupyter Notebook to use it with the following command:\n",
    "\n",
    "```bash\n",
    "> source activate R-env\n",
    "```\n",
    "\n",
    "-  Then, you can start Jupyter Notebook as usual:\n",
    "\n",
    "```bash\n",
    "> jupyter notebook\n",
    "```"
   ]
  },
  {
   "cell_type": "markdown",
   "metadata": {
    "slideshow": {
     "slide_type": "slide"
    }
   },
   "source": [
    "## Share Jupyter Notebooks\n",
    "\n",
    "-  Remember that notebooks are just JSON documents that contain text, source code, rich media output, and metadata. Each segment of the document is stored in a cell.\n",
    "\n",
    "-  Ideally, you don't want to go around and share your notebooks with others as JSON files."
   ]
  },
  {
   "cell_type": "markdown",
   "metadata": {
    "slideshow": {
     "slide_type": "slide"
    }
   },
   "source": [
    "## Share Jupyter Notebooks\n",
    "\n",
    "-  Under the *File* menu, Jupyter gives you the option to download your notebook as a Notebook (<code>.ipynb</code>), Python script (<code>.py</code>), HTML (<code>.html</code>), Markdown (<code>.md</code>), reStructuredText (<code>.rst</code>), LaTeX (<code>.tex</code>) or PDF (<code>.pdf</code>) file.\n",
    "\n",
    "-  Alternatively, you can use the <code>nbconvert</code> command to convert your notebook document file to another static format."
   ]
  },
  {
   "cell_type": "markdown",
   "metadata": {
    "slideshow": {
     "slide_type": "slide"
    }
   },
   "source": [
    "## Converting Jupyter Notebook to Slides\n",
    "\n",
    "-  Jupyter can convert a notebook into an online slide deck for talks and tutorials (like this one!).\n",
    "\n",
    "-  To convert a notebook into a [reveal.js](http://lab.hakim.se/reveal-js/#/) presentation, go to the *View* menu and set *Cell Toolbar* to *Slideshow*.\n",
    "\n",
    "- Organize the cells of your notebook into *slides* and *subslides*."
   ]
  },
  {
   "cell_type": "markdown",
   "metadata": {
    "collapsed": true,
    "slideshow": {
     "slide_type": "slide"
    }
   },
   "source": [
    "## Converting Jupyter Notebook to Slides\n",
    "\n",
    "-  Convert it to the slide format using <code>nbconvert</code> as follows:\n",
    "\n",
    "```bash\n",
    "> jupyter nbconvert {NOTEBOOK_NAME}.ipynb --to slides --post serve\n",
    "```\n",
    "\n",
    "-  This will generate a <code>{NOTEBOOK_NAME}.slides.html</code> file in the same directory of your notebook file\n",
    "\n",
    "-  You can open it on a new tab of your system default browser at <code>http://<span></span>localhost:8888/{NOTEBOOK_NAME}.slides.html#/</code>"
   ]
  },
  {
   "cell_type": "markdown",
   "metadata": {
    "collapsed": true,
    "slideshow": {
     "slide_type": "slide"
    }
   },
   "source": [
    "## Converting Jupyter Notebook to Slides (alternative way)\n",
    "\n",
    "-  Install <code>RISE</code> plugin as a Jupyter Notebook extension as follows:\n",
    "\n",
    "```bash\n",
    "> conda install -c damianavila82 rise\n",
    "```\n",
    "\n",
    "-  Other possible ways of installation can be found [here](https://github.com/damianavila/RISE).\n",
    "\n",
    "-  This deck has been generated with <code>RISE</code>."
   ]
  },
  {
   "cell_type": "code",
   "execution_count": 3,
   "metadata": {
    "slideshow": {
     "slide_type": "slide"
    }
   },
   "outputs": [
    {
     "data": {
      "text/plain": [
       "{'height': 768,\n",
       " 'scroll': True,\n",
       " 'start_slideshow_at': 'selected',\n",
       " 'theme': 'sky',\n",
       " 'transition': 'zoom',\n",
       " 'width': 1280}"
      ]
     },
     "execution_count": 3,
     "metadata": {},
     "output_type": "execute_result"
    }
   ],
   "source": [
    "# The following piece of code will generate a JSON configuration (livereveal.json) file \n",
    "# under your Jupyter configuration path (e.g., /usr/local/anaconda3/etc/jupyter/nbconfig)\n",
    "from traitlets.config.manager import BaseJSONConfigManager\n",
    "path = \"path/to/your/jupyter/nbconfig\" # e.g., \"/usr/local/anaconda3/etc/jupyter/nbconfig\"\n",
    "cm = BaseJSONConfigManager(config_dir=path)\n",
    "cm.update('livereveal', {\n",
    "              'theme': 'sky', # change the default slide's background theme\n",
    "              'transition': 'zoom', # zooming when transitioning from one slide to the other\n",
    "              'start_slideshow_at': 'selected', # start with the selected cell of the notebook (instead of the first one)\n",
    "              'width': 1280, # slide's width\n",
    "              'height': 768, # slide's height\n",
    "              'scroll': True # vertical scroll (default is False)\n",
    "})"
   ]
  },
  {
   "cell_type": "markdown",
   "metadata": {
    "slideshow": {
     "slide_type": "slide"
    }
   },
   "source": [
    "## Printing Jupyter Notebook\n",
    "\n",
    "At least, there are 3 ways to print out your notebook and each of them needs to transform the original notebook file (<code>{NOTEBOOK_NAME}.ipynb</code>) into a <code>{NOTEBOOK_NAME}.pdf</code> file."
   ]
  },
  {
   "cell_type": "markdown",
   "metadata": {
    "slideshow": {
     "slide_type": "slide"
    }
   },
   "source": [
    "## Method 1: <code>LaTeX</code>\n",
    "\n",
    "-  Use the *File --> Download as --> PDF via LaTeX (.pdf)*\n",
    "\n",
    "-  This will (attempt to) produce a PDF file which mimics the original notebook layout by taking advantage of the <code>pdflatex</code> tool.\n",
    "\n",
    "-  You might get some errors/unexpected behavior due to LaTeX issues on any of the cells of your notebook."
   ]
  },
  {
   "cell_type": "markdown",
   "metadata": {
    "slideshow": {
     "slide_type": "slide"
    }
   },
   "source": [
    "## Method 2: <code>nbconvert</code> to HTML\n",
    "\n",
    "An alternative (and possibly better) solution could be the following:\n",
    "-  Transform your notebook into a \"static\" HTML file using <code>nbconvert</code>:\n",
    "```bash\n",
    "> jupyter nbconvert {NOTEBOOK_NAME}.ipynb --to html\n",
    "```\n",
    "-  This will generate a <code>{NOTEBOOK_NAME}.html</code> file in the same directory of your notebook file.\n",
    "\n",
    "-  Finally, you can open this HTML file with your favourite web browser and use the \"Print PDF\" dialog to save it as a pdf file."
   ]
  },
  {
   "cell_type": "markdown",
   "metadata": {
    "slideshow": {
     "slide_type": "slide"
    }
   },
   "source": [
    "## Method 3: <code>nbconvert</code> to slides\n",
    "\n",
    "If you have already transformed your notebook to slides using <code>nbconvert</code> and you want to get a pdf-printable version of them here is one possible trick:\n",
    "\n",
    "-  Replace the original address<br/>\n",
    "    <code>http://<span></span>localhost:8888/{NOTEBOOK_NAME}.slides.html<strong style=\"color:red\">#/</strong></code><br/>\n",
    "    with the following<br/>\n",
    "    <code>http://<span></span>localhost:8888/{NOTEBOOK_NAME}.slides.html<strong style=\"color:green\">?print-pdf</strong></code><br/>\n",
    "    \n",
    "Note however that due to some issues with <code>reveal.js</code> this might lead to sloppy results (e.g., text overlapping, wrong page breaks, etc.)"
   ]
  },
  {
   "cell_type": "markdown",
   "metadata": {
    "slideshow": {
     "slide_type": "slide"
    }
   },
   "source": [
    "## Method 4: DeckTape + <code>RISE</code> slides\n",
    "\n",
    "-  Instead, a much better result is given by creating slideshow with <code>RISE</code> and use [DeckTape](https://github.com/astefanutti/decktape) to transform slides into pdf.\n",
    "\n",
    "-  First of all, install RISE and DeckTape as follows:\n",
    "\n",
    "```bash\n",
    "> conda install -c damianavila82 rise # Install RISE\n",
    "> npm install -g decktape # Install DeckTape\n",
    "> npm update -g decktape # Update DeckTape\n",
    "```"
   ]
  },
  {
   "cell_type": "markdown",
   "metadata": {
    "slideshow": {
     "slide_type": "slide"
    }
   },
   "source": [
    "## Method 4: DeckTape + <code>RISE</code> slides (conversion)\n",
    "\n",
    "-  Assuming you have launched your notebook at <code>http://<span></span>localhost:8888/{NOTEBOOK_NAME}.ipynb</code> and let <code>{TOKEN}</code> be the token associated with your notebook then run the following command:\n",
    "\n",
    "```bash\n",
    "> decktape rise http://localhost:8888/{NOTEBOOK_NAME}.ipynb?token={TOKEN} \\\n",
    "--size 1920x1080 path/to/outputfile.pdf\n",
    "```"
   ]
  },
  {
   "cell_type": "markdown",
   "metadata": {
    "slideshow": {
     "slide_type": "slide"
    }
   },
   "source": [
    "## Jupyter Notebooks for Data Science Teams: Best Practices\n",
    "\n",
    "-  Jonathan Whitmore wrote in his [article](https://www.svds.com/tbt-jupyter-notebook-best-practices-data-science/?utm_source=kdnuggets&utm_medium=referral) some practices for using notebooks for data science, such as the following:\n",
    "    -  Use two types of notebooks for a data science project, a **lab** notebook and a **deliverable** notebook; individuals control the lab notebook, whilst the whole team manage the deliverable.\n",
    "    -  Use some type of versioning control (e.g., <code>GitHub</code>). Don't forget to commit also the HTML file if your version control system lacks rendering capabilities.\n",
    "    -  Use explicit rules on the naming of your documents."
   ]
  },
  {
   "cell_type": "markdown",
   "metadata": {
    "slideshow": {
     "slide_type": "slide"
    }
   },
   "source": [
    "## Learn From The Best Notebooks (not exhaustive list!)\n",
    "\n",
    "-  Notebooks are also used to complement books, such as the *Python Data Science Handbook*. You can find the notebooks [here](https://github.com/jakevdp/PythonDataScienceHandbook).\n",
    "\n",
    "-  A report on a [Kaggle](https://www.kaggle.com/) competition is written down in [this blog](http://danielfrg.com/blog/2013/03/07/kaggle-bulldozers-basic-cleaning/), generated from a notebook.\n",
    "\n",
    "-  This [matplotlib tutorial](http://nbviewer.jupyter.org/github/jrjohansson/scientific-python-lectures/blob/master/Lecture-4-Matplotlib.ipynb) is a great example of how well a notebook can serve as a means of teaching other people topics such as scientific Python.\n",
    "\n",
    "-  Lastly, make sure to also check out [The Importance of Preprocessing in Data Science and the Machine Learning Pipeline](https://www.datacamp.com/community/tutorials/the-importance-of-preprocessing-in-data-science-and-the-machine-learning-pipeline-i-centering-scaling-and-k-nearest-neighbours/) tutorial series that was generated from a notebook."
   ]
  },
  {
   "cell_type": "markdown",
   "metadata": {
    "slideshow": {
     "slide_type": "slide"
    }
   },
   "source": [
    "# By the end of Week 1\n",
    "\n",
    "-  Install the full Anaconda distribution on your own system, using the steps described before.\n",
    "\n",
    "-  Familiarize with the Python shell interpreter (i.e., execute <code>**python**</code> from the command line).\n",
    "\n",
    "-  Familiarize with Jupyter Notebook (i.e., execute <code>**jupyter notebook**</code>, play with code/markdown cells, edit/command mode, etc.)"
   ]
  }
 ],
 "metadata": {
  "celltoolbar": "Slideshow",
  "kernelspec": {
   "display_name": "Python 3",
   "language": "python",
   "name": "python3"
  },
  "language_info": {
   "codemirror_mode": {
    "name": "ipython",
    "version": 3
   },
   "file_extension": ".py",
   "mimetype": "text/x-python",
   "name": "python",
   "nbconvert_exporter": "python",
   "pygments_lexer": "ipython3",
   "version": "3.6.8"
  }
 },
 "nbformat": 4,
 "nbformat_minor": 2
}
