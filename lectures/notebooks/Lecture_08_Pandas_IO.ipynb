{
 "cells": [
  {
   "cell_type": "markdown",
   "metadata": {
    "slideshow": {
     "slide_type": "slide"
    }
   },
   "source": [
    "# Fundamentals of Information Systems\n",
    "\n",
    "## Python Programming (for Data Science)\n",
    "\n",
    "### Master's Degree in Data Science\n",
    "\n",
    "#### Gabriele Tolomei\n",
    "<a href=\"mailto:gtolomei@math.unipd.it\">gtolomei@math.unipd.it</a><br/>\n",
    "University of Padua, Italy<br/>\n",
    "2018/2019<br/>\n",
    "November, 19 2018"
   ]
  },
  {
   "cell_type": "markdown",
   "metadata": {
    "slideshow": {
     "slide_type": "slide"
    }
   },
   "source": [
    "# Lecture 8: I/O with <code>pandas</code>"
   ]
  },
  {
   "cell_type": "markdown",
   "metadata": {
    "slideshow": {
     "slide_type": "slide"
    }
   },
   "source": [
    "## Overview\n",
    "\n",
    "-  Accessing data is a necessary first step for any data scientist. \n",
    "\n",
    "-  We are going to see how to perform data input/output operations using <code>**pandas**</code>.\n",
    "\n",
    "-  I/O might refer to: reading from/writing to text files (or other more efficient on-disk formats), accessing databases, interacting with network sources like web APIs, etc.\n",
    "\n",
    "-  We will be exploring each of those separately (although we will be focusing more on text files)."
   ]
  },
  {
   "cell_type": "markdown",
   "metadata": {
    "slideshow": {
     "slide_type": "slide"
    }
   },
   "source": [
    "## Reading and Writing Text Files"
   ]
  },
  {
   "cell_type": "markdown",
   "metadata": {
    "slideshow": {
     "slide_type": "slide"
    }
   },
   "source": [
    "## Parsing functions in <code>pandas</code> (1 of 2)\n",
    "\n",
    "<center>![](./img/pd_io_read_1.png)</center>"
   ]
  },
  {
   "cell_type": "markdown",
   "metadata": {
    "slideshow": {
     "slide_type": "slide"
    }
   },
   "source": [
    "## Parsing functions in <code>pandas</code> (2 of 2)\n",
    "\n",
    "<center>![](./img/pd_io_read_2.png)</center>"
   ]
  },
  {
   "cell_type": "markdown",
   "metadata": {
    "slideshow": {
     "slide_type": "slide"
    }
   },
   "source": [
    "## Loading Data into <code>DataFrame</code> Objects\n",
    "\n",
    "-  All the functions listed above allow <code>**pandas**</code> to read tabular data as a <code>**DataFrame**</code> object. \n",
    "\n",
    "-  Among those, <code>**read_csv**</code> and <code>**read_table**</code> are by far the ones you'll likely use the most."
   ]
  },
  {
   "cell_type": "markdown",
   "metadata": {
    "slideshow": {
     "slide_type": "slide"
    }
   },
   "source": [
    "## Optional Arguments to <code>read_*</code> Functions\n",
    "\n",
    "-  **Indexing:** can treat one or more columns as the returned <code>**DataFrame**</code>, and whether to get column names from the file, the user, or not at all.\n",
    "\n",
    "-  **Type inference and data conversion:** this includes the user-defined value conversions and custom list of missing value markers.\n",
    "\n",
    "-  **Datetime parsing:** includes combining date and time information spread over multiple columns into a single column in the result.\n",
    "\n",
    "-  **Iterating:** support for iterating over chunks of very large files.\n",
    "\n",
    "-  **Unclean data issues:** skipping rows or a footer, comments, or other minor things like numeric data with thousands separated by commas."
   ]
  },
  {
   "cell_type": "markdown",
   "metadata": {
    "slideshow": {
     "slide_type": "slide"
    }
   },
   "source": [
    "## Too Many Optional Arguments\n",
    "\n",
    "-  Because of how messy data in the real world can be, some of the data loading functions (especially <code>**read_csv**</code>) have grown very complex over time. \n",
    "\n",
    "-  To avoid feeling ovewhelmed by the huge number of possible options, please refer to the [online pandas documentation](https://pandas.pydata.org/pandas-docs/stable/generated/pandas.read_csv.html).\n",
    "\n",
    "-  Type inference is one of the more important features of these functions; that means you don't necessarily have to specify which columns are numeric, integer, boolean, or string."
   ]
  },
  {
   "cell_type": "markdown",
   "metadata": {
    "slideshow": {
     "slide_type": "slide"
    }
   },
   "source": [
    "## <code>read_csv</code>/<code>read_table</code>\n",
    "\n",
    "-  We will explore some of the most important I/O features provided by <code>**pandas**</code> using an example.\n",
    "\n",
    "-  To this end, we use a tabular data file located on a remote server.\n",
    "\n",
    "-  To check out how such a file looks like, just click [here](https://raw.githubusercontent.com/justmarkham/DAT8/master/data/u.user).\n",
    "\n",
    "-  Of course, you can save this file on your machine and load it locally from there with <code>**pandas**</code>.\n",
    "\n",
    "-  By default, data is assumed to be **tab-separated** (<code>**'\\t'**</code>)."
   ]
  },
  {
   "cell_type": "code",
   "execution_count": 1,
   "metadata": {
    "slideshow": {
     "slide_type": "slide"
    }
   },
   "outputs": [],
   "source": [
    "import pandas as pd\n",
    "import numpy as np"
   ]
  },
  {
   "cell_type": "code",
   "execution_count": 2,
   "metadata": {
    "slideshow": {
     "slide_type": "slide"
    }
   },
   "outputs": [
    {
     "name": "stdout",
     "output_type": "stream",
     "text": [
      "         age gender     occupation zip_code\n",
      "user_id                                    \n",
      "1         24      M     technician    85711\n",
      "2         53      F          other    94043\n",
      "3         23      M         writer    32067\n",
      "4         24      M     technician    43537\n",
      "5         33      F          other    15213\n",
      "6         42      M      executive    98101\n",
      "7         57      M  administrator    91344\n",
      "8         36      M  administrator    05201\n",
      "9         29      M        student    01002\n",
      "10        53      M         lawyer    90703\n"
     ]
    }
   ],
   "source": [
    "\"\"\"\n",
    "Let's start with a real example on how to load a tabular data file using pandas.\n",
    "\"\"\"\n",
    "# Locate the dataset (in this case, we use a remote file located on an external server)\n",
    "# Alternatively, you can save this file on your machine and load it locally from there.\n",
    "url = 'https://raw.githubusercontent.com/justmarkham/DAT8/master/data/u.user'\n",
    "# The first line of the file represents the header, and each field\n",
    "# is separated by a pipe\n",
    "\"\"\"\n",
    "We specify the url where the data is located, the character used to separate fields ('|')\n",
    "and the name of the column to use as row label (otherwise, RangeInteger will be used)\n",
    "\"\"\"\n",
    "users = pd.read_csv(url, sep='|', index_col='user_id')\n",
    "print(users.head(10))"
   ]
  },
  {
   "cell_type": "code",
   "execution_count": 3,
   "metadata": {
    "slideshow": {
     "slide_type": "slide"
    }
   },
   "outputs": [
    {
     "name": "stdout",
     "output_type": "stream",
     "text": [
      "         age gender     occupation zip_code\n",
      "user_id                                    \n",
      "1         24      M     technician    85711\n",
      "2         53      F          other    94043\n",
      "3         23      M         writer    32067\n",
      "4         24      M     technician    43537\n",
      "5         33      F          other    15213\n",
      "6         42      M      executive    98101\n",
      "7         57      M  administrator    91344\n",
      "8         36      M  administrator    05201\n",
      "9         29      M        student    01002\n",
      "10        53      M         lawyer    90703\n"
     ]
    }
   ],
   "source": [
    "\"\"\"\n",
    "Suppose we have stored the file on our local machine.\n",
    "\"\"\"\n",
    "path = './data/user_occupations.txt'\n",
    "users = pd.read_csv(path, sep='|', index_col='user_id')\n",
    "print(users.head(10))"
   ]
  },
  {
   "cell_type": "code",
   "execution_count": 4,
   "metadata": {
    "slideshow": {
     "slide_type": "slide"
    }
   },
   "outputs": [
    {
     "name": "stdout",
     "output_type": "stream",
     "text": [
      "    0   1  2              3      4\n",
      "0   1  24  M     technician  85711\n",
      "1   2  53  F          other  94043\n",
      "2   3  23  M         writer  32067\n",
      "3   4  24  M     technician  43537\n",
      "4   5  33  F          other  15213\n",
      "5   6  42  M      executive  98101\n",
      "6   7  57  M  administrator  91344\n",
      "7   8  36  M  administrator  05201\n",
      "8   9  29  M        student  01002\n",
      "9  10  53  M         lawyer  90703\n"
     ]
    }
   ],
   "source": [
    "\"\"\"\n",
    "Suppose the file does not contain any header line. We can still load the file\n",
    "telling pandas there is no header AND we can also provide pandas with a list \n",
    "of names corresponding to the header we want to use.\n",
    "\"\"\"\n",
    "# This is the path to the same file yet without the header line\n",
    "path_no_header = './data/user_occupations_no_header.txt'\n",
    "# If the file does not contain the header as the first line\n",
    "users = pd.read_csv(path_no_header, sep='|', header=None)\n",
    "# Row and column indices fall back to the default RangeIndex (i.e., integers)\n",
    "print(users.head(10))"
   ]
  },
  {
   "cell_type": "code",
   "execution_count": 5,
   "metadata": {
    "slideshow": {
     "slide_type": "slide"
    }
   },
   "outputs": [
    {
     "name": "stdout",
     "output_type": "stream",
     "text": [
      "         age gender     occupation zip_code\n",
      "user_id                                    \n",
      "1         24      M     technician    85711\n",
      "2         53      F          other    94043\n",
      "3         23      M         writer    32067\n",
      "4         24      M     technician    43537\n",
      "5         33      F          other    15213\n",
      "6         42      M      executive    98101\n",
      "7         57      M  administrator    91344\n",
      "8         36      M  administrator    05201\n",
      "9         29      M        student    01002\n",
      "10        53      M         lawyer    90703\n"
     ]
    }
   ],
   "source": [
    "# If the file does not contain the header as the first line AND we want to\n",
    "# specify ourselves the names of the columns (and, possibly, the row index as well)\n",
    "users = pd.read_csv(path_no_header, sep='|', header=None, \n",
    "                    names=['user_id', 'age', 'gender', 'occupation', 'zip_code'],\n",
    "                   index_col='user_id')\n",
    "\n",
    "print(users.head(10))"
   ]
  },
  {
   "cell_type": "code",
   "execution_count": 6,
   "metadata": {
    "slideshow": {
     "slide_type": "slide"
    }
   },
   "outputs": [
    {
     "name": "stdout",
     "output_type": "stream",
     "text": [
      "         age gender     occupation zip_code\n",
      "user_id                                    \n",
      "2         53      F          other    94043\n",
      "5         33      F          other    15213\n",
      "6         42      M      executive    98101\n",
      "7         57      M  administrator    91344\n",
      "8         36      M  administrator    05201\n",
      "9         29      M        student    01002\n",
      "10        53      M         lawyer    90703\n",
      "11        39      F          other    30329\n",
      "12        28      F          other    06405\n",
      "13        47      M       educator    29206\n"
     ]
    }
   ],
   "source": [
    "# Sometimes, it may be useful to skip some records of the input file.\n",
    "# Here, we skip the first, third and fourth (actual) record.\n",
    "users_skip = pd.read_csv(path_no_header, sep='|', header=None, \n",
    "                    names=['user_id', 'age', 'gender', 'occupation', 'zip_code'],\n",
    "                   index_col='user_id',\n",
    "                   skiprows=[0, 2, 3])\n",
    "\n",
    "print(users_skip.head(10))"
   ]
  },
  {
   "cell_type": "markdown",
   "metadata": {
    "slideshow": {
     "slide_type": "slide"
    }
   },
   "source": [
    "## Handling Missing Values (*NA* or *Not Available*)\n",
    "\n",
    "-  Missing data is usually either not present (i.e., empty string) or marked by some **sentinel** value. \n",
    "\n",
    "-  By default, <code>**pandas**</code> uses a set of commonly occurring sentinels, such as <code>**None**</code> and <code>**NaN**</code>.\n",
    "\n",
    "-  The <code>**na_values**</code> is used to customize sentinel values by adding to the default ones either a list or set of strings to consider missing values."
   ]
  },
  {
   "cell_type": "code",
   "execution_count": 7,
   "metadata": {
    "slideshow": {
     "slide_type": "slide"
    }
   },
   "outputs": [
    {
     "name": "stdout",
     "output_type": "stream",
     "text": [
      "         age gender     occupation zip_code\n",
      "user_id                                    \n",
      "1         24      M     technician    85711\n",
      "2         53      F          other    94043\n",
      "3         23      M         writer    32067\n",
      "4         24      M     technician    43537\n",
      "5         33      F          other    15213\n",
      "6         42      M      executive    98101\n",
      "7         57      M  administrator    91344\n",
      "8         36      M  administrator    05201\n",
      "9         29      M        student    01002\n",
      "10        53      M         lawyer    90703\n"
     ]
    }
   ],
   "source": [
    "\"\"\"\n",
    "Suppose we want to mark as NA any entry whose value is 'N/A'.\n",
    "\"\"\"\n",
    "# Load again the data with the option for handling missing values (na_values)\n",
    "users = pd.read_csv(path, sep='|', index_col='user_id', na_values=['N/A'])\n",
    "# Alternatively, we can define a dictionary of sentinels, i.e., a set for each column.\n",
    "sentinels = {'age': ['inf', 'N/A'], 'zipcode': ['00000']}\n",
    "users = pd.read_csv(path, sep='|', index_col='user_id', na_values=sentinels)\n",
    "print(users.head(10))"
   ]
  },
  {
   "cell_type": "markdown",
   "metadata": {
    "slideshow": {
     "slide_type": "slide"
    }
   },
   "source": [
    "## <code>read_csv</code>/<code>read_table</code> Function Arguments\n",
    "\n",
    "<center>![](./img/pd_io_read_csv_1.png)</center>"
   ]
  },
  {
   "cell_type": "markdown",
   "metadata": {
    "slideshow": {
     "slide_type": "slide"
    }
   },
   "source": [
    "## <code>read_csv</code>/<code>read_table</code> Function Arguments\n",
    "\n",
    "<center>![](./img/pd_io_read_csv_2.png)</center>"
   ]
  },
  {
   "cell_type": "markdown",
   "metadata": {
    "collapsed": true,
    "slideshow": {
     "slide_type": "slide"
    }
   },
   "source": [
    "## Reading Text Files in Pieces\n",
    "\n",
    "-  When processing very large files, you may only want to read in a small piece of a file or iterate through smaller chunks of the file.\n",
    "\n",
    "-  If we want to only read out a small number of rows (avoiding reading the entire file), specify that with <code>**nrows**</code>."
   ]
  },
  {
   "cell_type": "code",
   "execution_count": 8,
   "metadata": {
    "slideshow": {
     "slide_type": "slide"
    }
   },
   "outputs": [
    {
     "name": "stdout",
     "output_type": "stream",
     "text": [
      "Number of observations (#rows) = 100\n"
     ]
    },
    {
     "data": {
      "text/html": [
       "<div>\n",
       "<style scoped>\n",
       "    .dataframe tbody tr th:only-of-type {\n",
       "        vertical-align: middle;\n",
       "    }\n",
       "\n",
       "    .dataframe tbody tr th {\n",
       "        vertical-align: top;\n",
       "    }\n",
       "\n",
       "    .dataframe thead th {\n",
       "        text-align: right;\n",
       "    }\n",
       "</style>\n",
       "<table border=\"1\" class=\"dataframe\">\n",
       "  <thead>\n",
       "    <tr style=\"text-align: right;\">\n",
       "      <th></th>\n",
       "      <th>age</th>\n",
       "      <th>gender</th>\n",
       "      <th>occupation</th>\n",
       "      <th>zip_code</th>\n",
       "    </tr>\n",
       "    <tr>\n",
       "      <th>user_id</th>\n",
       "      <th></th>\n",
       "      <th></th>\n",
       "      <th></th>\n",
       "      <th></th>\n",
       "    </tr>\n",
       "  </thead>\n",
       "  <tbody>\n",
       "    <tr>\n",
       "      <th>1</th>\n",
       "      <td>24</td>\n",
       "      <td>M</td>\n",
       "      <td>technician</td>\n",
       "      <td>85711</td>\n",
       "    </tr>\n",
       "    <tr>\n",
       "      <th>2</th>\n",
       "      <td>53</td>\n",
       "      <td>F</td>\n",
       "      <td>other</td>\n",
       "      <td>94043</td>\n",
       "    </tr>\n",
       "    <tr>\n",
       "      <th>3</th>\n",
       "      <td>23</td>\n",
       "      <td>M</td>\n",
       "      <td>writer</td>\n",
       "      <td>32067</td>\n",
       "    </tr>\n",
       "    <tr>\n",
       "      <th>4</th>\n",
       "      <td>24</td>\n",
       "      <td>M</td>\n",
       "      <td>technician</td>\n",
       "      <td>43537</td>\n",
       "    </tr>\n",
       "    <tr>\n",
       "      <th>5</th>\n",
       "      <td>33</td>\n",
       "      <td>F</td>\n",
       "      <td>other</td>\n",
       "      <td>15213</td>\n",
       "    </tr>\n",
       "  </tbody>\n",
       "</table>\n",
       "</div>"
      ],
      "text/plain": [
       "         age gender  occupation zip_code\n",
       "user_id                                 \n",
       "1         24      M  technician    85711\n",
       "2         53      F       other    94043\n",
       "3         23      M      writer    32067\n",
       "4         24      M  technician    43537\n",
       "5         33      F       other    15213"
      ]
     },
     "execution_count": 8,
     "metadata": {},
     "output_type": "execute_result"
    }
   ],
   "source": [
    "\"\"\"\n",
    "Suppose we want to just read 100 records from our file.\n",
    "\"\"\"\n",
    "# Specify the number of rows to be read\n",
    "users_100 = pd.read_csv(path, sep='|', index_col='user_id', nrows=100)\n",
    "# Verify that we actually read that many rows\n",
    "print(\"Number of observations (#rows) = {}\".format(users_100.shape[0]))\n",
    "users_100.head()"
   ]
  },
  {
   "cell_type": "code",
   "execution_count": 10,
   "metadata": {
    "slideshow": {
     "slide_type": "slide"
    }
   },
   "outputs": [
    {
     "name": "stdout",
     "output_type": "stream",
     "text": [
      "         age gender  occupation zip_code\n",
      "user_id                                 \n",
      "1         24      M  technician    85711\n",
      "2         53      F       other    94043\n",
      "3         23      M      writer    32067\n",
      "4         24      M  technician    43537\n",
      "5         33      F       other    15213\n"
     ]
    },
    {
     "data": {
      "text/html": [
       "<div>\n",
       "<style scoped>\n",
       "    .dataframe tbody tr th:only-of-type {\n",
       "        vertical-align: middle;\n",
       "    }\n",
       "\n",
       "    .dataframe tbody tr th {\n",
       "        vertical-align: top;\n",
       "    }\n",
       "\n",
       "    .dataframe thead th {\n",
       "        text-align: right;\n",
       "    }\n",
       "</style>\n",
       "<table border=\"1\" class=\"dataframe\">\n",
       "  <thead>\n",
       "    <tr style=\"text-align: right;\">\n",
       "      <th></th>\n",
       "      <th>age</th>\n",
       "      <th>gender</th>\n",
       "      <th>occupation</th>\n",
       "      <th>zip_code</th>\n",
       "    </tr>\n",
       "    <tr>\n",
       "      <th>user_id</th>\n",
       "      <th></th>\n",
       "      <th></th>\n",
       "      <th></th>\n",
       "      <th></th>\n",
       "    </tr>\n",
       "  </thead>\n",
       "  <tbody>\n",
       "    <tr>\n",
       "      <th>1</th>\n",
       "      <td>24</td>\n",
       "      <td>M</td>\n",
       "      <td>technician</td>\n",
       "      <td>85711</td>\n",
       "    </tr>\n",
       "    <tr>\n",
       "      <th>2</th>\n",
       "      <td>53</td>\n",
       "      <td>F</td>\n",
       "      <td>other</td>\n",
       "      <td>94043</td>\n",
       "    </tr>\n",
       "    <tr>\n",
       "      <th>3</th>\n",
       "      <td>23</td>\n",
       "      <td>M</td>\n",
       "      <td>writer</td>\n",
       "      <td>32067</td>\n",
       "    </tr>\n",
       "    <tr>\n",
       "      <th>4</th>\n",
       "      <td>24</td>\n",
       "      <td>M</td>\n",
       "      <td>technician</td>\n",
       "      <td>43537</td>\n",
       "    </tr>\n",
       "    <tr>\n",
       "      <th>5</th>\n",
       "      <td>33</td>\n",
       "      <td>F</td>\n",
       "      <td>other</td>\n",
       "      <td>15213</td>\n",
       "    </tr>\n",
       "  </tbody>\n",
       "</table>\n",
       "</div>"
      ],
      "text/plain": [
       "         age gender  occupation zip_code\n",
       "user_id                                 \n",
       "1         24      M  technician    85711\n",
       "2         53      F       other    94043\n",
       "3         23      M      writer    32067\n",
       "4         24      M  technician    43537\n",
       "5         33      F       other    15213"
      ]
     },
     "execution_count": 10,
     "metadata": {},
     "output_type": "execute_result"
    }
   ],
   "source": [
    "\"\"\"\n",
    "Let's reload the dataset from the remote file.\n",
    "\"\"\"\n",
    "users = pd.read_csv(path, sep='|', index_col='user_id')\n",
    "print(users.head())\n",
    "users.head()"
   ]
  },
  {
   "cell_type": "code",
   "execution_count": 11,
   "metadata": {
    "slideshow": {
     "slide_type": "slide"
    }
   },
   "outputs": [
    {
     "name": "stdout",
     "output_type": "stream",
     "text": [
      "Number of observations (#rows) = 943\n",
      "Number of fields (#columns) = 4\n",
      "Column names = [age, gender, occupation, zip_code]\n",
      "The index (i.e., the labels) is:\n",
      "Int64Index([  1,   2,   3,   4,   5,   6,   7,   8,   9,  10,\n",
      "            ...\n",
      "            934, 935, 936, 937, 938, 939, 940, 941, 942, 943],\n",
      "           dtype='int64', name='user_id', length=943)\n",
      "The data types of each column are:\n",
      "age            int64\n",
      "gender        object\n",
      "occupation    object\n",
      "zip_code      object\n",
      "dtype: object\n"
     ]
    }
   ],
   "source": [
    "\"\"\"\n",
    "Let's print out some information about the data we just loaded.\n",
    "\"\"\"\n",
    "print(\"Number of observations (#rows) = {}\".format(users.shape[0]))\n",
    "print(\"Number of fields (#columns) = {}\".format(users.shape[1]))\n",
    "print(\"Column names = [{}]\".format(\", \".join([c for c in users.columns])))\n",
    "print(\"The index (i.e., the labels) is:\\n{}\".format(users.index))\n",
    "print(\"The data types of each column are:\\n{}\".format(users.dtypes))"
   ]
  },
  {
   "cell_type": "code",
   "execution_count": 12,
   "metadata": {
    "slideshow": {
     "slide_type": "slide"
    }
   },
   "outputs": [
    {
     "name": "stdout",
     "output_type": "stream",
     "text": [
      "user_id\n",
      "1    technician\n",
      "2         other\n",
      "3        writer\n",
      "4    technician\n",
      "5         other\n",
      "Name: occupation, dtype: object\n",
      "\n",
      "user_id\n",
      "1    technician\n",
      "2         other\n",
      "3        writer\n",
      "4    technician\n",
      "5         other\n",
      "Name: occupation, dtype: object\n"
     ]
    }
   ],
   "source": [
    "\"\"\"\n",
    "Suppose we want to access a single column of the DataFrame.\n",
    "\"\"\"\n",
    "# Let's return the first 5 values of the 'occupation' column.\n",
    "print(users['occupation'][:5]) # alternatively, use users['occupation'].head()\n",
    "print()\n",
    "# The same can be obtained using '.' notation\n",
    "print(users.occupation[:5]) # alternatively, use users.occupation.head()"
   ]
  },
  {
   "cell_type": "code",
   "execution_count": 14,
   "metadata": {
    "slideshow": {
     "slide_type": "slide"
    }
   },
   "outputs": [
    {
     "name": "stdout",
     "output_type": "stream",
     "text": [
      "user_id\n",
      "1    technician\n",
      "2         other\n",
      "3        writer\n",
      "4    technician\n",
      "5         other\n",
      "Name: occupation, dtype: object\n"
     ]
    }
   ],
   "source": [
    "\"\"\"\n",
    "Suppose we want to access a single column of the DataFrame.\n",
    "\"\"\"\n",
    "# Let's return the first 5 values of the 'occupation' column.\n",
    "print(users.loc[:5,'occupation'])"
   ]
  },
  {
   "cell_type": "code",
   "execution_count": 15,
   "metadata": {
    "slideshow": {
     "slide_type": "slide"
    }
   },
   "outputs": [
    {
     "name": "stdout",
     "output_type": "stream",
     "text": [
      "         age gender  occupation zip_code\n",
      "user_id                                 \n",
      "1         24      M  technician    85711\n",
      "2         53      F       other    94043\n",
      "3         23      M      writer    32067\n",
      "4         24      M  technician    43537\n",
      "5         33      F       other    15213\n"
     ]
    }
   ],
   "source": [
    "\"\"\"\n",
    "Let's now create a deep copy of the loaded DataFrame 'users'.\n",
    "Remember: assigning another name to the same DataFrame is simple a view.\n",
    "For example, users_df = users makes users_df point to the same users. As such,\n",
    "any change to the content of the DataFrame while working on users_df is reflected to users.\n",
    "\"\"\"\n",
    "# Make a deep copy of users\n",
    "users_df = users.copy()\n",
    "print(users_df.head())"
   ]
  },
  {
   "cell_type": "code",
   "execution_count": 16,
   "metadata": {
    "slideshow": {
     "slide_type": "slide"
    }
   },
   "outputs": [
    {
     "name": "stdout",
     "output_type": "stream",
     "text": [
      "0    126958\n",
      "1    676155\n",
      "2    136932\n",
      "3    370838\n",
      "4    264178\n",
      "dtype: int64\n"
     ]
    }
   ],
   "source": [
    "\"\"\"\n",
    "Let's add an extra column to the DataFrame and populate this column\n",
    "with some values (e.g., a series)\n",
    "\"\"\"\n",
    "# Suppose we want to add an extra column 'salary', which we randomly populate\n",
    "# with values in the range [5000, 1000000]\n",
    "np.random.seed(42) # Initialize internal state of the random number generator\n",
    "BASE_SALARY = 5000\n",
    "values = pd.Series(np.random.randint(995000, size=users_df.shape[0]) + BASE_SALARY)\n",
    "print(values.head())"
   ]
  },
  {
   "cell_type": "code",
   "execution_count": 17,
   "metadata": {
    "slideshow": {
     "slide_type": "slide"
    }
   },
   "outputs": [
    {
     "name": "stdout",
     "output_type": "stream",
     "text": [
      "user_id\n",
      "1    126958\n",
      "2    676155\n",
      "3    136932\n",
      "4    370838\n",
      "5    264178\n",
      "dtype: int64\n"
     ]
    }
   ],
   "source": [
    "\"\"\"\n",
    "Before we actually \"join\" the Series we have just created with our users DataFrame,\n",
    "we need the index of both objects to be aligned. Otherwise, there won't be any salary\n",
    "associated with the DataFrame row index 943, as the Series index is shifted by 1 w.r.t.\n",
    "the index of our DataFrame. Let's specify the index when creating our salary values.\n",
    "\"\"\"\n",
    "np.random.seed(42) # Initialize internal state of the random number generator\n",
    "BASE_SALARY = 5000\n",
    "values = pd.Series(np.random.randint(995000, size=users_df.shape[0]) + BASE_SALARY,\n",
    "                  index=users_df.index)\n",
    "print(values.head())"
   ]
  },
  {
   "cell_type": "code",
   "execution_count": 18,
   "metadata": {
    "slideshow": {
     "slide_type": "slide"
    }
   },
   "outputs": [
    {
     "name": "stdout",
     "output_type": "stream",
     "text": [
      "         age gender  occupation zip_code  salary\n",
      "user_id                                         \n",
      "1         24      M  technician    85711  126958\n",
      "2         53      F       other    94043  676155\n",
      "3         23      M      writer    32067  136932\n",
      "4         24      M  technician    43537  370838\n",
      "5         33      F       other    15213  264178\n"
     ]
    }
   ],
   "source": [
    "# Create a new column on the users_df DataFrame and populate this with\n",
    "# the Series we just created\n",
    "users_df['salary'] = values\n",
    "print(users_df.head())"
   ]
  },
  {
   "cell_type": "code",
   "execution_count": 19,
   "metadata": {
    "slideshow": {
     "slide_type": "slide"
    }
   },
   "outputs": [
    {
     "name": "stdout",
     "output_type": "stream",
     "text": [
      "Occupation and Salary of the first 5 users:\n",
      "         occupation  salary\n",
      "user_id                    \n",
      "1        technician  126958\n",
      "2             other  676155\n",
      "3            writer  136932\n",
      "4        technician  370838\n",
      "5             other  264178\n"
     ]
    }
   ],
   "source": [
    "# We can access multiple columns of this new DataFrame as follows.\n",
    "print(\"Occupation and Salary of the first 5 users:\\n{}\".\n",
    "      format(users_df[['occupation', 'salary']].head()))"
   ]
  },
  {
   "cell_type": "code",
   "execution_count": 20,
   "metadata": {
    "slideshow": {
     "slide_type": "slide"
    }
   },
   "outputs": [
    {
     "data": {
      "text/plain": [
       "array(['technician', 'other', 'writer', 'executive', 'administrator',\n",
       "       'student', 'lawyer', 'educator', 'scientist', 'entertainment',\n",
       "       'programmer', 'librarian', 'homemaker', 'artist', 'engineer',\n",
       "       'marketing', 'none', 'healthcare', 'retired', 'salesman', 'doctor'], dtype=object)"
      ]
     },
     "execution_count": 20,
     "metadata": {},
     "output_type": "execute_result"
    }
   ],
   "source": [
    "\"\"\"\n",
    "Wait! We might not want to associate a salary to each entry!\n",
    "For example, you don't want to assign a salary to any user aged less than 18\n",
    "or anyone who doesn't have a job or is a student.\n",
    "Let's see what are the set of occupations.\n",
    "\"\"\"\n",
    "users_df['occupation'].unique()"
   ]
  },
  {
   "cell_type": "code",
   "execution_count": 21,
   "metadata": {
    "slideshow": {
     "slide_type": "slide"
    }
   },
   "outputs": [],
   "source": [
    "\"\"\"\n",
    "Create a mask to assign a salary only to those users who are at least 18 AND\n",
    "are not student nor unoccupied.\n",
    "We therefore set salary to 0 for any of the users above\n",
    "\"\"\"\n",
    "mask = (users_df.age >= 18) & ~(users_df.occupation.isin(['student', 'none']))\n",
    "# mask = (users_df.age >= 18) & (users_df.occupation != 'student') \\\n",
    "# & (users_df.occupation != 'none')\n",
    "# mask = (users_df.age >= 18) & ~(users_df.occupation == 'student') \\\n",
    "# & ~(users_df.occupation == 'none')"
   ]
  },
  {
   "cell_type": "code",
   "execution_count": 22,
   "metadata": {
    "slideshow": {
     "slide_type": "slide"
    }
   },
   "outputs": [
    {
     "data": {
      "text/html": [
       "<div>\n",
       "<style scoped>\n",
       "    .dataframe tbody tr th:only-of-type {\n",
       "        vertical-align: middle;\n",
       "    }\n",
       "\n",
       "    .dataframe tbody tr th {\n",
       "        vertical-align: top;\n",
       "    }\n",
       "\n",
       "    .dataframe thead th {\n",
       "        text-align: right;\n",
       "    }\n",
       "</style>\n",
       "<table border=\"1\" class=\"dataframe\">\n",
       "  <thead>\n",
       "    <tr style=\"text-align: right;\">\n",
       "      <th></th>\n",
       "      <th>age</th>\n",
       "      <th>gender</th>\n",
       "      <th>occupation</th>\n",
       "      <th>zip_code</th>\n",
       "      <th>salary</th>\n",
       "    </tr>\n",
       "    <tr>\n",
       "      <th>user_id</th>\n",
       "      <th></th>\n",
       "      <th></th>\n",
       "      <th></th>\n",
       "      <th></th>\n",
       "      <th></th>\n",
       "    </tr>\n",
       "  </thead>\n",
       "  <tbody>\n",
       "    <tr>\n",
       "      <th>1</th>\n",
       "      <td>24</td>\n",
       "      <td>M</td>\n",
       "      <td>technician</td>\n",
       "      <td>85711</td>\n",
       "      <td>126958</td>\n",
       "    </tr>\n",
       "    <tr>\n",
       "      <th>2</th>\n",
       "      <td>53</td>\n",
       "      <td>F</td>\n",
       "      <td>other</td>\n",
       "      <td>94043</td>\n",
       "      <td>676155</td>\n",
       "    </tr>\n",
       "    <tr>\n",
       "      <th>3</th>\n",
       "      <td>23</td>\n",
       "      <td>M</td>\n",
       "      <td>writer</td>\n",
       "      <td>32067</td>\n",
       "      <td>136932</td>\n",
       "    </tr>\n",
       "    <tr>\n",
       "      <th>4</th>\n",
       "      <td>24</td>\n",
       "      <td>M</td>\n",
       "      <td>technician</td>\n",
       "      <td>43537</td>\n",
       "      <td>370838</td>\n",
       "    </tr>\n",
       "    <tr>\n",
       "      <th>5</th>\n",
       "      <td>33</td>\n",
       "      <td>F</td>\n",
       "      <td>other</td>\n",
       "      <td>15213</td>\n",
       "      <td>264178</td>\n",
       "    </tr>\n",
       "    <tr>\n",
       "      <th>6</th>\n",
       "      <td>42</td>\n",
       "      <td>M</td>\n",
       "      <td>executive</td>\n",
       "      <td>98101</td>\n",
       "      <td>649167</td>\n",
       "    </tr>\n",
       "    <tr>\n",
       "      <th>7</th>\n",
       "      <td>57</td>\n",
       "      <td>M</td>\n",
       "      <td>administrator</td>\n",
       "      <td>91344</td>\n",
       "      <td>115268</td>\n",
       "    </tr>\n",
       "    <tr>\n",
       "      <th>8</th>\n",
       "      <td>36</td>\n",
       "      <td>M</td>\n",
       "      <td>administrator</td>\n",
       "      <td>05201</td>\n",
       "      <td>737180</td>\n",
       "    </tr>\n",
       "    <tr>\n",
       "      <th>9</th>\n",
       "      <td>29</td>\n",
       "      <td>M</td>\n",
       "      <td>student</td>\n",
       "      <td>01002</td>\n",
       "      <td>0</td>\n",
       "    </tr>\n",
       "    <tr>\n",
       "      <th>10</th>\n",
       "      <td>53</td>\n",
       "      <td>M</td>\n",
       "      <td>lawyer</td>\n",
       "      <td>90703</td>\n",
       "      <td>142337</td>\n",
       "    </tr>\n",
       "  </tbody>\n",
       "</table>\n",
       "</div>"
      ],
      "text/plain": [
       "         age gender     occupation zip_code  salary\n",
       "user_id                                            \n",
       "1         24      M     technician    85711  126958\n",
       "2         53      F          other    94043  676155\n",
       "3         23      M         writer    32067  136932\n",
       "4         24      M     technician    43537  370838\n",
       "5         33      F          other    15213  264178\n",
       "6         42      M      executive    98101  649167\n",
       "7         57      M  administrator    91344  115268\n",
       "8         36      M  administrator    05201  737180\n",
       "9         29      M        student    01002       0\n",
       "10        53      M         lawyer    90703  142337"
      ]
     },
     "execution_count": 22,
     "metadata": {},
     "output_type": "execute_result"
    }
   ],
   "source": [
    "#users_df['salary'] = users_df['salary'].where(mask, 0)\n",
    "# Alternatively\n",
    "users_df['salary'] = np.where(mask, users_df['salary'], 0)\n",
    "users_df.head(10)"
   ]
  },
  {
   "cell_type": "code",
   "execution_count": 23,
   "metadata": {
    "slideshow": {
     "slide_type": "slide"
    }
   },
   "outputs": [
    {
     "name": "stdout",
     "output_type": "stream",
     "text": [
      "First 7 rows of the DataFrame:\n",
      "         age gender     occupation zip_code  salary\n",
      "user_id                                            \n",
      "1         24      M     technician    85711  126958\n",
      "2         53      F          other    94043  676155\n",
      "3         23      M         writer    32067  136932\n",
      "4         24      M     technician    43537  370838\n",
      "5         33      F          other    15213  264178\n",
      "6         42      M      executive    98101  649167\n",
      "7         57      M  administrator    91344  115268\n"
     ]
    }
   ],
   "source": [
    "\"\"\"\n",
    "Use integer slicing (special behavior to select rows)\n",
    "\"\"\"\n",
    "# Note that this integer slicing operator cannot be extended on both axis,\n",
    "# as we did for 2-D numpy arrays. In other words, you cannot use the same\n",
    "# syntax to slice over rows and columns with something like \n",
    "# users2[i_start:i_stop, j_start:j_stop]\n",
    "# In order to use integer slicing on BOTH axis as above, we need to use the .iloc method\n",
    "print(\"First 7 rows of the DataFrame:\\n{}\".format(users_df[:7]))"
   ]
  },
  {
   "cell_type": "code",
   "execution_count": 24,
   "metadata": {
    "slideshow": {
     "slide_type": "slide"
    }
   },
   "outputs": [
    {
     "name": "stdout",
     "output_type": "stream",
     "text": [
      "user_id\n",
      "1    False\n",
      "2     True\n",
      "3    False\n",
      "4    False\n",
      "5    False\n",
      "6     True\n",
      "7    False\n",
      "Name: salary, dtype: bool\n",
      "\n",
      "The list of first 5 users having salary greater than 500k is:\n",
      "         age gender     occupation zip_code  salary\n",
      "user_id                                            \n",
      "2         53      F          other    94043  676155\n",
      "6         42      M      executive    98101  649167\n",
      "8         36      M  administrator    05201  737180\n",
      "11        39      F          other    30329  526430\n",
      "12        28      F          other    06405  959698\n"
     ]
    }
   ],
   "source": [
    "\"\"\"\n",
    "Select all the users in the DataFrame whose salary is greater than 500k\n",
    "\"\"\"\n",
    "# This is a boolean mask which returns a Series containing either True or False\n",
    "# corresponding to each entry index of the DataFrame depending on whether that entry\n",
    "# has a salary which is greater than 500k or not.\n",
    "mask = users_df.salary > 500000\n",
    "print(mask.head(7))\n",
    "print()\n",
    "print(\"The list of first 5 users having salary greater than 500k is:\\n{}\"\n",
    "      .format(users_df[mask].head()))"
   ]
  },
  {
   "cell_type": "code",
   "execution_count": 25,
   "metadata": {
    "slideshow": {
     "slide_type": "slide"
    }
   },
   "outputs": [
    {
     "name": "stdout",
     "output_type": "stream",
     "text": [
      "user_id\n",
      "1    False\n",
      "2     True\n",
      "3    False\n",
      "4    False\n",
      "5    False\n",
      "6     True\n",
      "7    False\n",
      "Name: salary, dtype: bool\n",
      "\n",
      "The list of first 5 female users having salary greater than 500k is:\n",
      "         age gender occupation zip_code  salary\n",
      "user_id                                        \n",
      "2         53      F      other    94043  676155\n",
      "11        39      F      other    30329  526430\n",
      "12        28      F      other    06405  959698\n",
      "15        49      F   educator    97301  917756\n",
      "24        21      F     artist    94533  723315\n"
     ]
    }
   ],
   "source": [
    "\"\"\"\n",
    "Suppose I want to select only female users whose salary is greater than 500k\n",
    "\"\"\"\n",
    "#mask = \n",
    "print(mask.head(7))\n",
    "print()\n",
    "print(\"The list of first 5 female users having salary greater than 500k is:\\n{}\"\n",
    "      .format(users_df[(users_df.salary > 500000) & (users_df.gender == 'F')].head()))"
   ]
  },
  {
   "cell_type": "code",
   "execution_count": 26,
   "metadata": {
    "slideshow": {
     "slide_type": "slide"
    }
   },
   "outputs": [
    {
     "name": "stdout",
     "output_type": "stream",
     "text": [
      "user_id: 1 and 4 (ROWS); gender, salary, zip_code (COLUMNS):\n",
      "        gender  salary zip_code\n",
      "user_id                        \n",
      "1            M  126958    85711\n",
      "4            M  370838    43537\n",
      "\n",
      "user_id: 1 and 4 (ROWS); 2nd, 5th, 4th (COLUMNS):\n",
      "        gender  salary zip_code\n",
      "user_id                        \n",
      "1            M  126958    85711\n",
      "4            M  370838    43537\n"
     ]
    }
   ],
   "source": [
    "\"\"\"\n",
    "Let's use loc and iloc methods to index both axis (i.e., rows and columns)\n",
    "using either index/column labels (loc) or integers (iloc).\n",
    "\"\"\"\n",
    "# Note that in this special case, index (row) labels are integers...\n",
    "# In cases like this, loc falls back to work like .iloc\n",
    "print(\"user_id: 1 and 4 (ROWS); gender, salary, zip_code (COLUMNS):\\n{}\"\n",
    "      .format(users_df.loc[[1, 4], ['gender', 'salary', 'zip_code']]))\n",
    "print()\n",
    "print(\"user_id: 1 and 4 (ROWS); 2nd, 5th, 4th (COLUMNS):\\n{}\"\n",
    "      .format(users_df.iloc[[0, 3], [1, 4, 3]]))"
   ]
  },
  {
   "cell_type": "code",
   "execution_count": 27,
   "metadata": {
    "slideshow": {
     "slide_type": "slide"
    }
   },
   "outputs": [
    {
     "name": "stdout",
     "output_type": "stream",
     "text": [
      "         age gender occupation zip_code  salary\n",
      "user_id                                        \n",
      "30         7      M    student    55436       0\n",
      "471       10      M    student    77459       0\n",
      "289       11      M       none    94619       0\n",
      "142       13      M      other    48118       0\n",
      "609       13      F    student    55106       0\n"
     ]
    }
   ],
   "source": [
    "\"\"\"\n",
    "Suppose we want to sort the DataFrame by age (ascending) and salary (descending)\n",
    "\"\"\"\n",
    "print(users_df.sort_values(by=['age', 'salary'], ascending=[True, False]).head())"
   ]
  },
  {
   "cell_type": "code",
   "execution_count": 28,
   "metadata": {
    "slideshow": {
     "slide_type": "slide"
    }
   },
   "outputs": [
    {
     "name": "stdout",
     "output_type": "stream",
     "text": [
      "         age gender occupation zip_code  salary\n",
      "user_id                                        \n",
      "620       18      F     writer    81648  719998\n",
      "851       18      M      other    29646  522923\n",
      "507       18      F     writer    28450  398002\n",
      "925       18      F   salesman    49036  155159\n",
      "859       18      F      other    06492   31790\n",
      "747       19      M      other    93612  981535\n",
      "601       19      F     artist    99687  755201\n",
      "35        20      F  homemaker    42459  994436\n",
      "596       20      M     artist    77073  749840\n",
      "677       20      M      other    99835  748583\n"
     ]
    }
   ],
   "source": [
    "\"\"\"\n",
    "To make the above more meaningful, let's just consider only when salary is > 0\n",
    "\"\"\"\n",
    "print(users_df[users_df.salary > 0].sort_values(by=['age', 'salary'], \n",
    "                                                ascending=[True, False]).head(10))"
   ]
  },
  {
   "cell_type": "code",
   "execution_count": 29,
   "metadata": {
    "slideshow": {
     "slide_type": "slide"
    }
   },
   "outputs": [
    {
     "name": "stdout",
     "output_type": "stream",
     "text": [
      "The average salary across ALL the users is: 369708.87\n",
      "The average salary across all working users is: 474333.96\n"
     ]
    }
   ],
   "source": [
    "\"\"\"\n",
    "Suppose we want to see what is the average salary of the users.\n",
    "\"\"\"\n",
    "# Let's first consider ALL the users (also those who have 0 salary)\n",
    "print(\"The average salary across ALL the users is: {:.2f}\"\n",
    "      .format(users_df.salary.mean()))\n",
    "# Let's now filter out from the mean computation any user whose salary is 0\n",
    "print(\"The average salary across all working users is: {:.2f}\"\n",
    "      .format(users_df[users_df.salary > 0].salary.mean()))"
   ]
  },
  {
   "cell_type": "code",
   "execution_count": 30,
   "metadata": {
    "slideshow": {
     "slide_type": "slide"
    }
   },
   "outputs": [
    {
     "name": "stdout",
     "output_type": "stream",
     "text": [
      "The median age across ALL the users is: 31.0\n"
     ]
    }
   ],
   "source": [
    "\"\"\"\n",
    "Let's see what is the median age of the users in our DataFrame.\n",
    "\"\"\"\n",
    "print(\"The median age across ALL the users is: {}\"\n",
    "      .format(users_df.age.median()))"
   ]
  },
  {
   "cell_type": "code",
   "execution_count": 31,
   "metadata": {
    "slideshow": {
     "slide_type": "slide"
    }
   },
   "outputs": [
    {
     "name": "stdout",
     "output_type": "stream",
     "text": [
      "              age         salary\n",
      "count  943.000000     943.000000\n",
      "mean    34.051962  369708.865323\n",
      "std     12.192740  324238.271411\n",
      "min      7.000000       0.000000\n",
      "25%     25.000000   42366.500000\n",
      "50%     31.000000  310062.000000\n",
      "75%     43.000000  653225.000000\n",
      "max     73.000000  994873.000000\n"
     ]
    }
   ],
   "source": [
    "\"\"\"\n",
    "Let's see what happens if we call 'describe()' on this DataFrame\n",
    "\"\"\"\n",
    "print(users_df.describe()) # Notice, only numeric columns are part of the description!"
   ]
  },
  {
   "cell_type": "code",
   "execution_count": 32,
   "metadata": {
    "slideshow": {
     "slide_type": "slide"
    }
   },
   "outputs": [
    {
     "name": "stdout",
     "output_type": "stream",
     "text": [
      "               age gender occupation zip_code         salary\n",
      "count   943.000000    943        943      943     943.000000\n",
      "unique         NaN      2         21      795            NaN\n",
      "top            NaN      M    student    55414            NaN\n",
      "freq           NaN    670        196        9            NaN\n",
      "mean     34.051962    NaN        NaN      NaN  369708.865323\n",
      "std      12.192740    NaN        NaN      NaN  324238.271411\n",
      "min       7.000000    NaN        NaN      NaN       0.000000\n",
      "25%      25.000000    NaN        NaN      NaN   42366.500000\n",
      "50%      31.000000    NaN        NaN      NaN  310062.000000\n",
      "75%      43.000000    NaN        NaN      NaN  653225.000000\n",
      "max      73.000000    NaN        NaN      NaN  994873.000000\n"
     ]
    }
   ],
   "source": [
    "# Let's try to include all the columns in the description\n",
    "print(users_df.describe(include = \"all\"))"
   ]
  },
  {
   "cell_type": "code",
   "execution_count": 33,
   "metadata": {
    "slideshow": {
     "slide_type": "slide"
    }
   },
   "outputs": [
    {
     "name": "stdout",
     "output_type": "stream",
     "text": [
      "There are 21 unique occupation values, which are as follows:\n",
      "[Administrator, Artist, Doctor, Educator, Engineer, Entertainment, Executive, Healthcare, Homemaker, Lawyer, Librarian, Marketing, None, Other, Programmer, Retired, Salesman, Scientist, Student, Technician, Writer]\n"
     ]
    }
   ],
   "source": [
    "\"\"\"\n",
    "Sometimes it is useful to know how the values of a particular attribute (i.e., column)\n",
    "is distributed over the data instances that we have.\n",
    "\"\"\"\n",
    "# Let's first see how many unique occupations are on our dataset (already saw this above)\n",
    "unique_occupations = users_df.occupation.unique()\n",
    "print(\"There are {} unique occupation values, which are as follows:\\n[{}]\"\n",
    "      .format(unique_occupations.shape[0], \n",
    "              \", \".join([o.title() for o in np.sort(unique_occupations)])))"
   ]
  },
  {
   "cell_type": "code",
   "execution_count": 34,
   "metadata": {
    "slideshow": {
     "slide_type": "slide"
    }
   },
   "outputs": [
    {
     "name": "stdout",
     "output_type": "stream",
     "text": [
      "Histogram of occupation values:\n",
      "student          196\n",
      "other            105\n",
      "educator          95\n",
      "administrator     79\n",
      "engineer          67\n",
      "programmer        66\n",
      "librarian         51\n",
      "writer            45\n",
      "executive         32\n",
      "scientist         31\n",
      "artist            28\n",
      "technician        27\n",
      "marketing         26\n",
      "entertainment     18\n",
      "healthcare        16\n",
      "retired           14\n",
      "salesman          12\n",
      "lawyer            12\n",
      "none               9\n",
      "homemaker          7\n",
      "doctor             7\n",
      "Name: occupation, dtype: int64\n"
     ]
    }
   ],
   "source": [
    "\"\"\"\n",
    "Now let's see how many times each unique value of the 'occupation' column\n",
    "appears across the dataset. In other words, we compute the frequency count (a.k.a. histogram)\n",
    "of the 'occupation' attribute.\n",
    "\"\"\"\n",
    "print(\"Histogram of occupation values:\\n{}\"\n",
    "      .format(pd.value_counts(users_df.occupation, sort=True)))"
   ]
  },
  {
   "cell_type": "markdown",
   "metadata": {
    "slideshow": {
     "slide_type": "slide"
    }
   },
   "source": [
    "## Working with other text formats\n",
    "\n",
    "-  Plain text files, such as <code>**.csv**</code> or <code>**.tsv**</code>, are not the only formats we might need work with.\n",
    "\n",
    "-  Other possible \"text\" formats can be: **JSON** (**J**ava**S**cript **O**bject **N**otation), **XML**/**HTML**, etc.\n",
    "\n",
    "-  We focus on **JSON** as this has become increasingly popular as a \"standard\" data exchange format (especially between distributed systems)."
   ]
  },
  {
   "cell_type": "markdown",
   "metadata": {
    "slideshow": {
     "slide_type": "slide"
    }
   },
   "source": [
    "## What is JSON?\n",
    "\n",
    "-  [JSON](http://www.json.org) is strongly used as one of the standard formats for sending data via HTTP request between web browsers and servers. \n",
    "\n",
    "-  It is a much more free-form data format than a tabular text form like <code>**csv**</code>.\n",
    "\n",
    "-  The following is an example of a JSON **object**:\n",
    "```json\n",
    "json_str = \"\"\"\n",
    "{\"name\": \"Wes\",\n",
    " \"places_lived\": [\"United States\", \"Spain\", \"Germany\"],\n",
    " \"pet\": null,\n",
    " \"siblings\": [{\"name\": \"Scott\", \"age\": 29, \"pets\": [\"Zeus\", \"Zuko\"]},\n",
    "              {\"name\": \"Katie\", \"age\": 38,\n",
    "               \"pets\": [\"Sixes\", \"Stache\", \"Cisco\"]}]\n",
    "}\n",
    "\"\"\"\n",
    "```"
   ]
  },
  {
   "cell_type": "markdown",
   "metadata": {
    "slideshow": {
     "slide_type": "slide"
    }
   },
   "source": [
    "## Similarity with pure Python\n",
    "\n",
    "-  JSON is very nearly valid Python code with the exception of its null value <code>**null**</code> and some other nuances. \n",
    "\n",
    "-  The basic types are **objects** (dicts), **arrays** (lists), **strings**, **numbers**, **booleans**, and **nulls**. \n",
    "\n",
    "-  All of the keys in an object <u>must be</u> strings. \n",
    "\n",
    "-  There are several Python modules for reading and writing JSON data; we'll use <code>**json**</code> here as it is built into the Python standard library."
   ]
  },
  {
   "cell_type": "code",
   "execution_count": 35,
   "metadata": {
    "slideshow": {
     "slide_type": "slide"
    }
   },
   "outputs": [
    {
     "name": "stdout",
     "output_type": "stream",
     "text": [
      "{'name': 'Wes', 'places_lived': ['United States', 'Spain', 'Germany'], 'pet': None, 'siblings': [{'name': 'Scott', 'age': 29, 'pets': ['Zeus', 'Zuko']}, {'name': 'Katie', 'age': 38, 'pets': ['Sixes', 'Stache', 'Cisco']}]}\n"
     ]
    }
   ],
   "source": [
    "\"\"\"\n",
    "Let's import the json module.\n",
    "\"\"\"\n",
    "import json\n",
    "\n",
    "# Assume we have the string json_obj above, representing a piece of JSON data\n",
    "json_str = \"\"\"\n",
    "{\"name\": \"Wes\",\n",
    "\"places_lived\": [\"United States\", \"Spain\", \"Germany\"],\n",
    "\"pet\": null,\n",
    "\"siblings\": [{\"name\": \"Scott\", \"age\": 29, \"pets\": [\"Zeus\", \"Zuko\"]},\n",
    "           {\"name\": \"Katie\", \"age\": 38,\n",
    "            \"pets\": [\"Sixes\", \"Stache\", \"Cisco\"]}]\n",
    "}\n",
    "\"\"\"\n",
    "# We can load a JSON string into a JSON object using json.loads\n",
    "json_obj = json.loads(json_str)\n",
    "print(json_obj)"
   ]
  },
  {
   "cell_type": "code",
   "execution_count": 36,
   "metadata": {
    "slideshow": {
     "slide_type": "slide"
    }
   },
   "outputs": [
    {
     "name": "stdout",
     "output_type": "stream",
     "text": [
      "{'name': 'Wes', 'places_lived': ['United States', 'Spain', 'Germany'], 'pet': None, 'siblings': [{'name': 'Scott', 'age': 29, 'pets': ['Zeus', 'Zuko']}, {'name': 'Katie', 'age': 38, 'pets': ['Sixes', 'Stache', 'Cisco']}]}\n"
     ]
    }
   ],
   "source": [
    "\"\"\"\n",
    "Suppose, instead, we want to load a JSON from an external file.\n",
    "\"\"\"\n",
    "# Let's have a JSON file (e.g., sample.json) stored somewhere on our local filesystem\n",
    "json_filename = './data/sample.json'\n",
    "with open(json_filename) as json_file:\n",
    "    # We can load a JSON file into a JSON object using json.load\n",
    "    json_obj = json.load(json_file)\n",
    "    print(json_obj)"
   ]
  },
  {
   "cell_type": "code",
   "execution_count": 37,
   "metadata": {
    "slideshow": {
     "slide_type": "slide"
    }
   },
   "outputs": [
    {
     "name": "stdout",
     "output_type": "stream",
     "text": [
      "{\n",
      "    \"name\": \"Wes\",\n",
      "    \"places_lived\": [\n",
      "        \"United States\",\n",
      "        \"Spain\",\n",
      "        \"Germany\"\n",
      "    ],\n",
      "    \"pet\": null,\n",
      "    \"siblings\": [\n",
      "        {\n",
      "            \"name\": \"Scott\",\n",
      "            \"age\": 29,\n",
      "            \"pets\": [\n",
      "                \"Zeus\",\n",
      "                \"Zuko\"\n",
      "            ]\n",
      "        },\n",
      "        {\n",
      "            \"name\": \"Katie\",\n",
      "            \"age\": 38,\n",
      "            \"pets\": [\n",
      "                \"Sixes\",\n",
      "                \"Stache\",\n",
      "                \"Cisco\"\n",
      "            ]\n",
      "        }\n",
      "    ]\n",
      "}\n"
     ]
    }
   ],
   "source": [
    "\"\"\"\n",
    "Similarly, when we want to serialize out a JSON object\n",
    "we can either use 'json.dumps(json_obj)' or json.dump(json_obj, outfile)\n",
    "\"\"\"\n",
    "print(json.dumps(json_obj, indent=4)) # json_str is a (JSON) string object"
   ]
  },
  {
   "cell_type": "code",
   "execution_count": 38,
   "metadata": {
    "slideshow": {
     "slide_type": "slide"
    }
   },
   "outputs": [],
   "source": [
    "\"\"\"\n",
    "Similarly, when we want to serialize out a JSON object\n",
    "we can either use 'json.dumps(json_obj)' or json.dump(json_obj, outfile)\n",
    "\"\"\"\n",
    "json_out_filename = './data/sample_out.json'\n",
    "with open(json_out_filename, 'w') as json_out_file:\n",
    "    json.dump(json_obj, json_out_file) # json_obj is a JSON object"
   ]
  },
  {
   "cell_type": "code",
   "execution_count": 39,
   "metadata": {
    "slideshow": {
     "slide_type": "slide"
    }
   },
   "outputs": [
    {
     "name": "stdout",
     "output_type": "stream",
     "text": [
      "    name  age\n",
      "0  Scott   29\n",
      "1  Katie   38\n"
     ]
    }
   ],
   "source": [
    "\"\"\"\n",
    "How to convert a JSON object into a pandas DataFrame.\n",
    "For example, we can pass a list of JSON objects to the DataFrame constructor\n",
    "and select a subset of the data fields.\n",
    "\"\"\"\n",
    "siblings = pd.DataFrame(json_obj['siblings'], columns=['name', 'age'])\n",
    "print(siblings.head())"
   ]
  },
  {
   "cell_type": "code",
   "execution_count": 40,
   "metadata": {
    "slideshow": {
     "slide_type": "slide"
    }
   },
   "outputs": [
    {
     "name": "stdout",
     "output_type": "stream",
     "text": [
      "     color value\n",
      "0      red  #f00\n",
      "1    green  #0f0\n",
      "2     blue  #00f\n",
      "3     cyan  #0ff\n",
      "4  magenta  #f0f\n"
     ]
    }
   ],
   "source": [
    "\"\"\"\n",
    "Alternatively, there is also a 'read_json' method that pandas provides, which allows us\n",
    "to directly load a JSON file (or a JSON string) into a pandas DataFrame (i.e., without\n",
    "the need of first loading it into a JSON object).\n",
    "The default options for pandas.read_json assume that each object in the JSON array\n",
    "is a row in the table.\n",
    "\"\"\"\n",
    "df = pd.read_json('./data/sample_df.json')\n",
    "print(df.head())"
   ]
  },
  {
   "cell_type": "markdown",
   "metadata": {
    "slideshow": {
     "slide_type": "slide"
    }
   },
   "source": [
    "## Working with Binary File Formats\n",
    "\n",
    "-  One of the easiest ways to efficiently work with data in **binary format** is using Python's built-in [<code>**pickle**</code>](https://docs.python.org/3/library/pickle.html) serialization/de-serialization.\n",
    "\n",
    "-  This module essentially provides the ability to serialize (de-serialize) **any** Python object to (from) disk.\n",
    "\n",
    "-  Serialize means writing out a binary representation of an object, whilst de-serialize is the inverse operation.\n",
    "\n",
    "-  <code>**pandas**</code> objects all have a <code>**to_pickle**</code> method which writes data to disk in <code>**pickle**</code> format, whereas there exists a <code>**pandas.read_pickle**</code> method to deserialize objects back from disk."
   ]
  },
  {
   "cell_type": "code",
   "execution_count": 41,
   "metadata": {
    "slideshow": {
     "slide_type": "slide"
    }
   },
   "outputs": [
    {
     "name": "stdout",
     "output_type": "stream",
     "text": [
      "         age gender  occupation zip_code\n",
      "user_id                                 \n",
      "1         24      M  technician    85711\n",
      "2         53      F       other    94043\n",
      "3         23      M      writer    32067\n",
      "4         24      M  technician    43537\n",
      "5         33      F       other    15213\n"
     ]
    }
   ],
   "source": [
    "\"\"\"\n",
    "Suppose we want to serialize out to disk (in binary format) a DataFrame,\n",
    "which we previously loaded from a text file.\n",
    "\"\"\"\n",
    "# Let's use again the same text file as above\n",
    "path = './data/user_occupations.txt'\n",
    "users = pd.read_csv(path, sep='|', index_col='user_id')\n",
    "print(users.head())"
   ]
  },
  {
   "cell_type": "code",
   "execution_count": 42,
   "metadata": {
    "slideshow": {
     "slide_type": "slide"
    }
   },
   "outputs": [
    {
     "name": "stdout",
     "output_type": "stream",
     "text": [
      "         age gender  occupation zip_code\n",
      "user_id                                 \n",
      "1         24      M  technician    85711\n",
      "2         53      F       other    94043\n",
      "3         23      M      writer    32067\n",
      "4         24      M  technician    43537\n",
      "5         33      F       other    15213\n"
     ]
    }
   ],
   "source": [
    "\"\"\"\n",
    "Suppose we want to serialize out to (de-serialize in from) disk \n",
    "a DataFrame (in binary format), which we previously loaded from a text file.\n",
    "\"\"\"\n",
    "# Let's serialize this DataFrame object out to a binary file on disk\n",
    "binary_outfilename = './data/user_occupations.pickle'\n",
    "# the same as pickle.dump(users, open(binary_outfilename, 'wb'))\n",
    "users.to_pickle(binary_outfilename)\n",
    "# Let's de-serialize the binary representation of the object back\n",
    "users_from_binary = pd.read_pickle(binary_outfilename)\n",
    "# This has given us back the DataFrame object we previously serialized\n",
    "print(users_from_binary.head())"
   ]
  },
  {
   "cell_type": "markdown",
   "metadata": {
    "slideshow": {
     "slide_type": "slide"
    }
   },
   "source": [
    "## <code>pandas</code> Supports Many Binary Formats\n",
    "\n",
    "-  <code>**pandas**</code> has built-in support for two more binary data formats: [**HDF5**](https://support.hdfgroup.org/HDF5/) and [**MessagePack**](https://msgpack.org/index.html).\n",
    "\n",
    "-  I encourage you to explore different file formats to see how fast they are and how well they work for your task."
   ]
  }
 ],
 "metadata": {
  "celltoolbar": "Slideshow",
  "kernelspec": {
   "display_name": "Python 3",
   "language": "python",
   "name": "python3"
  },
  "language_info": {
   "codemirror_mode": {
    "name": "ipython",
    "version": 3
   },
   "file_extension": ".py",
   "mimetype": "text/x-python",
   "name": "python",
   "nbconvert_exporter": "python",
   "pygments_lexer": "ipython3",
   "version": "3.6.4"
  }
 },
 "nbformat": 4,
 "nbformat_minor": 2
}
