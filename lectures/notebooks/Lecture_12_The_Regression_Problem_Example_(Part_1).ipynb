{
 "cells": [
  {
   "cell_type": "markdown",
   "metadata": {
    "slideshow": {
     "slide_type": "slide"
    }
   },
   "source": [
    "# Fundamentals of Information Systems\n",
    "\n",
    "## Python Programming (for Data Science)\n",
    "\n",
    "### Master's Degree in Data Science\n",
    "\n",
    "#### Gabriele Tolomei\n",
    "<a href=\"mailto:gtolomei@math.unipd.it\">gtolomei@math.unipd.it</a><br/>\n",
    "University of Padua, Italy<br/>\n",
    "2018/2019<br/>\n",
    "December, 13 2018"
   ]
  },
  {
   "cell_type": "markdown",
   "metadata": {
    "slideshow": {
     "slide_type": "slide"
    }
   },
   "source": [
    "# Lecture 12: The Regression Problem - Example (Part 1)"
   ]
  },
  {
   "cell_type": "markdown",
   "metadata": {
    "slideshow": {
     "slide_type": "slide"
    }
   },
   "source": [
    "## Instructions\n",
    "\n",
    "-  We consider the dataset available at this [link](http://archive.ics.uci.edu/ml/machine-learning-databases/auto-mpg/auto-mpg.data), provided by the [UC Irvine Machine Learning Repository](http://archive.ics.uci.edu/ml/index.php)\n",
    "\n",
    "-  The dataset comes with a [**README**](http://archive.ics.uci.edu/ml/machine-learning-databases/auto-mpg/auto-mpg.names) file, which contains information about the number of instances, the number and type of attributes, as well as the prediction goal.\n",
    "\n",
    "-  To be able to work even without any network connection, I have stored both the dataset and README files locally on my machine.\n",
    "\n",
    "-  \"The data concerns city-cycle fuel consumption in miles per gallon, to be predicted in terms of 3 multivalued discrete and 5 continuous attributes.\" (Quinlan, 1993)"
   ]
  },
  {
   "cell_type": "markdown",
   "metadata": {
    "slideshow": {
     "slide_type": "slide"
    }
   },
   "source": [
    "## Additional Notes\n",
    "\n",
    "-  The original file contains a mixture of whitespace and tab-separated fields. In order to transform it into a legitimate tab-separated file, I had to run the following shell commands:\n",
    "\n",
    "```bash\n",
    "> TAB=$(printf '\\t')\n",
    "> sed \"s/ \\{2,\\}/$TAB/g\" < ${ORIGINAL_DATASET_FILE} > ${NEW_DATASET_FILE}\n",
    "```\n",
    "\n",
    "-  The commands above use <code>**sed**</code> to replace **2 or more** whitespaces with a tab character on **every line** of the original dataset file.\n",
    "\n",
    "-  Linux and Mac OS X systems have <code>**sed**</code> natively installed. Windows users can install it from [here](http://gnuwin32.sourceforge.net/packages/sed.htm) "
   ]
  },
  {
   "cell_type": "code",
   "execution_count": 1,
   "metadata": {
    "slideshow": {
     "slide_type": "slide"
    }
   },
   "outputs": [],
   "source": [
    "import math\n",
    "import numpy as np\n",
    "import pandas as pd\n",
    "import matplotlib.pyplot as plt\n",
    "import seaborn as sns\n",
    "# Import stats module from scipy, which contains a large number \n",
    "# of probability distributions as well as an exhaustive library of statistical functions.\n",
    "import scipy.stats as stats\n",
    "\n",
    "%matplotlib inline"
   ]
  },
  {
   "cell_type": "markdown",
   "metadata": {
    "slideshow": {
     "slide_type": "slide"
    }
   },
   "source": [
    "# 1. Data Collection"
   ]
  },
  {
   "cell_type": "code",
   "execution_count": 2,
   "metadata": {
    "slideshow": {
     "slide_type": "slide"
    }
   },
   "outputs": [],
   "source": [
    "# Path to the local dataset file\n",
    "DATASET_PATH = \"./data/auto-mpg-regression/dataset.tsv\""
   ]
  },
  {
   "cell_type": "code",
   "execution_count": 3,
   "metadata": {
    "slideshow": {
     "slide_type": "slide"
    }
   },
   "outputs": [
    {
     "name": "stdout",
     "output_type": "stream",
     "text": [
      "Shape of the dataset: (397, 9)\n"
     ]
    },
    {
     "data": {
      "text/html": [
       "<div>\n",
       "<style scoped>\n",
       "    .dataframe tbody tr th:only-of-type {\n",
       "        vertical-align: middle;\n",
       "    }\n",
       "\n",
       "    .dataframe tbody tr th {\n",
       "        vertical-align: top;\n",
       "    }\n",
       "\n",
       "    .dataframe thead th {\n",
       "        text-align: right;\n",
       "    }\n",
       "</style>\n",
       "<table border=\"1\" class=\"dataframe\">\n",
       "  <thead>\n",
       "    <tr style=\"text-align: right;\">\n",
       "      <th></th>\n",
       "      <th>18.0</th>\n",
       "      <th>8</th>\n",
       "      <th>307.0</th>\n",
       "      <th>130.0</th>\n",
       "      <th>3504.</th>\n",
       "      <th>12.0</th>\n",
       "      <th>70</th>\n",
       "      <th>1</th>\n",
       "      <th>chevrolet chevelle malibu</th>\n",
       "    </tr>\n",
       "  </thead>\n",
       "  <tbody>\n",
       "    <tr>\n",
       "      <th>0</th>\n",
       "      <td>15.0</td>\n",
       "      <td>8</td>\n",
       "      <td>350.0</td>\n",
       "      <td>165.0</td>\n",
       "      <td>3693.0</td>\n",
       "      <td>11.5</td>\n",
       "      <td>70</td>\n",
       "      <td>1</td>\n",
       "      <td>buick skylark 320</td>\n",
       "    </tr>\n",
       "    <tr>\n",
       "      <th>1</th>\n",
       "      <td>18.0</td>\n",
       "      <td>8</td>\n",
       "      <td>318.0</td>\n",
       "      <td>150.0</td>\n",
       "      <td>3436.0</td>\n",
       "      <td>11.0</td>\n",
       "      <td>70</td>\n",
       "      <td>1</td>\n",
       "      <td>plymouth satellite</td>\n",
       "    </tr>\n",
       "    <tr>\n",
       "      <th>2</th>\n",
       "      <td>16.0</td>\n",
       "      <td>8</td>\n",
       "      <td>304.0</td>\n",
       "      <td>150.0</td>\n",
       "      <td>3433.0</td>\n",
       "      <td>12.0</td>\n",
       "      <td>70</td>\n",
       "      <td>1</td>\n",
       "      <td>amc rebel sst</td>\n",
       "    </tr>\n",
       "    <tr>\n",
       "      <th>3</th>\n",
       "      <td>17.0</td>\n",
       "      <td>8</td>\n",
       "      <td>302.0</td>\n",
       "      <td>140.0</td>\n",
       "      <td>3449.0</td>\n",
       "      <td>10.5</td>\n",
       "      <td>70</td>\n",
       "      <td>1</td>\n",
       "      <td>ford torino</td>\n",
       "    </tr>\n",
       "    <tr>\n",
       "      <th>4</th>\n",
       "      <td>15.0</td>\n",
       "      <td>8</td>\n",
       "      <td>429.0</td>\n",
       "      <td>198.0</td>\n",
       "      <td>4341.0</td>\n",
       "      <td>10.0</td>\n",
       "      <td>70</td>\n",
       "      <td>1</td>\n",
       "      <td>ford galaxie 500</td>\n",
       "    </tr>\n",
       "  </tbody>\n",
       "</table>\n",
       "</div>"
      ],
      "text/plain": [
       "   18.0  8  307.0  130.0   3504.  12.0  70  1 chevrolet chevelle malibu\n",
       "0  15.0  8  350.0  165.0  3693.0  11.5  70  1         buick skylark 320\n",
       "1  18.0  8  318.0  150.0  3436.0  11.0  70  1        plymouth satellite\n",
       "2  16.0  8  304.0  150.0  3433.0  12.0  70  1             amc rebel sst\n",
       "3  17.0  8  302.0  140.0  3449.0  10.5  70  1               ford torino\n",
       "4  15.0  8  429.0  198.0  4341.0  10.0  70  1          ford galaxie 500"
      ]
     },
     "execution_count": 3,
     "metadata": {},
     "output_type": "execute_result"
    }
   ],
   "source": [
    "# Load the dataset with Pandas\n",
    "data = pd.read_csv(DATASET_PATH, sep=\"\\t\")\n",
    "print(\"Shape of the dataset: {}\".format(data.shape))\n",
    "data.head()\n",
    "# NOTE: the first line of the file is considered as the header"
   ]
  },
  {
   "cell_type": "code",
   "execution_count": 4,
   "metadata": {
    "slideshow": {
     "slide_type": "slide"
    }
   },
   "outputs": [
    {
     "name": "stdout",
     "output_type": "stream",
     "text": [
      "Shape of the dataset: (398, 9)\n"
     ]
    },
    {
     "data": {
      "text/html": [
       "<div>\n",
       "<style scoped>\n",
       "    .dataframe tbody tr th:only-of-type {\n",
       "        vertical-align: middle;\n",
       "    }\n",
       "\n",
       "    .dataframe tbody tr th {\n",
       "        vertical-align: top;\n",
       "    }\n",
       "\n",
       "    .dataframe thead th {\n",
       "        text-align: right;\n",
       "    }\n",
       "</style>\n",
       "<table border=\"1\" class=\"dataframe\">\n",
       "  <thead>\n",
       "    <tr style=\"text-align: right;\">\n",
       "      <th></th>\n",
       "      <th>0</th>\n",
       "      <th>1</th>\n",
       "      <th>2</th>\n",
       "      <th>3</th>\n",
       "      <th>4</th>\n",
       "      <th>5</th>\n",
       "      <th>6</th>\n",
       "      <th>7</th>\n",
       "      <th>8</th>\n",
       "    </tr>\n",
       "  </thead>\n",
       "  <tbody>\n",
       "    <tr>\n",
       "      <th>0</th>\n",
       "      <td>18.0</td>\n",
       "      <td>8</td>\n",
       "      <td>307.0</td>\n",
       "      <td>130.0</td>\n",
       "      <td>3504.0</td>\n",
       "      <td>12.0</td>\n",
       "      <td>70</td>\n",
       "      <td>1</td>\n",
       "      <td>chevrolet chevelle malibu</td>\n",
       "    </tr>\n",
       "    <tr>\n",
       "      <th>1</th>\n",
       "      <td>15.0</td>\n",
       "      <td>8</td>\n",
       "      <td>350.0</td>\n",
       "      <td>165.0</td>\n",
       "      <td>3693.0</td>\n",
       "      <td>11.5</td>\n",
       "      <td>70</td>\n",
       "      <td>1</td>\n",
       "      <td>buick skylark 320</td>\n",
       "    </tr>\n",
       "    <tr>\n",
       "      <th>2</th>\n",
       "      <td>18.0</td>\n",
       "      <td>8</td>\n",
       "      <td>318.0</td>\n",
       "      <td>150.0</td>\n",
       "      <td>3436.0</td>\n",
       "      <td>11.0</td>\n",
       "      <td>70</td>\n",
       "      <td>1</td>\n",
       "      <td>plymouth satellite</td>\n",
       "    </tr>\n",
       "    <tr>\n",
       "      <th>3</th>\n",
       "      <td>16.0</td>\n",
       "      <td>8</td>\n",
       "      <td>304.0</td>\n",
       "      <td>150.0</td>\n",
       "      <td>3433.0</td>\n",
       "      <td>12.0</td>\n",
       "      <td>70</td>\n",
       "      <td>1</td>\n",
       "      <td>amc rebel sst</td>\n",
       "    </tr>\n",
       "    <tr>\n",
       "      <th>4</th>\n",
       "      <td>17.0</td>\n",
       "      <td>8</td>\n",
       "      <td>302.0</td>\n",
       "      <td>140.0</td>\n",
       "      <td>3449.0</td>\n",
       "      <td>10.5</td>\n",
       "      <td>70</td>\n",
       "      <td>1</td>\n",
       "      <td>ford torino</td>\n",
       "    </tr>\n",
       "  </tbody>\n",
       "</table>\n",
       "</div>"
      ],
      "text/plain": [
       "      0  1      2      3       4     5   6  7                          8\n",
       "0  18.0  8  307.0  130.0  3504.0  12.0  70  1  chevrolet chevelle malibu\n",
       "1  15.0  8  350.0  165.0  3693.0  11.5  70  1          buick skylark 320\n",
       "2  18.0  8  318.0  150.0  3436.0  11.0  70  1         plymouth satellite\n",
       "3  16.0  8  304.0  150.0  3433.0  12.0  70  1              amc rebel sst\n",
       "4  17.0  8  302.0  140.0  3449.0  10.5  70  1                ford torino"
      ]
     },
     "execution_count": 4,
     "metadata": {},
     "output_type": "execute_result"
    }
   ],
   "source": [
    "# Load the dataset with Pandas, this time taking into account\n",
    "# the fact that there is no header line\n",
    "data = pd.read_csv(DATASET_PATH, sep=\"\\t\", header=None)\n",
    "print(\"Shape of the dataset: {}\".format(data.shape))\n",
    "data.head()"
   ]
  },
  {
   "cell_type": "code",
   "execution_count": 5,
   "metadata": {
    "slideshow": {
     "slide_type": "slide"
    }
   },
   "outputs": [
    {
     "name": "stdout",
     "output_type": "stream",
     "text": [
      "Shape of the dataset: (398, 9)\n"
     ]
    },
    {
     "data": {
      "text/html": [
       "<div>\n",
       "<style scoped>\n",
       "    .dataframe tbody tr th:only-of-type {\n",
       "        vertical-align: middle;\n",
       "    }\n",
       "\n",
       "    .dataframe tbody tr th {\n",
       "        vertical-align: top;\n",
       "    }\n",
       "\n",
       "    .dataframe thead th {\n",
       "        text-align: right;\n",
       "    }\n",
       "</style>\n",
       "<table border=\"1\" class=\"dataframe\">\n",
       "  <thead>\n",
       "    <tr style=\"text-align: right;\">\n",
       "      <th></th>\n",
       "      <th>mpg</th>\n",
       "      <th>cylinders</th>\n",
       "      <th>displacement</th>\n",
       "      <th>horsepower</th>\n",
       "      <th>weight</th>\n",
       "      <th>acceleration</th>\n",
       "      <th>model_year</th>\n",
       "      <th>origin</th>\n",
       "      <th>car_name</th>\n",
       "    </tr>\n",
       "  </thead>\n",
       "  <tbody>\n",
       "    <tr>\n",
       "      <th>0</th>\n",
       "      <td>18.0</td>\n",
       "      <td>8</td>\n",
       "      <td>307.0</td>\n",
       "      <td>130.0</td>\n",
       "      <td>3504.0</td>\n",
       "      <td>12.0</td>\n",
       "      <td>70</td>\n",
       "      <td>1</td>\n",
       "      <td>chevrolet chevelle malibu</td>\n",
       "    </tr>\n",
       "    <tr>\n",
       "      <th>1</th>\n",
       "      <td>15.0</td>\n",
       "      <td>8</td>\n",
       "      <td>350.0</td>\n",
       "      <td>165.0</td>\n",
       "      <td>3693.0</td>\n",
       "      <td>11.5</td>\n",
       "      <td>70</td>\n",
       "      <td>1</td>\n",
       "      <td>buick skylark 320</td>\n",
       "    </tr>\n",
       "    <tr>\n",
       "      <th>2</th>\n",
       "      <td>18.0</td>\n",
       "      <td>8</td>\n",
       "      <td>318.0</td>\n",
       "      <td>150.0</td>\n",
       "      <td>3436.0</td>\n",
       "      <td>11.0</td>\n",
       "      <td>70</td>\n",
       "      <td>1</td>\n",
       "      <td>plymouth satellite</td>\n",
       "    </tr>\n",
       "    <tr>\n",
       "      <th>3</th>\n",
       "      <td>16.0</td>\n",
       "      <td>8</td>\n",
       "      <td>304.0</td>\n",
       "      <td>150.0</td>\n",
       "      <td>3433.0</td>\n",
       "      <td>12.0</td>\n",
       "      <td>70</td>\n",
       "      <td>1</td>\n",
       "      <td>amc rebel sst</td>\n",
       "    </tr>\n",
       "    <tr>\n",
       "      <th>4</th>\n",
       "      <td>17.0</td>\n",
       "      <td>8</td>\n",
       "      <td>302.0</td>\n",
       "      <td>140.0</td>\n",
       "      <td>3449.0</td>\n",
       "      <td>10.5</td>\n",
       "      <td>70</td>\n",
       "      <td>1</td>\n",
       "      <td>ford torino</td>\n",
       "    </tr>\n",
       "  </tbody>\n",
       "</table>\n",
       "</div>"
      ],
      "text/plain": [
       "    mpg  cylinders  displacement horsepower  weight  acceleration  model_year  \\\n",
       "0  18.0          8         307.0      130.0  3504.0          12.0          70   \n",
       "1  15.0          8         350.0      165.0  3693.0          11.5          70   \n",
       "2  18.0          8         318.0      150.0  3436.0          11.0          70   \n",
       "3  16.0          8         304.0      150.0  3433.0          12.0          70   \n",
       "4  17.0          8         302.0      140.0  3449.0          10.5          70   \n",
       "\n",
       "   origin                   car_name  \n",
       "0       1  chevrolet chevelle malibu  \n",
       "1       1          buick skylark 320  \n",
       "2       1         plymouth satellite  \n",
       "3       1              amc rebel sst  \n",
       "4       1                ford torino  "
      ]
     },
     "execution_count": 5,
     "metadata": {},
     "output_type": "execute_result"
    }
   ],
   "source": [
    "# Column names (labels) are not so meaningful and we should use the attribute names\n",
    "# provided in the README file\n",
    "# Row index, instead, can be left as it is (i.e., default IndexRange)\n",
    "columns = ['mpg', 'cylinders', 'displacement', 'horsepower', 'weight', \n",
    "           'acceleration', 'model_year', 'origin', 'car_name']\n",
    "data = pd.read_csv(DATASET_PATH, sep=\"\\t\", header=None, names=columns)\n",
    "print(\"Shape of the dataset: {}\".format(data.shape))\n",
    "data.head()"
   ]
  },
  {
   "cell_type": "markdown",
   "metadata": {
    "slideshow": {
     "slide_type": "slide"
    }
   },
   "source": [
    "## Checking for any Missing Values"
   ]
  },
  {
   "cell_type": "code",
   "execution_count": 6,
   "metadata": {
    "slideshow": {
     "slide_type": "slide"
    }
   },
   "outputs": [
    {
     "name": "stdout",
     "output_type": "stream",
     "text": [
      "There are missing values in the dataset: False\n"
     ]
    }
   ],
   "source": [
    "# Check if there is any missing value in the whole dataset\n",
    "print(\"There are missing values in the dataset: {}\".\n",
    "     format(data.isnull().any().any()))"
   ]
  },
  {
   "cell_type": "code",
   "execution_count": 7,
   "metadata": {
    "slideshow": {
     "slide_type": "slide"
    }
   },
   "outputs": [
    {
     "name": "stdout",
     "output_type": "stream",
     "text": [
      "N. of missing values for attribute 'horsepower': 0\n"
     ]
    }
   ],
   "source": [
    "# Check if 'horsepower' has really 6 missing values\n",
    "print(\"N. of missing values for attribute 'horsepower': {}\".\n",
    "     format(data.horsepower.isnull().sum()))"
   ]
  },
  {
   "cell_type": "code",
   "execution_count": 8,
   "metadata": {
    "slideshow": {
     "slide_type": "slide"
    }
   },
   "outputs": [
    {
     "name": "stdout",
     "output_type": "stream",
     "text": [
      "['?', '98.00', '97.00', '96.00', '95.00', '94.00', '93.00', '92.00', '91.00', '90.00', '89.00', '88.00', '87.00', '86.00', '85.00', '84.00', '83.00', '82.00', '81.00', '80.00', '79.00', '78.00', '77.00', '76.00', '75.00', '74.00', '72.00', '71.00', '70.00', '69.00', '68.00', '67.00', '66.00', '65.00', '64.00', '63.00', '62.00', '61.00', '60.00', '58.00', '54.00', '53.00', '52.00', '49.00', '48.00', '46.00', '230.0', '225.0', '220.0', '215.0', '210.0', '208.0', '200.0', '198.0', '193.0', '190.0', '180.0', '175.0', '170.0', '167.0', '165.0', '160.0', '158.0', '155.0', '153.0', '152.0', '150.0', '149.0', '148.0', '145.0', '142.0', '140.0', '139.0', '138.0', '137.0', '135.0', '133.0', '132.0', '130.0', '129.0', '125.0', '122.0', '120.0', '116.0', '115.0', '113.0', '112.0', '110.0', '108.0', '107.0', '105.0', '103.0', '102.0', '100.0']\n"
     ]
    }
   ],
   "source": [
    "# Weird... we know from the README file there must be 6 missing values\n",
    "# How come we are not able to spot those?\n",
    "# Possibly, because of the way in which NAs are 'encoded' in the file...\n",
    "# Let's see the set of values contained in the 'horsepower' column\n",
    "print(sorted(data.horsepower.unique(), reverse=True))"
   ]
  },
  {
   "cell_type": "code",
   "execution_count": 9,
   "metadata": {
    "slideshow": {
     "slide_type": "slide"
    }
   },
   "outputs": [
    {
     "name": "stdout",
     "output_type": "stream",
     "text": [
      "How many records have 'horsepower=?'?: 6\n"
     ]
    }
   ],
   "source": [
    "# Apparently, there are some question mark characters '?' in this column.\n",
    "# Let's see how many records have '?' in their 'horsepower' column.\n",
    "# Extract the sub-DataFrame using boolean indexing \n",
    "# on the 'horsepower' column and count the corresponding number of matching rows.\n",
    "print(\"How many records have 'horsepower=?'?: {}\"\n",
    "      .format(data[data.horsepower == '?'].shape[0]))"
   ]
  },
  {
   "cell_type": "code",
   "execution_count": 10,
   "metadata": {
    "slideshow": {
     "slide_type": "slide"
    }
   },
   "outputs": [
    {
     "name": "stdout",
     "output_type": "stream",
     "text": [
      "Shape of the dataset: (398, 9)\n"
     ]
    },
    {
     "data": {
      "text/html": [
       "<div>\n",
       "<style scoped>\n",
       "    .dataframe tbody tr th:only-of-type {\n",
       "        vertical-align: middle;\n",
       "    }\n",
       "\n",
       "    .dataframe tbody tr th {\n",
       "        vertical-align: top;\n",
       "    }\n",
       "\n",
       "    .dataframe thead th {\n",
       "        text-align: right;\n",
       "    }\n",
       "</style>\n",
       "<table border=\"1\" class=\"dataframe\">\n",
       "  <thead>\n",
       "    <tr style=\"text-align: right;\">\n",
       "      <th></th>\n",
       "      <th>mpg</th>\n",
       "      <th>cylinders</th>\n",
       "      <th>displacement</th>\n",
       "      <th>horsepower</th>\n",
       "      <th>weight</th>\n",
       "      <th>acceleration</th>\n",
       "      <th>model_year</th>\n",
       "      <th>origin</th>\n",
       "      <th>car_name</th>\n",
       "    </tr>\n",
       "  </thead>\n",
       "  <tbody>\n",
       "    <tr>\n",
       "      <th>0</th>\n",
       "      <td>18.0</td>\n",
       "      <td>8</td>\n",
       "      <td>307.0</td>\n",
       "      <td>130.0</td>\n",
       "      <td>3504.0</td>\n",
       "      <td>12.0</td>\n",
       "      <td>70</td>\n",
       "      <td>1</td>\n",
       "      <td>chevrolet chevelle malibu</td>\n",
       "    </tr>\n",
       "    <tr>\n",
       "      <th>1</th>\n",
       "      <td>15.0</td>\n",
       "      <td>8</td>\n",
       "      <td>350.0</td>\n",
       "      <td>165.0</td>\n",
       "      <td>3693.0</td>\n",
       "      <td>11.5</td>\n",
       "      <td>70</td>\n",
       "      <td>1</td>\n",
       "      <td>buick skylark 320</td>\n",
       "    </tr>\n",
       "    <tr>\n",
       "      <th>2</th>\n",
       "      <td>18.0</td>\n",
       "      <td>8</td>\n",
       "      <td>318.0</td>\n",
       "      <td>150.0</td>\n",
       "      <td>3436.0</td>\n",
       "      <td>11.0</td>\n",
       "      <td>70</td>\n",
       "      <td>1</td>\n",
       "      <td>plymouth satellite</td>\n",
       "    </tr>\n",
       "    <tr>\n",
       "      <th>3</th>\n",
       "      <td>16.0</td>\n",
       "      <td>8</td>\n",
       "      <td>304.0</td>\n",
       "      <td>150.0</td>\n",
       "      <td>3433.0</td>\n",
       "      <td>12.0</td>\n",
       "      <td>70</td>\n",
       "      <td>1</td>\n",
       "      <td>amc rebel sst</td>\n",
       "    </tr>\n",
       "    <tr>\n",
       "      <th>4</th>\n",
       "      <td>17.0</td>\n",
       "      <td>8</td>\n",
       "      <td>302.0</td>\n",
       "      <td>140.0</td>\n",
       "      <td>3449.0</td>\n",
       "      <td>10.5</td>\n",
       "      <td>70</td>\n",
       "      <td>1</td>\n",
       "      <td>ford torino</td>\n",
       "    </tr>\n",
       "  </tbody>\n",
       "</table>\n",
       "</div>"
      ],
      "text/plain": [
       "    mpg  cylinders  displacement  horsepower  weight  acceleration  \\\n",
       "0  18.0          8         307.0       130.0  3504.0          12.0   \n",
       "1  15.0          8         350.0       165.0  3693.0          11.5   \n",
       "2  18.0          8         318.0       150.0  3436.0          11.0   \n",
       "3  16.0          8         304.0       150.0  3433.0          12.0   \n",
       "4  17.0          8         302.0       140.0  3449.0          10.5   \n",
       "\n",
       "   model_year  origin                   car_name  \n",
       "0          70       1  chevrolet chevelle malibu  \n",
       "1          70       1          buick skylark 320  \n",
       "2          70       1         plymouth satellite  \n",
       "3          70       1              amc rebel sst  \n",
       "4          70       1                ford torino  "
      ]
     },
     "execution_count": 10,
     "metadata": {},
     "output_type": "execute_result"
    }
   ],
   "source": [
    "# We have therefore found that '?' is a sentinel value used to identify NAs\n",
    "# Let's reload the dataset using this value as a marker for NAs.\n",
    "data = pd.read_csv(DATASET_PATH, sep=\"\\t\", header=None, \n",
    "                   names=columns,\n",
    "                  na_values={'horsepower':'?'})\n",
    "\n",
    "# Alternatively, we could simply replace '?' on the loaded dataset with np.nan\n",
    "# 1. Using 'loc':\n",
    "# data.loc[data.horsepower == '?', 'horsepower'] = np.nan\n",
    "# 2. Using 'replace':\n",
    "# data.horsepower.replace('?', np.nan, inplace=True)\n",
    "print(\"Shape of the dataset: {}\".format(data.shape))\n",
    "data.head()"
   ]
  },
  {
   "cell_type": "code",
   "execution_count": 11,
   "metadata": {
    "slideshow": {
     "slide_type": "slide"
    }
   },
   "outputs": [
    {
     "name": "stdout",
     "output_type": "stream",
     "text": [
      "There are missing values in the dataset: True\n",
      "N. of missing values for attribute 'horsepower': 6\n"
     ]
    }
   ],
   "source": [
    "# Let's repeat the same check as above on missing values.\n",
    "# Check if there is any missing value in the whole dataset\n",
    "print(\"There are missing values in the dataset: {}\".\n",
    "     format(data.isnull().any().any()))\n",
    "# Check if 'horsepower' has really 6 missing values\n",
    "print(\"N. of missing values for attribute 'horsepower': {}\".\n",
    "     format(data.horsepower.isnull().sum()))"
   ]
  },
  {
   "cell_type": "code",
   "execution_count": 12,
   "metadata": {
    "slideshow": {
     "slide_type": "slide"
    }
   },
   "outputs": [
    {
     "data": {
      "text/html": [
       "<div>\n",
       "<style scoped>\n",
       "    .dataframe tbody tr th:only-of-type {\n",
       "        vertical-align: middle;\n",
       "    }\n",
       "\n",
       "    .dataframe tbody tr th {\n",
       "        vertical-align: top;\n",
       "    }\n",
       "\n",
       "    .dataframe thead th {\n",
       "        text-align: right;\n",
       "    }\n",
       "</style>\n",
       "<table border=\"1\" class=\"dataframe\">\n",
       "  <thead>\n",
       "    <tr style=\"text-align: right;\">\n",
       "      <th></th>\n",
       "      <th>mpg</th>\n",
       "      <th>cylinders</th>\n",
       "      <th>displacement</th>\n",
       "      <th>horsepower</th>\n",
       "      <th>weight</th>\n",
       "      <th>acceleration</th>\n",
       "      <th>model_year</th>\n",
       "      <th>origin</th>\n",
       "      <th>car_name</th>\n",
       "    </tr>\n",
       "  </thead>\n",
       "  <tbody>\n",
       "    <tr>\n",
       "      <th>count</th>\n",
       "      <td>398.000000</td>\n",
       "      <td>398.000000</td>\n",
       "      <td>398.000000</td>\n",
       "      <td>392.000000</td>\n",
       "      <td>398.000000</td>\n",
       "      <td>398.000000</td>\n",
       "      <td>398.000000</td>\n",
       "      <td>398.000000</td>\n",
       "      <td>398</td>\n",
       "    </tr>\n",
       "    <tr>\n",
       "      <th>unique</th>\n",
       "      <td>NaN</td>\n",
       "      <td>NaN</td>\n",
       "      <td>NaN</td>\n",
       "      <td>NaN</td>\n",
       "      <td>NaN</td>\n",
       "      <td>NaN</td>\n",
       "      <td>NaN</td>\n",
       "      <td>NaN</td>\n",
       "      <td>305</td>\n",
       "    </tr>\n",
       "    <tr>\n",
       "      <th>top</th>\n",
       "      <td>NaN</td>\n",
       "      <td>NaN</td>\n",
       "      <td>NaN</td>\n",
       "      <td>NaN</td>\n",
       "      <td>NaN</td>\n",
       "      <td>NaN</td>\n",
       "      <td>NaN</td>\n",
       "      <td>NaN</td>\n",
       "      <td>ford pinto</td>\n",
       "    </tr>\n",
       "    <tr>\n",
       "      <th>freq</th>\n",
       "      <td>NaN</td>\n",
       "      <td>NaN</td>\n",
       "      <td>NaN</td>\n",
       "      <td>NaN</td>\n",
       "      <td>NaN</td>\n",
       "      <td>NaN</td>\n",
       "      <td>NaN</td>\n",
       "      <td>NaN</td>\n",
       "      <td>6</td>\n",
       "    </tr>\n",
       "    <tr>\n",
       "      <th>mean</th>\n",
       "      <td>23.514573</td>\n",
       "      <td>5.454774</td>\n",
       "      <td>193.425879</td>\n",
       "      <td>104.469388</td>\n",
       "      <td>2970.424623</td>\n",
       "      <td>15.568090</td>\n",
       "      <td>76.010050</td>\n",
       "      <td>1.572864</td>\n",
       "      <td>NaN</td>\n",
       "    </tr>\n",
       "    <tr>\n",
       "      <th>std</th>\n",
       "      <td>7.815984</td>\n",
       "      <td>1.701004</td>\n",
       "      <td>104.269838</td>\n",
       "      <td>38.491160</td>\n",
       "      <td>846.841774</td>\n",
       "      <td>2.757689</td>\n",
       "      <td>3.697627</td>\n",
       "      <td>0.802055</td>\n",
       "      <td>NaN</td>\n",
       "    </tr>\n",
       "    <tr>\n",
       "      <th>min</th>\n",
       "      <td>9.000000</td>\n",
       "      <td>3.000000</td>\n",
       "      <td>68.000000</td>\n",
       "      <td>46.000000</td>\n",
       "      <td>1613.000000</td>\n",
       "      <td>8.000000</td>\n",
       "      <td>70.000000</td>\n",
       "      <td>1.000000</td>\n",
       "      <td>NaN</td>\n",
       "    </tr>\n",
       "    <tr>\n",
       "      <th>25%</th>\n",
       "      <td>17.500000</td>\n",
       "      <td>4.000000</td>\n",
       "      <td>104.250000</td>\n",
       "      <td>75.000000</td>\n",
       "      <td>2223.750000</td>\n",
       "      <td>13.825000</td>\n",
       "      <td>73.000000</td>\n",
       "      <td>1.000000</td>\n",
       "      <td>NaN</td>\n",
       "    </tr>\n",
       "    <tr>\n",
       "      <th>50%</th>\n",
       "      <td>23.000000</td>\n",
       "      <td>4.000000</td>\n",
       "      <td>148.500000</td>\n",
       "      <td>93.500000</td>\n",
       "      <td>2803.500000</td>\n",
       "      <td>15.500000</td>\n",
       "      <td>76.000000</td>\n",
       "      <td>1.000000</td>\n",
       "      <td>NaN</td>\n",
       "    </tr>\n",
       "    <tr>\n",
       "      <th>75%</th>\n",
       "      <td>29.000000</td>\n",
       "      <td>8.000000</td>\n",
       "      <td>262.000000</td>\n",
       "      <td>126.000000</td>\n",
       "      <td>3608.000000</td>\n",
       "      <td>17.175000</td>\n",
       "      <td>79.000000</td>\n",
       "      <td>2.000000</td>\n",
       "      <td>NaN</td>\n",
       "    </tr>\n",
       "    <tr>\n",
       "      <th>max</th>\n",
       "      <td>46.600000</td>\n",
       "      <td>8.000000</td>\n",
       "      <td>455.000000</td>\n",
       "      <td>230.000000</td>\n",
       "      <td>5140.000000</td>\n",
       "      <td>24.800000</td>\n",
       "      <td>82.000000</td>\n",
       "      <td>3.000000</td>\n",
       "      <td>NaN</td>\n",
       "    </tr>\n",
       "  </tbody>\n",
       "</table>\n",
       "</div>"
      ],
      "text/plain": [
       "               mpg   cylinders  displacement  horsepower       weight  \\\n",
       "count   398.000000  398.000000    398.000000  392.000000   398.000000   \n",
       "unique         NaN         NaN           NaN         NaN          NaN   \n",
       "top            NaN         NaN           NaN         NaN          NaN   \n",
       "freq           NaN         NaN           NaN         NaN          NaN   \n",
       "mean     23.514573    5.454774    193.425879  104.469388  2970.424623   \n",
       "std       7.815984    1.701004    104.269838   38.491160   846.841774   \n",
       "min       9.000000    3.000000     68.000000   46.000000  1613.000000   \n",
       "25%      17.500000    4.000000    104.250000   75.000000  2223.750000   \n",
       "50%      23.000000    4.000000    148.500000   93.500000  2803.500000   \n",
       "75%      29.000000    8.000000    262.000000  126.000000  3608.000000   \n",
       "max      46.600000    8.000000    455.000000  230.000000  5140.000000   \n",
       "\n",
       "        acceleration  model_year      origin    car_name  \n",
       "count     398.000000  398.000000  398.000000         398  \n",
       "unique           NaN         NaN         NaN         305  \n",
       "top              NaN         NaN         NaN  ford pinto  \n",
       "freq             NaN         NaN         NaN           6  \n",
       "mean       15.568090   76.010050    1.572864         NaN  \n",
       "std         2.757689    3.697627    0.802055         NaN  \n",
       "min         8.000000   70.000000    1.000000         NaN  \n",
       "25%        13.825000   73.000000    1.000000         NaN  \n",
       "50%        15.500000   76.000000    1.000000         NaN  \n",
       "75%        17.175000   79.000000    2.000000         NaN  \n",
       "max        24.800000   82.000000    3.000000         NaN  "
      ]
     },
     "execution_count": 12,
     "metadata": {},
     "output_type": "execute_result"
    }
   ],
   "source": [
    "# Let's have a look at the output of the 'describe()' function.\n",
    "data.describe(include='all')"
   ]
  },
  {
   "cell_type": "markdown",
   "metadata": {
    "slideshow": {
     "slide_type": "slide"
    }
   },
   "source": [
    "## Change the Column Layout"
   ]
  },
  {
   "cell_type": "code",
   "execution_count": 13,
   "metadata": {
    "slideshow": {
     "slide_type": "slide"
    }
   },
   "outputs": [
    {
     "name": "stdout",
     "output_type": "stream",
     "text": [
      "Orignal order of columns:\n",
      "['mpg', 'cylinders', 'displacement', 'horsepower', 'weight', 'acceleration', 'model_year', 'origin', 'car_name']\n",
      "New order of columns:\n",
      "['cylinders', 'displacement', 'horsepower', 'weight', 'acceleration', 'model_year', 'origin', 'car_name', 'mpg']\n"
     ]
    }
   ],
   "source": [
    "# Just as a convention, I prefer to place the column to be predicted\n",
    "# as the last one.\n",
    "columns = data.columns.tolist()\n",
    "print(\"Orignal order of columns:\\n{}\".format(columns))\n",
    "# Popping out 'mpg' from the list and insert it back at the end.\n",
    "columns.insert(len(columns), columns.pop(columns.index('mpg')))\n",
    "print(\"New order of columns:\\n{}\".format(columns))"
   ]
  },
  {
   "cell_type": "code",
   "execution_count": 14,
   "metadata": {
    "slideshow": {
     "slide_type": "slide"
    }
   },
   "outputs": [
    {
     "data": {
      "text/html": [
       "<div>\n",
       "<style scoped>\n",
       "    .dataframe tbody tr th:only-of-type {\n",
       "        vertical-align: middle;\n",
       "    }\n",
       "\n",
       "    .dataframe tbody tr th {\n",
       "        vertical-align: top;\n",
       "    }\n",
       "\n",
       "    .dataframe thead th {\n",
       "        text-align: right;\n",
       "    }\n",
       "</style>\n",
       "<table border=\"1\" class=\"dataframe\">\n",
       "  <thead>\n",
       "    <tr style=\"text-align: right;\">\n",
       "      <th></th>\n",
       "      <th>cylinders</th>\n",
       "      <th>displacement</th>\n",
       "      <th>horsepower</th>\n",
       "      <th>weight</th>\n",
       "      <th>acceleration</th>\n",
       "      <th>model_year</th>\n",
       "      <th>origin</th>\n",
       "      <th>car_name</th>\n",
       "      <th>mpg</th>\n",
       "    </tr>\n",
       "  </thead>\n",
       "  <tbody>\n",
       "    <tr>\n",
       "      <th>0</th>\n",
       "      <td>8</td>\n",
       "      <td>307.0</td>\n",
       "      <td>130.0</td>\n",
       "      <td>3504.0</td>\n",
       "      <td>12.0</td>\n",
       "      <td>70</td>\n",
       "      <td>1</td>\n",
       "      <td>chevrolet chevelle malibu</td>\n",
       "      <td>18.0</td>\n",
       "    </tr>\n",
       "    <tr>\n",
       "      <th>1</th>\n",
       "      <td>8</td>\n",
       "      <td>350.0</td>\n",
       "      <td>165.0</td>\n",
       "      <td>3693.0</td>\n",
       "      <td>11.5</td>\n",
       "      <td>70</td>\n",
       "      <td>1</td>\n",
       "      <td>buick skylark 320</td>\n",
       "      <td>15.0</td>\n",
       "    </tr>\n",
       "    <tr>\n",
       "      <th>2</th>\n",
       "      <td>8</td>\n",
       "      <td>318.0</td>\n",
       "      <td>150.0</td>\n",
       "      <td>3436.0</td>\n",
       "      <td>11.0</td>\n",
       "      <td>70</td>\n",
       "      <td>1</td>\n",
       "      <td>plymouth satellite</td>\n",
       "      <td>18.0</td>\n",
       "    </tr>\n",
       "    <tr>\n",
       "      <th>3</th>\n",
       "      <td>8</td>\n",
       "      <td>304.0</td>\n",
       "      <td>150.0</td>\n",
       "      <td>3433.0</td>\n",
       "      <td>12.0</td>\n",
       "      <td>70</td>\n",
       "      <td>1</td>\n",
       "      <td>amc rebel sst</td>\n",
       "      <td>16.0</td>\n",
       "    </tr>\n",
       "    <tr>\n",
       "      <th>4</th>\n",
       "      <td>8</td>\n",
       "      <td>302.0</td>\n",
       "      <td>140.0</td>\n",
       "      <td>3449.0</td>\n",
       "      <td>10.5</td>\n",
       "      <td>70</td>\n",
       "      <td>1</td>\n",
       "      <td>ford torino</td>\n",
       "      <td>17.0</td>\n",
       "    </tr>\n",
       "  </tbody>\n",
       "</table>\n",
       "</div>"
      ],
      "text/plain": [
       "   cylinders  displacement  horsepower  weight  acceleration  model_year  \\\n",
       "0          8         307.0       130.0  3504.0          12.0          70   \n",
       "1          8         350.0       165.0  3693.0          11.5          70   \n",
       "2          8         318.0       150.0  3436.0          11.0          70   \n",
       "3          8         304.0       150.0  3433.0          12.0          70   \n",
       "4          8         302.0       140.0  3449.0          10.5          70   \n",
       "\n",
       "   origin                   car_name   mpg  \n",
       "0       1  chevrolet chevelle malibu  18.0  \n",
       "1       1          buick skylark 320  15.0  \n",
       "2       1         plymouth satellite  18.0  \n",
       "3       1              amc rebel sst  16.0  \n",
       "4       1                ford torino  17.0  "
      ]
     },
     "execution_count": 14,
     "metadata": {},
     "output_type": "execute_result"
    }
   ],
   "source": [
    "# Let's refactor the DataFrame using this new column index\n",
    "data = data.loc[:, columns]\n",
    "data.head()\n",
    "# Alternatively to 'loc' we can also use 'reindex()'\n",
    "# data = data.reindex(columns=columns)\n",
    "# data.head()"
   ]
  },
  {
   "cell_type": "markdown",
   "metadata": {
    "slideshow": {
     "slide_type": "slide"
    }
   },
   "source": [
    "## Apply Some Simple Data Transformations"
   ]
  },
  {
   "cell_type": "code",
   "execution_count": 15,
   "metadata": {
    "scrolled": true,
    "slideshow": {
     "slide_type": "slide"
    }
   },
   "outputs": [
    {
     "data": {
      "text/html": [
       "<div>\n",
       "<style scoped>\n",
       "    .dataframe tbody tr th:only-of-type {\n",
       "        vertical-align: middle;\n",
       "    }\n",
       "\n",
       "    .dataframe tbody tr th {\n",
       "        vertical-align: top;\n",
       "    }\n",
       "\n",
       "    .dataframe thead th {\n",
       "        text-align: right;\n",
       "    }\n",
       "</style>\n",
       "<table border=\"1\" class=\"dataframe\">\n",
       "  <thead>\n",
       "    <tr style=\"text-align: right;\">\n",
       "      <th></th>\n",
       "      <th>cylinders</th>\n",
       "      <th>displacement</th>\n",
       "      <th>horsepower</th>\n",
       "      <th>weight</th>\n",
       "      <th>acceleration</th>\n",
       "      <th>model_year</th>\n",
       "      <th>origin</th>\n",
       "      <th>car_name</th>\n",
       "      <th>mpg</th>\n",
       "    </tr>\n",
       "  </thead>\n",
       "  <tbody>\n",
       "    <tr>\n",
       "      <th>0</th>\n",
       "      <td>8</td>\n",
       "      <td>5.030829</td>\n",
       "      <td>130.0</td>\n",
       "      <td>3504.0</td>\n",
       "      <td>12.0</td>\n",
       "      <td>70</td>\n",
       "      <td>1</td>\n",
       "      <td>chevrolet chevelle malibu</td>\n",
       "      <td>18.0</td>\n",
       "    </tr>\n",
       "    <tr>\n",
       "      <th>1</th>\n",
       "      <td>8</td>\n",
       "      <td>5.735472</td>\n",
       "      <td>165.0</td>\n",
       "      <td>3693.0</td>\n",
       "      <td>11.5</td>\n",
       "      <td>70</td>\n",
       "      <td>1</td>\n",
       "      <td>buick skylark 320</td>\n",
       "      <td>15.0</td>\n",
       "    </tr>\n",
       "    <tr>\n",
       "      <th>2</th>\n",
       "      <td>8</td>\n",
       "      <td>5.211086</td>\n",
       "      <td>150.0</td>\n",
       "      <td>3436.0</td>\n",
       "      <td>11.0</td>\n",
       "      <td>70</td>\n",
       "      <td>1</td>\n",
       "      <td>plymouth satellite</td>\n",
       "      <td>18.0</td>\n",
       "    </tr>\n",
       "    <tr>\n",
       "      <th>3</th>\n",
       "      <td>8</td>\n",
       "      <td>4.981667</td>\n",
       "      <td>150.0</td>\n",
       "      <td>3433.0</td>\n",
       "      <td>12.0</td>\n",
       "      <td>70</td>\n",
       "      <td>1</td>\n",
       "      <td>amc rebel sst</td>\n",
       "      <td>16.0</td>\n",
       "    </tr>\n",
       "    <tr>\n",
       "      <th>4</th>\n",
       "      <td>8</td>\n",
       "      <td>4.948893</td>\n",
       "      <td>140.0</td>\n",
       "      <td>3449.0</td>\n",
       "      <td>10.5</td>\n",
       "      <td>70</td>\n",
       "      <td>1</td>\n",
       "      <td>ford torino</td>\n",
       "      <td>17.0</td>\n",
       "    </tr>\n",
       "  </tbody>\n",
       "</table>\n",
       "</div>"
      ],
      "text/plain": [
       "   cylinders  displacement  horsepower  weight  acceleration  model_year  \\\n",
       "0          8      5.030829       130.0  3504.0          12.0          70   \n",
       "1          8      5.735472       165.0  3693.0          11.5          70   \n",
       "2          8      5.211086       150.0  3436.0          11.0          70   \n",
       "3          8      4.981667       150.0  3433.0          12.0          70   \n",
       "4          8      4.948893       140.0  3449.0          10.5          70   \n",
       "\n",
       "   origin                   car_name   mpg  \n",
       "0       1  chevrolet chevelle malibu  18.0  \n",
       "1       1          buick skylark 320  15.0  \n",
       "2       1         plymouth satellite  18.0  \n",
       "3       1              amc rebel sst  16.0  \n",
       "4       1                ford torino  17.0  "
      ]
     },
     "execution_count": 15,
     "metadata": {},
     "output_type": "execute_result"
    }
   ],
   "source": [
    "# Suppose we want to convert displacement unit from cubic inch to litre\n",
    "# There is a useful conversion table which tells us how to do that.\n",
    "# 1 cubic inch = 0.016387064 litre\n",
    "CI_TO_LITRE = 0.016387064\n",
    "data.displacement *= CI_TO_LITRE\n",
    "data.head()"
   ]
  },
  {
   "cell_type": "markdown",
   "metadata": {
    "slideshow": {
     "slide_type": "slide"
    }
   },
   "source": [
    "# 2. Data Exploration"
   ]
  },
  {
   "cell_type": "markdown",
   "metadata": {
    "slideshow": {
     "slide_type": "slide"
    }
   },
   "source": [
    "## 2.1 Analysis of Data Distributions: Continous Values\n",
    "\n",
    "-  Let's start visualizing the distributions of the **5 continuous-valued** features:\n",
    "    - <code>**displacement**</code>\n",
    "    - <code>**horsepower**</code> (contains 6 <code>**NA**</code>s)\n",
    "    - <code>**weight**</code>\n",
    "    - <code>**acceleration**</code>"
   ]
  },
  {
   "cell_type": "code",
   "execution_count": 16,
   "metadata": {
    "slideshow": {
     "slide_type": "slide"
    }
   },
   "outputs": [],
   "source": [
    "# Create a lambda function which will be applied to each entry\n",
    "# of the numpy 2-D array of AxesSubplot objects\n",
    "# x is a reference to an AxesSubplot object\n",
    "y_labeler = lambda x: x.set_ylabel('density')\n",
    "# np.vectorize() allows calling the function on each element\n",
    "y_labeler = np.vectorize(y_labeler)"
   ]
  },
  {
   "cell_type": "code",
   "execution_count": 17,
   "metadata": {
    "slideshow": {
     "slide_type": "slide"
    }
   },
   "outputs": [
    {
     "data": {
      "image/png": "[encoded data removed]",
      "text/plain": [
       "<matplotlib.figure.Figure at 0x112aeb5c0>"
      ]
     },
     "metadata": {},
     "output_type": "display_data"
    }
   ],
   "source": [
    "# Create a Figure containing 2x2 subplots\n",
    "fig, axes = plt.subplots(2, 2, figsize=(10,12))\n",
    "# Call the vectorized function for labeling all the y-axes\n",
    "y_labeler(axes)\n",
    "# Plot 'displacement' on the top-left subplot\n",
    "_ = sns.distplot(data.displacement, color='#808080', ax=axes[0,0], \n",
    "                 hist_kws=dict(edgecolor=\"#404040\", linewidth=1))\n",
    "# Plot 'horsepower' (limited only to non-NA values) on the top-right subplot\n",
    "_ = sns.distplot(data.loc[data.horsepower.notnull(), 'horsepower'], \n",
    "                 color='#df2020', ax=axes[0,1], \n",
    "                 hist_kws=dict(edgecolor=\"#404040\", linewidth=1))\n",
    "# Plot 'weight' on the bottom-left subplot\n",
    "_ = sns.distplot(data.weight, color='#0033cc', ax=axes[1,0], \n",
    "                 hist_kws=dict(edgecolor=\"k\", linewidth=1))\n",
    "# Plot 'acceleration' on the bottom-right subplot\n",
    "_ = sns.distplot(data.acceleration, color='#009933', ax=axes[1,1],\n",
    "                 hist_kws=dict(edgecolor=\"#006622\", linewidth=1))\n",
    "# Adjust space between plots\n",
    "plt.subplots_adjust(wspace=.3, hspace=.3)"
   ]
  },
  {
   "cell_type": "markdown",
   "metadata": {
    "slideshow": {
     "slide_type": "slide"
    }
   },
   "source": [
    "## Additional Note on Binning\n",
    "\n",
    "-  If we don't specify the number of **bins** as argument of <code>**sns.distplot**</code> function (i.e.,<code>**bins=None**</code>) the **Freedman-Diaconis** rule is used to devise the _best_ number of bins.\n",
    "\n",
    "-  This rule starts from defining the **width** each bin should have on the basis of the range of values observed, as follows:\n",
    "\n",
    "$$\n",
    "\\texttt{bin}\\_\\texttt{width} = 2 * \\frac{\\texttt{IQR}}{n^{1/3}}\n",
    "$$\n",
    "where $\\texttt{IQR}$ stands for **interquartile range**, namely the length of the interval delimited by the 1st and the 3rd quartile, and $n$ is the **number of observations**.\n",
    "\n",
    "-  Finally, the number of bins is computed as:\n",
    "\n",
    "$$\n",
    "\\texttt{bins} = (max−min)/\\texttt{bin}\\_\\texttt{width}\n",
    "$$\n",
    "\n",
    "where, $max$ ($min$) is the **maximum** (**minimum**) value observed.\n"
   ]
  },
  {
   "cell_type": "code",
   "execution_count": 18,
   "metadata": {
    "slideshow": {
     "slide_type": "slide"
    }
   },
   "outputs": [
    {
     "data": {
      "image/png": "[encoded data removed]",
      "text/plain": [
       "<matplotlib.figure.Figure at 0x112c99588>"
      ]
     },
     "metadata": {},
     "output_type": "display_data"
    }
   ],
   "source": [
    "# Let's produce the boxplots corresponding to the distribution plots above\n",
    "# Create a Figure containing 2x2 subplots\n",
    "fig, axes = plt.subplots(2, 2, figsize=(10,12))\n",
    "\n",
    "_ = sns.boxplot(data.displacement, color='#808080', ax=axes[0,0])\n",
    "_ = sns.boxplot(data.loc[data.horsepower.notnull(), 'horsepower'], \n",
    "                color='#df2020', ax=axes[0,1])\n",
    "_ = sns.boxplot(data.weight, color='#0033cc', ax=axes[1,0])\n",
    "_ = sns.boxplot(data.acceleration, color='#009933', ax=axes[1,1])\n",
    "plt.subplots_adjust(wspace=.3, hspace=.3)"
   ]
  },
  {
   "cell_type": "markdown",
   "metadata": {
    "slideshow": {
     "slide_type": "slide"
    }
   },
   "source": [
    "## Spotting Outliers\n",
    "\n",
    "-  Generally speaking, an outlier is an observation that is numerically distant from the rest of the data. \n",
    "\n",
    "-  Boxplots are useful to actually spot any possible **outlier**, as they show the distribution of values that are located within the $\\texttt{IQR}$ (i.e., any data point between the 1st and 3rd quartile).\n",
    "\n",
    "-  A boxplot defines also 2 other values, called **fences** or **whiskers** which are used to define outliers (i.e., any data point that is located outside the fences).\n",
    "\n",
    "-  Usually, fences are determined as follows: if $Q_1$ and $Q_3$ represents the 1st and 3rd quartile, respectively, we define $F_\\textrm{left}$ and $F_\\textrm{right}$ as the left and right fence point, respectively, so that:\n",
    "\n",
    "$$\n",
    "F_\\textrm{left} = Q_1 - 1.5 * \\texttt{IQR};~~F_\\textrm{right} = Q_3 + 1.5 * \\texttt{IQR}\n",
    "$$"
   ]
  },
  {
   "cell_type": "markdown",
   "metadata": {
    "slideshow": {
     "slide_type": "slide"
    }
   },
   "source": [
    "## Few Observations from the Plots\n",
    "\n",
    "-  <code>**displacement**</code> distribution is not uni-modal at all; in fact it is bi-, or possibly, tri-modal. Apparently, this is not affected by any outlier.\n",
    "\n",
    "-  <code>**horsepower**</code> distribution is also not uni-modal, with a small bump around the value of 150Hp. However, here we can spot some possible outliers (i.e., large values over 200Hp).\n",
    "\n",
    "-  <code>**weight**</code> distribution is uni-modal yet **right-skewed** (**positively skewed**), which means the mean is shifted to the right due to the presence of some large values towards the positive direction (not necessarily outliers).\n",
    "\n",
    "-  <code>**acceleration**</code> essentially fits nicely to a **Normal** (**Gaussian**) **distribution** and contains some outliers."
   ]
  },
  {
   "cell_type": "code",
   "execution_count": 19,
   "metadata": {
    "slideshow": {
     "slide_type": "slide"
    }
   },
   "outputs": [
    {
     "name": "stdout",
     "output_type": "stream",
     "text": [
      "1st Quartile of 'horsepower': 75.00\n",
      "3rd Quartile of 'horsepower': 126.00\n",
      "IQR of 'horsepower': 51.00\n",
      "Fence range: [-1.50, 202.50]\n"
     ]
    }
   ],
   "source": [
    "# Check how many outliers we have\n",
    "# 1. 'horsepower'\n",
    "hp_q1, hp_q3 = data.loc[data.horsepower.notnull(), 'horsepower'].quantile([.25, .75])\n",
    "print(\"1st Quartile of 'horsepower': {:.2f}\".\n",
    "      format(hp_q1))\n",
    "print(\"3rd Quartile of 'horsepower': {:.2f}\".\n",
    "      format(hp_q3))\n",
    "hp_IQR = (hp_q3 - hp_q1)\n",
    "print(\"IQR of 'horsepower': {:.2f}\".\n",
    "      format(hp_IQR))\n",
    "hp_fence_left = hp_q1 - 1.5 * hp_IQR\n",
    "hp_fence_right = hp_q3 + 1.5 * hp_IQR\n",
    "print(\"Fence range: [{:.2f}, {:.2f}]\".\n",
    "      format(hp_fence_left, hp_fence_right))"
   ]
  },
  {
   "cell_type": "code",
   "execution_count": 20,
   "metadata": {
    "slideshow": {
     "slide_type": "slide"
    }
   },
   "outputs": [
    {
     "name": "stdout",
     "output_type": "stream",
     "text": [
      "N. of instances containing outlier of 'horsepower': 10\n"
     ]
    }
   ],
   "source": [
    "print(\"N. of instances containing outlier of 'horsepower': {}\".\n",
    "      format(data[data.horsepower > hp_fence_right].shape[0]))"
   ]
  },
  {
   "cell_type": "code",
   "execution_count": 21,
   "metadata": {
    "slideshow": {
     "slide_type": "slide"
    }
   },
   "outputs": [
    {
     "name": "stdout",
     "output_type": "stream",
     "text": [
      "1st Quartile of 'acceleration': 13.83\n",
      "3rd Quartile of 'acceleration': 17.17\n",
      "IQR of 'acceleration': 51.00\n",
      "Fence range: [8.80, 22.20]\n"
     ]
    }
   ],
   "source": [
    "# Check how many outliers we have\n",
    "# 2. 'acceleration'\n",
    "acc_q1, acc_q3 = data['acceleration'].quantile([.25, .75])\n",
    "print(\"1st Quartile of 'acceleration': {:.2f}\".\n",
    "      format(acc_q1))\n",
    "print(\"3rd Quartile of 'acceleration': {:.2f}\".\n",
    "      format(acc_q3))\n",
    "acc_IQR = (acc_q3 - acc_q1)\n",
    "print(\"IQR of 'acceleration': {:.2f}\".\n",
    "      format(hp_IQR))\n",
    "acc_fence_left = acc_q1 - 1.5 * acc_IQR\n",
    "acc_fence_right = acc_q3 + 1.5 * acc_IQR\n",
    "print(\"Fence range: [{:.2f}, {:.2f}]\".\n",
    "      format(acc_fence_left, acc_fence_right))"
   ]
  },
  {
   "cell_type": "code",
   "execution_count": 22,
   "metadata": {
    "slideshow": {
     "slide_type": "slide"
    }
   },
   "outputs": [
    {
     "name": "stdout",
     "output_type": "stream",
     "text": [
      "N. of instances containing outlier of 'horsepower' or 'acceleration': 9\n"
     ]
    }
   ],
   "source": [
    "print(\"N. of instances containing outlier of 'horsepower' or 'acceleration': {}\".\n",
    "      format(data[(data.acceleration < acc_fence_left) | \n",
    "                  (data.acceleration > acc_fence_right)].shape[0]))"
   ]
  },
  {
   "cell_type": "code",
   "execution_count": 23,
   "metadata": {
    "slideshow": {
     "slide_type": "slide"
    }
   },
   "outputs": [
    {
     "name": "stdout",
     "output_type": "stream",
     "text": [
      "N. of instances containing outlier of 'acceleration': 18\n"
     ]
    }
   ],
   "source": [
    "print(\"N. of instances containing outlier of 'acceleration': {}\".\n",
    "      format(data[(data.horsepower > hp_fence_right) |\n",
    "                  (data.acceleration > acc_fence_right) |\n",
    "                  (data.acceleration < acc_fence_left)].shape[0]))"
   ]
  },
  {
   "cell_type": "code",
   "execution_count": 24,
   "metadata": {
    "slideshow": {
     "slide_type": "slide"
    }
   },
   "outputs": [
    {
     "data": {
      "image/png": "[encoded data removed]",
      "text/plain": [
       "<matplotlib.figure.Figure at 0x1132a0518>"
      ]
     },
     "metadata": {},
     "output_type": "display_data"
    }
   ],
   "source": [
    "# Let's see if we can spot where those outliers are located\n",
    "# w.r.t. other features (e.g., cylinders)\n",
    "fig, axes = plt.subplots(2, 1, figsize=(10,8))\n",
    "\n",
    "_ = sns.boxplot(x=data.cylinders, y=data.loc[data.horsepower.notnull(), 'horsepower'], \n",
    "                color='#df2020', ax=axes[0])\n",
    "_ = sns.boxplot(x=data.cylinders, y=data.acceleration, color='#009933', ax=axes[1])\n",
    "plt.subplots_adjust(wspace=.3, hspace=.3)"
   ]
  },
  {
   "cell_type": "markdown",
   "metadata": {
    "slideshow": {
     "slide_type": "slide"
    }
   },
   "source": [
    "## Other Few Observations from the Plots\n",
    "\n",
    "-  <code>**horsepower**</code>: outliers seem to occur only on 6- and 8-cylinder vehicles, stronger in the former.\n",
    "\n",
    "-  <code>**acceleration**</code>: outliers here are more evenly distributed over 3- 4- and 8-cylinder vehicles."
   ]
  },
  {
   "cell_type": "code",
   "execution_count": 25,
   "metadata": {
    "slideshow": {
     "slide_type": "slide"
    }
   },
   "outputs": [
    {
     "data": {
      "image/png": "[encoded data removed]",
      "text/plain": [
       "<matplotlib.figure.Figure at 0x112c789b0>"
      ]
     },
     "metadata": {},
     "output_type": "display_data"
    }
   ],
   "source": [
    "# Let's now plot the pairwise relationship between our continuous-valued features\n",
    "_ = sns.pairplot(data.loc[data.horsepower.notnull(),\n",
    "                          ['displacement', 'horsepower', 'weight', \n",
    "                           'acceleration']],\n",
    "                 kind=\"reg\",\n",
    "                 diag_kind='kde', \n",
    "                 diag_kws={'shade': True, 'color': '#ff6600'}, \n",
    "                 plot_kws={'color': '#ff6600'})"
   ]
  },
  {
   "cell_type": "markdown",
   "metadata": {
    "slideshow": {
     "slide_type": "slide"
    }
   },
   "source": [
    "## How Continuous-valued Features Relate to Each Other\n",
    "\n",
    "-  As <code>**displacement**</code> increases, so do <code>**weight**</code> and <code>**horsepower**</code>; also <code>**acceleration**</code> tends to decrease (pretty intuitive!).\n",
    "\n",
    "-  As <code>**horsepower**</code> increases, <code>**acceleration**</code> decreases, whilst <code>**weight**</code> and <code>**displacement**</code> increase as well.\n",
    "\n",
    "-  As <code>**weight**</code> increases, both <code>**horsepower**</code> and <code>**displacement**</code> increases but <code>**acceleration**</code> tends to decrease. Now, this might seem counterintuitive at first but the thing is that there might be a **latent factor** which affects this relationship (e.g., a heavy vehicle is also likely to have more horsepower and therefore this could be the actual reason why we observe such a phenomenon)."
   ]
  },
  {
   "cell_type": "code",
   "execution_count": 26,
   "metadata": {
    "slideshow": {
     "slide_type": "slide"
    }
   },
   "outputs": [
    {
     "data": {
      "image/png": "[encoded data removed]",
      "text/plain": [
       "<matplotlib.figure.Figure at 0x1a18094f28>"
      ]
     },
     "metadata": {},
     "output_type": "display_data"
    }
   ],
   "source": [
    "# Let's now plot the pairwise relationship between our continuous-valued features \n",
    "# this time also considering our target variable 'mpg'\n",
    "_ = sns.pairplot(data.loc[data.horsepower.notnull(),\n",
    "                          ['displacement', 'horsepower', 'weight', 'acceleration', 'mpg']],\n",
    "                 kind=\"reg\",\n",
    "                 diag_kind='kde', \n",
    "                 diag_kws={'shade': True, 'color': '#33cccc'}, \n",
    "                 plot_kws={'color': '#33cccc'})"
   ]
  },
  {
   "cell_type": "markdown",
   "metadata": {
    "slideshow": {
     "slide_type": "slide"
    }
   },
   "source": [
    "## 2.1 Analysis of Data Distributions: Categorical Values\n",
    "\n",
    "-  Let's visualize the distributions of the **3 categorical** features:\n",
    "    - <code>**cylinders**</code>\n",
    "    - <code>**model_year**</code>\n",
    "    - <code>**origin**</code>"
   ]
  },
  {
   "cell_type": "code",
   "execution_count": 27,
   "metadata": {
    "slideshow": {
     "slide_type": "slide"
    }
   },
   "outputs": [
    {
     "name": "stdout",
     "output_type": "stream",
     "text": [
      "4    204\n",
      "8    103\n",
      "6     84\n",
      "3      4\n",
      "5      3\n",
      "Name: cylinders, dtype: int64\n",
      "\n",
      "73    40\n",
      "78    36\n",
      "76    34\n",
      "82    31\n",
      "75    30\n",
      "81    29\n",
      "80    29\n",
      "79    29\n",
      "70    29\n",
      "77    28\n",
      "72    28\n",
      "71    28\n",
      "74    27\n",
      "Name: model_year, dtype: int64\n",
      "\n",
      "1    249\n",
      "3     79\n",
      "2     70\n",
      "Name: origin, dtype: int64\n"
     ]
    }
   ],
   "source": [
    "# Let's see the frequency counts of each categorical variable\n",
    "# 'cylinders'\n",
    "print(data.cylinders.value_counts())\n",
    "print()\n",
    "# 'model_year'\n",
    "print(data.model_year.value_counts())\n",
    "print()\n",
    "# 'origin'\n",
    "print(data.origin.value_counts())"
   ]
  },
  {
   "cell_type": "code",
   "execution_count": 28,
   "metadata": {
    "slideshow": {
     "slide_type": "slide"
    }
   },
   "outputs": [
    {
     "data": {
      "image/png": "[encoded data removed]",
      "text/plain": [
       "<matplotlib.figure.Figure at 0x1131fc710>"
      ]
     },
     "metadata": {},
     "output_type": "display_data"
    }
   ],
   "source": [
    "# Let's produce the boxplots corresponding to the distribution plots above\n",
    "# Create a Figure containing 2x2 subplots\n",
    "fig, axes = plt.subplots(1, 3, figsize=(8,4))\n",
    "y_labeler(axes)\n",
    "\n",
    "# Plot 'cylinders'\n",
    "_ = sns.distplot(data.cylinders, color='#006699', ax=axes[0], \n",
    "                 kde=False, norm_hist=True,\n",
    "                 hist_kws=dict(edgecolor=\"#404040\", linewidth=1))\n",
    "# Plot 'model_year'\n",
    "_ = sns.distplot(data.model_year, color='#a6cc33', ax=axes[1], \n",
    "                 kde=False, norm_hist=True,\n",
    "                 hist_kws=dict(edgecolor=\"#85a329\", linewidth=1))\n",
    "# Plot 'origin'\n",
    "_ = sns.distplot(data.origin, color='#cc3399', ax=axes[2], \n",
    "                 kde=False, norm_hist=True,\n",
    "                 hist_kws=dict(edgecolor=\"#8f246b\", linewidth=1))\n",
    "# Adjust space between plots\n",
    "plt.subplots_adjust(wspace=.5, hspace=.4)"
   ]
  },
  {
   "cell_type": "code",
   "execution_count": 29,
   "metadata": {
    "slideshow": {
     "slide_type": "slide"
    }
   },
   "outputs": [
    {
     "data": {
      "image/png": "[encoded data removed]",
      "text/plain": [
       "<matplotlib.figure.Figure at 0x1a18abe438>"
      ]
     },
     "metadata": {},
     "output_type": "display_data"
    }
   ],
   "source": [
    "# For categorical variables, 'countplot' is the way to go\n",
    "# Create a Figure containing 1x3 subplots\n",
    "fig, axes = plt.subplots(1, 3, figsize=(12,4))\n",
    "\n",
    "# Plot 'cylinders'\n",
    "_ = sns.countplot(data.cylinders, ax=axes[0])\n",
    "_ = sns.countplot(data.model_year, ax=axes[1])\n",
    "_ = sns.countplot(data.origin, ax=axes[2])\n",
    "plt.subplots_adjust(wspace=.5, hspace=.4)"
   ]
  },
  {
   "cell_type": "code",
   "execution_count": 30,
   "metadata": {
    "slideshow": {
     "slide_type": "slide"
    }
   },
   "outputs": [
    {
     "data": {
      "image/png": "[encoded data removed]",
      "text/plain": [
       "<matplotlib.figure.Figure at 0x1a18c8e550>"
      ]
     },
     "metadata": {},
     "output_type": "display_data"
    }
   ],
   "source": [
    "# stripplot is also another useful plot to relate categorical vs. target variable\n",
    "# Create a Figure containing 1x3 subplots\n",
    "fig, axes = plt.subplots(1, 3, figsize=(12,4))\n",
    "\n",
    "_ = sns.stripplot(x=data.cylinders, y=data.mpg, color='#006699', ax=axes[0])\n",
    "_ = sns.stripplot(x=data.model_year, y=data.mpg, color='#a6cc33', ax=axes[1])\n",
    "_ = sns.stripplot(x=data.origin, y=data.mpg, color='#cc3399', ax=axes[2])\n",
    "\n",
    "plt.subplots_adjust(wspace=.5, hspace=.3)"
   ]
  },
  {
   "cell_type": "code",
   "execution_count": 31,
   "metadata": {
    "scrolled": true,
    "slideshow": {
     "slide_type": "slide"
    }
   },
   "outputs": [
    {
     "data": {
      "image/png": "[encoded data removed]",
      "text/plain": [
       "<matplotlib.figure.Figure at 0x112b72630>"
      ]
     },
     "metadata": {},
     "output_type": "display_data"
    }
   ],
   "source": [
    "# swarmplot is also another useful plot to relate categorical vs. target variable\n",
    "# Create a Figure containing 1x3 subplots\n",
    "fig, axes = plt.subplots(1, 3, figsize=(12,4))\n",
    "\n",
    "_ = sns.swarmplot(x=data.cylinders, y=data.mpg, color='#006699', ax=axes[0])\n",
    "_ = sns.swarmplot(x=data.model_year, y=data.mpg, color='#a6cc33', ax=axes[1])\n",
    "_ = sns.swarmplot(x=data.origin, y=data.mpg, color='#cc3399', ax=axes[2])\n",
    "\n",
    "plt.subplots_adjust(wspace=.5, hspace=.3)"
   ]
  },
  {
   "cell_type": "code",
   "execution_count": 32,
   "metadata": {
    "slideshow": {
     "slide_type": "slide"
    }
   },
   "outputs": [
    {
     "data": {
      "image/png": "[encoded data removed]",
      "text/plain": [
       "<matplotlib.figure.Figure at 0x1a18cb17b8>"
      ]
     },
     "metadata": {},
     "output_type": "display_data"
    }
   ],
   "source": [
    "# boxplot is also another useful plot to relate categorical vs. target variable\n",
    "# Create a Figure containing 1x3 subplots\n",
    "fig, axes = plt.subplots(1, 3, figsize=(16,6))\n",
    "\n",
    "_ = sns.boxplot(x=data.cylinders, y=data.mpg, color='#006699', ax=axes[0])\n",
    "_ = sns.boxplot(x=data.model_year, y=data.mpg, color='#a6cc33', ax=axes[1])\n",
    "_ = sns.boxplot(x=data.origin, y=data.mpg, color='#cc3399', ax=axes[2])\n",
    "\n",
    "plt.subplots_adjust(wspace=.5, hspace=.3)"
   ]
  },
  {
   "cell_type": "code",
   "execution_count": 33,
   "metadata": {
    "slideshow": {
     "slide_type": "slide"
    }
   },
   "outputs": [
    {
     "data": {
      "image/png": "[encoded data removed]",
      "text/plain": [
       "<matplotlib.figure.Figure at 0x1a1805dba8>"
      ]
     },
     "metadata": {},
     "output_type": "display_data"
    }
   ],
   "source": [
    "# Let's overlay boxplot and swarmplot\n",
    "# Create a Figure containing 1x3 subplots\n",
    "fig, axes = plt.subplots(1, 3, figsize=(16,6))\n",
    "\n",
    "_ = sns.boxplot(x=data.cylinders, y=data.mpg, color='#006699', ax=axes[0])\n",
    "_ = sns.swarmplot(x=data.cylinders, y=data.mpg, color=\".5\", ax=axes[0])\n",
    "_ = sns.boxplot(x=data.model_year, y=data.mpg, color='#a6cc33', ax=axes[1])\n",
    "_ = sns.swarmplot(x=data.model_year, y=data.mpg, color=\".5\", ax=axes[1])\n",
    "_ = sns.boxplot(x=data.origin, y=data.mpg, color='#cc3399', ax=axes[2])\n",
    "_ = sns.swarmplot(x=data.origin, y=data.mpg, color=\".5\", ax=axes[2])\n",
    "\n",
    "plt.subplots_adjust(wspace=.5, hspace=.3)"
   ]
  },
  {
   "cell_type": "markdown",
   "metadata": {
    "slideshow": {
     "slide_type": "slide"
    }
   },
   "source": [
    "# 3. Data Preprocessing (Munging)"
   ]
  },
  {
   "cell_type": "markdown",
   "metadata": {
    "slideshow": {
     "slide_type": "slide"
    }
   },
   "source": [
    "## Summary of the Issues\n",
    "\n",
    "-  From our exploratory data analysis above, **two** main issues are observed:\n",
    "    1. The presence of **6 missing values** for the attribute <code>**horsepower**</code>\n",
    "    2. The presence of a total of **18 outliers** on the attributes <code>**horsepower**</code> and <code>**acceleration**</code>\n",
    "-  In addition to those, we should also consider how to properly handle different feature's scale as well as the fact that we are in presence of both continuous and categorical attributes."
   ]
  },
  {
   "cell_type": "markdown",
   "metadata": {
    "slideshow": {
     "slide_type": "slide"
    }
   },
   "source": [
    "## 3.1 Handling Missing Values (NA)\n",
    "\n",
    "-  There are just **6 out of 398** (i.e., approximately **1.5%**) of records containing a missing value.\n",
    "\n",
    "-  Since they do not represent a significant subset of the whole dataset, we can simply drop those records.\n",
    "\n",
    "-  Otherwise, we could mark (i.e., replace) those missing value using one of the strategies discussed (e.g., replace them with the median as computed from observed values)."
   ]
  },
  {
   "cell_type": "code",
   "execution_count": 34,
   "metadata": {
    "slideshow": {
     "slide_type": "slide"
    }
   },
   "outputs": [
    {
     "data": {
      "text/html": [
       "<div>\n",
       "<style scoped>\n",
       "    .dataframe tbody tr th:only-of-type {\n",
       "        vertical-align: middle;\n",
       "    }\n",
       "\n",
       "    .dataframe tbody tr th {\n",
       "        vertical-align: top;\n",
       "    }\n",
       "\n",
       "    .dataframe thead th {\n",
       "        text-align: right;\n",
       "    }\n",
       "</style>\n",
       "<table border=\"1\" class=\"dataframe\">\n",
       "  <thead>\n",
       "    <tr style=\"text-align: right;\">\n",
       "      <th></th>\n",
       "      <th>cylinders</th>\n",
       "      <th>displacement</th>\n",
       "      <th>horsepower</th>\n",
       "      <th>weight</th>\n",
       "      <th>acceleration</th>\n",
       "      <th>model_year</th>\n",
       "      <th>origin</th>\n",
       "      <th>car_name</th>\n",
       "      <th>mpg</th>\n",
       "    </tr>\n",
       "  </thead>\n",
       "  <tbody>\n",
       "    <tr>\n",
       "      <th>0</th>\n",
       "      <td>8</td>\n",
       "      <td>5.030829</td>\n",
       "      <td>130.0</td>\n",
       "      <td>3504.0</td>\n",
       "      <td>12.0</td>\n",
       "      <td>70</td>\n",
       "      <td>1</td>\n",
       "      <td>chevrolet chevelle malibu</td>\n",
       "      <td>18.0</td>\n",
       "    </tr>\n",
       "    <tr>\n",
       "      <th>1</th>\n",
       "      <td>8</td>\n",
       "      <td>5.735472</td>\n",
       "      <td>165.0</td>\n",
       "      <td>3693.0</td>\n",
       "      <td>11.5</td>\n",
       "      <td>70</td>\n",
       "      <td>1</td>\n",
       "      <td>buick skylark 320</td>\n",
       "      <td>15.0</td>\n",
       "    </tr>\n",
       "    <tr>\n",
       "      <th>2</th>\n",
       "      <td>8</td>\n",
       "      <td>5.211086</td>\n",
       "      <td>150.0</td>\n",
       "      <td>3436.0</td>\n",
       "      <td>11.0</td>\n",
       "      <td>70</td>\n",
       "      <td>1</td>\n",
       "      <td>plymouth satellite</td>\n",
       "      <td>18.0</td>\n",
       "    </tr>\n",
       "    <tr>\n",
       "      <th>3</th>\n",
       "      <td>8</td>\n",
       "      <td>4.981667</td>\n",
       "      <td>150.0</td>\n",
       "      <td>3433.0</td>\n",
       "      <td>12.0</td>\n",
       "      <td>70</td>\n",
       "      <td>1</td>\n",
       "      <td>amc rebel sst</td>\n",
       "      <td>16.0</td>\n",
       "    </tr>\n",
       "    <tr>\n",
       "      <th>4</th>\n",
       "      <td>8</td>\n",
       "      <td>4.948893</td>\n",
       "      <td>140.0</td>\n",
       "      <td>3449.0</td>\n",
       "      <td>10.5</td>\n",
       "      <td>70</td>\n",
       "      <td>1</td>\n",
       "      <td>ford torino</td>\n",
       "      <td>17.0</td>\n",
       "    </tr>\n",
       "  </tbody>\n",
       "</table>\n",
       "</div>"
      ],
      "text/plain": [
       "   cylinders  displacement  horsepower  weight  acceleration  model_year  \\\n",
       "0          8      5.030829       130.0  3504.0          12.0          70   \n",
       "1          8      5.735472       165.0  3693.0          11.5          70   \n",
       "2          8      5.211086       150.0  3436.0          11.0          70   \n",
       "3          8      4.981667       150.0  3433.0          12.0          70   \n",
       "4          8      4.948893       140.0  3449.0          10.5          70   \n",
       "\n",
       "   origin                   car_name   mpg  \n",
       "0       1  chevrolet chevelle malibu  18.0  \n",
       "1       1          buick skylark 320  15.0  \n",
       "2       1         plymouth satellite  18.0  \n",
       "3       1              amc rebel sst  16.0  \n",
       "4       1                ford torino  17.0  "
      ]
     },
     "execution_count": 34,
     "metadata": {},
     "output_type": "execute_result"
    }
   ],
   "source": [
    "# Let's go for the second option, i.e., replacing missing values on 'horsepower'\n",
    "# using the median as computed from the other observations.\n",
    "# NOTE: here's a classical example where using the mean rather than the median\n",
    "# might affect the result, as the mean is more sensitive to outliers.\n",
    "# NOTE: by default, median() does not include NAs in the computation.\n",
    "# In other words, we don't need to explicitly tell pandas to work on non-NA values:\n",
    "# data.horsepower[data.horsepower.notnull()].median()\n",
    "data.horsepower.fillna(data.horsepower.median(), inplace=True)\n",
    "data.head()"
   ]
  },
  {
   "cell_type": "code",
   "execution_count": 35,
   "metadata": {},
   "outputs": [
    {
     "data": {
      "text/html": [
       "<div>\n",
       "<style scoped>\n",
       "    .dataframe tbody tr th:only-of-type {\n",
       "        vertical-align: middle;\n",
       "    }\n",
       "\n",
       "    .dataframe tbody tr th {\n",
       "        vertical-align: top;\n",
       "    }\n",
       "\n",
       "    .dataframe thead th {\n",
       "        text-align: right;\n",
       "    }\n",
       "</style>\n",
       "<table border=\"1\" class=\"dataframe\">\n",
       "  <thead>\n",
       "    <tr style=\"text-align: right;\">\n",
       "      <th></th>\n",
       "      <th>cylinders</th>\n",
       "      <th>displacement</th>\n",
       "      <th>horsepower</th>\n",
       "      <th>weight</th>\n",
       "      <th>acceleration</th>\n",
       "      <th>model_year</th>\n",
       "      <th>origin</th>\n",
       "      <th>car_name</th>\n",
       "      <th>mpg</th>\n",
       "    </tr>\n",
       "  </thead>\n",
       "  <tbody>\n",
       "    <tr>\n",
       "      <th>count</th>\n",
       "      <td>398.000000</td>\n",
       "      <td>398.000000</td>\n",
       "      <td>398.000000</td>\n",
       "      <td>398.000000</td>\n",
       "      <td>398.000000</td>\n",
       "      <td>398.000000</td>\n",
       "      <td>398.000000</td>\n",
       "      <td>398</td>\n",
       "      <td>398.000000</td>\n",
       "    </tr>\n",
       "    <tr>\n",
       "      <th>unique</th>\n",
       "      <td>NaN</td>\n",
       "      <td>NaN</td>\n",
       "      <td>NaN</td>\n",
       "      <td>NaN</td>\n",
       "      <td>NaN</td>\n",
       "      <td>NaN</td>\n",
       "      <td>NaN</td>\n",
       "      <td>305</td>\n",
       "      <td>NaN</td>\n",
       "    </tr>\n",
       "    <tr>\n",
       "      <th>top</th>\n",
       "      <td>NaN</td>\n",
       "      <td>NaN</td>\n",
       "      <td>NaN</td>\n",
       "      <td>NaN</td>\n",
       "      <td>NaN</td>\n",
       "      <td>NaN</td>\n",
       "      <td>NaN</td>\n",
       "      <td>ford pinto</td>\n",
       "      <td>NaN</td>\n",
       "    </tr>\n",
       "    <tr>\n",
       "      <th>freq</th>\n",
       "      <td>NaN</td>\n",
       "      <td>NaN</td>\n",
       "      <td>NaN</td>\n",
       "      <td>NaN</td>\n",
       "      <td>NaN</td>\n",
       "      <td>NaN</td>\n",
       "      <td>NaN</td>\n",
       "      <td>6</td>\n",
       "      <td>NaN</td>\n",
       "    </tr>\n",
       "    <tr>\n",
       "      <th>mean</th>\n",
       "      <td>5.454774</td>\n",
       "      <td>3.169682</td>\n",
       "      <td>104.304020</td>\n",
       "      <td>2970.424623</td>\n",
       "      <td>15.568090</td>\n",
       "      <td>76.010050</td>\n",
       "      <td>1.572864</td>\n",
       "      <td>NaN</td>\n",
       "      <td>23.514573</td>\n",
       "    </tr>\n",
       "    <tr>\n",
       "      <th>std</th>\n",
       "      <td>1.701004</td>\n",
       "      <td>1.708677</td>\n",
       "      <td>38.222625</td>\n",
       "      <td>846.841774</td>\n",
       "      <td>2.757689</td>\n",
       "      <td>3.697627</td>\n",
       "      <td>0.802055</td>\n",
       "      <td>NaN</td>\n",
       "      <td>7.815984</td>\n",
       "    </tr>\n",
       "    <tr>\n",
       "      <th>min</th>\n",
       "      <td>3.000000</td>\n",
       "      <td>1.114320</td>\n",
       "      <td>46.000000</td>\n",
       "      <td>1613.000000</td>\n",
       "      <td>8.000000</td>\n",
       "      <td>70.000000</td>\n",
       "      <td>1.000000</td>\n",
       "      <td>NaN</td>\n",
       "      <td>9.000000</td>\n",
       "    </tr>\n",
       "    <tr>\n",
       "      <th>25%</th>\n",
       "      <td>4.000000</td>\n",
       "      <td>1.708351</td>\n",
       "      <td>76.000000</td>\n",
       "      <td>2223.750000</td>\n",
       "      <td>13.825000</td>\n",
       "      <td>73.000000</td>\n",
       "      <td>1.000000</td>\n",
       "      <td>NaN</td>\n",
       "      <td>17.500000</td>\n",
       "    </tr>\n",
       "    <tr>\n",
       "      <th>50%</th>\n",
       "      <td>4.000000</td>\n",
       "      <td>2.433479</td>\n",
       "      <td>93.500000</td>\n",
       "      <td>2803.500000</td>\n",
       "      <td>15.500000</td>\n",
       "      <td>76.000000</td>\n",
       "      <td>1.000000</td>\n",
       "      <td>NaN</td>\n",
       "      <td>23.000000</td>\n",
       "    </tr>\n",
       "    <tr>\n",
       "      <th>75%</th>\n",
       "      <td>8.000000</td>\n",
       "      <td>4.293411</td>\n",
       "      <td>125.000000</td>\n",
       "      <td>3608.000000</td>\n",
       "      <td>17.175000</td>\n",
       "      <td>79.000000</td>\n",
       "      <td>2.000000</td>\n",
       "      <td>NaN</td>\n",
       "      <td>29.000000</td>\n",
       "    </tr>\n",
       "    <tr>\n",
       "      <th>max</th>\n",
       "      <td>8.000000</td>\n",
       "      <td>7.456114</td>\n",
       "      <td>230.000000</td>\n",
       "      <td>5140.000000</td>\n",
       "      <td>24.800000</td>\n",
       "      <td>82.000000</td>\n",
       "      <td>3.000000</td>\n",
       "      <td>NaN</td>\n",
       "      <td>46.600000</td>\n",
       "    </tr>\n",
       "  </tbody>\n",
       "</table>\n",
       "</div>"
      ],
      "text/plain": [
       "         cylinders  displacement  horsepower       weight  acceleration  \\\n",
       "count   398.000000    398.000000  398.000000   398.000000    398.000000   \n",
       "unique         NaN           NaN         NaN          NaN           NaN   \n",
       "top            NaN           NaN         NaN          NaN           NaN   \n",
       "freq           NaN           NaN         NaN          NaN           NaN   \n",
       "mean      5.454774      3.169682  104.304020  2970.424623     15.568090   \n",
       "std       1.701004      1.708677   38.222625   846.841774      2.757689   \n",
       "min       3.000000      1.114320   46.000000  1613.000000      8.000000   \n",
       "25%       4.000000      1.708351   76.000000  2223.750000     13.825000   \n",
       "50%       4.000000      2.433479   93.500000  2803.500000     15.500000   \n",
       "75%       8.000000      4.293411  125.000000  3608.000000     17.175000   \n",
       "max       8.000000      7.456114  230.000000  5140.000000     24.800000   \n",
       "\n",
       "        model_year      origin    car_name         mpg  \n",
       "count   398.000000  398.000000         398  398.000000  \n",
       "unique         NaN         NaN         305         NaN  \n",
       "top            NaN         NaN  ford pinto         NaN  \n",
       "freq           NaN         NaN           6         NaN  \n",
       "mean     76.010050    1.572864         NaN   23.514573  \n",
       "std       3.697627    0.802055         NaN    7.815984  \n",
       "min      70.000000    1.000000         NaN    9.000000  \n",
       "25%      73.000000    1.000000         NaN   17.500000  \n",
       "50%      76.000000    1.000000         NaN   23.000000  \n",
       "75%      79.000000    2.000000         NaN   29.000000  \n",
       "max      82.000000    3.000000         NaN   46.600000  "
      ]
     },
     "execution_count": 35,
     "metadata": {},
     "output_type": "execute_result"
    }
   ],
   "source": [
    "data.describe(include='all')"
   ]
  },
  {
   "cell_type": "markdown",
   "metadata": {
    "slideshow": {
     "slide_type": "slide"
    }
   },
   "source": [
    "## 3.2 Handling Outliers\n",
    "\n",
    "-  There are **18 outliers** shared between <code>**horsepower**</code> and <code>**acceleration**</code>.\n",
    "\n",
    "-  Like missing values, outliers can be simply discarded as well (i.e., a process which is also known as **trimming** or **truncation**).\n",
    "\n",
    "-  Another approach is called **winsorizing** and consists of replacing outliers with a specified percentile of the data (e.g., a 90% winsorization would see all data below the 5th percentile set to the 5th percentile, and data above the 95th percentile set to the 95th percentile)."
   ]
  },
  {
   "cell_type": "code",
   "execution_count": 36,
   "metadata": {
    "slideshow": {
     "slide_type": "slide"
    }
   },
   "outputs": [
    {
     "name": "stdout",
     "output_type": "stream",
     "text": [
      "Length of a: 20\n",
      "Mean of a: 101.5\n",
      "Median of a: 68.0\n",
      "Sorted a: [ -40   -5   10   13   15   19   26   28   41   58   78   85   86   89   89\n",
      "   91   92  101  101 1053]\n",
      "5th percentile of a: -6.75\n",
      "95th percentile of a: 148.60\n",
      "Sorted a: [ -5  -5  10  13  15  19  26  28  41  58  78  85  86  89  89  91  92 101\n",
      " 101 101]\n"
     ]
    }
   ],
   "source": [
    "# Python can winsorize data using 'scipy.stats' module.\n",
    "# Example:\n",
    "a = pd.Series([92, 19, 101, 58, 1053, 91, 26, 78, 10, 13, -40, 101, 86, 85, 15, 89, 89, 28, -5, 41])\n",
    "print(\"Length of a: {}\".format(a.shape[0]))\n",
    "print(\"Mean of a: {}\".format(a.mean()))\n",
    "print(\"Median of a: {}\".format(a.median()))\n",
    "print(\"Sorted a: {}\".format(np.sort(a)))\n",
    "q_005, q_95 = a.quantile([0.05, 0.95])\n",
    "print(\"5th percentile of a: {:.2f}\".format(q_005))\n",
    "print(\"95th percentile of a: {:.2f}\".format(q_95))\n",
    "stats.mstats.winsorize(a, limits=0.05, inplace=True)\n",
    "print(\"Sorted a: {}\".format(np.sort(a)))"
   ]
  },
  {
   "cell_type": "code",
   "execution_count": 37,
   "metadata": {
    "slideshow": {
     "slide_type": "slide"
    }
   },
   "outputs": [],
   "source": [
    "# Let's winsorize 'horsepower' and 'acceleration'\n",
    "_ = stats.mstats.winsorize(data.horsepower, limits=0.0375, inplace=True)\n",
    "_ = stats.mstats.winsorize(data.acceleration, limits=0.0375, inplace=True)"
   ]
  },
  {
   "cell_type": "code",
   "execution_count": 38,
   "metadata": {
    "slideshow": {
     "slide_type": "slide"
    }
   },
   "outputs": [
    {
     "data": {
      "text/html": [
       "<div>\n",
       "<style scoped>\n",
       "    .dataframe tbody tr th:only-of-type {\n",
       "        vertical-align: middle;\n",
       "    }\n",
       "\n",
       "    .dataframe tbody tr th {\n",
       "        vertical-align: top;\n",
       "    }\n",
       "\n",
       "    .dataframe thead th {\n",
       "        text-align: right;\n",
       "    }\n",
       "</style>\n",
       "<table border=\"1\" class=\"dataframe\">\n",
       "  <thead>\n",
       "    <tr style=\"text-align: right;\">\n",
       "      <th></th>\n",
       "      <th>cylinders</th>\n",
       "      <th>displacement</th>\n",
       "      <th>horsepower</th>\n",
       "      <th>weight</th>\n",
       "      <th>acceleration</th>\n",
       "      <th>model_year</th>\n",
       "      <th>origin</th>\n",
       "      <th>car_name</th>\n",
       "      <th>mpg</th>\n",
       "    </tr>\n",
       "  </thead>\n",
       "  <tbody>\n",
       "    <tr>\n",
       "      <th>count</th>\n",
       "      <td>398.000000</td>\n",
       "      <td>398.000000</td>\n",
       "      <td>398.000000</td>\n",
       "      <td>398.000000</td>\n",
       "      <td>398.000000</td>\n",
       "      <td>398.000000</td>\n",
       "      <td>398.000000</td>\n",
       "      <td>398</td>\n",
       "      <td>398.000000</td>\n",
       "    </tr>\n",
       "    <tr>\n",
       "      <th>unique</th>\n",
       "      <td>NaN</td>\n",
       "      <td>NaN</td>\n",
       "      <td>NaN</td>\n",
       "      <td>NaN</td>\n",
       "      <td>NaN</td>\n",
       "      <td>NaN</td>\n",
       "      <td>NaN</td>\n",
       "      <td>305</td>\n",
       "      <td>NaN</td>\n",
       "    </tr>\n",
       "    <tr>\n",
       "      <th>top</th>\n",
       "      <td>NaN</td>\n",
       "      <td>NaN</td>\n",
       "      <td>NaN</td>\n",
       "      <td>NaN</td>\n",
       "      <td>NaN</td>\n",
       "      <td>NaN</td>\n",
       "      <td>NaN</td>\n",
       "      <td>ford pinto</td>\n",
       "      <td>NaN</td>\n",
       "    </tr>\n",
       "    <tr>\n",
       "      <th>freq</th>\n",
       "      <td>NaN</td>\n",
       "      <td>NaN</td>\n",
       "      <td>NaN</td>\n",
       "      <td>NaN</td>\n",
       "      <td>NaN</td>\n",
       "      <td>NaN</td>\n",
       "      <td>NaN</td>\n",
       "      <td>6</td>\n",
       "      <td>NaN</td>\n",
       "    </tr>\n",
       "    <tr>\n",
       "      <th>mean</th>\n",
       "      <td>5.454774</td>\n",
       "      <td>3.169682</td>\n",
       "      <td>103.761307</td>\n",
       "      <td>2970.424623</td>\n",
       "      <td>15.564322</td>\n",
       "      <td>76.010050</td>\n",
       "      <td>1.572864</td>\n",
       "      <td>NaN</td>\n",
       "      <td>23.514573</td>\n",
       "    </tr>\n",
       "    <tr>\n",
       "      <th>std</th>\n",
       "      <td>1.701004</td>\n",
       "      <td>1.708677</td>\n",
       "      <td>35.712003</td>\n",
       "      <td>846.841774</td>\n",
       "      <td>2.544987</td>\n",
       "      <td>3.697627</td>\n",
       "      <td>0.802055</td>\n",
       "      <td>NaN</td>\n",
       "      <td>7.815984</td>\n",
       "    </tr>\n",
       "    <tr>\n",
       "      <th>min</th>\n",
       "      <td>3.000000</td>\n",
       "      <td>1.114320</td>\n",
       "      <td>58.000000</td>\n",
       "      <td>1613.000000</td>\n",
       "      <td>11.000000</td>\n",
       "      <td>70.000000</td>\n",
       "      <td>1.000000</td>\n",
       "      <td>NaN</td>\n",
       "      <td>9.000000</td>\n",
       "    </tr>\n",
       "    <tr>\n",
       "      <th>25%</th>\n",
       "      <td>4.000000</td>\n",
       "      <td>1.708351</td>\n",
       "      <td>76.000000</td>\n",
       "      <td>2223.750000</td>\n",
       "      <td>13.825000</td>\n",
       "      <td>73.000000</td>\n",
       "      <td>1.000000</td>\n",
       "      <td>NaN</td>\n",
       "      <td>17.500000</td>\n",
       "    </tr>\n",
       "    <tr>\n",
       "      <th>50%</th>\n",
       "      <td>4.000000</td>\n",
       "      <td>2.433479</td>\n",
       "      <td>93.500000</td>\n",
       "      <td>2803.500000</td>\n",
       "      <td>15.500000</td>\n",
       "      <td>76.000000</td>\n",
       "      <td>1.000000</td>\n",
       "      <td>NaN</td>\n",
       "      <td>23.000000</td>\n",
       "    </tr>\n",
       "    <tr>\n",
       "      <th>75%</th>\n",
       "      <td>8.000000</td>\n",
       "      <td>4.293411</td>\n",
       "      <td>125.000000</td>\n",
       "      <td>3608.000000</td>\n",
       "      <td>17.175000</td>\n",
       "      <td>79.000000</td>\n",
       "      <td>2.000000</td>\n",
       "      <td>NaN</td>\n",
       "      <td>29.000000</td>\n",
       "    </tr>\n",
       "    <tr>\n",
       "      <th>max</th>\n",
       "      <td>8.000000</td>\n",
       "      <td>7.456114</td>\n",
       "      <td>190.000000</td>\n",
       "      <td>5140.000000</td>\n",
       "      <td>21.000000</td>\n",
       "      <td>82.000000</td>\n",
       "      <td>3.000000</td>\n",
       "      <td>NaN</td>\n",
       "      <td>46.600000</td>\n",
       "    </tr>\n",
       "  </tbody>\n",
       "</table>\n",
       "</div>"
      ],
      "text/plain": [
       "         cylinders  displacement  horsepower       weight  acceleration  \\\n",
       "count   398.000000    398.000000  398.000000   398.000000    398.000000   \n",
       "unique         NaN           NaN         NaN          NaN           NaN   \n",
       "top            NaN           NaN         NaN          NaN           NaN   \n",
       "freq           NaN           NaN         NaN          NaN           NaN   \n",
       "mean      5.454774      3.169682  103.761307  2970.424623     15.564322   \n",
       "std       1.701004      1.708677   35.712003   846.841774      2.544987   \n",
       "min       3.000000      1.114320   58.000000  1613.000000     11.000000   \n",
       "25%       4.000000      1.708351   76.000000  2223.750000     13.825000   \n",
       "50%       4.000000      2.433479   93.500000  2803.500000     15.500000   \n",
       "75%       8.000000      4.293411  125.000000  3608.000000     17.175000   \n",
       "max       8.000000      7.456114  190.000000  5140.000000     21.000000   \n",
       "\n",
       "        model_year      origin    car_name         mpg  \n",
       "count   398.000000  398.000000         398  398.000000  \n",
       "unique         NaN         NaN         305         NaN  \n",
       "top            NaN         NaN  ford pinto         NaN  \n",
       "freq           NaN         NaN           6         NaN  \n",
       "mean     76.010050    1.572864         NaN   23.514573  \n",
       "std       3.697627    0.802055         NaN    7.815984  \n",
       "min      70.000000    1.000000         NaN    9.000000  \n",
       "25%      73.000000    1.000000         NaN   17.500000  \n",
       "50%      76.000000    1.000000         NaN   23.000000  \n",
       "75%      79.000000    2.000000         NaN   29.000000  \n",
       "max      82.000000    3.000000         NaN   46.600000  "
      ]
     },
     "execution_count": 38,
     "metadata": {},
     "output_type": "execute_result"
    }
   ],
   "source": [
    "data.describe(include='all')"
   ]
  },
  {
   "cell_type": "code",
   "execution_count": 39,
   "metadata": {
    "slideshow": {
     "slide_type": "slide"
    }
   },
   "outputs": [
    {
     "data": {
      "image/png": "[encoded data removed]",
      "text/plain": [
       "<matplotlib.figure.Figure at 0x112f2cf98>"
      ]
     },
     "metadata": {},
     "output_type": "display_data"
    }
   ],
   "source": [
    "# Let's verify the outliers are actually gone\n",
    "fig, axes = plt.subplots(2, 2, figsize=(10,12))\n",
    "y_labeler(axes)\n",
    "_ = sns.boxplot(data.displacement, color='#808080', ax=axes[0,0])\n",
    "_ = sns.boxplot(data.horsepower, color='#df2020', ax=axes[0,1])\n",
    "_ = sns.boxplot(data.weight, color='#0033cc', ax=axes[1,0])\n",
    "_ = sns.boxplot(data.acceleration, color='#009933', ax=axes[1,1])\n",
    "plt.subplots_adjust(wspace=.3, hspace=.3)"
   ]
  },
  {
   "cell_type": "markdown",
   "metadata": {
    "slideshow": {
     "slide_type": "slide"
    }
   },
   "source": [
    "## 3.3 Encoding Categorical Features\n",
    "\n",
    "-  Categorical variables are typically stored as text values which represent various traits. \n",
    "\n",
    "-  Some examples include <code>**color**</code> = {\"Red\", \"Yellow\", \"Blue\"), <code>**size**</code> =  (\"Small\", \"Medium\", \"Large\"), etc.\n",
    "\n",
    "-  Many ML algorithms can support categorical values without further manipulation but there are many others that do not. \n",
    "\n",
    "-  Therefore, the analyst is faced with the challenge of figuring out how to turn these text attributes into **numerical values** for further processing."
   ]
  },
  {
   "cell_type": "markdown",
   "metadata": {
    "slideshow": {
     "slide_type": "slide"
    }
   },
   "source": [
    "## Approach 1: Label Encoding\n",
    "\n",
    "-  Label encoding is simply converting each value in a column to a number. \n",
    "\n",
    "-  For example, the <code>**model_year**</code> column contains 13 different values. We could choose to encode it like this:\n",
    "\n",
    "```python\n",
    "70 --> 0\n",
    "71 --> 1\n",
    "72 --> 2\n",
    "...\n",
    "```"
   ]
  },
  {
   "cell_type": "markdown",
   "metadata": {
    "slideshow": {
     "slide_type": "slide"
    }
   },
   "source": [
    "## Approach 2: One-Hot Encoding\n",
    "\n",
    "-  Label encoding is straightforward but it has the disadvantage that numeric values can be \"misinterpreted\" by the learning algorithms. \n",
    "\n",
    "-  For example, the value of 0 is obviously less than the value of 4 but is that what we really aim for? For example, does a vehicle from 1974 have \"4x\" more weight than one from 1971?\n",
    "\n",
    "-  A common alternative approach is called **one hot encoding**. Here, the basic strategy is to convert each category value into a new column and assigns a 1 or 0 (True/False) value to the column. \n",
    "\n",
    "-  This has the benefit of not weighting a value improperly but does have the downside of adding more columns to the data set."
   ]
  },
  {
   "cell_type": "code",
   "execution_count": 40,
   "metadata": {
    "scrolled": true,
    "slideshow": {
     "slide_type": "slide"
    }
   },
   "outputs": [
    {
     "data": {
      "text/html": [
       "<div>\n",
       "<style scoped>\n",
       "    .dataframe tbody tr th:only-of-type {\n",
       "        vertical-align: middle;\n",
       "    }\n",
       "\n",
       "    .dataframe tbody tr th {\n",
       "        vertical-align: top;\n",
       "    }\n",
       "\n",
       "    .dataframe thead th {\n",
       "        text-align: right;\n",
       "    }\n",
       "</style>\n",
       "<table border=\"1\" class=\"dataframe\">\n",
       "  <thead>\n",
       "    <tr style=\"text-align: right;\">\n",
       "      <th></th>\n",
       "      <th>displacement</th>\n",
       "      <th>horsepower</th>\n",
       "      <th>weight</th>\n",
       "      <th>acceleration</th>\n",
       "      <th>car_name</th>\n",
       "      <th>mpg</th>\n",
       "      <th>cylinders_3</th>\n",
       "      <th>cylinders_4</th>\n",
       "      <th>cylinders_5</th>\n",
       "      <th>cylinders_6</th>\n",
       "      <th>...</th>\n",
       "      <th>model_year_76</th>\n",
       "      <th>model_year_77</th>\n",
       "      <th>model_year_78</th>\n",
       "      <th>model_year_79</th>\n",
       "      <th>model_year_80</th>\n",
       "      <th>model_year_81</th>\n",
       "      <th>model_year_82</th>\n",
       "      <th>origin_1</th>\n",
       "      <th>origin_2</th>\n",
       "      <th>origin_3</th>\n",
       "    </tr>\n",
       "  </thead>\n",
       "  <tbody>\n",
       "    <tr>\n",
       "      <th>0</th>\n",
       "      <td>5.030829</td>\n",
       "      <td>130.0</td>\n",
       "      <td>3504.0</td>\n",
       "      <td>12.0</td>\n",
       "      <td>chevrolet chevelle malibu</td>\n",
       "      <td>18.0</td>\n",
       "      <td>0</td>\n",
       "      <td>0</td>\n",
       "      <td>0</td>\n",
       "      <td>0</td>\n",
       "      <td>...</td>\n",
       "      <td>0</td>\n",
       "      <td>0</td>\n",
       "      <td>0</td>\n",
       "      <td>0</td>\n",
       "      <td>0</td>\n",
       "      <td>0</td>\n",
       "      <td>0</td>\n",
       "      <td>1</td>\n",
       "      <td>0</td>\n",
       "      <td>0</td>\n",
       "    </tr>\n",
       "    <tr>\n",
       "      <th>1</th>\n",
       "      <td>5.735472</td>\n",
       "      <td>165.0</td>\n",
       "      <td>3693.0</td>\n",
       "      <td>11.5</td>\n",
       "      <td>buick skylark 320</td>\n",
       "      <td>15.0</td>\n",
       "      <td>0</td>\n",
       "      <td>0</td>\n",
       "      <td>0</td>\n",
       "      <td>0</td>\n",
       "      <td>...</td>\n",
       "      <td>0</td>\n",
       "      <td>0</td>\n",
       "      <td>0</td>\n",
       "      <td>0</td>\n",
       "      <td>0</td>\n",
       "      <td>0</td>\n",
       "      <td>0</td>\n",
       "      <td>1</td>\n",
       "      <td>0</td>\n",
       "      <td>0</td>\n",
       "    </tr>\n",
       "    <tr>\n",
       "      <th>2</th>\n",
       "      <td>5.211086</td>\n",
       "      <td>150.0</td>\n",
       "      <td>3436.0</td>\n",
       "      <td>11.0</td>\n",
       "      <td>plymouth satellite</td>\n",
       "      <td>18.0</td>\n",
       "      <td>0</td>\n",
       "      <td>0</td>\n",
       "      <td>0</td>\n",
       "      <td>0</td>\n",
       "      <td>...</td>\n",
       "      <td>0</td>\n",
       "      <td>0</td>\n",
       "      <td>0</td>\n",
       "      <td>0</td>\n",
       "      <td>0</td>\n",
       "      <td>0</td>\n",
       "      <td>0</td>\n",
       "      <td>1</td>\n",
       "      <td>0</td>\n",
       "      <td>0</td>\n",
       "    </tr>\n",
       "    <tr>\n",
       "      <th>3</th>\n",
       "      <td>4.981667</td>\n",
       "      <td>150.0</td>\n",
       "      <td>3433.0</td>\n",
       "      <td>12.0</td>\n",
       "      <td>amc rebel sst</td>\n",
       "      <td>16.0</td>\n",
       "      <td>0</td>\n",
       "      <td>0</td>\n",
       "      <td>0</td>\n",
       "      <td>0</td>\n",
       "      <td>...</td>\n",
       "      <td>0</td>\n",
       "      <td>0</td>\n",
       "      <td>0</td>\n",
       "      <td>0</td>\n",
       "      <td>0</td>\n",
       "      <td>0</td>\n",
       "      <td>0</td>\n",
       "      <td>1</td>\n",
       "      <td>0</td>\n",
       "      <td>0</td>\n",
       "    </tr>\n",
       "    <tr>\n",
       "      <th>4</th>\n",
       "      <td>4.948893</td>\n",
       "      <td>140.0</td>\n",
       "      <td>3449.0</td>\n",
       "      <td>11.0</td>\n",
       "      <td>ford torino</td>\n",
       "      <td>17.0</td>\n",
       "      <td>0</td>\n",
       "      <td>0</td>\n",
       "      <td>0</td>\n",
       "      <td>0</td>\n",
       "      <td>...</td>\n",
       "      <td>0</td>\n",
       "      <td>0</td>\n",
       "      <td>0</td>\n",
       "      <td>0</td>\n",
       "      <td>0</td>\n",
       "      <td>0</td>\n",
       "      <td>0</td>\n",
       "      <td>1</td>\n",
       "      <td>0</td>\n",
       "      <td>0</td>\n",
       "    </tr>\n",
       "  </tbody>\n",
       "</table>\n",
       "<p>5 rows × 27 columns</p>\n",
       "</div>"
      ],
      "text/plain": [
       "   displacement  horsepower  weight  acceleration                   car_name  \\\n",
       "0      5.030829       130.0  3504.0          12.0  chevrolet chevelle malibu   \n",
       "1      5.735472       165.0  3693.0          11.5          buick skylark 320   \n",
       "2      5.211086       150.0  3436.0          11.0         plymouth satellite   \n",
       "3      4.981667       150.0  3433.0          12.0              amc rebel sst   \n",
       "4      4.948893       140.0  3449.0          11.0                ford torino   \n",
       "\n",
       "    mpg  cylinders_3  cylinders_4  cylinders_5  cylinders_6    ...     \\\n",
       "0  18.0            0            0            0            0    ...      \n",
       "1  15.0            0            0            0            0    ...      \n",
       "2  18.0            0            0            0            0    ...      \n",
       "3  16.0            0            0            0            0    ...      \n",
       "4  17.0            0            0            0            0    ...      \n",
       "\n",
       "   model_year_76  model_year_77  model_year_78  model_year_79  model_year_80  \\\n",
       "0              0              0              0              0              0   \n",
       "1              0              0              0              0              0   \n",
       "2              0              0              0              0              0   \n",
       "3              0              0              0              0              0   \n",
       "4              0              0              0              0              0   \n",
       "\n",
       "   model_year_81  model_year_82  origin_1  origin_2  origin_3  \n",
       "0              0              0         1         0         0  \n",
       "1              0              0         1         0         0  \n",
       "2              0              0         1         0         0  \n",
       "3              0              0         1         0         0  \n",
       "4              0              0         1         0         0  \n",
       "\n",
       "[5 rows x 27 columns]"
      ]
     },
     "execution_count": 40,
     "metadata": {},
     "output_type": "execute_result"
    }
   ],
   "source": [
    "# In pandas we can achieve easily one-hot encoding using the 'get_dummies()' function\n",
    "categorical_features = ['cylinders', 'model_year', 'origin']\n",
    "data_with_dummies = pd.get_dummies(data, columns = categorical_features)\n",
    "data_with_dummies.head()"
   ]
  },
  {
   "cell_type": "code",
   "execution_count": 41,
   "metadata": {
    "slideshow": {
     "slide_type": "slide"
    }
   },
   "outputs": [
    {
     "data": {
      "text/html": [
       "<div>\n",
       "<style scoped>\n",
       "    .dataframe tbody tr th:only-of-type {\n",
       "        vertical-align: middle;\n",
       "    }\n",
       "\n",
       "    .dataframe tbody tr th {\n",
       "        vertical-align: top;\n",
       "    }\n",
       "\n",
       "    .dataframe thead th {\n",
       "        text-align: right;\n",
       "    }\n",
       "</style>\n",
       "<table border=\"1\" class=\"dataframe\">\n",
       "  <thead>\n",
       "    <tr style=\"text-align: right;\">\n",
       "      <th></th>\n",
       "      <th>displacement</th>\n",
       "      <th>horsepower</th>\n",
       "      <th>weight</th>\n",
       "      <th>acceleration</th>\n",
       "      <th>car_name</th>\n",
       "      <th>cylinders_3</th>\n",
       "      <th>cylinders_4</th>\n",
       "      <th>cylinders_5</th>\n",
       "      <th>cylinders_6</th>\n",
       "      <th>cylinders_8</th>\n",
       "      <th>...</th>\n",
       "      <th>model_year_77</th>\n",
       "      <th>model_year_78</th>\n",
       "      <th>model_year_79</th>\n",
       "      <th>model_year_80</th>\n",
       "      <th>model_year_81</th>\n",
       "      <th>model_year_82</th>\n",
       "      <th>origin_1</th>\n",
       "      <th>origin_2</th>\n",
       "      <th>origin_3</th>\n",
       "      <th>mpg</th>\n",
       "    </tr>\n",
       "  </thead>\n",
       "  <tbody>\n",
       "    <tr>\n",
       "      <th>0</th>\n",
       "      <td>5.030829</td>\n",
       "      <td>130.0</td>\n",
       "      <td>3504.0</td>\n",
       "      <td>12.0</td>\n",
       "      <td>chevrolet chevelle malibu</td>\n",
       "      <td>0</td>\n",
       "      <td>0</td>\n",
       "      <td>0</td>\n",
       "      <td>0</td>\n",
       "      <td>1</td>\n",
       "      <td>...</td>\n",
       "      <td>0</td>\n",
       "      <td>0</td>\n",
       "      <td>0</td>\n",
       "      <td>0</td>\n",
       "      <td>0</td>\n",
       "      <td>0</td>\n",
       "      <td>1</td>\n",
       "      <td>0</td>\n",
       "      <td>0</td>\n",
       "      <td>18.0</td>\n",
       "    </tr>\n",
       "    <tr>\n",
       "      <th>1</th>\n",
       "      <td>5.735472</td>\n",
       "      <td>165.0</td>\n",
       "      <td>3693.0</td>\n",
       "      <td>11.5</td>\n",
       "      <td>buick skylark 320</td>\n",
       "      <td>0</td>\n",
       "      <td>0</td>\n",
       "      <td>0</td>\n",
       "      <td>0</td>\n",
       "      <td>1</td>\n",
       "      <td>...</td>\n",
       "      <td>0</td>\n",
       "      <td>0</td>\n",
       "      <td>0</td>\n",
       "      <td>0</td>\n",
       "      <td>0</td>\n",
       "      <td>0</td>\n",
       "      <td>1</td>\n",
       "      <td>0</td>\n",
       "      <td>0</td>\n",
       "      <td>15.0</td>\n",
       "    </tr>\n",
       "    <tr>\n",
       "      <th>2</th>\n",
       "      <td>5.211086</td>\n",
       "      <td>150.0</td>\n",
       "      <td>3436.0</td>\n",
       "      <td>11.0</td>\n",
       "      <td>plymouth satellite</td>\n",
       "      <td>0</td>\n",
       "      <td>0</td>\n",
       "      <td>0</td>\n",
       "      <td>0</td>\n",
       "      <td>1</td>\n",
       "      <td>...</td>\n",
       "      <td>0</td>\n",
       "      <td>0</td>\n",
       "      <td>0</td>\n",
       "      <td>0</td>\n",
       "      <td>0</td>\n",
       "      <td>0</td>\n",
       "      <td>1</td>\n",
       "      <td>0</td>\n",
       "      <td>0</td>\n",
       "      <td>18.0</td>\n",
       "    </tr>\n",
       "    <tr>\n",
       "      <th>3</th>\n",
       "      <td>4.981667</td>\n",
       "      <td>150.0</td>\n",
       "      <td>3433.0</td>\n",
       "      <td>12.0</td>\n",
       "      <td>amc rebel sst</td>\n",
       "      <td>0</td>\n",
       "      <td>0</td>\n",
       "      <td>0</td>\n",
       "      <td>0</td>\n",
       "      <td>1</td>\n",
       "      <td>...</td>\n",
       "      <td>0</td>\n",
       "      <td>0</td>\n",
       "      <td>0</td>\n",
       "      <td>0</td>\n",
       "      <td>0</td>\n",
       "      <td>0</td>\n",
       "      <td>1</td>\n",
       "      <td>0</td>\n",
       "      <td>0</td>\n",
       "      <td>16.0</td>\n",
       "    </tr>\n",
       "    <tr>\n",
       "      <th>4</th>\n",
       "      <td>4.948893</td>\n",
       "      <td>140.0</td>\n",
       "      <td>3449.0</td>\n",
       "      <td>11.0</td>\n",
       "      <td>ford torino</td>\n",
       "      <td>0</td>\n",
       "      <td>0</td>\n",
       "      <td>0</td>\n",
       "      <td>0</td>\n",
       "      <td>1</td>\n",
       "      <td>...</td>\n",
       "      <td>0</td>\n",
       "      <td>0</td>\n",
       "      <td>0</td>\n",
       "      <td>0</td>\n",
       "      <td>0</td>\n",
       "      <td>0</td>\n",
       "      <td>1</td>\n",
       "      <td>0</td>\n",
       "      <td>0</td>\n",
       "      <td>17.0</td>\n",
       "    </tr>\n",
       "  </tbody>\n",
       "</table>\n",
       "<p>5 rows × 27 columns</p>\n",
       "</div>"
      ],
      "text/plain": [
       "   displacement  horsepower  weight  acceleration                   car_name  \\\n",
       "0      5.030829       130.0  3504.0          12.0  chevrolet chevelle malibu   \n",
       "1      5.735472       165.0  3693.0          11.5          buick skylark 320   \n",
       "2      5.211086       150.0  3436.0          11.0         plymouth satellite   \n",
       "3      4.981667       150.0  3433.0          12.0              amc rebel sst   \n",
       "4      4.948893       140.0  3449.0          11.0                ford torino   \n",
       "\n",
       "   cylinders_3  cylinders_4  cylinders_5  cylinders_6  cylinders_8  ...   \\\n",
       "0            0            0            0            0            1  ...    \n",
       "1            0            0            0            0            1  ...    \n",
       "2            0            0            0            0            1  ...    \n",
       "3            0            0            0            0            1  ...    \n",
       "4            0            0            0            0            1  ...    \n",
       "\n",
       "   model_year_77  model_year_78  model_year_79  model_year_80  model_year_81  \\\n",
       "0              0              0              0              0              0   \n",
       "1              0              0              0              0              0   \n",
       "2              0              0              0              0              0   \n",
       "3              0              0              0              0              0   \n",
       "4              0              0              0              0              0   \n",
       "\n",
       "   model_year_82  origin_1  origin_2  origin_3   mpg  \n",
       "0              0         1         0         0  18.0  \n",
       "1              0         1         0         0  15.0  \n",
       "2              0         1         0         0  18.0  \n",
       "3              0         1         0         0  16.0  \n",
       "4              0         1         0         0  17.0  \n",
       "\n",
       "[5 rows x 27 columns]"
      ]
     },
     "execution_count": 41,
     "metadata": {},
     "output_type": "execute_result"
    }
   ],
   "source": [
    "# Just as a convention, I prefer to place the column to be predicted\n",
    "# as the last one.\n",
    "columns = data_with_dummies.columns.tolist()\n",
    "# Popping out 'mpg' from the list and insert it back at the end.\n",
    "columns.insert(len(columns), columns.pop(columns.index('mpg')))\n",
    "# Let's refactor the DataFrame using this new column index\n",
    "data_with_dummies = data_with_dummies.loc[:, columns]\n",
    "data_with_dummies.head()"
   ]
  },
  {
   "cell_type": "code",
   "execution_count": 42,
   "metadata": {
    "slideshow": {
     "slide_type": "slide"
    }
   },
   "outputs": [
    {
     "data": {
      "text/plain": [
       "ford pinto                              6\n",
       "ford maverick                           5\n",
       "toyota corolla                          5\n",
       "amc matador                             5\n",
       "chevrolet impala                        4\n",
       "chevrolet chevette                      4\n",
       "amc gremlin                             4\n",
       "peugeot 504                             4\n",
       "toyota corona                           4\n",
       "amc hornet                              4\n",
       "pontiac catalina                        3\n",
       "plymouth fury iii                       3\n",
       "chevrolet nova                          3\n",
       "chevrolet caprice classic               3\n",
       "dodge colt                              3\n",
       "ford galaxie 500                        3\n",
       "honda civic                             3\n",
       "ford gran torino                        3\n",
       "chevrolet vega                          3\n",
       "volkswagen dasher                       3\n",
       "plymouth duster                         3\n",
       "chevrolet citation                      3\n",
       "saab 99le                               2\n",
       "opel 1900                               2\n",
       "buick skylark                           2\n",
       "dodge aspen                             2\n",
       "datsun 210                              2\n",
       "chevrolet malibu                        2\n",
       "fiat 128                                2\n",
       "buick century                           2\n",
       "                                       ..\n",
       "triumph tr7 coupe                       1\n",
       "ford mustang gl                         1\n",
       "chrysler lebaron town @ country (sw)    1\n",
       "fiat x1.9                               1\n",
       "chevrolet vega 2300                     1\n",
       "ford fairmont futura                    1\n",
       "plymouth champ                          1\n",
       "toyota celica gt liftback               1\n",
       "plymouth volare custom                  1\n",
       "ford f108                               1\n",
       "mercury marquis brougham                1\n",
       "plymouth satellite custom               1\n",
       "datsun 810                              1\n",
       "amc concord dl                          1\n",
       "ford pinto (sw)                         1\n",
       "volkswagen model 111                    1\n",
       "plymouth 'cuda 340                      1\n",
       "datsun 200-sx                           1\n",
       "ford ranger                             1\n",
       "mercury marquis                         1\n",
       "mercury cougar brougham                 1\n",
       "hi 1200d                                1\n",
       "amc pacer                               1\n",
       "volvo 264gl                             1\n",
       "dodge omni                              1\n",
       "ford mustang ii 2+2                     1\n",
       "toyota cressida                         1\n",
       "honda prelude                           1\n",
       "bmw 320i                                1\n",
       "buick skylark 320                       1\n",
       "Name: car_name, Length: 305, dtype: int64"
      ]
     },
     "execution_count": 42,
     "metadata": {},
     "output_type": "execute_result"
    }
   ],
   "source": [
    "# The categorical variable 'car_name' contains a lot of different values.\n",
    "# Using one-hot encoding might lead to a very sparse dataset, as we need\n",
    "# to map a single column to 305 columns!\n",
    "data_with_dummies.car_name.value_counts()"
   ]
  },
  {
   "cell_type": "code",
   "execution_count": 43,
   "metadata": {
    "slideshow": {
     "slide_type": "slide"
    }
   },
   "outputs": [
    {
     "data": {
      "text/html": [
       "<div>\n",
       "<style scoped>\n",
       "    .dataframe tbody tr th:only-of-type {\n",
       "        vertical-align: middle;\n",
       "    }\n",
       "\n",
       "    .dataframe tbody tr th {\n",
       "        vertical-align: top;\n",
       "    }\n",
       "\n",
       "    .dataframe thead th {\n",
       "        text-align: right;\n",
       "    }\n",
       "</style>\n",
       "<table border=\"1\" class=\"dataframe\">\n",
       "  <thead>\n",
       "    <tr style=\"text-align: right;\">\n",
       "      <th></th>\n",
       "      <th>displacement</th>\n",
       "      <th>horsepower</th>\n",
       "      <th>weight</th>\n",
       "      <th>acceleration</th>\n",
       "      <th>car_name</th>\n",
       "      <th>cylinders_3</th>\n",
       "      <th>cylinders_4</th>\n",
       "      <th>cylinders_5</th>\n",
       "      <th>cylinders_6</th>\n",
       "      <th>cylinders_8</th>\n",
       "      <th>...</th>\n",
       "      <th>model_year_78</th>\n",
       "      <th>model_year_79</th>\n",
       "      <th>model_year_80</th>\n",
       "      <th>model_year_81</th>\n",
       "      <th>model_year_82</th>\n",
       "      <th>origin_1</th>\n",
       "      <th>origin_2</th>\n",
       "      <th>origin_3</th>\n",
       "      <th>mpg</th>\n",
       "      <th>automaker_name</th>\n",
       "    </tr>\n",
       "  </thead>\n",
       "  <tbody>\n",
       "    <tr>\n",
       "      <th>0</th>\n",
       "      <td>5.030829</td>\n",
       "      <td>130.0</td>\n",
       "      <td>3504.0</td>\n",
       "      <td>12.0</td>\n",
       "      <td>chevrolet chevelle malibu</td>\n",
       "      <td>0</td>\n",
       "      <td>0</td>\n",
       "      <td>0</td>\n",
       "      <td>0</td>\n",
       "      <td>1</td>\n",
       "      <td>...</td>\n",
       "      <td>0</td>\n",
       "      <td>0</td>\n",
       "      <td>0</td>\n",
       "      <td>0</td>\n",
       "      <td>0</td>\n",
       "      <td>1</td>\n",
       "      <td>0</td>\n",
       "      <td>0</td>\n",
       "      <td>18.0</td>\n",
       "      <td>chevrolet</td>\n",
       "    </tr>\n",
       "    <tr>\n",
       "      <th>1</th>\n",
       "      <td>5.735472</td>\n",
       "      <td>165.0</td>\n",
       "      <td>3693.0</td>\n",
       "      <td>11.5</td>\n",
       "      <td>buick skylark 320</td>\n",
       "      <td>0</td>\n",
       "      <td>0</td>\n",
       "      <td>0</td>\n",
       "      <td>0</td>\n",
       "      <td>1</td>\n",
       "      <td>...</td>\n",
       "      <td>0</td>\n",
       "      <td>0</td>\n",
       "      <td>0</td>\n",
       "      <td>0</td>\n",
       "      <td>0</td>\n",
       "      <td>1</td>\n",
       "      <td>0</td>\n",
       "      <td>0</td>\n",
       "      <td>15.0</td>\n",
       "      <td>buick</td>\n",
       "    </tr>\n",
       "    <tr>\n",
       "      <th>2</th>\n",
       "      <td>5.211086</td>\n",
       "      <td>150.0</td>\n",
       "      <td>3436.0</td>\n",
       "      <td>11.0</td>\n",
       "      <td>plymouth satellite</td>\n",
       "      <td>0</td>\n",
       "      <td>0</td>\n",
       "      <td>0</td>\n",
       "      <td>0</td>\n",
       "      <td>1</td>\n",
       "      <td>...</td>\n",
       "      <td>0</td>\n",
       "      <td>0</td>\n",
       "      <td>0</td>\n",
       "      <td>0</td>\n",
       "      <td>0</td>\n",
       "      <td>1</td>\n",
       "      <td>0</td>\n",
       "      <td>0</td>\n",
       "      <td>18.0</td>\n",
       "      <td>plymouth</td>\n",
       "    </tr>\n",
       "    <tr>\n",
       "      <th>3</th>\n",
       "      <td>4.981667</td>\n",
       "      <td>150.0</td>\n",
       "      <td>3433.0</td>\n",
       "      <td>12.0</td>\n",
       "      <td>amc rebel sst</td>\n",
       "      <td>0</td>\n",
       "      <td>0</td>\n",
       "      <td>0</td>\n",
       "      <td>0</td>\n",
       "      <td>1</td>\n",
       "      <td>...</td>\n",
       "      <td>0</td>\n",
       "      <td>0</td>\n",
       "      <td>0</td>\n",
       "      <td>0</td>\n",
       "      <td>0</td>\n",
       "      <td>1</td>\n",
       "      <td>0</td>\n",
       "      <td>0</td>\n",
       "      <td>16.0</td>\n",
       "      <td>amc</td>\n",
       "    </tr>\n",
       "    <tr>\n",
       "      <th>4</th>\n",
       "      <td>4.948893</td>\n",
       "      <td>140.0</td>\n",
       "      <td>3449.0</td>\n",
       "      <td>11.0</td>\n",
       "      <td>ford torino</td>\n",
       "      <td>0</td>\n",
       "      <td>0</td>\n",
       "      <td>0</td>\n",
       "      <td>0</td>\n",
       "      <td>1</td>\n",
       "      <td>...</td>\n",
       "      <td>0</td>\n",
       "      <td>0</td>\n",
       "      <td>0</td>\n",
       "      <td>0</td>\n",
       "      <td>0</td>\n",
       "      <td>1</td>\n",
       "      <td>0</td>\n",
       "      <td>0</td>\n",
       "      <td>17.0</td>\n",
       "      <td>ford</td>\n",
       "    </tr>\n",
       "  </tbody>\n",
       "</table>\n",
       "<p>5 rows × 28 columns</p>\n",
       "</div>"
      ],
      "text/plain": [
       "   displacement  horsepower  weight  acceleration                   car_name  \\\n",
       "0      5.030829       130.0  3504.0          12.0  chevrolet chevelle malibu   \n",
       "1      5.735472       165.0  3693.0          11.5          buick skylark 320   \n",
       "2      5.211086       150.0  3436.0          11.0         plymouth satellite   \n",
       "3      4.981667       150.0  3433.0          12.0              amc rebel sst   \n",
       "4      4.948893       140.0  3449.0          11.0                ford torino   \n",
       "\n",
       "   cylinders_3  cylinders_4  cylinders_5  cylinders_6  cylinders_8  \\\n",
       "0            0            0            0            0            1   \n",
       "1            0            0            0            0            1   \n",
       "2            0            0            0            0            1   \n",
       "3            0            0            0            0            1   \n",
       "4            0            0            0            0            1   \n",
       "\n",
       "        ...        model_year_78  model_year_79  model_year_80  model_year_81  \\\n",
       "0       ...                    0              0              0              0   \n",
       "1       ...                    0              0              0              0   \n",
       "2       ...                    0              0              0              0   \n",
       "3       ...                    0              0              0              0   \n",
       "4       ...                    0              0              0              0   \n",
       "\n",
       "   model_year_82  origin_1  origin_2  origin_3   mpg  automaker_name  \n",
       "0              0         1         0         0  18.0       chevrolet  \n",
       "1              0         1         0         0  15.0           buick  \n",
       "2              0         1         0         0  18.0        plymouth  \n",
       "3              0         1         0         0  16.0             amc  \n",
       "4              0         1         0         0  17.0            ford  \n",
       "\n",
       "[5 rows x 28 columns]"
      ]
     },
     "execution_count": 43,
     "metadata": {},
     "output_type": "execute_result"
    }
   ],
   "source": [
    "\"\"\"\n",
    "Three solutions can be designed to tackle with this issue:\n",
    "1) Just drop the column 'car_name' (i.e., our model won't rely on that feature for prediction)\n",
    "2) Use one-hot encoding scheme and deal with sparsity data (i.e., possibly leading to overfitting)\n",
    "3) Trade-off: try to build another column which somehow reduces (i.e., cluster) similar values together\n",
    "and then apply one-hot encoding.\n",
    "Let's see how to perform 3)\n",
    "\"\"\"\n",
    "# Suppose we want to create another column called 'automaker_name', which simply contains\n",
    "# the name of the automaker, disregarding the model.\n",
    "# For example, automaker_name('ford gran torino') = automaker_name('ford f250') = 'ford'\n",
    "data_with_dummies['automaker_name'] = data_with_dummies['car_name'].map(lambda x:\n",
    "                                                                       x.split(' ')[0])\n",
    "data_with_dummies.head()"
   ]
  },
  {
   "cell_type": "code",
   "execution_count": 44,
   "metadata": {
    "slideshow": {
     "slide_type": "slide"
    }
   },
   "outputs": [
    {
     "data": {
      "text/plain": [
       "ford             51\n",
       "chevrolet        43\n",
       "plymouth         31\n",
       "amc              28\n",
       "dodge            28\n",
       "toyota           25\n",
       "datsun           23\n",
       "buick            17\n",
       "pontiac          16\n",
       "volkswagen       15\n",
       "honda            13\n",
       "mercury          11\n",
       "mazda            10\n",
       "oldsmobile       10\n",
       "peugeot           8\n",
       "fiat              8\n",
       "audi              7\n",
       "chrysler          6\n",
       "vw                6\n",
       "volvo             6\n",
       "renault           5\n",
       "subaru            4\n",
       "opel              4\n",
       "saab              4\n",
       "chevy             3\n",
       "maxda             2\n",
       "bmw               2\n",
       "cadillac          2\n",
       "mercedes-benz     2\n",
       "mercedes          1\n",
       "capri             1\n",
       "nissan            1\n",
       "hi                1\n",
       "vokswagen         1\n",
       "triumph           1\n",
       "chevroelt         1\n",
       "toyouta           1\n",
       "Name: automaker_name, dtype: int64"
      ]
     },
     "execution_count": 44,
     "metadata": {},
     "output_type": "execute_result"
    }
   ],
   "source": [
    "\"\"\"\n",
    "Let's see how many distinct values we have now for this new categorical variable\n",
    "\"\"\"\n",
    "data_with_dummies['automaker_name'].value_counts()"
   ]
  },
  {
   "cell_type": "code",
   "execution_count": 45,
   "metadata": {
    "slideshow": {
     "slide_type": "slide"
    }
   },
   "outputs": [],
   "source": [
    "def sanitize_automaker_name(car_name):\n",
    "    s = car_name.split(' ')[0]\n",
    "    if s == 'vw' or s == 'vokswagen':\n",
    "        return car_name.replace(s,'volkswagen')\n",
    "    if s == 'chevroelt' or s == 'chevy':\n",
    "        return car_name.replace(s,'chevrolet')\n",
    "    if s == 'maxda':\n",
    "        return car_name.replace(s,'mazda')\n",
    "    if s == 'mercedes':\n",
    "        return car_name.replace(s,'mercedes-benz')\n",
    "    if s == 'toyouta':\n",
    "        return car_name.replace(s,'toyota')\n",
    "    return car_name"
   ]
  },
  {
   "cell_type": "code",
   "execution_count": 46,
   "metadata": {
    "slideshow": {
     "slide_type": "slide"
    }
   },
   "outputs": [
    {
     "data": {
      "text/html": [
       "<div>\n",
       "<style scoped>\n",
       "    .dataframe tbody tr th:only-of-type {\n",
       "        vertical-align: middle;\n",
       "    }\n",
       "\n",
       "    .dataframe tbody tr th {\n",
       "        vertical-align: top;\n",
       "    }\n",
       "\n",
       "    .dataframe thead th {\n",
       "        text-align: right;\n",
       "    }\n",
       "</style>\n",
       "<table border=\"1\" class=\"dataframe\">\n",
       "  <thead>\n",
       "    <tr style=\"text-align: right;\">\n",
       "      <th></th>\n",
       "      <th>displacement</th>\n",
       "      <th>horsepower</th>\n",
       "      <th>weight</th>\n",
       "      <th>acceleration</th>\n",
       "      <th>car_name</th>\n",
       "      <th>cylinders_3</th>\n",
       "      <th>cylinders_4</th>\n",
       "      <th>cylinders_5</th>\n",
       "      <th>cylinders_6</th>\n",
       "      <th>cylinders_8</th>\n",
       "      <th>...</th>\n",
       "      <th>model_year_78</th>\n",
       "      <th>model_year_79</th>\n",
       "      <th>model_year_80</th>\n",
       "      <th>model_year_81</th>\n",
       "      <th>model_year_82</th>\n",
       "      <th>origin_1</th>\n",
       "      <th>origin_2</th>\n",
       "      <th>origin_3</th>\n",
       "      <th>mpg</th>\n",
       "      <th>automaker_name</th>\n",
       "    </tr>\n",
       "  </thead>\n",
       "  <tbody>\n",
       "    <tr>\n",
       "      <th>0</th>\n",
       "      <td>5.030829</td>\n",
       "      <td>130.0</td>\n",
       "      <td>3504.0</td>\n",
       "      <td>12.0</td>\n",
       "      <td>chevrolet chevelle malibu</td>\n",
       "      <td>0</td>\n",
       "      <td>0</td>\n",
       "      <td>0</td>\n",
       "      <td>0</td>\n",
       "      <td>1</td>\n",
       "      <td>...</td>\n",
       "      <td>0</td>\n",
       "      <td>0</td>\n",
       "      <td>0</td>\n",
       "      <td>0</td>\n",
       "      <td>0</td>\n",
       "      <td>1</td>\n",
       "      <td>0</td>\n",
       "      <td>0</td>\n",
       "      <td>18.0</td>\n",
       "      <td>chevrolet</td>\n",
       "    </tr>\n",
       "    <tr>\n",
       "      <th>1</th>\n",
       "      <td>5.735472</td>\n",
       "      <td>165.0</td>\n",
       "      <td>3693.0</td>\n",
       "      <td>11.5</td>\n",
       "      <td>buick skylark 320</td>\n",
       "      <td>0</td>\n",
       "      <td>0</td>\n",
       "      <td>0</td>\n",
       "      <td>0</td>\n",
       "      <td>1</td>\n",
       "      <td>...</td>\n",
       "      <td>0</td>\n",
       "      <td>0</td>\n",
       "      <td>0</td>\n",
       "      <td>0</td>\n",
       "      <td>0</td>\n",
       "      <td>1</td>\n",
       "      <td>0</td>\n",
       "      <td>0</td>\n",
       "      <td>15.0</td>\n",
       "      <td>buick</td>\n",
       "    </tr>\n",
       "    <tr>\n",
       "      <th>2</th>\n",
       "      <td>5.211086</td>\n",
       "      <td>150.0</td>\n",
       "      <td>3436.0</td>\n",
       "      <td>11.0</td>\n",
       "      <td>plymouth satellite</td>\n",
       "      <td>0</td>\n",
       "      <td>0</td>\n",
       "      <td>0</td>\n",
       "      <td>0</td>\n",
       "      <td>1</td>\n",
       "      <td>...</td>\n",
       "      <td>0</td>\n",
       "      <td>0</td>\n",
       "      <td>0</td>\n",
       "      <td>0</td>\n",
       "      <td>0</td>\n",
       "      <td>1</td>\n",
       "      <td>0</td>\n",
       "      <td>0</td>\n",
       "      <td>18.0</td>\n",
       "      <td>plymouth</td>\n",
       "    </tr>\n",
       "    <tr>\n",
       "      <th>3</th>\n",
       "      <td>4.981667</td>\n",
       "      <td>150.0</td>\n",
       "      <td>3433.0</td>\n",
       "      <td>12.0</td>\n",
       "      <td>amc rebel sst</td>\n",
       "      <td>0</td>\n",
       "      <td>0</td>\n",
       "      <td>0</td>\n",
       "      <td>0</td>\n",
       "      <td>1</td>\n",
       "      <td>...</td>\n",
       "      <td>0</td>\n",
       "      <td>0</td>\n",
       "      <td>0</td>\n",
       "      <td>0</td>\n",
       "      <td>0</td>\n",
       "      <td>1</td>\n",
       "      <td>0</td>\n",
       "      <td>0</td>\n",
       "      <td>16.0</td>\n",
       "      <td>amc</td>\n",
       "    </tr>\n",
       "    <tr>\n",
       "      <th>4</th>\n",
       "      <td>4.948893</td>\n",
       "      <td>140.0</td>\n",
       "      <td>3449.0</td>\n",
       "      <td>11.0</td>\n",
       "      <td>ford torino</td>\n",
       "      <td>0</td>\n",
       "      <td>0</td>\n",
       "      <td>0</td>\n",
       "      <td>0</td>\n",
       "      <td>1</td>\n",
       "      <td>...</td>\n",
       "      <td>0</td>\n",
       "      <td>0</td>\n",
       "      <td>0</td>\n",
       "      <td>0</td>\n",
       "      <td>0</td>\n",
       "      <td>1</td>\n",
       "      <td>0</td>\n",
       "      <td>0</td>\n",
       "      <td>17.0</td>\n",
       "      <td>ford</td>\n",
       "    </tr>\n",
       "  </tbody>\n",
       "</table>\n",
       "<p>5 rows × 28 columns</p>\n",
       "</div>"
      ],
      "text/plain": [
       "   displacement  horsepower  weight  acceleration                   car_name  \\\n",
       "0      5.030829       130.0  3504.0          12.0  chevrolet chevelle malibu   \n",
       "1      5.735472       165.0  3693.0          11.5          buick skylark 320   \n",
       "2      5.211086       150.0  3436.0          11.0         plymouth satellite   \n",
       "3      4.981667       150.0  3433.0          12.0              amc rebel sst   \n",
       "4      4.948893       140.0  3449.0          11.0                ford torino   \n",
       "\n",
       "   cylinders_3  cylinders_4  cylinders_5  cylinders_6  cylinders_8  \\\n",
       "0            0            0            0            0            1   \n",
       "1            0            0            0            0            1   \n",
       "2            0            0            0            0            1   \n",
       "3            0            0            0            0            1   \n",
       "4            0            0            0            0            1   \n",
       "\n",
       "        ...        model_year_78  model_year_79  model_year_80  model_year_81  \\\n",
       "0       ...                    0              0              0              0   \n",
       "1       ...                    0              0              0              0   \n",
       "2       ...                    0              0              0              0   \n",
       "3       ...                    0              0              0              0   \n",
       "4       ...                    0              0              0              0   \n",
       "\n",
       "   model_year_82  origin_1  origin_2  origin_3   mpg  automaker_name  \n",
       "0              0         1         0         0  18.0       chevrolet  \n",
       "1              0         1         0         0  15.0           buick  \n",
       "2              0         1         0         0  18.0        plymouth  \n",
       "3              0         1         0         0  16.0             amc  \n",
       "4              0         1         0         0  17.0            ford  \n",
       "\n",
       "[5 rows x 28 columns]"
      ]
     },
     "execution_count": 46,
     "metadata": {},
     "output_type": "execute_result"
    }
   ],
   "source": [
    "\"\"\"\n",
    "Use the 'sanitize_automaker_name' function to update 'car_name' values.\n",
    "\"\"\"\n",
    "data_with_dummies['car_name'] = data_with_dummies['car_name'].map(lambda x:\n",
    "                                                                 sanitize_automaker_name(x))\n",
    "data_with_dummies.head()"
   ]
  },
  {
   "cell_type": "code",
   "execution_count": 47,
   "metadata": {
    "slideshow": {
     "slide_type": "slide"
    }
   },
   "outputs": [
    {
     "data": {
      "text/html": [
       "<div>\n",
       "<style scoped>\n",
       "    .dataframe tbody tr th:only-of-type {\n",
       "        vertical-align: middle;\n",
       "    }\n",
       "\n",
       "    .dataframe tbody tr th {\n",
       "        vertical-align: top;\n",
       "    }\n",
       "\n",
       "    .dataframe thead th {\n",
       "        text-align: right;\n",
       "    }\n",
       "</style>\n",
       "<table border=\"1\" class=\"dataframe\">\n",
       "  <thead>\n",
       "    <tr style=\"text-align: right;\">\n",
       "      <th></th>\n",
       "      <th>displacement</th>\n",
       "      <th>horsepower</th>\n",
       "      <th>weight</th>\n",
       "      <th>acceleration</th>\n",
       "      <th>car_name</th>\n",
       "      <th>cylinders_3</th>\n",
       "      <th>cylinders_4</th>\n",
       "      <th>cylinders_5</th>\n",
       "      <th>cylinders_6</th>\n",
       "      <th>cylinders_8</th>\n",
       "      <th>...</th>\n",
       "      <th>model_year_78</th>\n",
       "      <th>model_year_79</th>\n",
       "      <th>model_year_80</th>\n",
       "      <th>model_year_81</th>\n",
       "      <th>model_year_82</th>\n",
       "      <th>origin_1</th>\n",
       "      <th>origin_2</th>\n",
       "      <th>origin_3</th>\n",
       "      <th>mpg</th>\n",
       "      <th>automaker_name</th>\n",
       "    </tr>\n",
       "  </thead>\n",
       "  <tbody>\n",
       "    <tr>\n",
       "      <th>0</th>\n",
       "      <td>5.030829</td>\n",
       "      <td>130.0</td>\n",
       "      <td>3504.0</td>\n",
       "      <td>12.0</td>\n",
       "      <td>chevrolet chevelle malibu</td>\n",
       "      <td>0</td>\n",
       "      <td>0</td>\n",
       "      <td>0</td>\n",
       "      <td>0</td>\n",
       "      <td>1</td>\n",
       "      <td>...</td>\n",
       "      <td>0</td>\n",
       "      <td>0</td>\n",
       "      <td>0</td>\n",
       "      <td>0</td>\n",
       "      <td>0</td>\n",
       "      <td>1</td>\n",
       "      <td>0</td>\n",
       "      <td>0</td>\n",
       "      <td>18.0</td>\n",
       "      <td>chevrolet</td>\n",
       "    </tr>\n",
       "    <tr>\n",
       "      <th>1</th>\n",
       "      <td>5.735472</td>\n",
       "      <td>165.0</td>\n",
       "      <td>3693.0</td>\n",
       "      <td>11.5</td>\n",
       "      <td>buick skylark 320</td>\n",
       "      <td>0</td>\n",
       "      <td>0</td>\n",
       "      <td>0</td>\n",
       "      <td>0</td>\n",
       "      <td>1</td>\n",
       "      <td>...</td>\n",
       "      <td>0</td>\n",
       "      <td>0</td>\n",
       "      <td>0</td>\n",
       "      <td>0</td>\n",
       "      <td>0</td>\n",
       "      <td>1</td>\n",
       "      <td>0</td>\n",
       "      <td>0</td>\n",
       "      <td>15.0</td>\n",
       "      <td>buick</td>\n",
       "    </tr>\n",
       "    <tr>\n",
       "      <th>2</th>\n",
       "      <td>5.211086</td>\n",
       "      <td>150.0</td>\n",
       "      <td>3436.0</td>\n",
       "      <td>11.0</td>\n",
       "      <td>plymouth satellite</td>\n",
       "      <td>0</td>\n",
       "      <td>0</td>\n",
       "      <td>0</td>\n",
       "      <td>0</td>\n",
       "      <td>1</td>\n",
       "      <td>...</td>\n",
       "      <td>0</td>\n",
       "      <td>0</td>\n",
       "      <td>0</td>\n",
       "      <td>0</td>\n",
       "      <td>0</td>\n",
       "      <td>1</td>\n",
       "      <td>0</td>\n",
       "      <td>0</td>\n",
       "      <td>18.0</td>\n",
       "      <td>plymouth</td>\n",
       "    </tr>\n",
       "    <tr>\n",
       "      <th>3</th>\n",
       "      <td>4.981667</td>\n",
       "      <td>150.0</td>\n",
       "      <td>3433.0</td>\n",
       "      <td>12.0</td>\n",
       "      <td>amc rebel sst</td>\n",
       "      <td>0</td>\n",
       "      <td>0</td>\n",
       "      <td>0</td>\n",
       "      <td>0</td>\n",
       "      <td>1</td>\n",
       "      <td>...</td>\n",
       "      <td>0</td>\n",
       "      <td>0</td>\n",
       "      <td>0</td>\n",
       "      <td>0</td>\n",
       "      <td>0</td>\n",
       "      <td>1</td>\n",
       "      <td>0</td>\n",
       "      <td>0</td>\n",
       "      <td>16.0</td>\n",
       "      <td>amc</td>\n",
       "    </tr>\n",
       "    <tr>\n",
       "      <th>4</th>\n",
       "      <td>4.948893</td>\n",
       "      <td>140.0</td>\n",
       "      <td>3449.0</td>\n",
       "      <td>11.0</td>\n",
       "      <td>ford torino</td>\n",
       "      <td>0</td>\n",
       "      <td>0</td>\n",
       "      <td>0</td>\n",
       "      <td>0</td>\n",
       "      <td>1</td>\n",
       "      <td>...</td>\n",
       "      <td>0</td>\n",
       "      <td>0</td>\n",
       "      <td>0</td>\n",
       "      <td>0</td>\n",
       "      <td>0</td>\n",
       "      <td>1</td>\n",
       "      <td>0</td>\n",
       "      <td>0</td>\n",
       "      <td>17.0</td>\n",
       "      <td>ford</td>\n",
       "    </tr>\n",
       "  </tbody>\n",
       "</table>\n",
       "<p>5 rows × 28 columns</p>\n",
       "</div>"
      ],
      "text/plain": [
       "   displacement  horsepower  weight  acceleration                   car_name  \\\n",
       "0      5.030829       130.0  3504.0          12.0  chevrolet chevelle malibu   \n",
       "1      5.735472       165.0  3693.0          11.5          buick skylark 320   \n",
       "2      5.211086       150.0  3436.0          11.0         plymouth satellite   \n",
       "3      4.981667       150.0  3433.0          12.0              amc rebel sst   \n",
       "4      4.948893       140.0  3449.0          11.0                ford torino   \n",
       "\n",
       "   cylinders_3  cylinders_4  cylinders_5  cylinders_6  cylinders_8  \\\n",
       "0            0            0            0            0            1   \n",
       "1            0            0            0            0            1   \n",
       "2            0            0            0            0            1   \n",
       "3            0            0            0            0            1   \n",
       "4            0            0            0            0            1   \n",
       "\n",
       "        ...        model_year_78  model_year_79  model_year_80  model_year_81  \\\n",
       "0       ...                    0              0              0              0   \n",
       "1       ...                    0              0              0              0   \n",
       "2       ...                    0              0              0              0   \n",
       "3       ...                    0              0              0              0   \n",
       "4       ...                    0              0              0              0   \n",
       "\n",
       "   model_year_82  origin_1  origin_2  origin_3   mpg  automaker_name  \n",
       "0              0         1         0         0  18.0       chevrolet  \n",
       "1              0         1         0         0  15.0           buick  \n",
       "2              0         1         0         0  18.0        plymouth  \n",
       "3              0         1         0         0  16.0             amc  \n",
       "4              0         1         0         0  17.0            ford  \n",
       "\n",
       "[5 rows x 28 columns]"
      ]
     },
     "execution_count": 47,
     "metadata": {},
     "output_type": "execute_result"
    }
   ],
   "source": [
    "\"\"\"\n",
    "Re-apply the function on the sanitized version of 'car_name'.\n",
    "\"\"\"\n",
    "data_with_dummies['automaker_name'] = data_with_dummies['car_name'].map(lambda x: \n",
    "                                                                        x.split(' ')[0])\n",
    "data_with_dummies.head()"
   ]
  },
  {
   "cell_type": "code",
   "execution_count": 48,
   "metadata": {
    "slideshow": {
     "slide_type": "slide"
    }
   },
   "outputs": [
    {
     "data": {
      "text/plain": [
       "ford             51\n",
       "chevrolet        47\n",
       "plymouth         31\n",
       "amc              28\n",
       "dodge            28\n",
       "toyota           26\n",
       "datsun           23\n",
       "volkswagen       22\n",
       "buick            17\n",
       "pontiac          16\n",
       "honda            13\n",
       "mazda            12\n",
       "mercury          11\n",
       "oldsmobile       10\n",
       "peugeot           8\n",
       "fiat              8\n",
       "audi              7\n",
       "chrysler          6\n",
       "volvo             6\n",
       "renault           5\n",
       "subaru            4\n",
       "opel              4\n",
       "saab              4\n",
       "mercedes-benz     3\n",
       "cadillac          2\n",
       "bmw               2\n",
       "capri             1\n",
       "nissan            1\n",
       "triumph           1\n",
       "hi                1\n",
       "Name: automaker_name, dtype: int64"
      ]
     },
     "execution_count": 48,
     "metadata": {},
     "output_type": "execute_result"
    }
   ],
   "source": [
    "\"\"\"\n",
    "Let's see how many distinct values we have now for this new categorical variable.\n",
    "\"\"\"\n",
    "data_with_dummies['automaker_name'].value_counts()"
   ]
  },
  {
   "cell_type": "code",
   "execution_count": 49,
   "metadata": {
    "slideshow": {
     "slide_type": "slide"
    }
   },
   "outputs": [],
   "source": [
    "# Create the set of the top-10 automakers\n",
    "top_10_automakers = set(data_with_dummies['automaker_name'].value_counts().index[:10])\n",
    "# Label with 'other' any automaker_name which is not in the list above\n",
    "data_with_dummies['automaker_name'] = np.where(data_with_dummies.\n",
    "                                               automaker_name.isin(top_10_automakers), \n",
    "                                              data_with_dummies.automaker_name,\n",
    "                                              'other')"
   ]
  },
  {
   "cell_type": "code",
   "execution_count": 50,
   "metadata": {
    "slideshow": {
     "slide_type": "slide"
    }
   },
   "outputs": [
    {
     "data": {
      "text/plain": [
       "True"
      ]
     },
     "execution_count": 50,
     "metadata": {},
     "output_type": "execute_result"
    }
   ],
   "source": [
    "\"\"\"\n",
    "Let's verify we did it right!\n",
    "\"\"\"\n",
    "data.loc[data_with_dummies.automaker_name == 'other', 'car_name'].map(lambda x: \n",
    "                                                                      x.split(' ')[0] not in top_10_automakers).all()"
   ]
  },
  {
   "cell_type": "code",
   "execution_count": 51,
   "metadata": {
    "slideshow": {
     "slide_type": "slide"
    }
   },
   "outputs": [
    {
     "data": {
      "text/html": [
       "<div>\n",
       "<style scoped>\n",
       "    .dataframe tbody tr th:only-of-type {\n",
       "        vertical-align: middle;\n",
       "    }\n",
       "\n",
       "    .dataframe tbody tr th {\n",
       "        vertical-align: top;\n",
       "    }\n",
       "\n",
       "    .dataframe thead th {\n",
       "        text-align: right;\n",
       "    }\n",
       "</style>\n",
       "<table border=\"1\" class=\"dataframe\">\n",
       "  <thead>\n",
       "    <tr style=\"text-align: right;\">\n",
       "      <th></th>\n",
       "      <th>displacement</th>\n",
       "      <th>horsepower</th>\n",
       "      <th>weight</th>\n",
       "      <th>acceleration</th>\n",
       "      <th>car_name</th>\n",
       "      <th>cylinders_3</th>\n",
       "      <th>cylinders_4</th>\n",
       "      <th>cylinders_5</th>\n",
       "      <th>cylinders_6</th>\n",
       "      <th>cylinders_8</th>\n",
       "      <th>...</th>\n",
       "      <th>automaker_name_buick</th>\n",
       "      <th>automaker_name_chevrolet</th>\n",
       "      <th>automaker_name_datsun</th>\n",
       "      <th>automaker_name_dodge</th>\n",
       "      <th>automaker_name_ford</th>\n",
       "      <th>automaker_name_other</th>\n",
       "      <th>automaker_name_plymouth</th>\n",
       "      <th>automaker_name_pontiac</th>\n",
       "      <th>automaker_name_toyota</th>\n",
       "      <th>automaker_name_volkswagen</th>\n",
       "    </tr>\n",
       "  </thead>\n",
       "  <tbody>\n",
       "    <tr>\n",
       "      <th>0</th>\n",
       "      <td>5.030829</td>\n",
       "      <td>130.0</td>\n",
       "      <td>3504.0</td>\n",
       "      <td>12.0</td>\n",
       "      <td>chevrolet chevelle malibu</td>\n",
       "      <td>0</td>\n",
       "      <td>0</td>\n",
       "      <td>0</td>\n",
       "      <td>0</td>\n",
       "      <td>1</td>\n",
       "      <td>...</td>\n",
       "      <td>0</td>\n",
       "      <td>1</td>\n",
       "      <td>0</td>\n",
       "      <td>0</td>\n",
       "      <td>0</td>\n",
       "      <td>0</td>\n",
       "      <td>0</td>\n",
       "      <td>0</td>\n",
       "      <td>0</td>\n",
       "      <td>0</td>\n",
       "    </tr>\n",
       "    <tr>\n",
       "      <th>1</th>\n",
       "      <td>5.735472</td>\n",
       "      <td>165.0</td>\n",
       "      <td>3693.0</td>\n",
       "      <td>11.5</td>\n",
       "      <td>buick skylark 320</td>\n",
       "      <td>0</td>\n",
       "      <td>0</td>\n",
       "      <td>0</td>\n",
       "      <td>0</td>\n",
       "      <td>1</td>\n",
       "      <td>...</td>\n",
       "      <td>1</td>\n",
       "      <td>0</td>\n",
       "      <td>0</td>\n",
       "      <td>0</td>\n",
       "      <td>0</td>\n",
       "      <td>0</td>\n",
       "      <td>0</td>\n",
       "      <td>0</td>\n",
       "      <td>0</td>\n",
       "      <td>0</td>\n",
       "    </tr>\n",
       "    <tr>\n",
       "      <th>2</th>\n",
       "      <td>5.211086</td>\n",
       "      <td>150.0</td>\n",
       "      <td>3436.0</td>\n",
       "      <td>11.0</td>\n",
       "      <td>plymouth satellite</td>\n",
       "      <td>0</td>\n",
       "      <td>0</td>\n",
       "      <td>0</td>\n",
       "      <td>0</td>\n",
       "      <td>1</td>\n",
       "      <td>...</td>\n",
       "      <td>0</td>\n",
       "      <td>0</td>\n",
       "      <td>0</td>\n",
       "      <td>0</td>\n",
       "      <td>0</td>\n",
       "      <td>0</td>\n",
       "      <td>1</td>\n",
       "      <td>0</td>\n",
       "      <td>0</td>\n",
       "      <td>0</td>\n",
       "    </tr>\n",
       "    <tr>\n",
       "      <th>3</th>\n",
       "      <td>4.981667</td>\n",
       "      <td>150.0</td>\n",
       "      <td>3433.0</td>\n",
       "      <td>12.0</td>\n",
       "      <td>amc rebel sst</td>\n",
       "      <td>0</td>\n",
       "      <td>0</td>\n",
       "      <td>0</td>\n",
       "      <td>0</td>\n",
       "      <td>1</td>\n",
       "      <td>...</td>\n",
       "      <td>0</td>\n",
       "      <td>0</td>\n",
       "      <td>0</td>\n",
       "      <td>0</td>\n",
       "      <td>0</td>\n",
       "      <td>0</td>\n",
       "      <td>0</td>\n",
       "      <td>0</td>\n",
       "      <td>0</td>\n",
       "      <td>0</td>\n",
       "    </tr>\n",
       "    <tr>\n",
       "      <th>4</th>\n",
       "      <td>4.948893</td>\n",
       "      <td>140.0</td>\n",
       "      <td>3449.0</td>\n",
       "      <td>11.0</td>\n",
       "      <td>ford torino</td>\n",
       "      <td>0</td>\n",
       "      <td>0</td>\n",
       "      <td>0</td>\n",
       "      <td>0</td>\n",
       "      <td>1</td>\n",
       "      <td>...</td>\n",
       "      <td>0</td>\n",
       "      <td>0</td>\n",
       "      <td>0</td>\n",
       "      <td>0</td>\n",
       "      <td>1</td>\n",
       "      <td>0</td>\n",
       "      <td>0</td>\n",
       "      <td>0</td>\n",
       "      <td>0</td>\n",
       "      <td>0</td>\n",
       "    </tr>\n",
       "  </tbody>\n",
       "</table>\n",
       "<p>5 rows × 38 columns</p>\n",
       "</div>"
      ],
      "text/plain": [
       "   displacement  horsepower  weight  acceleration                   car_name  \\\n",
       "0      5.030829       130.0  3504.0          12.0  chevrolet chevelle malibu   \n",
       "1      5.735472       165.0  3693.0          11.5          buick skylark 320   \n",
       "2      5.211086       150.0  3436.0          11.0         plymouth satellite   \n",
       "3      4.981667       150.0  3433.0          12.0              amc rebel sst   \n",
       "4      4.948893       140.0  3449.0          11.0                ford torino   \n",
       "\n",
       "   cylinders_3  cylinders_4  cylinders_5  cylinders_6  cylinders_8  \\\n",
       "0            0            0            0            0            1   \n",
       "1            0            0            0            0            1   \n",
       "2            0            0            0            0            1   \n",
       "3            0            0            0            0            1   \n",
       "4            0            0            0            0            1   \n",
       "\n",
       "             ...              automaker_name_buick  automaker_name_chevrolet  \\\n",
       "0            ...                                 0                         1   \n",
       "1            ...                                 1                         0   \n",
       "2            ...                                 0                         0   \n",
       "3            ...                                 0                         0   \n",
       "4            ...                                 0                         0   \n",
       "\n",
       "   automaker_name_datsun  automaker_name_dodge  automaker_name_ford  \\\n",
       "0                      0                     0                    0   \n",
       "1                      0                     0                    0   \n",
       "2                      0                     0                    0   \n",
       "3                      0                     0                    0   \n",
       "4                      0                     0                    1   \n",
       "\n",
       "   automaker_name_other  automaker_name_plymouth  automaker_name_pontiac  \\\n",
       "0                     0                        0                       0   \n",
       "1                     0                        0                       0   \n",
       "2                     0                        1                       0   \n",
       "3                     0                        0                       0   \n",
       "4                     0                        0                       0   \n",
       "\n",
       "   automaker_name_toyota  automaker_name_volkswagen  \n",
       "0                      0                          0  \n",
       "1                      0                          0  \n",
       "2                      0                          0  \n",
       "3                      0                          0  \n",
       "4                      0                          0  \n",
       "\n",
       "[5 rows x 38 columns]"
      ]
     },
     "execution_count": 51,
     "metadata": {},
     "output_type": "execute_result"
    }
   ],
   "source": [
    "\"\"\"\n",
    "We now categorize (i.e., discretize) 'automaker_name' using the 10 + 1 discrete values above.\n",
    "\"\"\"\n",
    "categorical_features = ['automaker_name']\n",
    "data_with_dummies = pd.get_dummies(data_with_dummies, columns = categorical_features)\n",
    "data_with_dummies.head()"
   ]
  },
  {
   "cell_type": "code",
   "execution_count": 52,
   "metadata": {
    "slideshow": {
     "slide_type": "slide"
    }
   },
   "outputs": [
    {
     "data": {
      "text/html": [
       "<div>\n",
       "<style scoped>\n",
       "    .dataframe tbody tr th:only-of-type {\n",
       "        vertical-align: middle;\n",
       "    }\n",
       "\n",
       "    .dataframe tbody tr th {\n",
       "        vertical-align: top;\n",
       "    }\n",
       "\n",
       "    .dataframe thead th {\n",
       "        text-align: right;\n",
       "    }\n",
       "</style>\n",
       "<table border=\"1\" class=\"dataframe\">\n",
       "  <thead>\n",
       "    <tr style=\"text-align: right;\">\n",
       "      <th></th>\n",
       "      <th>displacement</th>\n",
       "      <th>horsepower</th>\n",
       "      <th>weight</th>\n",
       "      <th>acceleration</th>\n",
       "      <th>cylinders_3</th>\n",
       "      <th>cylinders_4</th>\n",
       "      <th>cylinders_5</th>\n",
       "      <th>cylinders_6</th>\n",
       "      <th>cylinders_8</th>\n",
       "      <th>model_year_70</th>\n",
       "      <th>...</th>\n",
       "      <th>automaker_name_datsun</th>\n",
       "      <th>automaker_name_dodge</th>\n",
       "      <th>automaker_name_ford</th>\n",
       "      <th>automaker_name_plymouth</th>\n",
       "      <th>automaker_name_pontiac</th>\n",
       "      <th>automaker_name_toyota</th>\n",
       "      <th>automaker_name_volkswagen</th>\n",
       "      <th>automaker_name_other</th>\n",
       "      <th>car_name</th>\n",
       "      <th>mpg</th>\n",
       "    </tr>\n",
       "  </thead>\n",
       "  <tbody>\n",
       "    <tr>\n",
       "      <th>0</th>\n",
       "      <td>5.030829</td>\n",
       "      <td>130.0</td>\n",
       "      <td>3504.0</td>\n",
       "      <td>12.0</td>\n",
       "      <td>0</td>\n",
       "      <td>0</td>\n",
       "      <td>0</td>\n",
       "      <td>0</td>\n",
       "      <td>1</td>\n",
       "      <td>1</td>\n",
       "      <td>...</td>\n",
       "      <td>0</td>\n",
       "      <td>0</td>\n",
       "      <td>0</td>\n",
       "      <td>0</td>\n",
       "      <td>0</td>\n",
       "      <td>0</td>\n",
       "      <td>0</td>\n",
       "      <td>0</td>\n",
       "      <td>chevrolet chevelle malibu</td>\n",
       "      <td>18.0</td>\n",
       "    </tr>\n",
       "    <tr>\n",
       "      <th>1</th>\n",
       "      <td>5.735472</td>\n",
       "      <td>165.0</td>\n",
       "      <td>3693.0</td>\n",
       "      <td>11.5</td>\n",
       "      <td>0</td>\n",
       "      <td>0</td>\n",
       "      <td>0</td>\n",
       "      <td>0</td>\n",
       "      <td>1</td>\n",
       "      <td>1</td>\n",
       "      <td>...</td>\n",
       "      <td>0</td>\n",
       "      <td>0</td>\n",
       "      <td>0</td>\n",
       "      <td>0</td>\n",
       "      <td>0</td>\n",
       "      <td>0</td>\n",
       "      <td>0</td>\n",
       "      <td>0</td>\n",
       "      <td>buick skylark 320</td>\n",
       "      <td>15.0</td>\n",
       "    </tr>\n",
       "    <tr>\n",
       "      <th>2</th>\n",
       "      <td>5.211086</td>\n",
       "      <td>150.0</td>\n",
       "      <td>3436.0</td>\n",
       "      <td>11.0</td>\n",
       "      <td>0</td>\n",
       "      <td>0</td>\n",
       "      <td>0</td>\n",
       "      <td>0</td>\n",
       "      <td>1</td>\n",
       "      <td>1</td>\n",
       "      <td>...</td>\n",
       "      <td>0</td>\n",
       "      <td>0</td>\n",
       "      <td>0</td>\n",
       "      <td>1</td>\n",
       "      <td>0</td>\n",
       "      <td>0</td>\n",
       "      <td>0</td>\n",
       "      <td>0</td>\n",
       "      <td>plymouth satellite</td>\n",
       "      <td>18.0</td>\n",
       "    </tr>\n",
       "    <tr>\n",
       "      <th>3</th>\n",
       "      <td>4.981667</td>\n",
       "      <td>150.0</td>\n",
       "      <td>3433.0</td>\n",
       "      <td>12.0</td>\n",
       "      <td>0</td>\n",
       "      <td>0</td>\n",
       "      <td>0</td>\n",
       "      <td>0</td>\n",
       "      <td>1</td>\n",
       "      <td>1</td>\n",
       "      <td>...</td>\n",
       "      <td>0</td>\n",
       "      <td>0</td>\n",
       "      <td>0</td>\n",
       "      <td>0</td>\n",
       "      <td>0</td>\n",
       "      <td>0</td>\n",
       "      <td>0</td>\n",
       "      <td>0</td>\n",
       "      <td>amc rebel sst</td>\n",
       "      <td>16.0</td>\n",
       "    </tr>\n",
       "    <tr>\n",
       "      <th>4</th>\n",
       "      <td>4.948893</td>\n",
       "      <td>140.0</td>\n",
       "      <td>3449.0</td>\n",
       "      <td>11.0</td>\n",
       "      <td>0</td>\n",
       "      <td>0</td>\n",
       "      <td>0</td>\n",
       "      <td>0</td>\n",
       "      <td>1</td>\n",
       "      <td>1</td>\n",
       "      <td>...</td>\n",
       "      <td>0</td>\n",
       "      <td>0</td>\n",
       "      <td>1</td>\n",
       "      <td>0</td>\n",
       "      <td>0</td>\n",
       "      <td>0</td>\n",
       "      <td>0</td>\n",
       "      <td>0</td>\n",
       "      <td>ford torino</td>\n",
       "      <td>17.0</td>\n",
       "    </tr>\n",
       "  </tbody>\n",
       "</table>\n",
       "<p>5 rows × 38 columns</p>\n",
       "</div>"
      ],
      "text/plain": [
       "   displacement  horsepower  weight  acceleration  cylinders_3  cylinders_4  \\\n",
       "0      5.030829       130.0  3504.0          12.0            0            0   \n",
       "1      5.735472       165.0  3693.0          11.5            0            0   \n",
       "2      5.211086       150.0  3436.0          11.0            0            0   \n",
       "3      4.981667       150.0  3433.0          12.0            0            0   \n",
       "4      4.948893       140.0  3449.0          11.0            0            0   \n",
       "\n",
       "   cylinders_5  cylinders_6  cylinders_8  model_year_70  ...   \\\n",
       "0            0            0            1              1  ...    \n",
       "1            0            0            1              1  ...    \n",
       "2            0            0            1              1  ...    \n",
       "3            0            0            1              1  ...    \n",
       "4            0            0            1              1  ...    \n",
       "\n",
       "   automaker_name_datsun  automaker_name_dodge  automaker_name_ford  \\\n",
       "0                      0                     0                    0   \n",
       "1                      0                     0                    0   \n",
       "2                      0                     0                    0   \n",
       "3                      0                     0                    0   \n",
       "4                      0                     0                    1   \n",
       "\n",
       "   automaker_name_plymouth  automaker_name_pontiac  automaker_name_toyota  \\\n",
       "0                        0                       0                      0   \n",
       "1                        0                       0                      0   \n",
       "2                        1                       0                      0   \n",
       "3                        0                       0                      0   \n",
       "4                        0                       0                      0   \n",
       "\n",
       "   automaker_name_volkswagen  automaker_name_other                   car_name  \\\n",
       "0                          0                     0  chevrolet chevelle malibu   \n",
       "1                          0                     0          buick skylark 320   \n",
       "2                          0                     0         plymouth satellite   \n",
       "3                          0                     0              amc rebel sst   \n",
       "4                          0                     0                ford torino   \n",
       "\n",
       "    mpg  \n",
       "0  18.0  \n",
       "1  15.0  \n",
       "2  18.0  \n",
       "3  16.0  \n",
       "4  17.0  \n",
       "\n",
       "[5 rows x 38 columns]"
      ]
     },
     "execution_count": 52,
     "metadata": {},
     "output_type": "execute_result"
    }
   ],
   "source": [
    "# Just as a convention, I prefer to place the column to be predicted\n",
    "# as the last one.\n",
    "columns = data_with_dummies.columns.tolist()\n",
    "# Popping out 'mpg' from the list and insert it back at the end.\n",
    "columns.insert(len(columns), columns.pop(columns.index('mpg')))\n",
    "# Popping out 'automaker_name_other' from the list and insert it after 'automaker_name_volkswagen'.\n",
    "columns.insert(columns.index('automaker_name_volkswagen'), columns.pop(columns.index('automaker_name_other')))\n",
    "# Popping out 'car_name' from the list and insert it right before 'mpg'\n",
    "columns.insert(-1, columns.pop(columns.index('car_name')))\n",
    "# Let's refactor the DataFrame using this new column index\n",
    "data_with_dummies = data_with_dummies.loc[:, columns]\n",
    "data_with_dummies.head()"
   ]
  },
  {
   "cell_type": "markdown",
   "metadata": {
    "slideshow": {
     "slide_type": "slide"
    }
   },
   "source": [
    "## 3.4 Standardize Feature Scale\n",
    "\n",
    "-  Some learning models are sensitive to different feature scales appearing on the training dataset.\n",
    "\n",
    "-  To overcome this issue, one typically standardize (i.e., normalize) the values of each continuous feature.\n",
    "\n",
    "-  Two main strategies are usually enacted:\n",
    "    -  **min-max** normalization\n",
    "    -  **z-score** standardization"
   ]
  },
  {
   "cell_type": "code",
   "execution_count": 53,
   "metadata": {
    "slideshow": {
     "slide_type": "slide"
    }
   },
   "outputs": [],
   "source": [
    "# Let's deep copy our DataFrame again\n",
    "data_norm_0_1 = data_with_dummies.copy()"
   ]
  },
  {
   "cell_type": "code",
   "execution_count": 54,
   "metadata": {
    "scrolled": true,
    "slideshow": {
     "slide_type": "slide"
    }
   },
   "outputs": [
    {
     "data": {
      "text/html": [
       "<div>\n",
       "<style scoped>\n",
       "    .dataframe tbody tr th:only-of-type {\n",
       "        vertical-align: middle;\n",
       "    }\n",
       "\n",
       "    .dataframe tbody tr th {\n",
       "        vertical-align: top;\n",
       "    }\n",
       "\n",
       "    .dataframe thead th {\n",
       "        text-align: right;\n",
       "    }\n",
       "</style>\n",
       "<table border=\"1\" class=\"dataframe\">\n",
       "  <thead>\n",
       "    <tr style=\"text-align: right;\">\n",
       "      <th></th>\n",
       "      <th>displacement</th>\n",
       "      <th>horsepower</th>\n",
       "      <th>weight</th>\n",
       "      <th>acceleration</th>\n",
       "      <th>cylinders_3</th>\n",
       "      <th>cylinders_4</th>\n",
       "      <th>cylinders_5</th>\n",
       "      <th>cylinders_6</th>\n",
       "      <th>cylinders_8</th>\n",
       "      <th>model_year_70</th>\n",
       "      <th>...</th>\n",
       "      <th>automaker_name_datsun</th>\n",
       "      <th>automaker_name_dodge</th>\n",
       "      <th>automaker_name_ford</th>\n",
       "      <th>automaker_name_plymouth</th>\n",
       "      <th>automaker_name_pontiac</th>\n",
       "      <th>automaker_name_toyota</th>\n",
       "      <th>automaker_name_volkswagen</th>\n",
       "      <th>automaker_name_other</th>\n",
       "      <th>car_name</th>\n",
       "      <th>mpg</th>\n",
       "    </tr>\n",
       "  </thead>\n",
       "  <tbody>\n",
       "    <tr>\n",
       "      <th>0</th>\n",
       "      <td>0.617571</td>\n",
       "      <td>0.545455</td>\n",
       "      <td>0.536150</td>\n",
       "      <td>0.10</td>\n",
       "      <td>0</td>\n",
       "      <td>0</td>\n",
       "      <td>0</td>\n",
       "      <td>0</td>\n",
       "      <td>1</td>\n",
       "      <td>1</td>\n",
       "      <td>...</td>\n",
       "      <td>0</td>\n",
       "      <td>0</td>\n",
       "      <td>0</td>\n",
       "      <td>0</td>\n",
       "      <td>0</td>\n",
       "      <td>0</td>\n",
       "      <td>0</td>\n",
       "      <td>0</td>\n",
       "      <td>chevrolet chevelle malibu</td>\n",
       "      <td>18.0</td>\n",
       "    </tr>\n",
       "    <tr>\n",
       "      <th>1</th>\n",
       "      <td>0.728682</td>\n",
       "      <td>0.810606</td>\n",
       "      <td>0.589736</td>\n",
       "      <td>0.05</td>\n",
       "      <td>0</td>\n",
       "      <td>0</td>\n",
       "      <td>0</td>\n",
       "      <td>0</td>\n",
       "      <td>1</td>\n",
       "      <td>1</td>\n",
       "      <td>...</td>\n",
       "      <td>0</td>\n",
       "      <td>0</td>\n",
       "      <td>0</td>\n",
       "      <td>0</td>\n",
       "      <td>0</td>\n",
       "      <td>0</td>\n",
       "      <td>0</td>\n",
       "      <td>0</td>\n",
       "      <td>buick skylark 320</td>\n",
       "      <td>15.0</td>\n",
       "    </tr>\n",
       "    <tr>\n",
       "      <th>2</th>\n",
       "      <td>0.645995</td>\n",
       "      <td>0.696970</td>\n",
       "      <td>0.516870</td>\n",
       "      <td>0.00</td>\n",
       "      <td>0</td>\n",
       "      <td>0</td>\n",
       "      <td>0</td>\n",
       "      <td>0</td>\n",
       "      <td>1</td>\n",
       "      <td>1</td>\n",
       "      <td>...</td>\n",
       "      <td>0</td>\n",
       "      <td>0</td>\n",
       "      <td>0</td>\n",
       "      <td>1</td>\n",
       "      <td>0</td>\n",
       "      <td>0</td>\n",
       "      <td>0</td>\n",
       "      <td>0</td>\n",
       "      <td>plymouth satellite</td>\n",
       "      <td>18.0</td>\n",
       "    </tr>\n",
       "    <tr>\n",
       "      <th>3</th>\n",
       "      <td>0.609819</td>\n",
       "      <td>0.696970</td>\n",
       "      <td>0.516019</td>\n",
       "      <td>0.10</td>\n",
       "      <td>0</td>\n",
       "      <td>0</td>\n",
       "      <td>0</td>\n",
       "      <td>0</td>\n",
       "      <td>1</td>\n",
       "      <td>1</td>\n",
       "      <td>...</td>\n",
       "      <td>0</td>\n",
       "      <td>0</td>\n",
       "      <td>0</td>\n",
       "      <td>0</td>\n",
       "      <td>0</td>\n",
       "      <td>0</td>\n",
       "      <td>0</td>\n",
       "      <td>0</td>\n",
       "      <td>amc rebel sst</td>\n",
       "      <td>16.0</td>\n",
       "    </tr>\n",
       "    <tr>\n",
       "      <th>4</th>\n",
       "      <td>0.604651</td>\n",
       "      <td>0.621212</td>\n",
       "      <td>0.520556</td>\n",
       "      <td>0.00</td>\n",
       "      <td>0</td>\n",
       "      <td>0</td>\n",
       "      <td>0</td>\n",
       "      <td>0</td>\n",
       "      <td>1</td>\n",
       "      <td>1</td>\n",
       "      <td>...</td>\n",
       "      <td>0</td>\n",
       "      <td>0</td>\n",
       "      <td>1</td>\n",
       "      <td>0</td>\n",
       "      <td>0</td>\n",
       "      <td>0</td>\n",
       "      <td>0</td>\n",
       "      <td>0</td>\n",
       "      <td>ford torino</td>\n",
       "      <td>17.0</td>\n",
       "    </tr>\n",
       "  </tbody>\n",
       "</table>\n",
       "<p>5 rows × 38 columns</p>\n",
       "</div>"
      ],
      "text/plain": [
       "   displacement  horsepower    weight  acceleration  cylinders_3  cylinders_4  \\\n",
       "0      0.617571    0.545455  0.536150          0.10            0            0   \n",
       "1      0.728682    0.810606  0.589736          0.05            0            0   \n",
       "2      0.645995    0.696970  0.516870          0.00            0            0   \n",
       "3      0.609819    0.696970  0.516019          0.10            0            0   \n",
       "4      0.604651    0.621212  0.520556          0.00            0            0   \n",
       "\n",
       "   cylinders_5  cylinders_6  cylinders_8  model_year_70  ...   \\\n",
       "0            0            0            1              1  ...    \n",
       "1            0            0            1              1  ...    \n",
       "2            0            0            1              1  ...    \n",
       "3            0            0            1              1  ...    \n",
       "4            0            0            1              1  ...    \n",
       "\n",
       "   automaker_name_datsun  automaker_name_dodge  automaker_name_ford  \\\n",
       "0                      0                     0                    0   \n",
       "1                      0                     0                    0   \n",
       "2                      0                     0                    0   \n",
       "3                      0                     0                    0   \n",
       "4                      0                     0                    1   \n",
       "\n",
       "   automaker_name_plymouth  automaker_name_pontiac  automaker_name_toyota  \\\n",
       "0                        0                       0                      0   \n",
       "1                        0                       0                      0   \n",
       "2                        1                       0                      0   \n",
       "3                        0                       0                      0   \n",
       "4                        0                       0                      0   \n",
       "\n",
       "   automaker_name_volkswagen  automaker_name_other                   car_name  \\\n",
       "0                          0                     0  chevrolet chevelle malibu   \n",
       "1                          0                     0          buick skylark 320   \n",
       "2                          0                     0         plymouth satellite   \n",
       "3                          0                     0              amc rebel sst   \n",
       "4                          0                     0                ford torino   \n",
       "\n",
       "    mpg  \n",
       "0  18.0  \n",
       "1  15.0  \n",
       "2  18.0  \n",
       "3  16.0  \n",
       "4  17.0  \n",
       "\n",
       "[5 rows x 38 columns]"
      ]
     },
     "execution_count": 54,
     "metadata": {},
     "output_type": "execute_result"
    }
   ],
   "source": [
    "\"\"\"\n",
    "The easiest way to normalize a (sub)set of features is as follows.\n",
    "\"\"\"\n",
    "# 1. Decide which list of features to standardize\n",
    "features_to_standardize = ['displacement', 'horsepower', 'weight', 'acceleration']\n",
    "\n",
    "# 2. Select those features (i.e., DataFrame columns) and apply, for example, min-max normalization\n",
    "data_norm_0_1[features_to_standardize] = ((data_norm_0_1[features_to_standardize] - \n",
    "                                          data_norm_0_1[features_to_standardize].min()) \n",
    "                                          / (data_norm_0_1[features_to_standardize].max() - \n",
    "                                             data_norm_0_1[features_to_standardize].min()))\n",
    "# 3. Verify the result\n",
    "data_norm_0_1.head()"
   ]
  },
  {
   "cell_type": "code",
   "execution_count": 55,
   "metadata": {
    "slideshow": {
     "slide_type": "slide"
    }
   },
   "outputs": [],
   "source": [
    "# Let's make another deep copy of our DataFrame\n",
    "data_std = data_with_dummies.copy()"
   ]
  },
  {
   "cell_type": "code",
   "execution_count": 56,
   "metadata": {
    "slideshow": {
     "slide_type": "slide"
    }
   },
   "outputs": [],
   "source": [
    "\"\"\"\n",
    "The following three functions are used to standardize/normalize features.\n",
    "\"\"\"\n",
    "# 1. z_score computes the standard z-score of a feature value x\n",
    "def z_score(x, mu_X, sigma_X):\n",
    "    return (x - mu_X)/sigma_X\n",
    "\n",
    "# 2. min_max computes the normalized value of a feature value x in the range [-1, 1]\n",
    "def min_max(x, X_min, X_max):\n",
    "    return (2*x - X_max - X_min)/(X_max - X_min)\n",
    "\n",
    "# 3. min_max_0_1 computes the normalized value of a feature value x in the range [0, 1]\n",
    "def min_max_0_1(x, X_min, X_max):\n",
    "    return (x - X_min)/(X_max - X_min)"
   ]
  },
  {
   "cell_type": "code",
   "execution_count": 57,
   "metadata": {
    "slideshow": {
     "slide_type": "slide"
    }
   },
   "outputs": [
    {
     "data": {
      "text/html": [
       "<div>\n",
       "<style scoped>\n",
       "    .dataframe tbody tr th:only-of-type {\n",
       "        vertical-align: middle;\n",
       "    }\n",
       "\n",
       "    .dataframe tbody tr th {\n",
       "        vertical-align: top;\n",
       "    }\n",
       "\n",
       "    .dataframe thead th {\n",
       "        text-align: right;\n",
       "    }\n",
       "</style>\n",
       "<table border=\"1\" class=\"dataframe\">\n",
       "  <thead>\n",
       "    <tr style=\"text-align: right;\">\n",
       "      <th></th>\n",
       "      <th>displacement</th>\n",
       "      <th>horsepower</th>\n",
       "      <th>weight</th>\n",
       "      <th>acceleration</th>\n",
       "      <th>cylinders_3</th>\n",
       "      <th>cylinders_4</th>\n",
       "      <th>cylinders_5</th>\n",
       "      <th>cylinders_6</th>\n",
       "      <th>cylinders_8</th>\n",
       "      <th>model_year_70</th>\n",
       "      <th>...</th>\n",
       "      <th>automaker_name_datsun</th>\n",
       "      <th>automaker_name_dodge</th>\n",
       "      <th>automaker_name_ford</th>\n",
       "      <th>automaker_name_plymouth</th>\n",
       "      <th>automaker_name_pontiac</th>\n",
       "      <th>automaker_name_toyota</th>\n",
       "      <th>automaker_name_volkswagen</th>\n",
       "      <th>automaker_name_other</th>\n",
       "      <th>car_name</th>\n",
       "      <th>mpg</th>\n",
       "    </tr>\n",
       "  </thead>\n",
       "  <tbody>\n",
       "    <tr>\n",
       "      <th>0</th>\n",
       "      <td>1.089233</td>\n",
       "      <td>0.734730</td>\n",
       "      <td>0.630077</td>\n",
       "      <td>-1.400526</td>\n",
       "      <td>0</td>\n",
       "      <td>0</td>\n",
       "      <td>0</td>\n",
       "      <td>0</td>\n",
       "      <td>1</td>\n",
       "      <td>1</td>\n",
       "      <td>...</td>\n",
       "      <td>0</td>\n",
       "      <td>0</td>\n",
       "      <td>0</td>\n",
       "      <td>0</td>\n",
       "      <td>0</td>\n",
       "      <td>0</td>\n",
       "      <td>0</td>\n",
       "      <td>0</td>\n",
       "      <td>chevrolet chevelle malibu</td>\n",
       "      <td>18.0</td>\n",
       "    </tr>\n",
       "    <tr>\n",
       "      <th>1</th>\n",
       "      <td>1.501624</td>\n",
       "      <td>1.714793</td>\n",
       "      <td>0.853259</td>\n",
       "      <td>-1.596991</td>\n",
       "      <td>0</td>\n",
       "      <td>0</td>\n",
       "      <td>0</td>\n",
       "      <td>0</td>\n",
       "      <td>1</td>\n",
       "      <td>1</td>\n",
       "      <td>...</td>\n",
       "      <td>0</td>\n",
       "      <td>0</td>\n",
       "      <td>0</td>\n",
       "      <td>0</td>\n",
       "      <td>0</td>\n",
       "      <td>0</td>\n",
       "      <td>0</td>\n",
       "      <td>0</td>\n",
       "      <td>buick skylark 320</td>\n",
       "      <td>15.0</td>\n",
       "    </tr>\n",
       "    <tr>\n",
       "      <th>2</th>\n",
       "      <td>1.194728</td>\n",
       "      <td>1.294766</td>\n",
       "      <td>0.549778</td>\n",
       "      <td>-1.793456</td>\n",
       "      <td>0</td>\n",
       "      <td>0</td>\n",
       "      <td>0</td>\n",
       "      <td>0</td>\n",
       "      <td>1</td>\n",
       "      <td>1</td>\n",
       "      <td>...</td>\n",
       "      <td>0</td>\n",
       "      <td>0</td>\n",
       "      <td>0</td>\n",
       "      <td>1</td>\n",
       "      <td>0</td>\n",
       "      <td>0</td>\n",
       "      <td>0</td>\n",
       "      <td>0</td>\n",
       "      <td>plymouth satellite</td>\n",
       "      <td>18.0</td>\n",
       "    </tr>\n",
       "    <tr>\n",
       "      <th>3</th>\n",
       "      <td>1.060461</td>\n",
       "      <td>1.294766</td>\n",
       "      <td>0.546236</td>\n",
       "      <td>-1.400526</td>\n",
       "      <td>0</td>\n",
       "      <td>0</td>\n",
       "      <td>0</td>\n",
       "      <td>0</td>\n",
       "      <td>1</td>\n",
       "      <td>1</td>\n",
       "      <td>...</td>\n",
       "      <td>0</td>\n",
       "      <td>0</td>\n",
       "      <td>0</td>\n",
       "      <td>0</td>\n",
       "      <td>0</td>\n",
       "      <td>0</td>\n",
       "      <td>0</td>\n",
       "      <td>0</td>\n",
       "      <td>amc rebel sst</td>\n",
       "      <td>16.0</td>\n",
       "    </tr>\n",
       "    <tr>\n",
       "      <th>4</th>\n",
       "      <td>1.041280</td>\n",
       "      <td>1.014748</td>\n",
       "      <td>0.565130</td>\n",
       "      <td>-1.793456</td>\n",
       "      <td>0</td>\n",
       "      <td>0</td>\n",
       "      <td>0</td>\n",
       "      <td>0</td>\n",
       "      <td>1</td>\n",
       "      <td>1</td>\n",
       "      <td>...</td>\n",
       "      <td>0</td>\n",
       "      <td>0</td>\n",
       "      <td>1</td>\n",
       "      <td>0</td>\n",
       "      <td>0</td>\n",
       "      <td>0</td>\n",
       "      <td>0</td>\n",
       "      <td>0</td>\n",
       "      <td>ford torino</td>\n",
       "      <td>17.0</td>\n",
       "    </tr>\n",
       "  </tbody>\n",
       "</table>\n",
       "<p>5 rows × 38 columns</p>\n",
       "</div>"
      ],
      "text/plain": [
       "   displacement  horsepower    weight  acceleration  cylinders_3  cylinders_4  \\\n",
       "0      1.089233    0.734730  0.630077     -1.400526            0            0   \n",
       "1      1.501624    1.714793  0.853259     -1.596991            0            0   \n",
       "2      1.194728    1.294766  0.549778     -1.793456            0            0   \n",
       "3      1.060461    1.294766  0.546236     -1.400526            0            0   \n",
       "4      1.041280    1.014748  0.565130     -1.793456            0            0   \n",
       "\n",
       "   cylinders_5  cylinders_6  cylinders_8  model_year_70  ...   \\\n",
       "0            0            0            1              1  ...    \n",
       "1            0            0            1              1  ...    \n",
       "2            0            0            1              1  ...    \n",
       "3            0            0            1              1  ...    \n",
       "4            0            0            1              1  ...    \n",
       "\n",
       "   automaker_name_datsun  automaker_name_dodge  automaker_name_ford  \\\n",
       "0                      0                     0                    0   \n",
       "1                      0                     0                    0   \n",
       "2                      0                     0                    0   \n",
       "3                      0                     0                    0   \n",
       "4                      0                     0                    1   \n",
       "\n",
       "   automaker_name_plymouth  automaker_name_pontiac  automaker_name_toyota  \\\n",
       "0                        0                       0                      0   \n",
       "1                        0                       0                      0   \n",
       "2                        1                       0                      0   \n",
       "3                        0                       0                      0   \n",
       "4                        0                       0                      0   \n",
       "\n",
       "   automaker_name_volkswagen  automaker_name_other                   car_name  \\\n",
       "0                          0                     0  chevrolet chevelle malibu   \n",
       "1                          0                     0          buick skylark 320   \n",
       "2                          0                     0         plymouth satellite   \n",
       "3                          0                     0              amc rebel sst   \n",
       "4                          0                     0                ford torino   \n",
       "\n",
       "    mpg  \n",
       "0  18.0  \n",
       "1  15.0  \n",
       "2  18.0  \n",
       "3  16.0  \n",
       "4  17.0  \n",
       "\n",
       "[5 rows x 38 columns]"
      ]
     },
     "execution_count": 57,
     "metadata": {},
     "output_type": "execute_result"
    }
   ],
   "source": [
    "\"\"\"\n",
    "We use 'map' to call the z_score function above element-wise\n",
    "on each Series object: displacement, horsepower, weight, and acceleration.\n",
    "\"\"\"\n",
    "# 1.a. Compute the mean and std deviation of 'displacement'\n",
    "mu_displacement = data_std.displacement.mean()\n",
    "sigma_displacement = data_std.displacement.std()\n",
    "# 1.b. Call the z_score function on the 'displacement' Series\n",
    "data_std.displacement = data_std.displacement.map(lambda x: \n",
    "                                                  z_score(x, mu_displacement, \n",
    "                                                          sigma_displacement))\n",
    "\n",
    "# 2.a. Compute the mean and std deviation of 'horsepower'\n",
    "mu_horsepower = data_std.horsepower.mean()\n",
    "sigma_horsepower = data_std.horsepower.std()\n",
    "# 2.b. Call the z_score function on the 'horsepower' Series\n",
    "data_std.horsepower = data_std.horsepower.map(lambda x: \n",
    "                                              z_score(x, mu_horsepower, \n",
    "                                                      sigma_horsepower))\n",
    "\n",
    "# 3.a. Compute the mean and std deviation of 'weight'\n",
    "mu_weight = data_std.weight.mean()\n",
    "sigma_weight = data_std.weight.std()\n",
    "# 3.b. Call the z_score function on the 'weight' Series\n",
    "data_std.weight = data_std.weight.map(lambda x: \n",
    "                                      z_score(x, mu_weight, \n",
    "                                              sigma_weight))\n",
    "\n",
    "# 4.a. Compute the mean and std deviation of 'acceleration'\n",
    "mu_acceleration = data_std.acceleration.mean()\n",
    "sigma_acceleration = data_std.acceleration.std()\n",
    "# 4.b. Call the z_score function on the 'acceleration' Series\n",
    "data_std.acceleration = data_std.acceleration.map(lambda x: \n",
    "                                                  z_score(x, mu_acceleration, \n",
    "                                                          sigma_acceleration))\n",
    "\n",
    "data_std.head()"
   ]
  },
  {
   "cell_type": "code",
   "execution_count": null,
   "metadata": {
    "slideshow": {
     "slide_type": "slide"
    }
   },
   "outputs": [],
   "source": [
    "# Let's create yet another deep copy of our DataFrame\n",
    "data_std_z = data_with_dummies.copy()"
   ]
  },
  {
   "cell_type": "code",
   "execution_count": null,
   "metadata": {
    "slideshow": {
     "slide_type": "slide"
    }
   },
   "outputs": [],
   "source": [
    "\"\"\"\n",
    "This is an even more general solution for standardizing multiple features\n",
    "in one shot, using customized \"normalizing\" functions.\n",
    "\"\"\"\n",
    "def standardized_continuous_features(dataset, feature_names, func=z_score):\n",
    "    \n",
    "    if func != z_score and func != min_max and func != min_max_0_1:\n",
    "        func = z_score\n",
    "            \n",
    "    for feature in feature_names:\n",
    "        print(\"Standardized feature \\\"{}\\\" using [{}] function\".format(feature, func.__name__))\n",
    "        if func == min_max or func == min_max_0_1:\n",
    "            feature_min = dataset[feature].min()\n",
    "            feature_max = dataset[feature].max()\n",
    "            print(\"Min. = {}\".format(feature_min))\n",
    "            print(\"Max. = {}\".format(feature_max))\n",
    "            dataset[feature] = dataset[feature].map(lambda x: func(x, feature_min, feature_max))\n",
    "        else:\n",
    "            feature_mean = dataset[feature].mean()\n",
    "            feature_std = dataset[feature].std()\n",
    "            print(\"Mean = {}\".format(feature_mean))\n",
    "            print(\"Std. Deviation = {}\".format(feature_std))\n",
    "            dataset[feature] = dataset[feature].map(lambda x: func(x, feature_mean, feature_std))\n",
    "    \n",
    "    return dataset"
   ]
  },
  {
   "cell_type": "code",
   "execution_count": null,
   "metadata": {
    "slideshow": {
     "slide_type": "slide"
    }
   },
   "outputs": [],
   "source": [
    "\"\"\"\n",
    "We call the function defined above on our deep copy, using the list of features\n",
    "that needs to be standardized.\n",
    "\"\"\"\n",
    "data_std_z = standardized_continuous_features(data_std_z, features_to_standardize)\n",
    "data_std_z.head()"
   ]
  },
  {
   "cell_type": "code",
   "execution_count": null,
   "metadata": {
    "slideshow": {
     "slide_type": "slide"
    }
   },
   "outputs": [],
   "source": [
    "\"\"\"\n",
    "Let's verify the two different approaches above lead to the same result.\"\n",
    "\"\"\"\n",
    "print((np.abs(data_std[features_to_standardize] - data_std_z[features_to_standardize]) < 0.0001).all())"
   ]
  },
  {
   "cell_type": "code",
   "execution_count": null,
   "metadata": {
    "slideshow": {
     "slide_type": "slide"
    }
   },
   "outputs": [],
   "source": [
    "\"\"\"\n",
    "Standardization and min-max scaling can be also performed using scikit-learn.\n",
    "\"\"\"\n",
    "# The following is the scikit-learn package which provides\n",
    "# various preprocessing capabilities\n",
    "from sklearn import preprocessing\n",
    "\n",
    "# Standardizing features using z-score\n",
    "std_scale = preprocessing.StandardScaler().fit(data_with_dummies[features_to_standardize])\n",
    "data_std = std_scale.transform(data_with_dummies[features_to_standardize])\n",
    "\n",
    "# Normalizing features using min-max\n",
    "minmax_scale = preprocessing.MinMaxScaler().fit(data_with_dummies[features_to_standardize])\n",
    "data_minmax = minmax_scale.transform(data_with_dummies[features_to_standardize])\n",
    "\n",
    "# NOTE: 'data_std' and 'data_minmax' are numpy's ndarray (i.e., not pandas' DataFrame) objects"
   ]
  },
  {
   "cell_type": "markdown",
   "metadata": {
    "slideshow": {
     "slide_type": "slide"
    }
   },
   "source": [
    "## 3.5 Feature Selection\n",
    "\n",
    "-  This is a topic that would require an in-depth analysis.\n",
    "\n",
    "-  A very simple approach to select highly discriminant features is given by measuring how each feature correlated with the target, and pick the ones with the highest correlation score."
   ]
  },
  {
   "cell_type": "code",
   "execution_count": null,
   "metadata": {
    "slideshow": {
     "slide_type": "slide"
    }
   },
   "outputs": [],
   "source": [
    "\"\"\"\n",
    "Let's compute feature correlation between each feature and our target 'mpg'.\n",
    "Pandas 'corr()' function when applied to a DataFrame returns the whole correlation matrix.\n",
    "This is a diagonal matrix having all 1's on its diagonal, whilst the entry (i,j) will contain\n",
    "the correlation coefficient between feature i and feature j (i != j).\n",
    "\"\"\"\n",
    "corr_matrix = data_with_dummies.corr()\n",
    "strong_corr = corr_matrix[(corr_matrix['mpg'].abs() > .5) &\n",
    "                         (corr_matrix['mpg'] != 1)].loc[:, 'mpg']\n",
    "\n",
    "print(\"Strongest correlated features:\\n{}\".\n",
    "      format(strong_corr.sort_values()))\n",
    "print()\n",
    "print(\"Strongest correlated features (absolute values):\\n{}\".\n",
    "      format(strong_corr.abs().sort_values(ascending=False)))"
   ]
  }
 ],
 "metadata": {
  "celltoolbar": "Slideshow",
  "kernelspec": {
   "display_name": "Python 3",
   "language": "python",
   "name": "python3"
  },
  "language_info": {
   "codemirror_mode": {
    "name": "ipython",
    "version": 3
   },
   "file_extension": ".py",
   "mimetype": "text/x-python",
   "name": "python",
   "nbconvert_exporter": "python",
   "pygments_lexer": "ipython3",
   "version": "3.6.7"
  }
 },
 "nbformat": 4,
 "nbformat_minor": 2
}
