{
 "cells": [
  {
   "cell_type": "markdown",
   "metadata": {
    "slideshow": {
     "slide_type": "slide"
    }
   },
   "source": [
    "# Fundamentals of Information Systems\n",
    "\n",
    "## Python Programming (for Data Science)\n",
    "\n",
    "### Master's Degree in Data Science\n",
    "\n",
    "#### Gabriele Tolomei\n",
    "<a href=\"mailto:gtolomei@math.unipd.it\">gtolomei@math.unipd.it</a><br/>\n",
    "University of Padua, Italy<br/>\n",
    "2018/2019<br/>\n",
    "October 8, 2018"
   ]
  },
  {
   "cell_type": "markdown",
   "metadata": {
    "slideshow": {
     "slide_type": "slide"
    }
   },
   "source": [
    "# Lecture 0: Preliminaries"
   ]
  },
  {
   "cell_type": "markdown",
   "metadata": {
    "slideshow": {
     "slide_type": "slide"
    }
   },
   "source": [
    "# Course Structure\n",
    "\n",
    "-  This course is made of **3** distinct modules, each one covering a specific set of topics:\n",
    "\n",
    "    -  **Python Programming (for Data Science)** (40 hours, taught by **Dr. Gabriele Tolomei**);\n",
    "    -  **Database Technologies** (24 hours, taught by **Dr. Nicolò Navarin**);\n",
    "    -  **Computer Networking** (32 hours, taught by **Dr. Armir Bujari**). "
   ]
  },
  {
   "cell_type": "markdown",
   "metadata": {
    "slideshow": {
     "slide_type": "slide"
    }
   },
   "source": [
    "# Course Info\n",
    "\n",
    "-  We use **Moodle** for sharing communications and materials for this course (lectures, exercises, etc.).\n",
    "-  **NOTE**: If you haven't already done it, please subscribe to the Moodle's class page at the following address: https://elearning.unipd.it/math/course/view.php?id=321\n",
    "-  You are encouraged to ask for a meeting with the teacher in case you need any clarification: just drop us an email, and we will do our best to satisfy your request (provided you do it with a _reasonable_ notice!)."
   ]
  },
  {
   "cell_type": "markdown",
   "metadata": {
    "slideshow": {
     "slide_type": "slide"
    }
   },
   "source": [
    "# _This_ Module's Objectives\n",
    "\n",
    "-  This module is meant to teach you the **fundamental skills of Python programming** with a special focus on data science tasks.\n",
    "\n",
    "-  Firstly, you will learn the **basics** of Python programming :)\n",
    "\n",
    "-  On top of the above, you will learn the \"nuts and bolts\" of _manipulating_, _processing_, _cleaning_, and _crunching_ **data with Python**.\n",
    "\n",
    "-  Ultimately, you will be equipped with the toolbox you need to become a _real_ **data scientist**!"
   ]
  },
  {
   "cell_type": "markdown",
   "metadata": {
    "slideshow": {
     "slide_type": "slide"
    }
   },
   "source": [
    "# Course Prerequisites\n",
    "\n",
    "-  Fundamentals of (von Neumann) **computer architecture** (*CPU*, *memory hierarchy*) and **operating systems** (*program* vs. *process*).\n",
    "\n",
    "-  Very basic **coding** skills (not necessarily in Python): _variables_, _assignment_, _function call_, etc.\n",
    "\n",
    "-  Some familiarity with **Unix-like shell** commands.\n",
    "\n",
    "-  A laptop! (If some of you don't have one, please let me know and we will find out a solution)."
   ]
  },
  {
   "cell_type": "markdown",
   "metadata": {
    "slideshow": {
     "slide_type": "slide"
    }
   },
   "source": [
    "# Plus\n",
    "\n",
    "-  Later on, we may occasionally need to refer to common data science concepts, methodologies, and techniques:\n",
    "    -  **Probability and Statistics**: probability distributions, random variables, expectation, mean, variance, sampling, tests of statistical significance, etc.\n",
    "    -  **Machine Learning**: supervised/unsupervised learning, training/test set, bias-variance tradeoff, learning algorithms, etc."
   ]
  },
  {
   "cell_type": "markdown",
   "metadata": {
    "slideshow": {
     "slide_type": "slide"
    }
   },
   "source": [
    "# Exams\n",
    "\n",
    "-  A **single**, **unified** written test divided into **3** sections, i.e., one for each module. \n",
    "-  How each section is organized depends on the module it refers to;\n",
    "-  For instance, concerning **_this_** module you may expect to be asked to solve **coding exercises** and, possibly, answer **theoretical questions**.\n",
    "-  **Don't worry now**! There will be time to discuss about exams many times in the future!"
   ]
  },
  {
   "cell_type": "markdown",
   "metadata": {
    "slideshow": {
     "slide_type": "slide"
    }
   },
   "source": [
    "# (Quick) Recap\n",
    "\n",
    "-  How computer works?\n",
    "    -  von Neumann computing model: **CPU** + **RAM** + **I/O**\n",
    "-  Abstraction layers (from the \"physical\" machine)\n",
    "    -  from machine language to higher-level languages (e.g., **C/C++**, **Java**, **Python**)\n",
    "-  What does _actually_ mean programming a computer?"
   ]
  },
  {
   "cell_type": "markdown",
   "metadata": {
    "slideshow": {
     "slide_type": "slide"
    }
   },
   "source": [
    "# Computers are _everywhere_, seriously!\n",
    "\n",
    "<br />\n",
    "<center>![](./img/computers.png)</center>"
   ]
  },
  {
   "cell_type": "markdown",
   "metadata": {
    "slideshow": {
     "slide_type": "slide"
    }
   },
   "source": [
    "# Conceptually, they are all the same!\n",
    "\n",
    "<br />\n",
    "They all follow the same architectural model introduced by **John von Neumann** back in 1945\n",
    "<br />\n",
    "<center>![](./img/vonneumann.png)</center>"
   ]
  },
  {
   "cell_type": "markdown",
   "metadata": {
    "slideshow": {
     "slide_type": "slide"
    }
   },
   "source": [
    "# von Neumann's Computing Architecture\n",
    "\n",
    "<br />\n",
    "<center>![](./img/vonneumann-architecture.png)</center>\n",
    "<center>Source: [Wikipedia](https://en.wikipedia.org/wiki/Von_Neumann_architecture#/media/File:Von_Neumann_Architecture.svg)</center>"
   ]
  },
  {
   "cell_type": "markdown",
   "metadata": {
    "slideshow": {
     "slide_type": "slide"
    }
   },
   "source": [
    "# von Neumann's Computing Architecture: Input\n",
    "\n",
    "<br />\n",
    "<center>![](./img/input-device.png)</center>"
   ]
  },
  {
   "cell_type": "markdown",
   "metadata": {
    "slideshow": {
     "slide_type": "slide"
    }
   },
   "source": [
    "# von Neumann's Computing Architecture: Output\n",
    "\n",
    "<br />\n",
    "<center>![](./img/output-device.png)</center>"
   ]
  },
  {
   "cell_type": "markdown",
   "metadata": {
    "slideshow": {
     "slide_type": "slide"
    }
   },
   "source": [
    "# von Neumann's Computing Architecture: CPU\n",
    "\n",
    "-  The **C**entral **P**rocessing **U**nit (**CPU**) is meant of executing _sequences of instructions_, one instruction by the other.\n",
    "-  Each instruction encodes basic arithmetic and logic computations, using CPU's internal registers.\n",
    "<center>![](./img/cpu.png)</center>"
   ]
  },
  {
   "cell_type": "markdown",
   "metadata": {
    "slideshow": {
     "slide_type": "slide"
    }
   },
   "source": [
    "# von Neumann's Computing Architecture: RAM\n",
    "\n",
    "-  **R**andom **A**ccess **M**emory (**RAM**) contains _instructions_ and _data_, which instructions operate on\n",
    "<center>![](./img/ram.png)</center>"
   ]
  },
  {
   "cell_type": "markdown",
   "metadata": {
    "slideshow": {
     "slide_type": "slide"
    }
   },
   "source": [
    "# A Closer Look into Main Memory (RAM)\n",
    "\n",
    "-  Represented as a sequence (i.e., array) of contiguous **cells**, a.k.a. **locations**.\n",
    "\n",
    "-  Each memory cell is logically organized into groups of **8 bits** (**1 byte**) each, or multiple of it (e.g., 32 bits = 4 bytes).\n",
    "\n",
    "-  Each cell is uniquely identified by its own **memory address**.\n",
    "\n",
    "-  CPU and I/O units may read from/write to main memory by specifying memory address.\n",
    "\n",
    "-  Addressing is usually performed at the single byte level."
   ]
  },
  {
   "cell_type": "markdown",
   "metadata": {
    "slideshow": {
     "slide_type": "slide"
    }
   },
   "source": [
    "# Binary Digit (Bit)\n",
    "\n",
    "-  Can take on **2** possible values: <code>**0**</code> or <code>**1**</code>.\n",
    "\n",
    "-  Suitable encoding to represent the smallest amount of information (e.g., voltage of digital circuits).\n",
    "\n",
    "<center>![](./img/ram-bit.png)</center>"
   ]
  },
  {
   "cell_type": "markdown",
   "metadata": {
    "slideshow": {
     "slide_type": "slide"
    }
   },
   "source": [
    "# Memory Cell/Location\n",
    "\n",
    "<br />\n",
    "<center>![](./img/ram-cell.png)</center>"
   ]
  },
  {
   "cell_type": "markdown",
   "metadata": {
    "slideshow": {
     "slide_type": "slide"
    }
   },
   "source": [
    "# Memory Cell/Location\n",
    "\n",
    "<br />\n",
    "<center>![](./img/ram-cell-4.png)</center>"
   ]
  },
  {
   "cell_type": "markdown",
   "metadata": {
    "slideshow": {
     "slide_type": "slide"
    }
   },
   "source": [
    "# Memory Address\n",
    "\n",
    "<br />\n",
    "<center>![](./img/ram-address.png)</center>"
   ]
  },
  {
   "cell_type": "markdown",
   "metadata": {
    "slideshow": {
     "slide_type": "slide"
    }
   },
   "source": [
    "# CPU Interpreter\n",
    "\n",
    "-  The CPU realizes an **interpreter** which cyclically does the following **3** operations:\n",
    "\n",
    "    -  **Fetch**: retrieve from main memory an instruction which is stored at a specific address whose value is contained in a dedicated CPU register, called **Program Counter**;\n",
    "    -  **Decode**: decode the retrieved instruction;\n",
    "    -  **Execute**: execute the decoded instruction."
   ]
  },
  {
   "cell_type": "markdown",
   "metadata": {
    "slideshow": {
     "slide_type": "slide"
    }
   },
   "source": [
    "# Machine Language\n",
    "\n",
    "-  Defines a set of (elementary) instructions which the CPU interpreter is able to execute directly.\n",
    "\n",
    "-  Such a language is expressed using **binary numerical system**.\n",
    "\n",
    "-  In other words, each instruction of a specific machine language must be encoded as a **sequence of bits**."
   ]
  },
  {
   "cell_type": "markdown",
   "metadata": {
    "slideshow": {
     "slide_type": "slide"
    }
   },
   "source": [
    "# Binary vs. Decimal Numerical System\n",
    "\n",
    "-  In the **decimal numerical system** (base 10), each digit can take only one out of **10** possible values: <code>**0**</code>, <code>**1**</code>, ..., <code>**9**</code>.\n",
    "    <center>![](./img/decimal.png)</center>\n",
    "    \n",
    "-  In the **binary numerical system** (base 2), each digit is a bit:\n",
    "    <center>![](./img/binary.png)</center>"
   ]
  },
  {
   "cell_type": "markdown",
   "metadata": {
    "slideshow": {
     "slide_type": "slide"
    }
   },
   "source": [
    "# Machine Language: Specifications\n",
    "\n",
    "-  Instructions defined by a machine language are composed of **2** parts:\n",
    "    -  An **operator** (<code>**op code**</code>);\n",
    "    -  One or more **operands** representing either CPU's internal registers or main memory addresses.\n",
    "-  The collection of instructions defined by a certain machine language (i.e., **instruction set**) is specific to a hardware implementation: e.g., _Intel x86_, _ARM_, _Sparc_, _MIPS_.\n",
    "\n",
    "-  In a nutshell, machine language indicates the number of bits each instruction dedicates to the operator and operands."
   ]
  },
  {
   "cell_type": "markdown",
   "metadata": {
    "slideshow": {
     "slide_type": "slide"
    }
   },
   "source": [
    "# CPU Cycle: 1. Fetch\n",
    "\n",
    "<br />\n",
    "<center>![](./img/cpu-fetch.png)</center>"
   ]
  },
  {
   "cell_type": "markdown",
   "metadata": {
    "slideshow": {
     "slide_type": "slide"
    }
   },
   "source": [
    "# CPU Cycle: 2. Decode\n",
    "\n",
    "<br />\n",
    "<center>![](./img/cpu-decode.png)</center>"
   ]
  },
  {
   "cell_type": "markdown",
   "metadata": {
    "slideshow": {
     "slide_type": "slide"
    }
   },
   "source": [
    "# CPU Cycle: 3. Execute\n",
    "\n",
    "<br />\n",
    "<center>![](./img/cpu-execute.png)</center>"
   ]
  },
  {
   "cell_type": "markdown",
   "metadata": {
    "slideshow": {
     "slide_type": "slide"
    }
   },
   "source": [
    "# Instructions vs. Data\n",
    "\n",
    "-  According to the von Neumann's architecture, memory cells contains **both** instructions and data.\n",
    "\n",
    "-  CPU wouldn't be able to distinguish between those by simply \"reading\" a bit sequence stored at a given memory address.\n",
    "\n",
    "-  The **Program Counter** register allows separating instructions from data as it _always_ contains the memory address of an instruction."
   ]
  },
  {
   "cell_type": "markdown",
   "metadata": {
    "slideshow": {
     "slide_type": "slide"
    }
   },
   "source": [
    "# Back to Machine Language\n",
    "\n",
    "-  (Binary) Machine language indicates how to write a (representation of a) **program** which is the closest to the bare metal machine (hardware).\n",
    "\n",
    "-  Theoretically, we could write programs using machine language instructions, directly.\n",
    "\n",
    "-  In practice, though, this would be totally insane! (Think about how complex are programs running on our computers, smartphones, etc.).\n",
    "\n",
    "-  **SOLUTION**: abstracting low-level machine language using higher-level languages that are closer to our natural language."
   ]
  },
  {
   "cell_type": "markdown",
   "metadata": {
    "slideshow": {
     "slide_type": "slide"
    }
   },
   "source": [
    "# Abstraction Layers\n",
    "\n",
    "<br />\n",
    "<center>![](./img/abstraction-layers.png)</center>"
   ]
  },
  {
   "cell_type": "markdown",
   "metadata": {
    "slideshow": {
     "slide_type": "slide"
    }
   },
   "source": [
    "# Abstraction Layers\n",
    "\n",
    "-  Each layer is associated with a **language** (which is adopted by _that_ layer).\n",
    "\n",
    "-  Every functionality (of the language) of a layer is implemented by a **program** which is written using language(s) of the layer(s) below.\n",
    "\n",
    "-  **PRO**:\n",
    "    -  Separation between **_what_** has to be done (_specifics_) and **_how_** this has to be done (_implementation_)\n",
    "\n",
    "-  **CON**:\n",
    "    -  The more we abstract from the physical machine the less will be the control we will have over it (delegated to lower layers)"
   ]
  },
  {
   "cell_type": "markdown",
   "metadata": {
    "slideshow": {
     "slide_type": "slide"
    }
   },
   "source": [
    "# What Does Computer Programming Mean?\n",
    "\n",
    "-  Generally speaking, it means writing a program using a high-level language to solve a given problem/task (e.g., find the minimum element of a set of integers).\n",
    "\n",
    "-  In this module, we will be using **Python** as the high-level language to write down our programs.\n",
    "\n",
    "-  Code written using a high-level language is usually referred to as **source code**, and it **_cannot_** be directly executed by the computer.\n",
    "\n",
    "-  **REMEMBER:** The CPU (interpreter) can only directly execute instructions that are defined by a specific (binary) machine language."
   ]
  },
  {
   "cell_type": "markdown",
   "metadata": {
    "slideshow": {
     "slide_type": "slide"
    }
   },
   "source": [
    "# From High-Level Source Code to Low-Level Machine Code\n",
    "\n",
    "-  Different ways of achieving this, which depends on the _implementation_ of the high-level language:\n",
    "\n",
    "    -  **Compilation**\n",
    "    -  **Interpretation**\n",
    "    -  **Hybrid**: Compilation + Interpretation"
   ]
  },
  {
   "cell_type": "markdown",
   "metadata": {
    "slideshow": {
     "slide_type": "slide"
    }
   },
   "source": [
    "# Compilation\n",
    "\n",
    "-  Uses a special computer program, called **compiler**.\n",
    "\n",
    "-  Takes as input a program written in some language (**source code**) and translates it into another language (**target code**): e.g., from C/C++ to assembly.\n",
    "\n",
    "-  Results of compilation is **not** directly executable by the CPU interpreter (although the compiler is tied to a specific CPU): e.g., assembly needs to be further transformed to binary (object) code via **assembler**.\n",
    "    \n",
    "-  Eventually, another program, called **linker**, combines multiple object codes and external libraries into a **single** machine executable code."
   ]
  },
  {
   "cell_type": "markdown",
   "metadata": {
    "slideshow": {
     "slide_type": "slide"
    }
   },
   "source": [
    "# Example: C/C++\n",
    "\n",
    "<br />\n",
    "<center>![](./img/c-c++.png)</center>"
   ]
  },
  {
   "cell_type": "markdown",
   "metadata": {
    "slideshow": {
     "slide_type": "slide"
    }
   },
   "source": [
    "# Interpretation\n",
    "\n",
    "-  Uses a special computer program, called **interpreter**.\n",
    "\n",
    "-  Also interpreters \"translates\" a high-level language into a low-level one, but it does so at the moment the program is run, one instruction at a time.\n",
    "\n",
    "-  The easiest example of an interpreter is the CPU, which realizes an interpreter of machine language via the **3**-phase cylce: _fetch_, _decode_, _execute_.\n",
    "\n",
    "-  Purely interpreted implementations of high-level languages are now rare (**Smalltalk**, 1980), due to performance reasons."
   ]
  },
  {
   "cell_type": "markdown",
   "metadata": {
    "slideshow": {
     "slide_type": "slide"
    }
   },
   "source": [
    "# Hybrid: Compilation + Interpretation\n",
    "\n",
    "-  Tries to take advantage of both worlds.\n",
    "\n",
    "-  High-level language is firstly compiled into an **intermediate** language (usually, referred to as **bytecode**) \n",
    "\n",
    "-  Bytecode is not tied to a specific hardware/CPU and can be interpreted (i.e., executed directly) by a so-called **virtual machine** hosted on top of the physical machine\n",
    "\n",
    "<center><b>bytecode : virtual machine = machine code : CPU</b></center>\n",
    "\n",
    "-  Notable examples of high-level languages whose major implementations mix compilation and interpretation: **Java**, **Python**, **Lisp**, etc."
   ]
  },
  {
   "cell_type": "markdown",
   "metadata": {
    "slideshow": {
     "slide_type": "slide"
    }
   },
   "source": [
    "# Example: Java\n",
    "\n",
    "<br />\n",
    "<center>![](./img/java.jpg)</center>"
   ]
  },
  {
   "cell_type": "markdown",
   "metadata": {
    "slideshow": {
     "slide_type": "slide"
    }
   },
   "source": [
    "# Considerations on Hybrid Approach\n",
    "\n",
    "-  The bytecode interpreter of a virtual machine is itself a program. \n",
    "\n",
    "    -  Oracle's HotSpot JVM interpreter for Java compiled bytecode (implemented in C++ and assembly)\n",
    "    -  CPython interpreter for Python compiled bytecode (implemented in C)\n",
    "    \n",
    "-  Hybrid implementations allow **portability**.\n",
    "\n",
    "-  The same Java code can be compiled on a machine (e.g., Windows/Intel x86) and run everywhere (e.g., Linux/SPARC) as long as there is an implementation of the JVM bytecode interpreter."
   ]
  },
  {
   "cell_type": "markdown",
   "metadata": {
    "slideshow": {
     "slide_type": "slide"
    }
   },
   "source": [
    "# Take Away Message\n",
    "\n",
    "-  Computational model based on CPU + Main Memory (+ I/O).\n",
    "\n",
    "-  Abstraction layers eases writing computer programs.\n",
    "\n",
    "-  Low-level binary machine language vs. high-level programming languages.\n",
    "\n",
    "-  Different language implementations (even for the same language specifications)."
   ]
  }
 ],
 "metadata": {
  "celltoolbar": "Slideshow",
  "kernelspec": {
   "display_name": "Python 3",
   "language": "python",
   "name": "python3"
  },
  "language_info": {
   "codemirror_mode": {
    "name": "ipython",
    "version": 3
   },
   "file_extension": ".py",
   "mimetype": "text/x-python",
   "name": "python",
   "nbconvert_exporter": "python",
   "pygments_lexer": "ipython3",
   "version": "3.6.4"
  }
 },
 "nbformat": 4,
 "nbformat_minor": 2
}
