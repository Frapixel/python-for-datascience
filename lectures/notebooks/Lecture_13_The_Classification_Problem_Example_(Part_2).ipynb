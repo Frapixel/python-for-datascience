{
 "cells": [
  {
   "cell_type": "markdown",
   "metadata": {
    "slideshow": {
     "slide_type": "slide"
    }
   },
   "source": [
    "# Fundamentals of Information Systems\n",
    "\n",
    "## Python Programming (for Data Science)\n",
    "\n",
    "### Master's Degree in Data Science\n",
    "\n",
    "#### Gabriele Tolomei\n",
    "<a href=\"mailto:gtolomei@math.unipd.it\">gtolomei@math.unipd.it</a><br/>\n",
    "University of Padua, Italy<br/>\n",
    "2018/2019<br/>\n",
    "January, 11 2019"
   ]
  },
  {
   "cell_type": "markdown",
   "metadata": {
    "slideshow": {
     "slide_type": "slide"
    }
   },
   "source": [
    "# Lecture 13: The Classification Problem - Example (Part 2)"
   ]
  },
  {
   "cell_type": "markdown",
   "metadata": {
    "slideshow": {
     "slide_type": "slide"
    }
   },
   "source": [
    "## Instructions\n",
    "\n",
    "-  We consider the dataset file <code>**dataset.csv**</code>, which is contained in the <code>**loan-prediction**</code> directory on the Moodle page.\n",
    "\n",
    "-  A description of the dataset is available in the <code>**README.txt**</code> file on the same directory.\n",
    "\n",
    "-  **GOAL:** Use information from past loan applicants contained in <code>**dataset.csv**</code> to predict whether a _new_ applicant should be granted a loan or not."
   ]
  },
  {
   "cell_type": "code",
   "execution_count": 1,
   "metadata": {
    "slideshow": {
     "slide_type": "slide"
    }
   },
   "outputs": [],
   "source": [
    "import math\n",
    "import numpy as np\n",
    "import pandas as pd\n",
    "import matplotlib.pyplot as plt\n",
    "import seaborn as sns\n",
    "# Import stats module from scipy, which contains a large number \n",
    "# of probability distributions as well as an exhaustive library of statistical functions.\n",
    "import scipy.stats as stats\n",
    "\n",
    "%matplotlib inline"
   ]
  },
  {
   "cell_type": "markdown",
   "metadata": {
    "slideshow": {
     "slide_type": "slide"
    }
   },
   "source": [
    "## Summary of Part 1"
   ]
  },
  {
   "cell_type": "code",
   "execution_count": 2,
   "metadata": {
    "slideshow": {
     "slide_type": "slide"
    }
   },
   "outputs": [],
   "source": [
    "# Path to the local dataset file\n",
    "DATASET_PATH = \"./data/loan-prediction/dataset.csv\""
   ]
  },
  {
   "cell_type": "markdown",
   "metadata": {
    "slideshow": {
     "slide_type": "slide"
    }
   },
   "source": [
    "## Loading the Dataset"
   ]
  },
  {
   "cell_type": "code",
   "execution_count": 3,
   "metadata": {
    "slideshow": {
     "slide_type": "slide"
    }
   },
   "outputs": [
    {
     "name": "stdout",
     "output_type": "stream",
     "text": [
      "Shape of the dataset: (614, 12)\n"
     ]
    },
    {
     "data": {
      "text/html": [
       "<div>\n",
       "<style scoped>\n",
       "    .dataframe tbody tr th:only-of-type {\n",
       "        vertical-align: middle;\n",
       "    }\n",
       "\n",
       "    .dataframe tbody tr th {\n",
       "        vertical-align: top;\n",
       "    }\n",
       "\n",
       "    .dataframe thead th {\n",
       "        text-align: right;\n",
       "    }\n",
       "</style>\n",
       "<table border=\"1\" class=\"dataframe\">\n",
       "  <thead>\n",
       "    <tr style=\"text-align: right;\">\n",
       "      <th></th>\n",
       "      <th>Gender</th>\n",
       "      <th>Married</th>\n",
       "      <th>Dependents</th>\n",
       "      <th>Education</th>\n",
       "      <th>Self_Employed</th>\n",
       "      <th>ApplicantIncome</th>\n",
       "      <th>CoapplicantIncome</th>\n",
       "      <th>LoanAmount</th>\n",
       "      <th>Loan_Amount_Term</th>\n",
       "      <th>Credit_History</th>\n",
       "      <th>Property_Area</th>\n",
       "      <th>Loan_Status</th>\n",
       "    </tr>\n",
       "    <tr>\n",
       "      <th>Loan_ID</th>\n",
       "      <th></th>\n",
       "      <th></th>\n",
       "      <th></th>\n",
       "      <th></th>\n",
       "      <th></th>\n",
       "      <th></th>\n",
       "      <th></th>\n",
       "      <th></th>\n",
       "      <th></th>\n",
       "      <th></th>\n",
       "      <th></th>\n",
       "      <th></th>\n",
       "    </tr>\n",
       "  </thead>\n",
       "  <tbody>\n",
       "    <tr>\n",
       "      <th>LP001002</th>\n",
       "      <td>Male</td>\n",
       "      <td>No</td>\n",
       "      <td>0</td>\n",
       "      <td>Graduate</td>\n",
       "      <td>No</td>\n",
       "      <td>5849</td>\n",
       "      <td>0.0</td>\n",
       "      <td>NaN</td>\n",
       "      <td>360.0</td>\n",
       "      <td>1.0</td>\n",
       "      <td>Urban</td>\n",
       "      <td>Y</td>\n",
       "    </tr>\n",
       "    <tr>\n",
       "      <th>LP001003</th>\n",
       "      <td>Male</td>\n",
       "      <td>Yes</td>\n",
       "      <td>1</td>\n",
       "      <td>Graduate</td>\n",
       "      <td>No</td>\n",
       "      <td>4583</td>\n",
       "      <td>1508.0</td>\n",
       "      <td>128.0</td>\n",
       "      <td>360.0</td>\n",
       "      <td>1.0</td>\n",
       "      <td>Rural</td>\n",
       "      <td>N</td>\n",
       "    </tr>\n",
       "    <tr>\n",
       "      <th>LP001005</th>\n",
       "      <td>Male</td>\n",
       "      <td>Yes</td>\n",
       "      <td>0</td>\n",
       "      <td>Graduate</td>\n",
       "      <td>Yes</td>\n",
       "      <td>3000</td>\n",
       "      <td>0.0</td>\n",
       "      <td>66.0</td>\n",
       "      <td>360.0</td>\n",
       "      <td>1.0</td>\n",
       "      <td>Urban</td>\n",
       "      <td>Y</td>\n",
       "    </tr>\n",
       "    <tr>\n",
       "      <th>LP001006</th>\n",
       "      <td>Male</td>\n",
       "      <td>Yes</td>\n",
       "      <td>0</td>\n",
       "      <td>Not Graduate</td>\n",
       "      <td>No</td>\n",
       "      <td>2583</td>\n",
       "      <td>2358.0</td>\n",
       "      <td>120.0</td>\n",
       "      <td>360.0</td>\n",
       "      <td>1.0</td>\n",
       "      <td>Urban</td>\n",
       "      <td>Y</td>\n",
       "    </tr>\n",
       "    <tr>\n",
       "      <th>LP001008</th>\n",
       "      <td>Male</td>\n",
       "      <td>No</td>\n",
       "      <td>0</td>\n",
       "      <td>Graduate</td>\n",
       "      <td>No</td>\n",
       "      <td>6000</td>\n",
       "      <td>0.0</td>\n",
       "      <td>141.0</td>\n",
       "      <td>360.0</td>\n",
       "      <td>1.0</td>\n",
       "      <td>Urban</td>\n",
       "      <td>Y</td>\n",
       "    </tr>\n",
       "  </tbody>\n",
       "</table>\n",
       "</div>"
      ],
      "text/plain": [
       "         Gender Married Dependents     Education Self_Employed  \\\n",
       "Loan_ID                                                          \n",
       "LP001002   Male      No          0      Graduate            No   \n",
       "LP001003   Male     Yes          1      Graduate            No   \n",
       "LP001005   Male     Yes          0      Graduate           Yes   \n",
       "LP001006   Male     Yes          0  Not Graduate            No   \n",
       "LP001008   Male      No          0      Graduate            No   \n",
       "\n",
       "          ApplicantIncome  CoapplicantIncome  LoanAmount  Loan_Amount_Term  \\\n",
       "Loan_ID                                                                      \n",
       "LP001002             5849                0.0         NaN             360.0   \n",
       "LP001003             4583             1508.0       128.0             360.0   \n",
       "LP001005             3000                0.0        66.0             360.0   \n",
       "LP001006             2583             2358.0       120.0             360.0   \n",
       "LP001008             6000                0.0       141.0             360.0   \n",
       "\n",
       "          Credit_History Property_Area Loan_Status  \n",
       "Loan_ID                                             \n",
       "LP001002             1.0         Urban           Y  \n",
       "LP001003             1.0         Rural           N  \n",
       "LP001005             1.0         Urban           Y  \n",
       "LP001006             1.0         Urban           Y  \n",
       "LP001008             1.0         Urban           Y  "
      ]
     },
     "execution_count": 3,
     "metadata": {},
     "output_type": "execute_result"
    }
   ],
   "source": [
    "# Load the dataset with Pandas\n",
    "data = pd.read_csv(DATASET_PATH, sep=\",\", index_col=\"Loan_ID\")\n",
    "print(\"Shape of the dataset: {}\".format(data.shape))\n",
    "data.head()\n",
    "# NOTE: the first line of the file is considered as the header"
   ]
  },
  {
   "cell_type": "markdown",
   "metadata": {
    "slideshow": {
     "slide_type": "slide"
    }
   },
   "source": [
    "## Handling Missing Values (NA)"
   ]
  },
  {
   "cell_type": "code",
   "execution_count": 4,
   "metadata": {
    "slideshow": {
     "slide_type": "slide"
    }
   },
   "outputs": [],
   "source": [
    "# is_numeric_dtype(pandas.Series) returns True iff the dtype associated with the pandas.Series is numeric\n",
    "from pandas.api.types import is_numeric_dtype\n",
    "\n",
    "data = data.apply(lambda x: x.fillna(x.median()) \n",
    "                      if is_numeric_dtype(x) \n",
    "                      else x.fillna(x.mode().iloc[0]))"
   ]
  },
  {
   "cell_type": "markdown",
   "metadata": {
    "slideshow": {
     "slide_type": "slide"
    }
   },
   "source": [
    "## Handling Outliers"
   ]
  },
  {
   "cell_type": "code",
   "execution_count": 5,
   "metadata": {
    "slideshow": {
     "slide_type": "slide"
    }
   },
   "outputs": [],
   "source": [
    "# Let's winsorize 'ApplicantIncome', 'CoapplicantIncome', and 'LoanAmount'\n",
    "_ = stats.mstats.winsorize(data.ApplicantIncome, limits=0.05, inplace=True)\n",
    "_ = stats.mstats.winsorize(data.CoapplicantIncome, limits=0.05, inplace=True)\n",
    "_ = stats.mstats.winsorize(data.LoanAmount, limits=0.05, inplace=True)\n",
    "\n",
    "# Apply log-transformation to 'ApplicantIncome' and assign it to a new column\n",
    "data['Log_ApplicantIncome'] = data.ApplicantIncome.apply(np.log)\n",
    "# Apply log-transformation to 'LoanAmount' and assign it to a new column\n",
    "data['Log_LoanAmount'] = data.LoanAmount.apply(np.log)"
   ]
  },
  {
   "cell_type": "markdown",
   "metadata": {
    "slideshow": {
     "slide_type": "slide"
    }
   },
   "source": [
    "## Encoding Categorical Features: One-Hot Encoding"
   ]
  },
  {
   "cell_type": "code",
   "execution_count": 6,
   "metadata": {
    "scrolled": true,
    "slideshow": {
     "slide_type": "slide"
    }
   },
   "outputs": [
    {
     "data": {
      "text/html": [
       "<div>\n",
       "<style scoped>\n",
       "    .dataframe tbody tr th:only-of-type {\n",
       "        vertical-align: middle;\n",
       "    }\n",
       "\n",
       "    .dataframe tbody tr th {\n",
       "        vertical-align: top;\n",
       "    }\n",
       "\n",
       "    .dataframe thead th {\n",
       "        text-align: right;\n",
       "    }\n",
       "</style>\n",
       "<table border=\"1\" class=\"dataframe\">\n",
       "  <thead>\n",
       "    <tr style=\"text-align: right;\">\n",
       "      <th></th>\n",
       "      <th>ApplicantIncome</th>\n",
       "      <th>CoapplicantIncome</th>\n",
       "      <th>LoanAmount</th>\n",
       "      <th>Loan_Amount_Term</th>\n",
       "      <th>Credit_History</th>\n",
       "      <th>Loan_Status</th>\n",
       "      <th>Log_ApplicantIncome</th>\n",
       "      <th>Log_LoanAmount</th>\n",
       "      <th>Gender_Female</th>\n",
       "      <th>Gender_Male</th>\n",
       "      <th>...</th>\n",
       "      <th>Dependents_1</th>\n",
       "      <th>Dependents_2</th>\n",
       "      <th>Dependents_3+</th>\n",
       "      <th>Education_Graduate</th>\n",
       "      <th>Education_Not Graduate</th>\n",
       "      <th>Self_Employed_No</th>\n",
       "      <th>Self_Employed_Yes</th>\n",
       "      <th>Property_Area_Rural</th>\n",
       "      <th>Property_Area_Semiurban</th>\n",
       "      <th>Property_Area_Urban</th>\n",
       "    </tr>\n",
       "    <tr>\n",
       "      <th>Loan_ID</th>\n",
       "      <th></th>\n",
       "      <th></th>\n",
       "      <th></th>\n",
       "      <th></th>\n",
       "      <th></th>\n",
       "      <th></th>\n",
       "      <th></th>\n",
       "      <th></th>\n",
       "      <th></th>\n",
       "      <th></th>\n",
       "      <th></th>\n",
       "      <th></th>\n",
       "      <th></th>\n",
       "      <th></th>\n",
       "      <th></th>\n",
       "      <th></th>\n",
       "      <th></th>\n",
       "      <th></th>\n",
       "      <th></th>\n",
       "      <th></th>\n",
       "      <th></th>\n",
       "    </tr>\n",
       "  </thead>\n",
       "  <tbody>\n",
       "    <tr>\n",
       "      <th>LP001002</th>\n",
       "      <td>5849</td>\n",
       "      <td>0.0</td>\n",
       "      <td>128.0</td>\n",
       "      <td>360.0</td>\n",
       "      <td>1.0</td>\n",
       "      <td>Y</td>\n",
       "      <td>8.674026</td>\n",
       "      <td>4.852030</td>\n",
       "      <td>0</td>\n",
       "      <td>1</td>\n",
       "      <td>...</td>\n",
       "      <td>0</td>\n",
       "      <td>0</td>\n",
       "      <td>0</td>\n",
       "      <td>1</td>\n",
       "      <td>0</td>\n",
       "      <td>1</td>\n",
       "      <td>0</td>\n",
       "      <td>0</td>\n",
       "      <td>0</td>\n",
       "      <td>1</td>\n",
       "    </tr>\n",
       "    <tr>\n",
       "      <th>LP001003</th>\n",
       "      <td>4583</td>\n",
       "      <td>1508.0</td>\n",
       "      <td>128.0</td>\n",
       "      <td>360.0</td>\n",
       "      <td>1.0</td>\n",
       "      <td>N</td>\n",
       "      <td>8.430109</td>\n",
       "      <td>4.852030</td>\n",
       "      <td>0</td>\n",
       "      <td>1</td>\n",
       "      <td>...</td>\n",
       "      <td>1</td>\n",
       "      <td>0</td>\n",
       "      <td>0</td>\n",
       "      <td>1</td>\n",
       "      <td>0</td>\n",
       "      <td>1</td>\n",
       "      <td>0</td>\n",
       "      <td>1</td>\n",
       "      <td>0</td>\n",
       "      <td>0</td>\n",
       "    </tr>\n",
       "    <tr>\n",
       "      <th>LP001005</th>\n",
       "      <td>3000</td>\n",
       "      <td>0.0</td>\n",
       "      <td>66.0</td>\n",
       "      <td>360.0</td>\n",
       "      <td>1.0</td>\n",
       "      <td>Y</td>\n",
       "      <td>8.006368</td>\n",
       "      <td>4.189655</td>\n",
       "      <td>0</td>\n",
       "      <td>1</td>\n",
       "      <td>...</td>\n",
       "      <td>0</td>\n",
       "      <td>0</td>\n",
       "      <td>0</td>\n",
       "      <td>1</td>\n",
       "      <td>0</td>\n",
       "      <td>0</td>\n",
       "      <td>1</td>\n",
       "      <td>0</td>\n",
       "      <td>0</td>\n",
       "      <td>1</td>\n",
       "    </tr>\n",
       "    <tr>\n",
       "      <th>LP001006</th>\n",
       "      <td>2583</td>\n",
       "      <td>2358.0</td>\n",
       "      <td>120.0</td>\n",
       "      <td>360.0</td>\n",
       "      <td>1.0</td>\n",
       "      <td>Y</td>\n",
       "      <td>7.856707</td>\n",
       "      <td>4.787492</td>\n",
       "      <td>0</td>\n",
       "      <td>1</td>\n",
       "      <td>...</td>\n",
       "      <td>0</td>\n",
       "      <td>0</td>\n",
       "      <td>0</td>\n",
       "      <td>0</td>\n",
       "      <td>1</td>\n",
       "      <td>1</td>\n",
       "      <td>0</td>\n",
       "      <td>0</td>\n",
       "      <td>0</td>\n",
       "      <td>1</td>\n",
       "    </tr>\n",
       "    <tr>\n",
       "      <th>LP001008</th>\n",
       "      <td>6000</td>\n",
       "      <td>0.0</td>\n",
       "      <td>141.0</td>\n",
       "      <td>360.0</td>\n",
       "      <td>1.0</td>\n",
       "      <td>Y</td>\n",
       "      <td>8.699515</td>\n",
       "      <td>4.948760</td>\n",
       "      <td>0</td>\n",
       "      <td>1</td>\n",
       "      <td>...</td>\n",
       "      <td>0</td>\n",
       "      <td>0</td>\n",
       "      <td>0</td>\n",
       "      <td>1</td>\n",
       "      <td>0</td>\n",
       "      <td>1</td>\n",
       "      <td>0</td>\n",
       "      <td>0</td>\n",
       "      <td>0</td>\n",
       "      <td>1</td>\n",
       "    </tr>\n",
       "  </tbody>\n",
       "</table>\n",
       "<p>5 rows × 23 columns</p>\n",
       "</div>"
      ],
      "text/plain": [
       "          ApplicantIncome  CoapplicantIncome  LoanAmount  Loan_Amount_Term  \\\n",
       "Loan_ID                                                                      \n",
       "LP001002             5849                0.0       128.0             360.0   \n",
       "LP001003             4583             1508.0       128.0             360.0   \n",
       "LP001005             3000                0.0        66.0             360.0   \n",
       "LP001006             2583             2358.0       120.0             360.0   \n",
       "LP001008             6000                0.0       141.0             360.0   \n",
       "\n",
       "          Credit_History Loan_Status  Log_ApplicantIncome  Log_LoanAmount  \\\n",
       "Loan_ID                                                                     \n",
       "LP001002             1.0           Y             8.674026        4.852030   \n",
       "LP001003             1.0           N             8.430109        4.852030   \n",
       "LP001005             1.0           Y             8.006368        4.189655   \n",
       "LP001006             1.0           Y             7.856707        4.787492   \n",
       "LP001008             1.0           Y             8.699515        4.948760   \n",
       "\n",
       "          Gender_Female  Gender_Male         ...           Dependents_1  \\\n",
       "Loan_ID                                      ...                          \n",
       "LP001002              0            1         ...                      0   \n",
       "LP001003              0            1         ...                      1   \n",
       "LP001005              0            1         ...                      0   \n",
       "LP001006              0            1         ...                      0   \n",
       "LP001008              0            1         ...                      0   \n",
       "\n",
       "          Dependents_2  Dependents_3+  Education_Graduate  \\\n",
       "Loan_ID                                                     \n",
       "LP001002             0              0                   1   \n",
       "LP001003             0              0                   1   \n",
       "LP001005             0              0                   1   \n",
       "LP001006             0              0                   0   \n",
       "LP001008             0              0                   1   \n",
       "\n",
       "          Education_Not Graduate  Self_Employed_No  Self_Employed_Yes  \\\n",
       "Loan_ID                                                                 \n",
       "LP001002                       0                 1                  0   \n",
       "LP001003                       0                 1                  0   \n",
       "LP001005                       0                 0                  1   \n",
       "LP001006                       1                 1                  0   \n",
       "LP001008                       0                 1                  0   \n",
       "\n",
       "          Property_Area_Rural  Property_Area_Semiurban  Property_Area_Urban  \n",
       "Loan_ID                                                                      \n",
       "LP001002                    0                        0                    1  \n",
       "LP001003                    1                        0                    0  \n",
       "LP001005                    0                        0                    1  \n",
       "LP001006                    0                        0                    1  \n",
       "LP001008                    0                        0                    1  \n",
       "\n",
       "[5 rows x 23 columns]"
      ]
     },
     "execution_count": 6,
     "metadata": {},
     "output_type": "execute_result"
    }
   ],
   "source": [
    "# In pandas we can achieve easily one-hot encoding using the 'get_dummies()' function\n",
    "categorical_features = [col for col in data.columns if not is_numeric_dtype(data[col]) and col != 'Loan_Status']\n",
    "data_with_dummies = pd.get_dummies(data, columns = categorical_features)\n",
    "data_with_dummies.head()"
   ]
  },
  {
   "cell_type": "code",
   "execution_count": 7,
   "metadata": {
    "slideshow": {
     "slide_type": "slide"
    }
   },
   "outputs": [
    {
     "data": {
      "text/html": [
       "<div>\n",
       "<style scoped>\n",
       "    .dataframe tbody tr th:only-of-type {\n",
       "        vertical-align: middle;\n",
       "    }\n",
       "\n",
       "    .dataframe tbody tr th {\n",
       "        vertical-align: top;\n",
       "    }\n",
       "\n",
       "    .dataframe thead th {\n",
       "        text-align: right;\n",
       "    }\n",
       "</style>\n",
       "<table border=\"1\" class=\"dataframe\">\n",
       "  <thead>\n",
       "    <tr style=\"text-align: right;\">\n",
       "      <th></th>\n",
       "      <th>ApplicantIncome</th>\n",
       "      <th>CoapplicantIncome</th>\n",
       "      <th>LoanAmount</th>\n",
       "      <th>Loan_Amount_Term</th>\n",
       "      <th>Credit_History</th>\n",
       "      <th>Log_ApplicantIncome</th>\n",
       "      <th>Log_LoanAmount</th>\n",
       "      <th>Gender_Female</th>\n",
       "      <th>Gender_Male</th>\n",
       "      <th>Married_No</th>\n",
       "      <th>...</th>\n",
       "      <th>Dependents_2</th>\n",
       "      <th>Dependents_3+</th>\n",
       "      <th>Education_Graduate</th>\n",
       "      <th>Education_Not Graduate</th>\n",
       "      <th>Self_Employed_No</th>\n",
       "      <th>Self_Employed_Yes</th>\n",
       "      <th>Property_Area_Rural</th>\n",
       "      <th>Property_Area_Semiurban</th>\n",
       "      <th>Property_Area_Urban</th>\n",
       "      <th>Loan_Status</th>\n",
       "    </tr>\n",
       "    <tr>\n",
       "      <th>Loan_ID</th>\n",
       "      <th></th>\n",
       "      <th></th>\n",
       "      <th></th>\n",
       "      <th></th>\n",
       "      <th></th>\n",
       "      <th></th>\n",
       "      <th></th>\n",
       "      <th></th>\n",
       "      <th></th>\n",
       "      <th></th>\n",
       "      <th></th>\n",
       "      <th></th>\n",
       "      <th></th>\n",
       "      <th></th>\n",
       "      <th></th>\n",
       "      <th></th>\n",
       "      <th></th>\n",
       "      <th></th>\n",
       "      <th></th>\n",
       "      <th></th>\n",
       "      <th></th>\n",
       "    </tr>\n",
       "  </thead>\n",
       "  <tbody>\n",
       "    <tr>\n",
       "      <th>LP001002</th>\n",
       "      <td>5849</td>\n",
       "      <td>0.0</td>\n",
       "      <td>128.0</td>\n",
       "      <td>360.0</td>\n",
       "      <td>1.0</td>\n",
       "      <td>8.674026</td>\n",
       "      <td>4.852030</td>\n",
       "      <td>0</td>\n",
       "      <td>1</td>\n",
       "      <td>1</td>\n",
       "      <td>...</td>\n",
       "      <td>0</td>\n",
       "      <td>0</td>\n",
       "      <td>1</td>\n",
       "      <td>0</td>\n",
       "      <td>1</td>\n",
       "      <td>0</td>\n",
       "      <td>0</td>\n",
       "      <td>0</td>\n",
       "      <td>1</td>\n",
       "      <td>Y</td>\n",
       "    </tr>\n",
       "    <tr>\n",
       "      <th>LP001003</th>\n",
       "      <td>4583</td>\n",
       "      <td>1508.0</td>\n",
       "      <td>128.0</td>\n",
       "      <td>360.0</td>\n",
       "      <td>1.0</td>\n",
       "      <td>8.430109</td>\n",
       "      <td>4.852030</td>\n",
       "      <td>0</td>\n",
       "      <td>1</td>\n",
       "      <td>0</td>\n",
       "      <td>...</td>\n",
       "      <td>0</td>\n",
       "      <td>0</td>\n",
       "      <td>1</td>\n",
       "      <td>0</td>\n",
       "      <td>1</td>\n",
       "      <td>0</td>\n",
       "      <td>1</td>\n",
       "      <td>0</td>\n",
       "      <td>0</td>\n",
       "      <td>N</td>\n",
       "    </tr>\n",
       "    <tr>\n",
       "      <th>LP001005</th>\n",
       "      <td>3000</td>\n",
       "      <td>0.0</td>\n",
       "      <td>66.0</td>\n",
       "      <td>360.0</td>\n",
       "      <td>1.0</td>\n",
       "      <td>8.006368</td>\n",
       "      <td>4.189655</td>\n",
       "      <td>0</td>\n",
       "      <td>1</td>\n",
       "      <td>0</td>\n",
       "      <td>...</td>\n",
       "      <td>0</td>\n",
       "      <td>0</td>\n",
       "      <td>1</td>\n",
       "      <td>0</td>\n",
       "      <td>0</td>\n",
       "      <td>1</td>\n",
       "      <td>0</td>\n",
       "      <td>0</td>\n",
       "      <td>1</td>\n",
       "      <td>Y</td>\n",
       "    </tr>\n",
       "    <tr>\n",
       "      <th>LP001006</th>\n",
       "      <td>2583</td>\n",
       "      <td>2358.0</td>\n",
       "      <td>120.0</td>\n",
       "      <td>360.0</td>\n",
       "      <td>1.0</td>\n",
       "      <td>7.856707</td>\n",
       "      <td>4.787492</td>\n",
       "      <td>0</td>\n",
       "      <td>1</td>\n",
       "      <td>0</td>\n",
       "      <td>...</td>\n",
       "      <td>0</td>\n",
       "      <td>0</td>\n",
       "      <td>0</td>\n",
       "      <td>1</td>\n",
       "      <td>1</td>\n",
       "      <td>0</td>\n",
       "      <td>0</td>\n",
       "      <td>0</td>\n",
       "      <td>1</td>\n",
       "      <td>Y</td>\n",
       "    </tr>\n",
       "    <tr>\n",
       "      <th>LP001008</th>\n",
       "      <td>6000</td>\n",
       "      <td>0.0</td>\n",
       "      <td>141.0</td>\n",
       "      <td>360.0</td>\n",
       "      <td>1.0</td>\n",
       "      <td>8.699515</td>\n",
       "      <td>4.948760</td>\n",
       "      <td>0</td>\n",
       "      <td>1</td>\n",
       "      <td>1</td>\n",
       "      <td>...</td>\n",
       "      <td>0</td>\n",
       "      <td>0</td>\n",
       "      <td>1</td>\n",
       "      <td>0</td>\n",
       "      <td>1</td>\n",
       "      <td>0</td>\n",
       "      <td>0</td>\n",
       "      <td>0</td>\n",
       "      <td>1</td>\n",
       "      <td>Y</td>\n",
       "    </tr>\n",
       "  </tbody>\n",
       "</table>\n",
       "<p>5 rows × 23 columns</p>\n",
       "</div>"
      ],
      "text/plain": [
       "          ApplicantIncome  CoapplicantIncome  LoanAmount  Loan_Amount_Term  \\\n",
       "Loan_ID                                                                      \n",
       "LP001002             5849                0.0       128.0             360.0   \n",
       "LP001003             4583             1508.0       128.0             360.0   \n",
       "LP001005             3000                0.0        66.0             360.0   \n",
       "LP001006             2583             2358.0       120.0             360.0   \n",
       "LP001008             6000                0.0       141.0             360.0   \n",
       "\n",
       "          Credit_History  Log_ApplicantIncome  Log_LoanAmount  Gender_Female  \\\n",
       "Loan_ID                                                                        \n",
       "LP001002             1.0             8.674026        4.852030              0   \n",
       "LP001003             1.0             8.430109        4.852030              0   \n",
       "LP001005             1.0             8.006368        4.189655              0   \n",
       "LP001006             1.0             7.856707        4.787492              0   \n",
       "LP001008             1.0             8.699515        4.948760              0   \n",
       "\n",
       "          Gender_Male  Married_No     ...       Dependents_2  Dependents_3+  \\\n",
       "Loan_ID                               ...                                     \n",
       "LP001002            1           1     ...                  0              0   \n",
       "LP001003            1           0     ...                  0              0   \n",
       "LP001005            1           0     ...                  0              0   \n",
       "LP001006            1           0     ...                  0              0   \n",
       "LP001008            1           1     ...                  0              0   \n",
       "\n",
       "          Education_Graduate  Education_Not Graduate  Self_Employed_No  \\\n",
       "Loan_ID                                                                  \n",
       "LP001002                   1                       0                 1   \n",
       "LP001003                   1                       0                 1   \n",
       "LP001005                   1                       0                 0   \n",
       "LP001006                   0                       1                 1   \n",
       "LP001008                   1                       0                 1   \n",
       "\n",
       "          Self_Employed_Yes  Property_Area_Rural  Property_Area_Semiurban  \\\n",
       "Loan_ID                                                                     \n",
       "LP001002                  0                    0                        0   \n",
       "LP001003                  0                    1                        0   \n",
       "LP001005                  1                    0                        0   \n",
       "LP001006                  0                    0                        0   \n",
       "LP001008                  0                    0                        0   \n",
       "\n",
       "          Property_Area_Urban  Loan_Status  \n",
       "Loan_ID                                     \n",
       "LP001002                    1            Y  \n",
       "LP001003                    0            N  \n",
       "LP001005                    1            Y  \n",
       "LP001006                    1            Y  \n",
       "LP001008                    1            Y  \n",
       "\n",
       "[5 rows x 23 columns]"
      ]
     },
     "execution_count": 7,
     "metadata": {},
     "output_type": "execute_result"
    }
   ],
   "source": [
    "# Just as a convention, I prefer to place the column to be predicted\n",
    "# as the last one.\n",
    "columns = data_with_dummies.columns.tolist()\n",
    "# Popping out 'mpg' from the list and insert it back at the end.\n",
    "columns.insert(len(columns), columns.pop(columns.index('Loan_Status')))\n",
    "# Let's refactor the DataFrame using this new column index\n",
    "data_with_dummies = data_with_dummies.loc[:, columns]\n",
    "data_with_dummies.head()"
   ]
  },
  {
   "cell_type": "markdown",
   "metadata": {
    "slideshow": {
     "slide_type": "slide"
    }
   },
   "source": [
    "## Encoding Binary Class Label"
   ]
  },
  {
   "cell_type": "code",
   "execution_count": 8,
   "metadata": {
    "slideshow": {
     "slide_type": "slide"
    }
   },
   "outputs": [
    {
     "data": {
      "text/html": [
       "<div>\n",
       "<style scoped>\n",
       "    .dataframe tbody tr th:only-of-type {\n",
       "        vertical-align: middle;\n",
       "    }\n",
       "\n",
       "    .dataframe tbody tr th {\n",
       "        vertical-align: top;\n",
       "    }\n",
       "\n",
       "    .dataframe thead th {\n",
       "        text-align: right;\n",
       "    }\n",
       "</style>\n",
       "<table border=\"1\" class=\"dataframe\">\n",
       "  <thead>\n",
       "    <tr style=\"text-align: right;\">\n",
       "      <th></th>\n",
       "      <th>ApplicantIncome</th>\n",
       "      <th>CoapplicantIncome</th>\n",
       "      <th>LoanAmount</th>\n",
       "      <th>Loan_Amount_Term</th>\n",
       "      <th>Credit_History</th>\n",
       "      <th>Log_ApplicantIncome</th>\n",
       "      <th>Log_LoanAmount</th>\n",
       "      <th>Gender_Female</th>\n",
       "      <th>Gender_Male</th>\n",
       "      <th>Married_No</th>\n",
       "      <th>...</th>\n",
       "      <th>Dependents_2</th>\n",
       "      <th>Dependents_3+</th>\n",
       "      <th>Education_Graduate</th>\n",
       "      <th>Education_Not Graduate</th>\n",
       "      <th>Self_Employed_No</th>\n",
       "      <th>Self_Employed_Yes</th>\n",
       "      <th>Property_Area_Rural</th>\n",
       "      <th>Property_Area_Semiurban</th>\n",
       "      <th>Property_Area_Urban</th>\n",
       "      <th>Loan_Status</th>\n",
       "    </tr>\n",
       "    <tr>\n",
       "      <th>Loan_ID</th>\n",
       "      <th></th>\n",
       "      <th></th>\n",
       "      <th></th>\n",
       "      <th></th>\n",
       "      <th></th>\n",
       "      <th></th>\n",
       "      <th></th>\n",
       "      <th></th>\n",
       "      <th></th>\n",
       "      <th></th>\n",
       "      <th></th>\n",
       "      <th></th>\n",
       "      <th></th>\n",
       "      <th></th>\n",
       "      <th></th>\n",
       "      <th></th>\n",
       "      <th></th>\n",
       "      <th></th>\n",
       "      <th></th>\n",
       "      <th></th>\n",
       "      <th></th>\n",
       "    </tr>\n",
       "  </thead>\n",
       "  <tbody>\n",
       "    <tr>\n",
       "      <th>LP001002</th>\n",
       "      <td>5849</td>\n",
       "      <td>0.0</td>\n",
       "      <td>128.0</td>\n",
       "      <td>360.0</td>\n",
       "      <td>1.0</td>\n",
       "      <td>8.674026</td>\n",
       "      <td>4.852030</td>\n",
       "      <td>0</td>\n",
       "      <td>1</td>\n",
       "      <td>1</td>\n",
       "      <td>...</td>\n",
       "      <td>0</td>\n",
       "      <td>0</td>\n",
       "      <td>1</td>\n",
       "      <td>0</td>\n",
       "      <td>1</td>\n",
       "      <td>0</td>\n",
       "      <td>0</td>\n",
       "      <td>0</td>\n",
       "      <td>1</td>\n",
       "      <td>1</td>\n",
       "    </tr>\n",
       "    <tr>\n",
       "      <th>LP001003</th>\n",
       "      <td>4583</td>\n",
       "      <td>1508.0</td>\n",
       "      <td>128.0</td>\n",
       "      <td>360.0</td>\n",
       "      <td>1.0</td>\n",
       "      <td>8.430109</td>\n",
       "      <td>4.852030</td>\n",
       "      <td>0</td>\n",
       "      <td>1</td>\n",
       "      <td>0</td>\n",
       "      <td>...</td>\n",
       "      <td>0</td>\n",
       "      <td>0</td>\n",
       "      <td>1</td>\n",
       "      <td>0</td>\n",
       "      <td>1</td>\n",
       "      <td>0</td>\n",
       "      <td>1</td>\n",
       "      <td>0</td>\n",
       "      <td>0</td>\n",
       "      <td>-1</td>\n",
       "    </tr>\n",
       "    <tr>\n",
       "      <th>LP001005</th>\n",
       "      <td>3000</td>\n",
       "      <td>0.0</td>\n",
       "      <td>66.0</td>\n",
       "      <td>360.0</td>\n",
       "      <td>1.0</td>\n",
       "      <td>8.006368</td>\n",
       "      <td>4.189655</td>\n",
       "      <td>0</td>\n",
       "      <td>1</td>\n",
       "      <td>0</td>\n",
       "      <td>...</td>\n",
       "      <td>0</td>\n",
       "      <td>0</td>\n",
       "      <td>1</td>\n",
       "      <td>0</td>\n",
       "      <td>0</td>\n",
       "      <td>1</td>\n",
       "      <td>0</td>\n",
       "      <td>0</td>\n",
       "      <td>1</td>\n",
       "      <td>1</td>\n",
       "    </tr>\n",
       "    <tr>\n",
       "      <th>LP001006</th>\n",
       "      <td>2583</td>\n",
       "      <td>2358.0</td>\n",
       "      <td>120.0</td>\n",
       "      <td>360.0</td>\n",
       "      <td>1.0</td>\n",
       "      <td>7.856707</td>\n",
       "      <td>4.787492</td>\n",
       "      <td>0</td>\n",
       "      <td>1</td>\n",
       "      <td>0</td>\n",
       "      <td>...</td>\n",
       "      <td>0</td>\n",
       "      <td>0</td>\n",
       "      <td>0</td>\n",
       "      <td>1</td>\n",
       "      <td>1</td>\n",
       "      <td>0</td>\n",
       "      <td>0</td>\n",
       "      <td>0</td>\n",
       "      <td>1</td>\n",
       "      <td>1</td>\n",
       "    </tr>\n",
       "    <tr>\n",
       "      <th>LP001008</th>\n",
       "      <td>6000</td>\n",
       "      <td>0.0</td>\n",
       "      <td>141.0</td>\n",
       "      <td>360.0</td>\n",
       "      <td>1.0</td>\n",
       "      <td>8.699515</td>\n",
       "      <td>4.948760</td>\n",
       "      <td>0</td>\n",
       "      <td>1</td>\n",
       "      <td>1</td>\n",
       "      <td>...</td>\n",
       "      <td>0</td>\n",
       "      <td>0</td>\n",
       "      <td>1</td>\n",
       "      <td>0</td>\n",
       "      <td>1</td>\n",
       "      <td>0</td>\n",
       "      <td>0</td>\n",
       "      <td>0</td>\n",
       "      <td>1</td>\n",
       "      <td>1</td>\n",
       "    </tr>\n",
       "  </tbody>\n",
       "</table>\n",
       "<p>5 rows × 23 columns</p>\n",
       "</div>"
      ],
      "text/plain": [
       "          ApplicantIncome  CoapplicantIncome  LoanAmount  Loan_Amount_Term  \\\n",
       "Loan_ID                                                                      \n",
       "LP001002             5849                0.0       128.0             360.0   \n",
       "LP001003             4583             1508.0       128.0             360.0   \n",
       "LP001005             3000                0.0        66.0             360.0   \n",
       "LP001006             2583             2358.0       120.0             360.0   \n",
       "LP001008             6000                0.0       141.0             360.0   \n",
       "\n",
       "          Credit_History  Log_ApplicantIncome  Log_LoanAmount  Gender_Female  \\\n",
       "Loan_ID                                                                        \n",
       "LP001002             1.0             8.674026        4.852030              0   \n",
       "LP001003             1.0             8.430109        4.852030              0   \n",
       "LP001005             1.0             8.006368        4.189655              0   \n",
       "LP001006             1.0             7.856707        4.787492              0   \n",
       "LP001008             1.0             8.699515        4.948760              0   \n",
       "\n",
       "          Gender_Male  Married_No     ...       Dependents_2  Dependents_3+  \\\n",
       "Loan_ID                               ...                                     \n",
       "LP001002            1           1     ...                  0              0   \n",
       "LP001003            1           0     ...                  0              0   \n",
       "LP001005            1           0     ...                  0              0   \n",
       "LP001006            1           0     ...                  0              0   \n",
       "LP001008            1           1     ...                  0              0   \n",
       "\n",
       "          Education_Graduate  Education_Not Graduate  Self_Employed_No  \\\n",
       "Loan_ID                                                                  \n",
       "LP001002                   1                       0                 1   \n",
       "LP001003                   1                       0                 1   \n",
       "LP001005                   1                       0                 0   \n",
       "LP001006                   0                       1                 1   \n",
       "LP001008                   1                       0                 1   \n",
       "\n",
       "          Self_Employed_Yes  Property_Area_Rural  Property_Area_Semiurban  \\\n",
       "Loan_ID                                                                     \n",
       "LP001002                  0                    0                        0   \n",
       "LP001003                  0                    1                        0   \n",
       "LP001005                  1                    0                        0   \n",
       "LP001006                  0                    0                        0   \n",
       "LP001008                  0                    0                        0   \n",
       "\n",
       "          Property_Area_Urban  Loan_Status  \n",
       "Loan_ID                                     \n",
       "LP001002                    1            1  \n",
       "LP001003                    0           -1  \n",
       "LP001005                    1            1  \n",
       "LP001006                    1            1  \n",
       "LP001008                    1            1  \n",
       "\n",
       "[5 rows x 23 columns]"
      ]
     },
     "execution_count": 8,
     "metadata": {},
     "output_type": "execute_result"
    }
   ],
   "source": [
    "data = data_with_dummies\n",
    "data.Loan_Status = data.Loan_Status.map(lambda x: 1 if x=='Y' else -1)\n",
    "data.head()"
   ]
  },
  {
   "cell_type": "markdown",
   "metadata": {
    "slideshow": {
     "slide_type": "slide"
    }
   },
   "source": [
    "# 4. Building a Predictive Model"
   ]
  },
  {
   "cell_type": "code",
   "execution_count": 9,
   "metadata": {
    "slideshow": {
     "slide_type": "slide"
    }
   },
   "outputs": [],
   "source": [
    "from sklearn.metrics import SCORERS\n",
    "from sklearn.feature_extraction import DictVectorizer as DV\n",
    "from sklearn import tree\n",
    "from sklearn.model_selection import KFold\n",
    "from sklearn.model_selection import StratifiedKFold\n",
    "from sklearn.model_selection import cross_val_score\n",
    "from sklearn.model_selection import cross_validate\n",
    "from sklearn.model_selection import train_test_split\n",
    "from sklearn.model_selection import GridSearchCV\n",
    "from sklearn.metrics import accuracy_score\n",
    "from sklearn.metrics import roc_auc_score\n",
    "from sklearn.metrics import classification_report\n",
    "from sklearn.metrics import explained_variance_score\n",
    "from sklearn.linear_model import LogisticRegression\n",
    "from sklearn.svm import LinearSVC\n",
    "from sklearn.svm import SVC\n",
    "from sklearn.tree import DecisionTreeClassifier\n",
    "from sklearn.tree import DecisionTreeRegressor\n",
    "from sklearn.neighbors import KNeighborsRegressor\n",
    "from sklearn.ensemble import RandomForestClassifier\n",
    "from sklearn.ensemble import AdaBoostClassifier\n",
    "from sklearn.ensemble import GradientBoostingClassifier\n",
    "from sklearn.ensemble import RandomForestRegressor\n",
    "from sklearn.externals import joblib"
   ]
  },
  {
   "cell_type": "markdown",
   "metadata": {
    "slideshow": {
     "slide_type": "slide"
    }
   },
   "source": [
    "## 4.1 Splitting the Dataset: _Training_ vs. _Test_"
   ]
  },
  {
   "cell_type": "code",
   "execution_count": 10,
   "metadata": {
    "slideshow": {
     "slide_type": "slide"
    }
   },
   "outputs": [
    {
     "data": {
      "text/html": [
       "<div>\n",
       "<style scoped>\n",
       "    .dataframe tbody tr th:only-of-type {\n",
       "        vertical-align: middle;\n",
       "    }\n",
       "\n",
       "    .dataframe tbody tr th {\n",
       "        vertical-align: top;\n",
       "    }\n",
       "\n",
       "    .dataframe thead th {\n",
       "        text-align: right;\n",
       "    }\n",
       "</style>\n",
       "<table border=\"1\" class=\"dataframe\">\n",
       "  <thead>\n",
       "    <tr style=\"text-align: right;\">\n",
       "      <th></th>\n",
       "      <th>ApplicantIncome</th>\n",
       "      <th>CoapplicantIncome</th>\n",
       "      <th>LoanAmount</th>\n",
       "      <th>Loan_Amount_Term</th>\n",
       "      <th>Credit_History</th>\n",
       "      <th>Log_ApplicantIncome</th>\n",
       "      <th>Log_LoanAmount</th>\n",
       "      <th>Gender_Female</th>\n",
       "      <th>Gender_Male</th>\n",
       "      <th>Married_No</th>\n",
       "      <th>...</th>\n",
       "      <th>Dependents_1</th>\n",
       "      <th>Dependents_2</th>\n",
       "      <th>Dependents_3+</th>\n",
       "      <th>Education_Graduate</th>\n",
       "      <th>Education_Not Graduate</th>\n",
       "      <th>Self_Employed_No</th>\n",
       "      <th>Self_Employed_Yes</th>\n",
       "      <th>Property_Area_Rural</th>\n",
       "      <th>Property_Area_Semiurban</th>\n",
       "      <th>Property_Area_Urban</th>\n",
       "    </tr>\n",
       "    <tr>\n",
       "      <th>Loan_ID</th>\n",
       "      <th></th>\n",
       "      <th></th>\n",
       "      <th></th>\n",
       "      <th></th>\n",
       "      <th></th>\n",
       "      <th></th>\n",
       "      <th></th>\n",
       "      <th></th>\n",
       "      <th></th>\n",
       "      <th></th>\n",
       "      <th></th>\n",
       "      <th></th>\n",
       "      <th></th>\n",
       "      <th></th>\n",
       "      <th></th>\n",
       "      <th></th>\n",
       "      <th></th>\n",
       "      <th></th>\n",
       "      <th></th>\n",
       "      <th></th>\n",
       "      <th></th>\n",
       "    </tr>\n",
       "  </thead>\n",
       "  <tbody>\n",
       "    <tr>\n",
       "      <th>LP001002</th>\n",
       "      <td>5849</td>\n",
       "      <td>0.0</td>\n",
       "      <td>128.0</td>\n",
       "      <td>360.0</td>\n",
       "      <td>1.0</td>\n",
       "      <td>8.674026</td>\n",
       "      <td>4.852030</td>\n",
       "      <td>0</td>\n",
       "      <td>1</td>\n",
       "      <td>1</td>\n",
       "      <td>...</td>\n",
       "      <td>0</td>\n",
       "      <td>0</td>\n",
       "      <td>0</td>\n",
       "      <td>1</td>\n",
       "      <td>0</td>\n",
       "      <td>1</td>\n",
       "      <td>0</td>\n",
       "      <td>0</td>\n",
       "      <td>0</td>\n",
       "      <td>1</td>\n",
       "    </tr>\n",
       "    <tr>\n",
       "      <th>LP001003</th>\n",
       "      <td>4583</td>\n",
       "      <td>1508.0</td>\n",
       "      <td>128.0</td>\n",
       "      <td>360.0</td>\n",
       "      <td>1.0</td>\n",
       "      <td>8.430109</td>\n",
       "      <td>4.852030</td>\n",
       "      <td>0</td>\n",
       "      <td>1</td>\n",
       "      <td>0</td>\n",
       "      <td>...</td>\n",
       "      <td>1</td>\n",
       "      <td>0</td>\n",
       "      <td>0</td>\n",
       "      <td>1</td>\n",
       "      <td>0</td>\n",
       "      <td>1</td>\n",
       "      <td>0</td>\n",
       "      <td>1</td>\n",
       "      <td>0</td>\n",
       "      <td>0</td>\n",
       "    </tr>\n",
       "    <tr>\n",
       "      <th>LP001005</th>\n",
       "      <td>3000</td>\n",
       "      <td>0.0</td>\n",
       "      <td>66.0</td>\n",
       "      <td>360.0</td>\n",
       "      <td>1.0</td>\n",
       "      <td>8.006368</td>\n",
       "      <td>4.189655</td>\n",
       "      <td>0</td>\n",
       "      <td>1</td>\n",
       "      <td>0</td>\n",
       "      <td>...</td>\n",
       "      <td>0</td>\n",
       "      <td>0</td>\n",
       "      <td>0</td>\n",
       "      <td>1</td>\n",
       "      <td>0</td>\n",
       "      <td>0</td>\n",
       "      <td>1</td>\n",
       "      <td>0</td>\n",
       "      <td>0</td>\n",
       "      <td>1</td>\n",
       "    </tr>\n",
       "    <tr>\n",
       "      <th>LP001006</th>\n",
       "      <td>2583</td>\n",
       "      <td>2358.0</td>\n",
       "      <td>120.0</td>\n",
       "      <td>360.0</td>\n",
       "      <td>1.0</td>\n",
       "      <td>7.856707</td>\n",
       "      <td>4.787492</td>\n",
       "      <td>0</td>\n",
       "      <td>1</td>\n",
       "      <td>0</td>\n",
       "      <td>...</td>\n",
       "      <td>0</td>\n",
       "      <td>0</td>\n",
       "      <td>0</td>\n",
       "      <td>0</td>\n",
       "      <td>1</td>\n",
       "      <td>1</td>\n",
       "      <td>0</td>\n",
       "      <td>0</td>\n",
       "      <td>0</td>\n",
       "      <td>1</td>\n",
       "    </tr>\n",
       "    <tr>\n",
       "      <th>LP001008</th>\n",
       "      <td>6000</td>\n",
       "      <td>0.0</td>\n",
       "      <td>141.0</td>\n",
       "      <td>360.0</td>\n",
       "      <td>1.0</td>\n",
       "      <td>8.699515</td>\n",
       "      <td>4.948760</td>\n",
       "      <td>0</td>\n",
       "      <td>1</td>\n",
       "      <td>1</td>\n",
       "      <td>...</td>\n",
       "      <td>0</td>\n",
       "      <td>0</td>\n",
       "      <td>0</td>\n",
       "      <td>1</td>\n",
       "      <td>0</td>\n",
       "      <td>1</td>\n",
       "      <td>0</td>\n",
       "      <td>0</td>\n",
       "      <td>0</td>\n",
       "      <td>1</td>\n",
       "    </tr>\n",
       "  </tbody>\n",
       "</table>\n",
       "<p>5 rows × 22 columns</p>\n",
       "</div>"
      ],
      "text/plain": [
       "          ApplicantIncome  CoapplicantIncome  LoanAmount  Loan_Amount_Term  \\\n",
       "Loan_ID                                                                      \n",
       "LP001002             5849                0.0       128.0             360.0   \n",
       "LP001003             4583             1508.0       128.0             360.0   \n",
       "LP001005             3000                0.0        66.0             360.0   \n",
       "LP001006             2583             2358.0       120.0             360.0   \n",
       "LP001008             6000                0.0       141.0             360.0   \n",
       "\n",
       "          Credit_History  Log_ApplicantIncome  Log_LoanAmount  Gender_Female  \\\n",
       "Loan_ID                                                                        \n",
       "LP001002             1.0             8.674026        4.852030              0   \n",
       "LP001003             1.0             8.430109        4.852030              0   \n",
       "LP001005             1.0             8.006368        4.189655              0   \n",
       "LP001006             1.0             7.856707        4.787492              0   \n",
       "LP001008             1.0             8.699515        4.948760              0   \n",
       "\n",
       "          Gender_Male  Married_No         ...           Dependents_1  \\\n",
       "Loan_ID                                   ...                          \n",
       "LP001002            1           1         ...                      0   \n",
       "LP001003            1           0         ...                      1   \n",
       "LP001005            1           0         ...                      0   \n",
       "LP001006            1           0         ...                      0   \n",
       "LP001008            1           1         ...                      0   \n",
       "\n",
       "          Dependents_2  Dependents_3+  Education_Graduate  \\\n",
       "Loan_ID                                                     \n",
       "LP001002             0              0                   1   \n",
       "LP001003             0              0                   1   \n",
       "LP001005             0              0                   1   \n",
       "LP001006             0              0                   0   \n",
       "LP001008             0              0                   1   \n",
       "\n",
       "          Education_Not Graduate  Self_Employed_No  Self_Employed_Yes  \\\n",
       "Loan_ID                                                                 \n",
       "LP001002                       0                 1                  0   \n",
       "LP001003                       0                 1                  0   \n",
       "LP001005                       0                 0                  1   \n",
       "LP001006                       1                 1                  0   \n",
       "LP001008                       0                 1                  0   \n",
       "\n",
       "          Property_Area_Rural  Property_Area_Semiurban  Property_Area_Urban  \n",
       "Loan_ID                                                                      \n",
       "LP001002                    0                        0                    1  \n",
       "LP001003                    1                        0                    0  \n",
       "LP001005                    0                        0                    1  \n",
       "LP001006                    0                        0                    1  \n",
       "LP001008                    0                        0                    1  \n",
       "\n",
       "[5 rows x 22 columns]"
      ]
     },
     "execution_count": 10,
     "metadata": {},
     "output_type": "execute_result"
    }
   ],
   "source": [
    "\"\"\"\n",
    "Extract the feature matrix from our original DataFrame.\n",
    "\"\"\"\n",
    "# Feature matrix X is composed of all the columns \n",
    "# except 'Loan_Status' (i.e., the target class label)\n",
    "X = data.iloc[:,:-1]\n",
    "X.head()"
   ]
  },
  {
   "cell_type": "code",
   "execution_count": 11,
   "metadata": {
    "slideshow": {
     "slide_type": "slide"
    }
   },
   "outputs": [
    {
     "data": {
      "text/plain": [
       "Loan_ID\n",
       "LP001002    1\n",
       "LP001003   -1\n",
       "LP001005    1\n",
       "LP001006    1\n",
       "LP001008    1\n",
       "Name: Loan_Status, dtype: int64"
      ]
     },
     "execution_count": 11,
     "metadata": {},
     "output_type": "execute_result"
    }
   ],
   "source": [
    "\"\"\"\n",
    "Similarly, we want to extract the target class column vector y.\n",
    "\"\"\"\n",
    "y = data.Loan_Status\n",
    "y.head()"
   ]
  },
  {
   "cell_type": "code",
   "execution_count": null,
   "metadata": {
    "slideshow": {
     "slide_type": "slide"
    }
   },
   "outputs": [],
   "source": [
    "\"\"\"\n",
    "Let's split our dataset with scikit-learn 'train_test_split' function, \n",
    "which splits the input dataset into training and test set, respectively.\n",
    "We want the training set to account for 80% of the original dataset, whilst \n",
    "the test set to account for the remaining 20%.\n",
    "Additionally, we would like to take advantage of stratified sampling,\n",
    "so as to obtain the same target distribution in both the training and the test sets.\n",
    "\"\"\""
   ]
  },
  {
   "cell_type": "code",
   "execution_count": 12,
   "metadata": {
    "slideshow": {
     "slide_type": "slide"
    }
   },
   "outputs": [],
   "source": [
    "from sklearn.model_selection import train_test_split\n",
    "\n",
    "X_train, X_test, y_train, y_test = train_test_split(X, y, test_size=0.2, \n",
    "                                                    random_state=73, \n",
    "                                                    stratify=y)"
   ]
  },
  {
   "cell_type": "code",
   "execution_count": 13,
   "metadata": {
    "slideshow": {
     "slide_type": "slide"
    }
   },
   "outputs": [
    {
     "name": "stdout",
     "output_type": "stream",
     "text": [
      "Training Set shape: (491, 22)\n",
      "Test Set shape: (123, 22)\n"
     ]
    }
   ],
   "source": [
    "print(\"Training Set shape: {}\".format(X_train.shape))\n",
    "print(\"Test Set shape: {}\".format(X_test.shape))"
   ]
  },
  {
   "cell_type": "markdown",
   "metadata": {
    "slideshow": {
     "slide_type": "slide"
    }
   },
   "source": [
    "## Feature Scaling: Why/When\n",
    "\n",
    "-  <span style=\"color: red\">**REMEMBER:**</span> Not every learning models are sensitive to different feature scales! \n",
    "\n",
    "-  For example, in the case of Logistic Regression the vector of model parameters we come up with when we minimize the negative log-likelihood - using gradient descent (iterative) solution - is **not** affected by different feature scales, except for a constant.\n",
    "\n",
    "-  You can convince yourself of this by computing the gradient of the negative log-likelihood using non-scaled and scaled features.\n",
    "\n",
    "-  Other models, instead, are not invariant with respect to scalar transformations of the input (features), and leads to completely different results if features are not properly scaled (e.g., Support Vector Machines or SVM). "
   ]
  },
  {
   "cell_type": "markdown",
   "metadata": {
    "slideshow": {
     "slide_type": "slide"
    }
   },
   "source": [
    "## Feature Scaling: How\n",
    "\n",
    "-  Feature scaling **cannot** be done looking at the whole dataset!\n",
    "\n",
    "-  In other words, either you standardize (using **z-scores**) or normalize (using **min-max**) your features you **must** do it considering only the training set portion of your dataset.\n",
    "\n",
    "-  The same scaling, then, should be applied to the test set."
   ]
  },
  {
   "cell_type": "code",
   "execution_count": 14,
   "metadata": {
    "slideshow": {
     "slide_type": "slide"
    }
   },
   "outputs": [],
   "source": [
    "\"\"\"\n",
    "Let's use two different feature scaling strategies: standard z-scores and min-max\n",
    "\"\"\"\n",
    "# The following is the scikit-learn package which provides\n",
    "# various preprocessing capabilities\n",
    "from sklearn import preprocessing"
   ]
  },
  {
   "cell_type": "code",
   "execution_count": 15,
   "metadata": {
    "slideshow": {
     "slide_type": "slide"
    }
   },
   "outputs": [],
   "source": [
    "# Standardizing features using z-score\n",
    "std_scaler = preprocessing.StandardScaler().fit(X_train)\n",
    "X_train_std = std_scaler.transform(X_train)\n",
    "# Alternatively, using pure pandas:\n",
    "# X_train_mean = X_train.mean()\n",
    "# X_train_std = X_train.std()\n",
    "# X_train_std = (X_train - X_train_mean)/X_train_std\n",
    "\n",
    "# Normalizing features using min-max\n",
    "minmax_scaler = preprocessing.MinMaxScaler().fit(X_train)\n",
    "X_train_minmax = minmax_scaler.transform(X_train)\n",
    "# Alternatively, using pure pandas:\n",
    "# X_train_max = X_train.max()\n",
    "# X_train_min = X_train.min()\n",
    "# X_train_minmax = (X_train - X_train_min)/(X_train_max - X_train_min)"
   ]
  },
  {
   "cell_type": "code",
   "execution_count": null,
   "metadata": {
    "slideshow": {
     "slide_type": "slide"
    }
   },
   "outputs": [],
   "source": [
    "\"\"\"\n",
    "At this stage, we can work with 3 different feature matrices:\n",
    "- The original one: X_train\n",
    "- The standardized one: X_train_std\n",
    "- The min-max normalized one: X_train_minmax\n",
    "\n",
    "In the following, however, we work only on the original feature matrix X_train\n",
    "\"\"\""
   ]
  },
  {
   "cell_type": "code",
   "execution_count": 16,
   "metadata": {
    "slideshow": {
     "slide_type": "slide"
    }
   },
   "outputs": [],
   "source": [
    "\"\"\"\n",
    "General function used to assess the quality of predictions\n",
    "in terms of two scores: accuracy and ROC AUC (Area Under the ROC Curve)\n",
    "\"\"\"\n",
    "def evaluate(true_values, predicted_values):\n",
    "    # Classification Accuracy\n",
    "    print(\"Accuracy = {:.3f}\".\n",
    "          format(accuracy_score(true_values, predicted_values)))\n",
    "    # Explained variance score: 1 is perfect prediction\n",
    "    print(\"Area Under the ROC Curve (ROC AUC) = {:.3f}\".\n",
    "          format(roc_auc_score(true_values, predicted_values)))"
   ]
  },
  {
   "cell_type": "code",
   "execution_count": 17,
   "metadata": {
    "slideshow": {
     "slide_type": "slide"
    }
   },
   "outputs": [
    {
     "name": "stdout",
     "output_type": "stream",
     "text": [
      "***** Evaluate Performance on Training Set *****\n",
      "Accuracy = 0.815\n",
      "Area Under the ROC Curve (ROC AUC) = 0.717\n",
      "\n",
      "***** Evaluate Performance on Test Set *****\n",
      "Accuracy = 0.813\n",
      "Area Under the ROC Curve (ROC AUC) = 0.712\n"
     ]
    }
   ],
   "source": [
    "# Create logistic regression object\n",
    "model = LogisticRegression()\n",
    "\n",
    "# 1. Try to fit this logistic regressor to our original training set\n",
    "model.fit(X_train, y_train)\n",
    "# 2. Assess the quality of predictions made on the same training set\n",
    "print(\"***** Evaluate Performance on Training Set *****\")\n",
    "evaluate(y_train, model.predict(X_train))\n",
    "print()\n",
    "# 3. Assess the quality of predictions made on the test set\n",
    "print(\"***** Evaluate Performance on Test Set *****\") \n",
    "evaluate(y_test, model.predict(X_test))"
   ]
  },
  {
   "cell_type": "code",
   "execution_count": 18,
   "metadata": {
    "slideshow": {
     "slide_type": "slide"
    }
   },
   "outputs": [
    {
     "name": "stdout",
     "output_type": "stream",
     "text": [
      "             precision    recall  f1-score   support\n",
      "\n",
      "         -1       0.89      0.45      0.60        38\n",
      "          1       0.80      0.98      0.88        85\n",
      "\n",
      "avg / total       0.83      0.81      0.79       123\n",
      "\n"
     ]
    }
   ],
   "source": [
    "print(classification_report(y_test, model.predict(X_test)))"
   ]
  },
  {
   "cell_type": "code",
   "execution_count": 19,
   "metadata": {
    "slideshow": {
     "slide_type": "slide"
    }
   },
   "outputs": [
    {
     "data": {
      "text/html": [
       "<div>\n",
       "<style scoped>\n",
       "    .dataframe tbody tr th:only-of-type {\n",
       "        vertical-align: middle;\n",
       "    }\n",
       "\n",
       "    .dataframe tbody tr th {\n",
       "        vertical-align: top;\n",
       "    }\n",
       "\n",
       "    .dataframe thead th {\n",
       "        text-align: right;\n",
       "    }\n",
       "</style>\n",
       "<table border=\"1\" class=\"dataframe\">\n",
       "  <thead>\n",
       "    <tr style=\"text-align: right;\">\n",
       "      <th></th>\n",
       "      <th>fit_time</th>\n",
       "      <th>score_time</th>\n",
       "      <th>test_accuracy</th>\n",
       "      <th>test_roc_auc</th>\n",
       "      <th>train_accuracy</th>\n",
       "      <th>train_roc_auc</th>\n",
       "    </tr>\n",
       "  </thead>\n",
       "  <tbody>\n",
       "    <tr>\n",
       "      <th>0</th>\n",
       "      <td>0.004435</td>\n",
       "      <td>0.000981</td>\n",
       "      <td>0.793651</td>\n",
       "      <td>0.768605</td>\n",
       "      <td>0.811252</td>\n",
       "      <td>0.796818</td>\n",
       "    </tr>\n",
       "    <tr>\n",
       "      <th>1</th>\n",
       "      <td>0.004059</td>\n",
       "      <td>0.000849</td>\n",
       "      <td>0.825397</td>\n",
       "      <td>0.853488</td>\n",
       "      <td>0.807623</td>\n",
       "      <td>0.792554</td>\n",
       "    </tr>\n",
       "    <tr>\n",
       "      <th>2</th>\n",
       "      <td>0.004017</td>\n",
       "      <td>0.000875</td>\n",
       "      <td>0.786885</td>\n",
       "      <td>0.741855</td>\n",
       "      <td>0.811935</td>\n",
       "      <td>0.802723</td>\n",
       "    </tr>\n",
       "    <tr>\n",
       "      <th>3</th>\n",
       "      <td>0.004086</td>\n",
       "      <td>0.000837</td>\n",
       "      <td>0.754098</td>\n",
       "      <td>0.664160</td>\n",
       "      <td>0.817360</td>\n",
       "      <td>0.811120</td>\n",
       "    </tr>\n",
       "    <tr>\n",
       "      <th>4</th>\n",
       "      <td>0.004036</td>\n",
       "      <td>0.000886</td>\n",
       "      <td>0.770492</td>\n",
       "      <td>0.682957</td>\n",
       "      <td>0.813743</td>\n",
       "      <td>0.809598</td>\n",
       "    </tr>\n",
       "    <tr>\n",
       "      <th>5</th>\n",
       "      <td>0.003895</td>\n",
       "      <td>0.000856</td>\n",
       "      <td>0.786885</td>\n",
       "      <td>0.793233</td>\n",
       "      <td>0.811935</td>\n",
       "      <td>0.795330</td>\n",
       "    </tr>\n",
       "    <tr>\n",
       "      <th>6</th>\n",
       "      <td>0.003542</td>\n",
       "      <td>0.001171</td>\n",
       "      <td>0.868852</td>\n",
       "      <td>0.867168</td>\n",
       "      <td>0.802893</td>\n",
       "      <td>0.787466</td>\n",
       "    </tr>\n",
       "    <tr>\n",
       "      <th>7</th>\n",
       "      <td>0.005121</td>\n",
       "      <td>0.000929</td>\n",
       "      <td>0.836066</td>\n",
       "      <td>0.796992</td>\n",
       "      <td>0.806510</td>\n",
       "      <td>0.798494</td>\n",
       "    </tr>\n",
       "    <tr>\n",
       "      <th>8</th>\n",
       "      <td>0.004228</td>\n",
       "      <td>0.000860</td>\n",
       "      <td>0.803279</td>\n",
       "      <td>0.720551</td>\n",
       "      <td>0.808318</td>\n",
       "      <td>0.803575</td>\n",
       "    </tr>\n",
       "    <tr>\n",
       "      <th>9</th>\n",
       "      <td>0.002961</td>\n",
       "      <td>0.000828</td>\n",
       "      <td>0.836066</td>\n",
       "      <td>0.690476</td>\n",
       "      <td>0.806510</td>\n",
       "      <td>0.807286</td>\n",
       "    </tr>\n",
       "  </tbody>\n",
       "</table>\n",
       "</div>"
      ],
      "text/plain": [
       "   fit_time  score_time  test_accuracy  test_roc_auc  train_accuracy  \\\n",
       "0  0.004435    0.000981       0.793651      0.768605        0.811252   \n",
       "1  0.004059    0.000849       0.825397      0.853488        0.807623   \n",
       "2  0.004017    0.000875       0.786885      0.741855        0.811935   \n",
       "3  0.004086    0.000837       0.754098      0.664160        0.817360   \n",
       "4  0.004036    0.000886       0.770492      0.682957        0.813743   \n",
       "5  0.003895    0.000856       0.786885      0.793233        0.811935   \n",
       "6  0.003542    0.001171       0.868852      0.867168        0.802893   \n",
       "7  0.005121    0.000929       0.836066      0.796992        0.806510   \n",
       "8  0.004228    0.000860       0.803279      0.720551        0.808318   \n",
       "9  0.002961    0.000828       0.836066      0.690476        0.806510   \n",
       "\n",
       "   train_roc_auc  \n",
       "0       0.796818  \n",
       "1       0.792554  \n",
       "2       0.802723  \n",
       "3       0.811120  \n",
       "4       0.809598  \n",
       "5       0.795330  \n",
       "6       0.787466  \n",
       "7       0.798494  \n",
       "8       0.803575  \n",
       "9       0.807286  "
      ]
     },
     "execution_count": 19,
     "metadata": {},
     "output_type": "execute_result"
    }
   ],
   "source": [
    "# Simplest usage of cross-validation\n",
    "model = LogisticRegression()\n",
    "cv = cross_validate(model, X, y, cv=10, scoring=('roc_auc', 'accuracy'), return_train_score=True)\n",
    "pd.DataFrame(cv)"
   ]
  },
  {
   "cell_type": "code",
   "execution_count": 20,
   "metadata": {
    "slideshow": {
     "slide_type": "slide"
    }
   },
   "outputs": [
    {
     "name": "stdout",
     "output_type": "stream",
     "text": [
      "***** Evaluate Average Performance on Training Set *****\n",
      "Avg. Training Set Accuracy = 0.810\n",
      "Avg. Training Set ROC AUC = 0.800\n",
      "\n",
      "***** Evaluate Average Performance on Cross-Validation Set *****\n",
      "Avg. Test Set Accuracy = 0.806\n",
      "Avg. Test Set ROC AUC = 0.758\n"
     ]
    }
   ],
   "source": [
    "# Model evaluation using cross-validation\n",
    "print(\"***** Evaluate Average Performance on Training Set *****\")\n",
    "print(\"Avg. Training Set Accuracy = {:.3f}\".format(np.mean(cv['train_accuracy'])))\n",
    "print(\"Avg. Training Set ROC AUC = {:.3f}\".format(np.mean(cv['train_roc_auc'])))\n",
    "print()\n",
    "print(\"***** Evaluate Average Performance on Cross-Validation Set *****\")\n",
    "print(\"Avg. Test Set Accuracy = {:.3f}\".format(np.mean(cv['test_accuracy'])))\n",
    "print(\"Avg. Test Set ROC AUC = {:.3f}\".format(np.mean(cv['test_roc_auc'])))"
   ]
  },
  {
   "cell_type": "code",
   "execution_count": 21,
   "metadata": {
    "slideshow": {
     "slide_type": "slide"
    }
   },
   "outputs": [
    {
     "name": "stdout",
     "output_type": "stream",
     "text": [
      "{'fit_time': array([ 0.00503278,  0.00406289,  0.00327516,  0.00363517,  0.00379109,\n",
      "        0.0036242 ,  0.00361395,  0.00469089,  0.00469208,  0.00462389]), 'score_time': array([ 0.00176835,  0.00088501,  0.00088286,  0.00089478,  0.0008862 ,\n",
      "        0.00083494,  0.00123739,  0.00116682,  0.00083804,  0.00088096]), 'test_roc_auc': array([ 0.80255517,  0.67670011,  0.825     ,  0.79559364,  0.69855072,\n",
      "        0.78571429,  0.75062657,  0.72351421,  0.84404762,  0.77246377]), 'train_roc_auc': array([ 0.79542908,  0.8117478 ,  0.79228519,  0.79738283,  0.80807489,\n",
      "        0.7958777 ,  0.80006085,  0.8064477 ,  0.79204556,  0.79751172]), 'test_accuracy': array([ 0.75806452,  0.80645161,  0.79032258,  0.83870968,  0.81967213,\n",
      "        0.85245902,  0.81967213,  0.75409836,  0.80327869,  0.83606557]), 'train_accuracy': array([ 0.81521739,  0.8115942 ,  0.8115942 ,  0.80615942,  0.80831826,\n",
      "        0.80831826,  0.80650995,  0.81555154,  0.80831826,  0.80650995])}\n"
     ]
    }
   ],
   "source": [
    "# Define an object of type KFold and pass it to the cross_validate function\n",
    "model = LogisticRegression()\n",
    "k_fold = KFold(n_splits=10, shuffle=True, random_state=42)\n",
    "cv = cross_validate(model, X, y, cv=k_fold, scoring=('roc_auc', 'accuracy'), return_train_score=True)\n",
    "print(cv)"
   ]
  },
  {
   "cell_type": "code",
   "execution_count": 22,
   "metadata": {
    "slideshow": {
     "slide_type": "slide"
    }
   },
   "outputs": [
    {
     "name": "stdout",
     "output_type": "stream",
     "text": [
      "***** Evaluate Average Performance on Training Set *****\n",
      "Avg. Training Set Accuracy = 0.810\n",
      "Avg. Training Set ROC AUC = 0.800\n",
      "\n",
      "***** Evaluate Average Performance on Cross-Validation Set *****\n",
      "Avg. Test Set Accuracy = 0.808\n",
      "Avg. Test Set ROC AUC = 0.767\n"
     ]
    }
   ],
   "source": [
    "# Model evaluation using cross-validation\n",
    "print(\"***** Evaluate Average Performance on Training Set *****\")\n",
    "print(\"Avg. Training Set Accuracy = {:.3f}\".format(np.mean(cv['train_accuracy'])))\n",
    "print(\"Avg. Training Set ROC AUC = {:.3f}\".format(np.mean(cv['train_roc_auc'])))\n",
    "print()\n",
    "print(\"***** Evaluate Average Performance on Cross-Validation Set *****\")\n",
    "print(\"Avg. Test Set Accuracy = {:.3f}\".format(np.mean(cv['test_accuracy'])))\n",
    "print(\"Avg. Test Set ROC AUC = {:.3f}\".format(np.mean(cv['test_roc_auc'])))"
   ]
  },
  {
   "cell_type": "code",
   "execution_count": 23,
   "metadata": {
    "slideshow": {
     "slide_type": "slide"
    }
   },
   "outputs": [
    {
     "name": "stdout",
     "output_type": "stream",
     "text": [
      "{'fit_time': array([ 0.00484776,  0.00375891,  0.00338387,  0.00368786,  0.00386786,\n",
      "        0.00391293,  0.00358605,  0.00503516,  0.00514007,  0.00400209]), 'score_time': array([ 0.00086808,  0.00089002,  0.00089526,  0.0008688 ,  0.0008409 ,\n",
      "        0.00087237,  0.000808  ,  0.00119281,  0.00125813,  0.00128603]), 'test_roc_auc': array([ 0.76976744,  0.79069767,  0.76190476,  0.81829574,  0.81077694,\n",
      "        0.72305764,  0.6641604 ,  0.72556391,  0.82706767,  0.70551378]), 'train_roc_auc': array([ 0.80097564,  0.79694115,  0.79776392,  0.79370246,  0.79522361,\n",
      "        0.80629754,  0.80800122,  0.80219045,  0.79177061,  0.80915729]), 'test_accuracy': array([ 0.79365079,  0.87301587,  0.83606557,  0.85245902,  0.75409836,\n",
      "        0.7704918 ,  0.78688525,  0.78688525,  0.81967213,  0.78688525]), 'train_accuracy': array([ 0.81125227,  0.80036298,  0.80831826,  0.80650995,  0.81555154,\n",
      "        0.8119349 ,  0.81374322,  0.81012658,  0.80831826,  0.81374322])}\n"
     ]
    }
   ],
   "source": [
    "# Define an object of type StratifiedKFold and pass it to the cross_validate function\n",
    "model = LogisticRegression()\n",
    "k_fold = StratifiedKFold(n_splits=10, shuffle=True, random_state=37)\n",
    "cv = cross_validate(model, X, y, cv=k_fold, scoring=('roc_auc', 'accuracy'), return_train_score=True)\n",
    "print(cv)"
   ]
  },
  {
   "cell_type": "code",
   "execution_count": 24,
   "metadata": {
    "slideshow": {
     "slide_type": "slide"
    }
   },
   "outputs": [
    {
     "name": "stdout",
     "output_type": "stream",
     "text": [
      "***** Evaluate Average Performance on Training Set *****\n",
      "Avg. Training Set Accuracy = 0.810\n",
      "Avg. Training Set ROC AUC = 0.800\n",
      "\n",
      "***** Evaluate Average Performance on Cross-Validation Set *****\n",
      "Avg. Test Set Accuracy = 0.806\n",
      "Avg. Test Set ROC AUC = 0.760\n"
     ]
    }
   ],
   "source": [
    "# Model evaluation using cross-validation\n",
    "print(\"***** Evaluate Average Performance on Training Set *****\")\n",
    "print(\"Avg. Training Set Accuracy = {:.3f}\".format(np.mean(cv['train_accuracy'])))\n",
    "print(\"Avg. Training Set ROC AUC = {:.3f}\".format(np.mean(cv['train_roc_auc'])))\n",
    "print()\n",
    "print(\"***** Evaluate Average Performance on Cross-Validation Set *****\")\n",
    "print(\"Avg. Test Set Accuracy = {:.3f}\".format(np.mean(cv['test_accuracy'])))\n",
    "print(\"Avg. Test Set ROC AUC = {:.3f}\".format(np.mean(cv['test_roc_auc'])))"
   ]
  },
  {
   "cell_type": "markdown",
   "metadata": {
    "slideshow": {
     "slide_type": "slide"
    }
   },
   "source": [
    "## Model Selection and Evaluation\n",
    "\n",
    "-  So far, we have just focused on a very specific _instance_ of a Logistic Regression model.\n",
    "\n",
    "-  In other words, we haven't spent time trying to _tune_ any \"meta-parameter\" (known as **hyperparameter**) of our model.\n",
    "\n",
    "-  In practice, we used default values of hyperparameters for our Logistic Regression model, according to <code>**scikit-learn**</code>\n",
    "\n",
    "-  We didn't perform any actual model selection, as hyperparameters are fixed!\n",
    "\n",
    "-  The figures we output for test accuracy/ROC AUC scores are our estimates of _generalization_ performance of our model (i.e., evaluation)"
   ]
  },
  {
   "cell_type": "markdown",
   "metadata": {
    "slideshow": {
     "slide_type": "slide"
    }
   },
   "source": [
    "## Model Selection and Evaluation (cont'd)\n",
    "\n",
    "-  Most of the time, though, we may need to do one of the following:\n",
    "    1.  Fix a \"family\" of models (e.g., Logistic Regression) and perform hyperparameter selection;\n",
    "    2.  Choose between a set of models (e.g., Logistic Regression, SVM, Decision Tree, etc.), each one with a fixed (i.e., default) set of hyperparameters;\n",
    "    3.  A mixture of the above, where we have to select the best hyperparameters of the best model picked from a set of different models.\n",
    "\n",
    "-  In any case, we also need to provide an estimate of the generalization performance of the chosen model."
   ]
  },
  {
   "cell_type": "markdown",
   "metadata": {
    "slideshow": {
     "slide_type": "slide"
    }
   },
   "source": [
    "## Case 1: Select Best Hyperparameters of a Fixed Family of Models"
   ]
  },
  {
   "cell_type": "markdown",
   "metadata": {
    "slideshow": {
     "slide_type": "slide"
    }
   },
   "source": [
    "## 1.1: Using Validation Set"
   ]
  },
  {
   "cell_type": "code",
   "execution_count": 25,
   "metadata": {
    "slideshow": {
     "slide_type": "slide"
    }
   },
   "outputs": [],
   "source": [
    "models_and_hyperparams = {'LogisticRegression': (LogisticRegression(),\n",
    "                                                 {'C': [0.01, 0.05, 0.1, 0.5, 1, 2]}\n",
    "                                                )\n",
    "                         }"
   ]
  },
  {
   "cell_type": "code",
   "execution_count": 26,
   "metadata": {
    "slideshow": {
     "slide_type": "slide"
    }
   },
   "outputs": [],
   "source": [
    "# Outer splitting: Training vs. Test set (e.g., 80÷20) used to separate training-selection-evaluation\n",
    "X_train, X_test, y_train, y_test = train_test_split(X, y, test_size=0.2, \n",
    "                                                    random_state=73, \n",
    "                                                    stratify=y)\n",
    "\n",
    "# Inner splitting (i.e., within the outer training set): Training vs. Validation (e.g., 80÷20)\n",
    "# Training set is used to train the model, validation set is used to select the best hyperparameters\n",
    "X_train_train, X_validation, y_train_train, y_validation = train_test_split(X_train, y_train, test_size=0.2, \n",
    "                                                    random_state=42, \n",
    "                                                    stratify=y_train)"
   ]
  },
  {
   "cell_type": "code",
   "execution_count": 27,
   "metadata": {
    "slideshow": {
     "slide_type": "slide"
    }
   },
   "outputs": [],
   "source": [
    "# Keep the training score obtained with each hyperparameter\n",
    "training_scores = {}\n",
    "# Keep the validation score obtained with each hyperparameter\n",
    "validation_scores = {}\n",
    "# Keep only the best training/validation scores\n",
    "best_training_score = {}\n",
    "best_validation_score = {}\n",
    "\n",
    "# Get the only model available\n",
    "model = models_and_hyperparams['LogisticRegression'][0]\n",
    "# Get the hyperparameters for that model\n",
    "hyperparams = models_and_hyperparams['LogisticRegression'][1]\n",
    "\n",
    "# Loop through all the hyperparameters\n",
    "for hp in hyperparams:\n",
    "    training_scores[hp] = {}\n",
    "    validation_scores[hp] = {}\n",
    "    # Loop through all the value of a specific hyperparameter\n",
    "    for val in hyperparams[hp]:\n",
    "        # set the model's hyperparameter to the current value\n",
    "        model.set_params(**{hp: val})\n",
    "        # fit the model on the inner training portion \n",
    "        model.fit(X_train_train, y_train_train)\n",
    "        # store the inner training score\n",
    "        training_score = accuracy_score(y_train_train, model.predict(X_train_train))\n",
    "        training_scores[hp][val] = training_score\n",
    "        # store the inner validation score\n",
    "        validation_score = accuracy_score(y_validation, model.predict(X_validation))\n",
    "        validation_scores[hp][val] = validation_score\n",
    "        # Update best training/validation scores\n",
    "        if not best_training_score:\n",
    "            best_training_score[hp] = (val, training_score)\n",
    "        else:\n",
    "            if best_training_score[hp][1] < training_score:\n",
    "                best_training_score[hp] = (val, training_score)\n",
    "                \n",
    "        if not best_validation_score:\n",
    "            best_validation_score[hp] = (val, validation_score)\n",
    "        else:\n",
    "            if best_validation_score[hp][1] < validation_score:\n",
    "                best_validation_score[hp] = (val, validation_score)"
   ]
  },
  {
   "cell_type": "code",
   "execution_count": 28,
   "metadata": {
    "slideshow": {
     "slide_type": "slide"
    }
   },
   "outputs": [
    {
     "name": "stdout",
     "output_type": "stream",
     "text": [
      "***** Evaluate Performance on Training Set *****\n",
      "{'C': {0.01: 0.68622448979591832, 0.05: 0.78061224489795922, 0.1: 0.81122448979591832, 0.5: 0.81887755102040816, 1: 0.81632653061224492, 2: 0.81632653061224492}}\n",
      "***** Evaluate Performance on Validation Set *****\n",
      "{'C': {0.01: 0.68686868686868685, 0.05: 0.75757575757575757, 0.1: 0.76767676767676762, 0.5: 0.79797979797979801, 1: 0.79797979797979801, 2: 0.78787878787878785}}\n",
      "***** Best Accuracy Score on Training Set *****\n",
      "{'C': (0.5, 0.81887755102040816)}\n",
      "***** Best Accuracy Score on Validation Set *****\n",
      "{'C': (0.5, 0.79797979797979801)}\n"
     ]
    }
   ],
   "source": [
    "print(\"***** Evaluate Performance on Training Set *****\")\n",
    "print(training_scores)\n",
    "print(\"***** Evaluate Performance on Validation Set *****\")\n",
    "print(validation_scores)\n",
    "print(\"***** Best Accuracy Score on Training Set *****\")\n",
    "print(best_training_score)\n",
    "print(\"***** Best Accuracy Score on Validation Set *****\")\n",
    "print(best_validation_score)"
   ]
  },
  {
   "cell_type": "code",
   "execution_count": 29,
   "metadata": {
    "slideshow": {
     "slide_type": "slide"
    }
   },
   "outputs": [
    {
     "name": "stdout",
     "output_type": "stream",
     "text": [
      "***** Evaluate Performance on Training Set *****\n",
      "Accuracy = 0.815\n",
      "Area Under the ROC Curve (ROC AUC) = 0.713\n",
      "***** Evaluate Performance on Test Set *****\n",
      "Accuracy = 0.813\n",
      "Area Under the ROC Curve (ROC AUC) = 0.712\n"
     ]
    }
   ],
   "source": [
    "# We set the model's hyperparameters to those leading to the best score on the validation test\n",
    "best_params = dict([(list(best_validation_score.keys())[0], list(best_validation_score.values())[0][0])])\n",
    "model.set_params(**best_params)\n",
    "# We fit this model to the whole training set portion\n",
    "model.fit(X_train, y_train)\n",
    "print(\"***** Evaluate Performance on Training Set *****\")\n",
    "evaluate(y_train, model.predict(X_train))\n",
    "print(\"***** Evaluate Performance on Test Set *****\")\n",
    "evaluate(y_test, model.predict(X_test))"
   ]
  },
  {
   "cell_type": "markdown",
   "metadata": {
    "slideshow": {
     "slide_type": "slide"
    }
   },
   "source": [
    "## 1.2.a: Using Cross-Validation (Single Hyperparameter)"
   ]
  },
  {
   "cell_type": "code",
   "execution_count": 30,
   "metadata": {
    "slideshow": {
     "slide_type": "slide"
    }
   },
   "outputs": [],
   "source": [
    "X_train, X_test, y_train, y_test = train_test_split(X, y, test_size=0.2, \n",
    "                                                    random_state=73, \n",
    "                                                    stratify=y)"
   ]
  },
  {
   "cell_type": "code",
   "execution_count": 31,
   "metadata": {
    "slideshow": {
     "slide_type": "slide"
    }
   },
   "outputs": [],
   "source": [
    "models_and_hyperparams = {'LogisticRegression': (LogisticRegression(),\n",
    "                                                 {'C': [0.01, 0.05, 0.1, 0.5, 1, 2]}\n",
    "                                                )\n",
    "                         }"
   ]
  },
  {
   "cell_type": "code",
   "execution_count": 32,
   "metadata": {
    "slideshow": {
     "slide_type": "slide"
    }
   },
   "outputs": [
    {
     "name": "stdout",
     "output_type": "stream",
     "text": [
      "Fitting 10 folds for each of 6 candidates, totalling 60 fits\n"
     ]
    },
    {
     "name": "stderr",
     "output_type": "stream",
     "text": [
      "[Parallel(n_jobs=1)]: Done  60 out of  60 | elapsed:    0.2s finished\n"
     ]
    },
    {
     "data": {
      "text/html": [
       "<div>\n",
       "<style scoped>\n",
       "    .dataframe tbody tr th:only-of-type {\n",
       "        vertical-align: middle;\n",
       "    }\n",
       "\n",
       "    .dataframe tbody tr th {\n",
       "        vertical-align: top;\n",
       "    }\n",
       "\n",
       "    .dataframe thead th {\n",
       "        text-align: right;\n",
       "    }\n",
       "</style>\n",
       "<table border=\"1\" class=\"dataframe\">\n",
       "  <thead>\n",
       "    <tr style=\"text-align: right;\">\n",
       "      <th></th>\n",
       "      <th>mean_fit_time</th>\n",
       "      <th>mean_score_time</th>\n",
       "      <th>mean_test_score</th>\n",
       "      <th>mean_train_score</th>\n",
       "      <th>param_C</th>\n",
       "      <th>params</th>\n",
       "      <th>rank_test_score</th>\n",
       "      <th>split0_test_score</th>\n",
       "      <th>split0_train_score</th>\n",
       "      <th>split1_test_score</th>\n",
       "      <th>...</th>\n",
       "      <th>split7_test_score</th>\n",
       "      <th>split7_train_score</th>\n",
       "      <th>split8_test_score</th>\n",
       "      <th>split8_train_score</th>\n",
       "      <th>split9_test_score</th>\n",
       "      <th>split9_train_score</th>\n",
       "      <th>std_fit_time</th>\n",
       "      <th>std_score_time</th>\n",
       "      <th>std_test_score</th>\n",
       "      <th>std_train_score</th>\n",
       "    </tr>\n",
       "  </thead>\n",
       "  <tbody>\n",
       "    <tr>\n",
       "      <th>0</th>\n",
       "      <td>0.002772</td>\n",
       "      <td>0.000375</td>\n",
       "      <td>0.684318</td>\n",
       "      <td>0.689973</td>\n",
       "      <td>0.01</td>\n",
       "      <td>{'C': 0.01}</td>\n",
       "      <td>6</td>\n",
       "      <td>0.68</td>\n",
       "      <td>0.691610</td>\n",
       "      <td>0.68</td>\n",
       "      <td>...</td>\n",
       "      <td>0.687500</td>\n",
       "      <td>0.697517</td>\n",
       "      <td>0.687500</td>\n",
       "      <td>0.688488</td>\n",
       "      <td>0.666667</td>\n",
       "      <td>0.686230</td>\n",
       "      <td>0.000352</td>\n",
       "      <td>0.000047</td>\n",
       "      <td>0.008209</td>\n",
       "      <td>0.003449</td>\n",
       "    </tr>\n",
       "    <tr>\n",
       "      <th>1</th>\n",
       "      <td>0.003276</td>\n",
       "      <td>0.000413</td>\n",
       "      <td>0.763747</td>\n",
       "      <td>0.777785</td>\n",
       "      <td>0.05</td>\n",
       "      <td>{'C': 0.05}</td>\n",
       "      <td>5</td>\n",
       "      <td>0.76</td>\n",
       "      <td>0.782313</td>\n",
       "      <td>0.74</td>\n",
       "      <td>...</td>\n",
       "      <td>0.750000</td>\n",
       "      <td>0.767494</td>\n",
       "      <td>0.770833</td>\n",
       "      <td>0.769752</td>\n",
       "      <td>0.729167</td>\n",
       "      <td>0.783296</td>\n",
       "      <td>0.000488</td>\n",
       "      <td>0.000152</td>\n",
       "      <td>0.027821</td>\n",
       "      <td>0.007463</td>\n",
       "    </tr>\n",
       "    <tr>\n",
       "      <th>2</th>\n",
       "      <td>0.002709</td>\n",
       "      <td>0.000271</td>\n",
       "      <td>0.802444</td>\n",
       "      <td>0.806290</td>\n",
       "      <td>0.1</td>\n",
       "      <td>{'C': 0.1}</td>\n",
       "      <td>4</td>\n",
       "      <td>0.80</td>\n",
       "      <td>0.811791</td>\n",
       "      <td>0.74</td>\n",
       "      <td>...</td>\n",
       "      <td>0.791667</td>\n",
       "      <td>0.808126</td>\n",
       "      <td>0.791667</td>\n",
       "      <td>0.801354</td>\n",
       "      <td>0.750000</td>\n",
       "      <td>0.814898</td>\n",
       "      <td>0.000268</td>\n",
       "      <td>0.000046</td>\n",
       "      <td>0.035839</td>\n",
       "      <td>0.005934</td>\n",
       "    </tr>\n",
       "    <tr>\n",
       "      <th>3</th>\n",
       "      <td>0.002787</td>\n",
       "      <td>0.000261</td>\n",
       "      <td>0.810591</td>\n",
       "      <td>0.815339</td>\n",
       "      <td>0.5</td>\n",
       "      <td>{'C': 0.5}</td>\n",
       "      <td>1</td>\n",
       "      <td>0.80</td>\n",
       "      <td>0.820862</td>\n",
       "      <td>0.76</td>\n",
       "      <td>...</td>\n",
       "      <td>0.791667</td>\n",
       "      <td>0.817156</td>\n",
       "      <td>0.833333</td>\n",
       "      <td>0.812641</td>\n",
       "      <td>0.750000</td>\n",
       "      <td>0.828442</td>\n",
       "      <td>0.000212</td>\n",
       "      <td>0.000058</td>\n",
       "      <td>0.035779</td>\n",
       "      <td>0.006581</td>\n",
       "    </tr>\n",
       "    <tr>\n",
       "      <th>4</th>\n",
       "      <td>0.002707</td>\n",
       "      <td>0.000246</td>\n",
       "      <td>0.810591</td>\n",
       "      <td>0.815114</td>\n",
       "      <td>1</td>\n",
       "      <td>{'C': 1}</td>\n",
       "      <td>1</td>\n",
       "      <td>0.80</td>\n",
       "      <td>0.818594</td>\n",
       "      <td>0.76</td>\n",
       "      <td>...</td>\n",
       "      <td>0.791667</td>\n",
       "      <td>0.814898</td>\n",
       "      <td>0.833333</td>\n",
       "      <td>0.810384</td>\n",
       "      <td>0.750000</td>\n",
       "      <td>0.828442</td>\n",
       "      <td>0.000094</td>\n",
       "      <td>0.000013</td>\n",
       "      <td>0.039045</td>\n",
       "      <td>0.005516</td>\n",
       "    </tr>\n",
       "    <tr>\n",
       "      <th>5</th>\n",
       "      <td>0.003345</td>\n",
       "      <td>0.000336</td>\n",
       "      <td>0.806517</td>\n",
       "      <td>0.814889</td>\n",
       "      <td>2</td>\n",
       "      <td>{'C': 2}</td>\n",
       "      <td>3</td>\n",
       "      <td>0.78</td>\n",
       "      <td>0.823129</td>\n",
       "      <td>0.76</td>\n",
       "      <td>...</td>\n",
       "      <td>0.791667</td>\n",
       "      <td>0.814898</td>\n",
       "      <td>0.833333</td>\n",
       "      <td>0.810384</td>\n",
       "      <td>0.750000</td>\n",
       "      <td>0.826185</td>\n",
       "      <td>0.000708</td>\n",
       "      <td>0.000118</td>\n",
       "      <td>0.036740</td>\n",
       "      <td>0.006492</td>\n",
       "    </tr>\n",
       "  </tbody>\n",
       "</table>\n",
       "<p>6 rows × 31 columns</p>\n",
       "</div>"
      ],
      "text/plain": [
       "   mean_fit_time  mean_score_time  mean_test_score  mean_train_score param_C  \\\n",
       "0       0.002772         0.000375         0.684318          0.689973    0.01   \n",
       "1       0.003276         0.000413         0.763747          0.777785    0.05   \n",
       "2       0.002709         0.000271         0.802444          0.806290     0.1   \n",
       "3       0.002787         0.000261         0.810591          0.815339     0.5   \n",
       "4       0.002707         0.000246         0.810591          0.815114       1   \n",
       "5       0.003345         0.000336         0.806517          0.814889       2   \n",
       "\n",
       "        params  rank_test_score  split0_test_score  split0_train_score  \\\n",
       "0  {'C': 0.01}                6               0.68            0.691610   \n",
       "1  {'C': 0.05}                5               0.76            0.782313   \n",
       "2   {'C': 0.1}                4               0.80            0.811791   \n",
       "3   {'C': 0.5}                1               0.80            0.820862   \n",
       "4     {'C': 1}                1               0.80            0.818594   \n",
       "5     {'C': 2}                3               0.78            0.823129   \n",
       "\n",
       "   split1_test_score       ...         split7_test_score  split7_train_score  \\\n",
       "0               0.68       ...                  0.687500            0.697517   \n",
       "1               0.74       ...                  0.750000            0.767494   \n",
       "2               0.74       ...                  0.791667            0.808126   \n",
       "3               0.76       ...                  0.791667            0.817156   \n",
       "4               0.76       ...                  0.791667            0.814898   \n",
       "5               0.76       ...                  0.791667            0.814898   \n",
       "\n",
       "   split8_test_score  split8_train_score  split9_test_score  \\\n",
       "0           0.687500            0.688488           0.666667   \n",
       "1           0.770833            0.769752           0.729167   \n",
       "2           0.791667            0.801354           0.750000   \n",
       "3           0.833333            0.812641           0.750000   \n",
       "4           0.833333            0.810384           0.750000   \n",
       "5           0.833333            0.810384           0.750000   \n",
       "\n",
       "   split9_train_score  std_fit_time  std_score_time  std_test_score  \\\n",
       "0            0.686230      0.000352        0.000047        0.008209   \n",
       "1            0.783296      0.000488        0.000152        0.027821   \n",
       "2            0.814898      0.000268        0.000046        0.035839   \n",
       "3            0.828442      0.000212        0.000058        0.035779   \n",
       "4            0.828442      0.000094        0.000013        0.039045   \n",
       "5            0.826185      0.000708        0.000118        0.036740   \n",
       "\n",
       "   std_train_score  \n",
       "0         0.003449  \n",
       "1         0.007463  \n",
       "2         0.005934  \n",
       "3         0.006581  \n",
       "4         0.005516  \n",
       "5         0.006492  \n",
       "\n",
       "[6 rows x 31 columns]"
      ]
     },
     "execution_count": 32,
     "metadata": {},
     "output_type": "execute_result"
    }
   ],
   "source": [
    "k_fold = StratifiedKFold(n_splits=10, shuffle=True, random_state=42)\n",
    "# Get the only model available\n",
    "model = models_and_hyperparams['LogisticRegression'][0]\n",
    "# Get the hyperparameters for that model\n",
    "hyperparams = models_and_hyperparams['LogisticRegression'][1]\n",
    "\n",
    "gs = GridSearchCV(estimator=model, param_grid=hyperparams, cv=k_fold, \n",
    "                  scoring='accuracy',\n",
    "                  verbose=True,\n",
    "                 return_train_score=True)\n",
    "gs.fit(X_train, y_train)\n",
    "pd.DataFrame(gs.cv_results_)"
   ]
  },
  {
   "cell_type": "code",
   "execution_count": 33,
   "metadata": {
    "slideshow": {
     "slide_type": "slide"
    }
   },
   "outputs": [
    {
     "name": "stdout",
     "output_type": "stream",
     "text": [
      "Best hyperparameter: {'C': 0.5}\n",
      "Best accuracy score: 0.811\n",
      "Accuracy = 0.813\n",
      "Area Under the ROC Curve (ROC AUC) = 0.712\n"
     ]
    }
   ],
   "source": [
    "print(\"Best hyperparameter: {}\".format(gs.best_params_))\n",
    "print(\"Best accuracy score: {:.3f}\".format(gs.best_score_))\n",
    "evaluate(y_test, gs.predict(X_test))"
   ]
  },
  {
   "cell_type": "markdown",
   "metadata": {
    "slideshow": {
     "slide_type": "slide"
    }
   },
   "source": [
    "## 1.2.b: Using Cross-Validation (Multiple Hyperparameters)"
   ]
  },
  {
   "cell_type": "code",
   "execution_count": 34,
   "metadata": {
    "slideshow": {
     "slide_type": "slide"
    }
   },
   "outputs": [],
   "source": [
    "models_and_hyperparams = {'LogisticRegression': (LogisticRegression(),\n",
    "                                                 {'C': [0.01, 0.05, 0.1, 0.5, 1, 2],\n",
    "                                                 'penalty': ['l1', 'l2']}\n",
    "                                                )\n",
    "                         }"
   ]
  },
  {
   "cell_type": "code",
   "execution_count": 35,
   "metadata": {
    "slideshow": {
     "slide_type": "slide"
    }
   },
   "outputs": [
    {
     "name": "stdout",
     "output_type": "stream",
     "text": [
      "Fitting 10 folds for each of 12 candidates, totalling 120 fits\n"
     ]
    },
    {
     "name": "stderr",
     "output_type": "stream",
     "text": [
      "[Parallel(n_jobs=1)]: Done 120 out of 120 | elapsed:    0.6s finished\n"
     ]
    },
    {
     "data": {
      "text/html": [
       "<div>\n",
       "<style scoped>\n",
       "    .dataframe tbody tr th:only-of-type {\n",
       "        vertical-align: middle;\n",
       "    }\n",
       "\n",
       "    .dataframe tbody tr th {\n",
       "        vertical-align: top;\n",
       "    }\n",
       "\n",
       "    .dataframe thead th {\n",
       "        text-align: right;\n",
       "    }\n",
       "</style>\n",
       "<table border=\"1\" class=\"dataframe\">\n",
       "  <thead>\n",
       "    <tr style=\"text-align: right;\">\n",
       "      <th></th>\n",
       "      <th>mean_fit_time</th>\n",
       "      <th>mean_score_time</th>\n",
       "      <th>mean_test_score</th>\n",
       "      <th>mean_train_score</th>\n",
       "      <th>param_C</th>\n",
       "      <th>param_penalty</th>\n",
       "      <th>params</th>\n",
       "      <th>rank_test_score</th>\n",
       "      <th>split0_test_score</th>\n",
       "      <th>split0_train_score</th>\n",
       "      <th>...</th>\n",
       "      <th>split7_test_score</th>\n",
       "      <th>split7_train_score</th>\n",
       "      <th>split8_test_score</th>\n",
       "      <th>split8_train_score</th>\n",
       "      <th>split9_test_score</th>\n",
       "      <th>split9_train_score</th>\n",
       "      <th>std_fit_time</th>\n",
       "      <th>std_score_time</th>\n",
       "      <th>std_test_score</th>\n",
       "      <th>std_train_score</th>\n",
       "    </tr>\n",
       "  </thead>\n",
       "  <tbody>\n",
       "    <tr>\n",
       "      <th>0</th>\n",
       "      <td>0.001959</td>\n",
       "      <td>0.000368</td>\n",
       "      <td>0.682281</td>\n",
       "      <td>0.688393</td>\n",
       "      <td>0.01</td>\n",
       "      <td>l1</td>\n",
       "      <td>{'C': 0.01, 'penalty': 'l1'}</td>\n",
       "      <td>12</td>\n",
       "      <td>0.68</td>\n",
       "      <td>0.691610</td>\n",
       "      <td>...</td>\n",
       "      <td>0.666667</td>\n",
       "      <td>0.681716</td>\n",
       "      <td>0.687500</td>\n",
       "      <td>0.688488</td>\n",
       "      <td>0.666667</td>\n",
       "      <td>0.690745</td>\n",
       "      <td>0.000222</td>\n",
       "      <td>0.000087</td>\n",
       "      <td>0.013198</td>\n",
       "      <td>0.002967</td>\n",
       "    </tr>\n",
       "    <tr>\n",
       "      <th>1</th>\n",
       "      <td>0.003046</td>\n",
       "      <td>0.000374</td>\n",
       "      <td>0.684318</td>\n",
       "      <td>0.688846</td>\n",
       "      <td>0.01</td>\n",
       "      <td>l2</td>\n",
       "      <td>{'C': 0.01, 'penalty': 'l2'}</td>\n",
       "      <td>11</td>\n",
       "      <td>0.68</td>\n",
       "      <td>0.689342</td>\n",
       "      <td>...</td>\n",
       "      <td>0.687500</td>\n",
       "      <td>0.688488</td>\n",
       "      <td>0.687500</td>\n",
       "      <td>0.683973</td>\n",
       "      <td>0.687500</td>\n",
       "      <td>0.690745</td>\n",
       "      <td>0.000709</td>\n",
       "      <td>0.000094</td>\n",
       "      <td>0.009810</td>\n",
       "      <td>0.002725</td>\n",
       "    </tr>\n",
       "    <tr>\n",
       "      <th>2</th>\n",
       "      <td>0.001817</td>\n",
       "      <td>0.000259</td>\n",
       "      <td>0.808554</td>\n",
       "      <td>0.808330</td>\n",
       "      <td>0.05</td>\n",
       "      <td>l1</td>\n",
       "      <td>{'C': 0.05, 'penalty': 'l1'}</td>\n",
       "      <td>1</td>\n",
       "      <td>0.74</td>\n",
       "      <td>0.816327</td>\n",
       "      <td>...</td>\n",
       "      <td>0.833333</td>\n",
       "      <td>0.805869</td>\n",
       "      <td>0.791667</td>\n",
       "      <td>0.810384</td>\n",
       "      <td>0.833333</td>\n",
       "      <td>0.805869</td>\n",
       "      <td>0.000328</td>\n",
       "      <td>0.000032</td>\n",
       "      <td>0.031273</td>\n",
       "      <td>0.003493</td>\n",
       "    </tr>\n",
       "    <tr>\n",
       "      <th>3</th>\n",
       "      <td>0.002625</td>\n",
       "      <td>0.000259</td>\n",
       "      <td>0.771894</td>\n",
       "      <td>0.777102</td>\n",
       "      <td>0.05</td>\n",
       "      <td>l2</td>\n",
       "      <td>{'C': 0.05, 'penalty': 'l2'}</td>\n",
       "      <td>10</td>\n",
       "      <td>0.70</td>\n",
       "      <td>0.791383</td>\n",
       "      <td>...</td>\n",
       "      <td>0.791667</td>\n",
       "      <td>0.774266</td>\n",
       "      <td>0.791667</td>\n",
       "      <td>0.778781</td>\n",
       "      <td>0.812500</td>\n",
       "      <td>0.776524</td>\n",
       "      <td>0.000207</td>\n",
       "      <td>0.000042</td>\n",
       "      <td>0.035235</td>\n",
       "      <td>0.005506</td>\n",
       "    </tr>\n",
       "    <tr>\n",
       "      <th>4</th>\n",
       "      <td>0.001996</td>\n",
       "      <td>0.000241</td>\n",
       "      <td>0.806517</td>\n",
       "      <td>0.808557</td>\n",
       "      <td>0.1</td>\n",
       "      <td>l1</td>\n",
       "      <td>{'C': 0.1, 'penalty': 'l1'}</td>\n",
       "      <td>4</td>\n",
       "      <td>0.74</td>\n",
       "      <td>0.816327</td>\n",
       "      <td>...</td>\n",
       "      <td>0.833333</td>\n",
       "      <td>0.805869</td>\n",
       "      <td>0.791667</td>\n",
       "      <td>0.810384</td>\n",
       "      <td>0.833333</td>\n",
       "      <td>0.805869</td>\n",
       "      <td>0.000292</td>\n",
       "      <td>0.000010</td>\n",
       "      <td>0.032395</td>\n",
       "      <td>0.003490</td>\n",
       "    </tr>\n",
       "    <tr>\n",
       "      <th>5</th>\n",
       "      <td>0.002634</td>\n",
       "      <td>0.000256</td>\n",
       "      <td>0.802444</td>\n",
       "      <td>0.806975</td>\n",
       "      <td>0.1</td>\n",
       "      <td>l2</td>\n",
       "      <td>{'C': 0.1, 'penalty': 'l2'}</td>\n",
       "      <td>9</td>\n",
       "      <td>0.74</td>\n",
       "      <td>0.814059</td>\n",
       "      <td>...</td>\n",
       "      <td>0.833333</td>\n",
       "      <td>0.803612</td>\n",
       "      <td>0.791667</td>\n",
       "      <td>0.803612</td>\n",
       "      <td>0.833333</td>\n",
       "      <td>0.805869</td>\n",
       "      <td>0.000191</td>\n",
       "      <td>0.000049</td>\n",
       "      <td>0.040758</td>\n",
       "      <td>0.004174</td>\n",
       "    </tr>\n",
       "    <tr>\n",
       "      <th>6</th>\n",
       "      <td>0.004161</td>\n",
       "      <td>0.000334</td>\n",
       "      <td>0.808554</td>\n",
       "      <td>0.814215</td>\n",
       "      <td>0.5</td>\n",
       "      <td>l1</td>\n",
       "      <td>{'C': 0.5, 'penalty': 'l1'}</td>\n",
       "      <td>1</td>\n",
       "      <td>0.76</td>\n",
       "      <td>0.818594</td>\n",
       "      <td>...</td>\n",
       "      <td>0.833333</td>\n",
       "      <td>0.812641</td>\n",
       "      <td>0.791667</td>\n",
       "      <td>0.812641</td>\n",
       "      <td>0.833333</td>\n",
       "      <td>0.812641</td>\n",
       "      <td>0.000562</td>\n",
       "      <td>0.000068</td>\n",
       "      <td>0.034808</td>\n",
       "      <td>0.003183</td>\n",
       "    </tr>\n",
       "    <tr>\n",
       "      <th>7</th>\n",
       "      <td>0.002764</td>\n",
       "      <td>0.000248</td>\n",
       "      <td>0.806517</td>\n",
       "      <td>0.815572</td>\n",
       "      <td>0.5</td>\n",
       "      <td>l2</td>\n",
       "      <td>{'C': 0.5, 'penalty': 'l2'}</td>\n",
       "      <td>4</td>\n",
       "      <td>0.76</td>\n",
       "      <td>0.823129</td>\n",
       "      <td>...</td>\n",
       "      <td>0.833333</td>\n",
       "      <td>0.817156</td>\n",
       "      <td>0.791667</td>\n",
       "      <td>0.812641</td>\n",
       "      <td>0.791667</td>\n",
       "      <td>0.817156</td>\n",
       "      <td>0.000160</td>\n",
       "      <td>0.000013</td>\n",
       "      <td>0.035534</td>\n",
       "      <td>0.004072</td>\n",
       "    </tr>\n",
       "    <tr>\n",
       "      <th>8</th>\n",
       "      <td>0.004050</td>\n",
       "      <td>0.000241</td>\n",
       "      <td>0.808554</td>\n",
       "      <td>0.815344</td>\n",
       "      <td>1</td>\n",
       "      <td>l1</td>\n",
       "      <td>{'C': 1, 'penalty': 'l1'}</td>\n",
       "      <td>1</td>\n",
       "      <td>0.76</td>\n",
       "      <td>0.820862</td>\n",
       "      <td>...</td>\n",
       "      <td>0.833333</td>\n",
       "      <td>0.812641</td>\n",
       "      <td>0.791667</td>\n",
       "      <td>0.817156</td>\n",
       "      <td>0.812500</td>\n",
       "      <td>0.819413</td>\n",
       "      <td>0.000800</td>\n",
       "      <td>0.000006</td>\n",
       "      <td>0.035220</td>\n",
       "      <td>0.003740</td>\n",
       "    </tr>\n",
       "    <tr>\n",
       "      <th>9</th>\n",
       "      <td>0.002786</td>\n",
       "      <td>0.000262</td>\n",
       "      <td>0.804481</td>\n",
       "      <td>0.815799</td>\n",
       "      <td>1</td>\n",
       "      <td>l2</td>\n",
       "      <td>{'C': 1, 'penalty': 'l2'}</td>\n",
       "      <td>7</td>\n",
       "      <td>0.76</td>\n",
       "      <td>0.820862</td>\n",
       "      <td>...</td>\n",
       "      <td>0.833333</td>\n",
       "      <td>0.817156</td>\n",
       "      <td>0.791667</td>\n",
       "      <td>0.812641</td>\n",
       "      <td>0.791667</td>\n",
       "      <td>0.817156</td>\n",
       "      <td>0.000200</td>\n",
       "      <td>0.000052</td>\n",
       "      <td>0.034101</td>\n",
       "      <td>0.003915</td>\n",
       "    </tr>\n",
       "    <tr>\n",
       "      <th>10</th>\n",
       "      <td>0.016074</td>\n",
       "      <td>0.000268</td>\n",
       "      <td>0.806517</td>\n",
       "      <td>0.814664</td>\n",
       "      <td>2</td>\n",
       "      <td>l1</td>\n",
       "      <td>{'C': 2, 'penalty': 'l1'}</td>\n",
       "      <td>4</td>\n",
       "      <td>0.76</td>\n",
       "      <td>0.820862</td>\n",
       "      <td>...</td>\n",
       "      <td>0.833333</td>\n",
       "      <td>0.817156</td>\n",
       "      <td>0.791667</td>\n",
       "      <td>0.819413</td>\n",
       "      <td>0.791667</td>\n",
       "      <td>0.814898</td>\n",
       "      <td>0.011391</td>\n",
       "      <td>0.000034</td>\n",
       "      <td>0.035534</td>\n",
       "      <td>0.005376</td>\n",
       "    </tr>\n",
       "    <tr>\n",
       "      <th>11</th>\n",
       "      <td>0.002851</td>\n",
       "      <td>0.000265</td>\n",
       "      <td>0.804481</td>\n",
       "      <td>0.815571</td>\n",
       "      <td>2</td>\n",
       "      <td>l2</td>\n",
       "      <td>{'C': 2, 'penalty': 'l2'}</td>\n",
       "      <td>7</td>\n",
       "      <td>0.76</td>\n",
       "      <td>0.823129</td>\n",
       "      <td>...</td>\n",
       "      <td>0.833333</td>\n",
       "      <td>0.817156</td>\n",
       "      <td>0.791667</td>\n",
       "      <td>0.817156</td>\n",
       "      <td>0.791667</td>\n",
       "      <td>0.817156</td>\n",
       "      <td>0.000217</td>\n",
       "      <td>0.000031</td>\n",
       "      <td>0.031792</td>\n",
       "      <td>0.005314</td>\n",
       "    </tr>\n",
       "  </tbody>\n",
       "</table>\n",
       "<p>12 rows × 32 columns</p>\n",
       "</div>"
      ],
      "text/plain": [
       "    mean_fit_time  mean_score_time  mean_test_score  mean_train_score param_C  \\\n",
       "0        0.001959         0.000368         0.682281          0.688393    0.01   \n",
       "1        0.003046         0.000374         0.684318          0.688846    0.01   \n",
       "2        0.001817         0.000259         0.808554          0.808330    0.05   \n",
       "3        0.002625         0.000259         0.771894          0.777102    0.05   \n",
       "4        0.001996         0.000241         0.806517          0.808557     0.1   \n",
       "5        0.002634         0.000256         0.802444          0.806975     0.1   \n",
       "6        0.004161         0.000334         0.808554          0.814215     0.5   \n",
       "7        0.002764         0.000248         0.806517          0.815572     0.5   \n",
       "8        0.004050         0.000241         0.808554          0.815344       1   \n",
       "9        0.002786         0.000262         0.804481          0.815799       1   \n",
       "10       0.016074         0.000268         0.806517          0.814664       2   \n",
       "11       0.002851         0.000265         0.804481          0.815571       2   \n",
       "\n",
       "   param_penalty                        params  rank_test_score  \\\n",
       "0             l1  {'C': 0.01, 'penalty': 'l1'}               12   \n",
       "1             l2  {'C': 0.01, 'penalty': 'l2'}               11   \n",
       "2             l1  {'C': 0.05, 'penalty': 'l1'}                1   \n",
       "3             l2  {'C': 0.05, 'penalty': 'l2'}               10   \n",
       "4             l1   {'C': 0.1, 'penalty': 'l1'}                4   \n",
       "5             l2   {'C': 0.1, 'penalty': 'l2'}                9   \n",
       "6             l1   {'C': 0.5, 'penalty': 'l1'}                1   \n",
       "7             l2   {'C': 0.5, 'penalty': 'l2'}                4   \n",
       "8             l1     {'C': 1, 'penalty': 'l1'}                1   \n",
       "9             l2     {'C': 1, 'penalty': 'l2'}                7   \n",
       "10            l1     {'C': 2, 'penalty': 'l1'}                4   \n",
       "11            l2     {'C': 2, 'penalty': 'l2'}                7   \n",
       "\n",
       "    split0_test_score  split0_train_score       ...         split7_test_score  \\\n",
       "0                0.68            0.691610       ...                  0.666667   \n",
       "1                0.68            0.689342       ...                  0.687500   \n",
       "2                0.74            0.816327       ...                  0.833333   \n",
       "3                0.70            0.791383       ...                  0.791667   \n",
       "4                0.74            0.816327       ...                  0.833333   \n",
       "5                0.74            0.814059       ...                  0.833333   \n",
       "6                0.76            0.818594       ...                  0.833333   \n",
       "7                0.76            0.823129       ...                  0.833333   \n",
       "8                0.76            0.820862       ...                  0.833333   \n",
       "9                0.76            0.820862       ...                  0.833333   \n",
       "10               0.76            0.820862       ...                  0.833333   \n",
       "11               0.76            0.823129       ...                  0.833333   \n",
       "\n",
       "    split7_train_score  split8_test_score  split8_train_score  \\\n",
       "0             0.681716           0.687500            0.688488   \n",
       "1             0.688488           0.687500            0.683973   \n",
       "2             0.805869           0.791667            0.810384   \n",
       "3             0.774266           0.791667            0.778781   \n",
       "4             0.805869           0.791667            0.810384   \n",
       "5             0.803612           0.791667            0.803612   \n",
       "6             0.812641           0.791667            0.812641   \n",
       "7             0.817156           0.791667            0.812641   \n",
       "8             0.812641           0.791667            0.817156   \n",
       "9             0.817156           0.791667            0.812641   \n",
       "10            0.817156           0.791667            0.819413   \n",
       "11            0.817156           0.791667            0.817156   \n",
       "\n",
       "    split9_test_score  split9_train_score  std_fit_time  std_score_time  \\\n",
       "0            0.666667            0.690745      0.000222        0.000087   \n",
       "1            0.687500            0.690745      0.000709        0.000094   \n",
       "2            0.833333            0.805869      0.000328        0.000032   \n",
       "3            0.812500            0.776524      0.000207        0.000042   \n",
       "4            0.833333            0.805869      0.000292        0.000010   \n",
       "5            0.833333            0.805869      0.000191        0.000049   \n",
       "6            0.833333            0.812641      0.000562        0.000068   \n",
       "7            0.791667            0.817156      0.000160        0.000013   \n",
       "8            0.812500            0.819413      0.000800        0.000006   \n",
       "9            0.791667            0.817156      0.000200        0.000052   \n",
       "10           0.791667            0.814898      0.011391        0.000034   \n",
       "11           0.791667            0.817156      0.000217        0.000031   \n",
       "\n",
       "    std_test_score  std_train_score  \n",
       "0         0.013198         0.002967  \n",
       "1         0.009810         0.002725  \n",
       "2         0.031273         0.003493  \n",
       "3         0.035235         0.005506  \n",
       "4         0.032395         0.003490  \n",
       "5         0.040758         0.004174  \n",
       "6         0.034808         0.003183  \n",
       "7         0.035534         0.004072  \n",
       "8         0.035220         0.003740  \n",
       "9         0.034101         0.003915  \n",
       "10        0.035534         0.005376  \n",
       "11        0.031792         0.005314  \n",
       "\n",
       "[12 rows x 32 columns]"
      ]
     },
     "execution_count": 35,
     "metadata": {},
     "output_type": "execute_result"
    }
   ],
   "source": [
    "k_fold = StratifiedKFold(n_splits=10, shuffle=True, random_state=31)\n",
    "# Get the only model available\n",
    "model = models_and_hyperparams['LogisticRegression'][0]\n",
    "# Get the hyperparameters for that model\n",
    "hyperparams = models_and_hyperparams['LogisticRegression'][1]\n",
    "\n",
    "gs = GridSearchCV(estimator=model, param_grid=hyperparams, cv=k_fold, \n",
    "                  scoring='accuracy',\n",
    "                  verbose=True,\n",
    "                 return_train_score=True)\n",
    "gs.fit(X_train, y_train)\n",
    "pd.DataFrame(gs.cv_results_)"
   ]
  },
  {
   "cell_type": "code",
   "execution_count": 36,
   "metadata": {
    "slideshow": {
     "slide_type": "slide"
    }
   },
   "outputs": [
    {
     "name": "stdout",
     "output_type": "stream",
     "text": [
      "Best hyperparameter: {'C': 0.05, 'penalty': 'l1'}\n",
      "Best accuracy score: 0.809\n",
      "Accuracy = 0.813\n",
      "Area Under the ROC Curve (ROC AUC) = 0.712\n"
     ]
    }
   ],
   "source": [
    "print(\"Best hyperparameter: {}\".format(gs.best_params_))\n",
    "print(\"Best accuracy score: {:.3f}\".format(gs.best_score_))\n",
    "evaluate(y_test, gs.predict(X_test))"
   ]
  },
  {
   "cell_type": "markdown",
   "metadata": {
    "slideshow": {
     "slide_type": "slide"
    }
   },
   "source": [
    "## Case 2: Select Best Model out of a Set of Family of Models with Fixed Hyperparameters"
   ]
  },
  {
   "cell_type": "markdown",
   "metadata": {
    "slideshow": {
     "slide_type": "slide"
    }
   },
   "source": [
    "## Using Cross Validation"
   ]
  },
  {
   "cell_type": "code",
   "execution_count": 37,
   "metadata": {
    "slideshow": {
     "slide_type": "slide"
    }
   },
   "outputs": [],
   "source": [
    "X_train, X_test, y_train, y_test = train_test_split(X, y, test_size=0.2, \n",
    "                                                    random_state=73, \n",
    "                                                    stratify=y)"
   ]
  },
  {
   "cell_type": "code",
   "execution_count": 38,
   "metadata": {
    "slideshow": {
     "slide_type": "slide"
    }
   },
   "outputs": [],
   "source": [
    "models = {'LogisticRegression': LogisticRegression(),\n",
    "          'LinearSVC': LinearSVC(),\n",
    "          'DecisionTreeClassifier': DecisionTreeClassifier(),\n",
    "          'RandomForestClassifier': RandomForestClassifier(),\n",
    "          'GradientBoostingClassifier': GradientBoostingClassifier()\n",
    "          # Add other families of models here...\n",
    "         }"
   ]
  },
  {
   "cell_type": "code",
   "execution_count": 39,
   "metadata": {
    "slideshow": {
     "slide_type": "slide"
    }
   },
   "outputs": [],
   "source": [
    "k_fold = StratifiedKFold(n_splits=10, shuffle=True, random_state=42)\n",
    "cv_scores = {}\n",
    "for model_name, model in models.items():\n",
    "    cv_scores[model_name] = cross_val_score(model, X_train, y_train, cv=k_fold, scoring='accuracy')"
   ]
  },
  {
   "cell_type": "code",
   "execution_count": 40,
   "metadata": {
    "slideshow": {
     "slide_type": "slide"
    }
   },
   "outputs": [
    {
     "data": {
      "text/html": [
       "<div>\n",
       "<style scoped>\n",
       "    .dataframe tbody tr th:only-of-type {\n",
       "        vertical-align: middle;\n",
       "    }\n",
       "\n",
       "    .dataframe tbody tr th {\n",
       "        vertical-align: top;\n",
       "    }\n",
       "\n",
       "    .dataframe thead th {\n",
       "        text-align: right;\n",
       "    }\n",
       "</style>\n",
       "<table border=\"1\" class=\"dataframe\">\n",
       "  <thead>\n",
       "    <tr style=\"text-align: right;\">\n",
       "      <th></th>\n",
       "      <th>0</th>\n",
       "      <th>1</th>\n",
       "      <th>2</th>\n",
       "      <th>3</th>\n",
       "      <th>4</th>\n",
       "      <th>5</th>\n",
       "      <th>6</th>\n",
       "      <th>7</th>\n",
       "      <th>8</th>\n",
       "      <th>9</th>\n",
       "    </tr>\n",
       "  </thead>\n",
       "  <tbody>\n",
       "    <tr>\n",
       "      <th>DecisionTreeClassifier</th>\n",
       "      <td>0.68</td>\n",
       "      <td>0.68</td>\n",
       "      <td>0.58</td>\n",
       "      <td>0.64</td>\n",
       "      <td>0.734694</td>\n",
       "      <td>0.693878</td>\n",
       "      <td>0.673469</td>\n",
       "      <td>0.645833</td>\n",
       "      <td>0.645833</td>\n",
       "      <td>0.666667</td>\n",
       "    </tr>\n",
       "    <tr>\n",
       "      <th>GradientBoostingClassifier</th>\n",
       "      <td>0.76</td>\n",
       "      <td>0.72</td>\n",
       "      <td>0.72</td>\n",
       "      <td>0.76</td>\n",
       "      <td>0.857143</td>\n",
       "      <td>0.816327</td>\n",
       "      <td>0.755102</td>\n",
       "      <td>0.833333</td>\n",
       "      <td>0.812500</td>\n",
       "      <td>0.687500</td>\n",
       "    </tr>\n",
       "    <tr>\n",
       "      <th>LinearSVC</th>\n",
       "      <td>0.68</td>\n",
       "      <td>0.32</td>\n",
       "      <td>0.68</td>\n",
       "      <td>0.68</td>\n",
       "      <td>0.367347</td>\n",
       "      <td>0.693878</td>\n",
       "      <td>0.693878</td>\n",
       "      <td>0.312500</td>\n",
       "      <td>0.687500</td>\n",
       "      <td>0.687500</td>\n",
       "    </tr>\n",
       "    <tr>\n",
       "      <th>LogisticRegression</th>\n",
       "      <td>0.80</td>\n",
       "      <td>0.76</td>\n",
       "      <td>0.80</td>\n",
       "      <td>0.88</td>\n",
       "      <td>0.836735</td>\n",
       "      <td>0.857143</td>\n",
       "      <td>0.795918</td>\n",
       "      <td>0.791667</td>\n",
       "      <td>0.833333</td>\n",
       "      <td>0.750000</td>\n",
       "    </tr>\n",
       "    <tr>\n",
       "      <th>RandomForestClassifier</th>\n",
       "      <td>0.76</td>\n",
       "      <td>0.64</td>\n",
       "      <td>0.78</td>\n",
       "      <td>0.78</td>\n",
       "      <td>0.693878</td>\n",
       "      <td>0.734694</td>\n",
       "      <td>0.693878</td>\n",
       "      <td>0.729167</td>\n",
       "      <td>0.750000</td>\n",
       "      <td>0.770833</td>\n",
       "    </tr>\n",
       "  </tbody>\n",
       "</table>\n",
       "</div>"
      ],
      "text/plain": [
       "                               0     1     2     3         4         5  \\\n",
       "DecisionTreeClassifier      0.68  0.68  0.58  0.64  0.734694  0.693878   \n",
       "GradientBoostingClassifier  0.76  0.72  0.72  0.76  0.857143  0.816327   \n",
       "LinearSVC                   0.68  0.32  0.68  0.68  0.367347  0.693878   \n",
       "LogisticRegression          0.80  0.76  0.80  0.88  0.836735  0.857143   \n",
       "RandomForestClassifier      0.76  0.64  0.78  0.78  0.693878  0.734694   \n",
       "\n",
       "                                   6         7         8         9  \n",
       "DecisionTreeClassifier      0.673469  0.645833  0.645833  0.666667  \n",
       "GradientBoostingClassifier  0.755102  0.833333  0.812500  0.687500  \n",
       "LinearSVC                   0.693878  0.312500  0.687500  0.687500  \n",
       "LogisticRegression          0.795918  0.791667  0.833333  0.750000  \n",
       "RandomForestClassifier      0.693878  0.729167  0.750000  0.770833  "
      ]
     },
     "execution_count": 40,
     "metadata": {},
     "output_type": "execute_result"
    }
   ],
   "source": [
    "cv_df = pd.DataFrame(cv_scores).transpose()\n",
    "cv_df"
   ]
  },
  {
   "cell_type": "code",
   "execution_count": 41,
   "metadata": {
    "slideshow": {
     "slide_type": "slide"
    }
   },
   "outputs": [
    {
     "data": {
      "text/html": [
       "<div>\n",
       "<style scoped>\n",
       "    .dataframe tbody tr th:only-of-type {\n",
       "        vertical-align: middle;\n",
       "    }\n",
       "\n",
       "    .dataframe tbody tr th {\n",
       "        vertical-align: top;\n",
       "    }\n",
       "\n",
       "    .dataframe thead th {\n",
       "        text-align: right;\n",
       "    }\n",
       "</style>\n",
       "<table border=\"1\" class=\"dataframe\">\n",
       "  <thead>\n",
       "    <tr style=\"text-align: right;\">\n",
       "      <th></th>\n",
       "      <th>0</th>\n",
       "      <th>1</th>\n",
       "      <th>2</th>\n",
       "      <th>3</th>\n",
       "      <th>4</th>\n",
       "      <th>5</th>\n",
       "      <th>6</th>\n",
       "      <th>7</th>\n",
       "      <th>8</th>\n",
       "      <th>9</th>\n",
       "      <th>avg_cv</th>\n",
       "      <th>std_cv</th>\n",
       "    </tr>\n",
       "  </thead>\n",
       "  <tbody>\n",
       "    <tr>\n",
       "      <th>LogisticRegression</th>\n",
       "      <td>0.80</td>\n",
       "      <td>0.76</td>\n",
       "      <td>0.80</td>\n",
       "      <td>0.88</td>\n",
       "      <td>0.836735</td>\n",
       "      <td>0.857143</td>\n",
       "      <td>0.795918</td>\n",
       "      <td>0.791667</td>\n",
       "      <td>0.833333</td>\n",
       "      <td>0.750000</td>\n",
       "      <td>0.810480</td>\n",
       "      <td>0.037190</td>\n",
       "    </tr>\n",
       "    <tr>\n",
       "      <th>GradientBoostingClassifier</th>\n",
       "      <td>0.76</td>\n",
       "      <td>0.72</td>\n",
       "      <td>0.72</td>\n",
       "      <td>0.76</td>\n",
       "      <td>0.857143</td>\n",
       "      <td>0.816327</td>\n",
       "      <td>0.755102</td>\n",
       "      <td>0.833333</td>\n",
       "      <td>0.812500</td>\n",
       "      <td>0.687500</td>\n",
       "      <td>0.772190</td>\n",
       "      <td>0.050216</td>\n",
       "    </tr>\n",
       "    <tr>\n",
       "      <th>RandomForestClassifier</th>\n",
       "      <td>0.76</td>\n",
       "      <td>0.64</td>\n",
       "      <td>0.78</td>\n",
       "      <td>0.78</td>\n",
       "      <td>0.693878</td>\n",
       "      <td>0.734694</td>\n",
       "      <td>0.693878</td>\n",
       "      <td>0.729167</td>\n",
       "      <td>0.750000</td>\n",
       "      <td>0.770833</td>\n",
       "      <td>0.733245</td>\n",
       "      <td>0.041115</td>\n",
       "    </tr>\n",
       "    <tr>\n",
       "      <th>DecisionTreeClassifier</th>\n",
       "      <td>0.68</td>\n",
       "      <td>0.68</td>\n",
       "      <td>0.58</td>\n",
       "      <td>0.64</td>\n",
       "      <td>0.734694</td>\n",
       "      <td>0.693878</td>\n",
       "      <td>0.673469</td>\n",
       "      <td>0.645833</td>\n",
       "      <td>0.645833</td>\n",
       "      <td>0.666667</td>\n",
       "      <td>0.664037</td>\n",
       "      <td>0.036669</td>\n",
       "    </tr>\n",
       "    <tr>\n",
       "      <th>LinearSVC</th>\n",
       "      <td>0.68</td>\n",
       "      <td>0.32</td>\n",
       "      <td>0.68</td>\n",
       "      <td>0.68</td>\n",
       "      <td>0.367347</td>\n",
       "      <td>0.693878</td>\n",
       "      <td>0.693878</td>\n",
       "      <td>0.312500</td>\n",
       "      <td>0.687500</td>\n",
       "      <td>0.687500</td>\n",
       "      <td>0.580260</td>\n",
       "      <td>0.154751</td>\n",
       "    </tr>\n",
       "  </tbody>\n",
       "</table>\n",
       "</div>"
      ],
      "text/plain": [
       "                               0     1     2     3         4         5  \\\n",
       "LogisticRegression          0.80  0.76  0.80  0.88  0.836735  0.857143   \n",
       "GradientBoostingClassifier  0.76  0.72  0.72  0.76  0.857143  0.816327   \n",
       "RandomForestClassifier      0.76  0.64  0.78  0.78  0.693878  0.734694   \n",
       "DecisionTreeClassifier      0.68  0.68  0.58  0.64  0.734694  0.693878   \n",
       "LinearSVC                   0.68  0.32  0.68  0.68  0.367347  0.693878   \n",
       "\n",
       "                                   6         7         8         9    avg_cv  \\\n",
       "LogisticRegression          0.795918  0.791667  0.833333  0.750000  0.810480   \n",
       "GradientBoostingClassifier  0.755102  0.833333  0.812500  0.687500  0.772190   \n",
       "RandomForestClassifier      0.693878  0.729167  0.750000  0.770833  0.733245   \n",
       "DecisionTreeClassifier      0.673469  0.645833  0.645833  0.666667  0.664037   \n",
       "LinearSVC                   0.693878  0.312500  0.687500  0.687500  0.580260   \n",
       "\n",
       "                              std_cv  \n",
       "LogisticRegression          0.037190  \n",
       "GradientBoostingClassifier  0.050216  \n",
       "RandomForestClassifier      0.041115  \n",
       "DecisionTreeClassifier      0.036669  \n",
       "LinearSVC                   0.154751  "
      ]
     },
     "execution_count": 41,
     "metadata": {},
     "output_type": "execute_result"
    }
   ],
   "source": [
    "cv_df['avg_cv'] = np.mean(cv_df, axis=1)\n",
    "cv_df['std_cv'] = np.std(cv_df, axis=1)\n",
    "cv_df = cv_df.sort_values(['avg_cv', 'std_cv'], ascending=[False,True])\n",
    "cv_df"
   ]
  },
  {
   "cell_type": "code",
   "execution_count": 42,
   "metadata": {
    "slideshow": {
     "slide_type": "slide"
    }
   },
   "outputs": [
    {
     "name": "stdout",
     "output_type": "stream",
     "text": [
      "***** Evaluate Performance on Training Set *****\n",
      "Accuracy = 0.813\n",
      "Area Under the ROC Curve (ROC AUC) = 0.714\n",
      "***** Evaluate Performance on Test Set *****\n",
      "Accuracy = 0.813\n",
      "Area Under the ROC Curve (ROC AUC) = 0.712\n"
     ]
    }
   ],
   "source": [
    "# Model Selection: Logistic Regression is the best overall method, therefore we pick that!\n",
    "# Now we need to provide an estimate of its generalization performance. \n",
    "# To do so, we evaluate it against the test set portion we previously held out.\n",
    "model = models[cv_df.index[0]]\n",
    "# Re-fit the best selected model on the whole training set\n",
    "model.fit(X_train, y_train)\n",
    "# Evaluation\n",
    "print(\"***** Evaluate Performance on Training Set *****\")\n",
    "evaluate(y_train, model.predict(X_train))\n",
    "print(\"***** Evaluate Performance on Test Set *****\")\n",
    "evaluate(y_test, model.predict(X_test))"
   ]
  },
  {
   "cell_type": "markdown",
   "metadata": {
    "slideshow": {
     "slide_type": "slide"
    }
   },
   "source": [
    "## Case 3: Select the Best Hyperparameters AND the Best Model from a Family of Models"
   ]
  },
  {
   "cell_type": "code",
   "execution_count": null,
   "metadata": {
    "slideshow": {
     "slide_type": "slide"
    }
   },
   "outputs": [],
   "source": [
    "models_and_hyperparams = {'LogisticRegression': (LogisticRegression(),\n",
    "                                                 {'C': [0.01, 0.05, 0.1, 0.5, 1, 2],\n",
    "                                                 'penalty': ['l1', 'l2']}\n",
    "                                                ),\n",
    "                          'RandomForestClassifier': (RandomForestClassifier(),\n",
    "                                       {'n_estimators': [10, 50, 100]}\n",
    "                                       ),\n",
    "                          'DecisionTreeClassifier': (DecisionTreeClassifier(),\n",
    "                                                     {'criterion': ['gini', 'entropy'], \n",
    "                                                      'max_depth': [i for i in range(1, X.shape[1]+1)]}\n",
    "                                                    )\n",
    "                         }"
   ]
  },
  {
   "cell_type": "code",
   "execution_count": null,
   "metadata": {
    "slideshow": {
     "slide_type": "slide"
    }
   },
   "outputs": [],
   "source": [
    "# `outer_cv` creates 10 folds for estimating generalization error\n",
    "outer_cv = StratifiedKFold(n_splits=10, shuffle=True, random_state=42)\n",
    "\n",
    "# when we train on a certain fold, we use a second cross-validation\n",
    "# split in order to choose hyperparameters\n",
    "inner_cv = StratifiedKFold(n_splits=10, shuffle=True, random_state=73)\n",
    "\n",
    "X_train, X_test, y_train, y_test = train_test_split(X, y, test_size=0.2, \n",
    "                                                    random_state=37, \n",
    "                                                    stratify=y)\n",
    "\n",
    "# we will collect the average of the scores on the 10 outer folds in this dictionary\n",
    "# with keys given by the names of the models in `models_and_hyperparams`\n",
    "average_scores_across_outer_folds_for_each_model = dict()\n",
    "\n",
    "# find the model with the best generalization error\n",
    "for name, (model, params) in models_and_hyperparams.items():\n",
    "    # this object is a classifier that also happens to choose\n",
    "    # its hyperparameters automatically using `inner_cv`\n",
    "    model_optimizing_hyperparams = GridSearchCV(estimator=model, \n",
    "                                                param_grid=params,\n",
    "                                                cv=inner_cv, \n",
    "                                                scoring='accuracy',\n",
    "                                               verbose=True)\n",
    "\n",
    "    # estimate generalization error on the 10-fold splits of the data\n",
    "    scores_across_outer_folds = cross_val_score(model_optimizing_hyperparams,\n",
    "                                                X_train, y_train, cv=outer_cv, scoring='accuracy')\n",
    "\n",
    "    # get the mean accuracy across each of outer_cv's 10 folds\n",
    "    average_scores_across_outer_folds_for_each_model[name] = np.mean(scores_across_outer_folds)\n",
    "    performance_summary = 'Model: {name}\\nAccuracy in the 10 outer folds: {scores}.\\nAverage Accuracy: {avg}'\n",
    "    print(performance_summary.format(\n",
    "        name=name, scores=scores_across_outer_folds,\n",
    "        avg=np.mean(scores_across_outer_folds)))\n",
    "    print()\n",
    "\n",
    "print('Average score across the outer folds: ',\n",
    "      average_scores_across_outer_folds_for_each_model)\n",
    "\n",
    "many_stars = '\\n' + '*' * 100 + '\\n'\n",
    "print(many_stars + 'Now we choose the best model and refit on the whole dataset' + many_stars)\n",
    "\n",
    "best_model_name, best_model_avg_score = max(\n",
    "    average_scores_across_outer_folds_for_each_model.items(),\n",
    "    key=(lambda name_averagescore: name_averagescore[1]))\n",
    "\n",
    "# get the best model and its associated parameter grid\n",
    "best_model, best_model_params = models_and_hyperparams[best_model_name]\n",
    "\n",
    "# now we refit this best model on the whole dataset so that we can start\n",
    "# making predictions on other data, and now we have a reliable estimate of\n",
    "# this model's generalization error and we are confident this is the best model\n",
    "# among the ones we have tried\n",
    "final_model = GridSearchCV(best_model, best_model_params, cv=inner_cv)\n",
    "final_model.fit(X_train, y_train)\n",
    "\n",
    "print('Best model: \\n\\t{}'.format(best_model), end='\\n\\n')\n",
    "print('Estimation of its generalization performance (accuracy):\\n\\t{}'.format(\n",
    "    best_model_avg_score), end='\\n\\n')\n",
    "print('Best parameter choice for this model: \\n\\t{params}'\n",
    "      '\\n(according to cross-validation `{cv}` on the whole dataset).'.format(\n",
    "      params=final_model.best_params_, cv=inner_cv))\n",
    "\n",
    "\n",
    "y_true, y_pred, y_pred_prob = y, final_model.predict(X), final_model.predict_proba(X)\n",
    "print()\n",
    "print(classification_report(y_true, y_pred))\n",
    "roc = roc_auc_score(y_true, y_pred_prob[:,1])\n",
    "acc = accuracy_score(y_true, y_pred)\n",
    "print(\"Accuracy = [{:.3f}]\".format(acc))\n",
    "print(\"Area Under the ROC = [{:.3f}]\".format(roc))"
   ]
  }
 ],
 "metadata": {
  "celltoolbar": "Slideshow",
  "kernelspec": {
   "display_name": "Python 3",
   "language": "python",
   "name": "python3"
  },
  "language_info": {
   "codemirror_mode": {
    "name": "ipython",
    "version": 3
   },
   "file_extension": ".py",
   "mimetype": "text/x-python",
   "name": "python",
   "nbconvert_exporter": "python",
   "pygments_lexer": "ipython3",
   "version": "3.6.4"
  }
 },
 "nbformat": 4,
 "nbformat_minor": 2
}
