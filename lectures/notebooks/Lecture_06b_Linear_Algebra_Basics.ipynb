{
 "cells": [
  {
   "cell_type": "markdown",
   "metadata": {
    "slideshow": {
     "slide_type": "slide"
    }
   },
   "source": [
    "# Fundamentals of Information Systems\n",
    "\n",
    "## Python Programming (for Data Science)\n",
    "\n",
    "### Master's Degree in Data Science\n",
    "\n",
    "#### Gabriele Tolomei\n",
    "<a href=\"mailto:gtolomei@math.unipd.it\">gtolomei@math.unipd.it</a><br/>\n",
    "University of Padua, Italy<br/>\n",
    "2018/2019<br/>\n",
    "November, 12 2018"
   ]
  },
  {
   "cell_type": "markdown",
   "metadata": {
    "slideshow": {
     "slide_type": "slide"
    }
   },
   "source": [
    "# Lecture 6 (Extra): Basics of Linear Algebra"
   ]
  },
  {
   "cell_type": "markdown",
   "metadata": {
    "slideshow": {
     "slide_type": "slide"
    }
   },
   "source": [
    "## What is a Matrix?\n",
    "\n",
    "-  A bidimensional array which is the building block of linear algebra. \n",
    "\n",
    "-  Linear algebra is used quite a bit in advanced statistics, largely because it provides two benefits:\n",
    "    -  Compact notation for describing sets of data and sets of equations;\n",
    "    -  Efficient methods for manipulating sets of data and solving sets of equations."
   ]
  },
  {
   "cell_type": "markdown",
   "metadata": {
    "slideshow": {
     "slide_type": "slide"
    }
   },
   "source": [
    "## Matrix Definition\n",
    "\n",
    "-  A **matrix** is a rectangular array of numbers arranged in **rows** and **columns**.\n",
    "\n",
    "-  The following is an example of a $3$-by-$4$ matrix $\\textbf{A}$:\n",
    "\n",
    "$$\n",
    "\\textbf{A} = \\begin{bmatrix}\n",
    "    1.2       & -0.7 & 3.1 & 2.8  \\\\\n",
    "    -5.9       & 1.4 & 0.3 & -4.3  \\\\\n",
    "    0.0       & 1.0 & 12.7 & 6.5  \\\\\n",
    "\\end{bmatrix}\n",
    "$$"
   ]
  },
  {
   "cell_type": "markdown",
   "metadata": {
    "slideshow": {
     "slide_type": "slide"
    }
   },
   "source": [
    "## Matrix Definition\n",
    "\n",
    "-  More generally, an $m$-by-$n$ matrix $\\textbf{A}$ can be represented as follows:\n",
    "\n",
    "$$\n",
    "\\textbf{A} = \\begin{bmatrix}\n",
    "    a_{11}       & a_{12} & a_{13} & \\dots & a_{1n} \\\\\n",
    "    a_{21}       & a_{22} & a_{23} & \\dots & a_{2n} \\\\\n",
    "        \\dots & \\dots & \\dots & \\dots & \\dots\\\\\n",
    "    a_{m1}       & a_{m2} & a_{m3} & \\dots & a_{mn}\n",
    "\\end{bmatrix}\n",
    "$$\n",
    "-  $a_{ij}$ refers to the element of $\\textbf{A}$ located at the $i$-th row and $j$-th column.\n",
    "-  $m$ and $n$ are called **dimensions** of the matrix.\n",
    "-  Sometimes, you specifiy dimensions when defining a matrix, e.g., $\\textbf{A}_{m,n}$.\n"
   ]
  },
  {
   "cell_type": "markdown",
   "metadata": {
    "slideshow": {
     "slide_type": "slide"
    }
   },
   "source": [
    "## Matrix Equality\n",
    "\n",
    "-  Two matrices $\\textbf{A}$ and $\\textbf{B}$ are equal if **all three** of the following conditions are met:\n",
    "    -  Each matrix has the same number of rows;\n",
    "    -  Each matrix has the same number of columns;\n",
    "    -  Corresponding elements within each matrix are equal."
   ]
  },
  {
   "cell_type": "markdown",
   "metadata": {
    "slideshow": {
     "slide_type": "slide"
    }
   },
   "source": [
    "## Transpose Matrix\n",
    "\n",
    "-  The transpose of a matrix $\\textbf{A}_{m,n}$ is another matrix $\\textbf{A}^{T}_{n,m}$ that is obtained by using rows from the first matrix as columns in the second matrix.\n",
    "\n",
    "-  For example, it is easy to see that the transpose of matrix $\\textbf{A}_{3,2}$ is $\\textbf{A}^{T}_{2,3}$:\n",
    "\n",
    "$$\n",
    "\\textbf{A} = \\begin{bmatrix}\n",
    "    1.2       & -0.7   \\\\\n",
    "    -5.9       & 1.4  \\\\\n",
    "    0.0       & 1.0   \\\\\n",
    "\\end{bmatrix}\n",
    "~~~~~\n",
    "\\textbf{A}^T = \\begin{bmatrix}\n",
    "    1.2       & -5.9 & 0.0 \\\\\n",
    "    -0.7       & 1.4 & 1.0  \\\\\n",
    "\\end{bmatrix}\n",
    "$$\n",
    "\n",
    "-  Row 1 of matrix $\\textbf{A}$ becomes column 1 of $\\textbf{A}^T$, row 2 of $\\textbf{A}$ becomes column $\\textbf{A}^T$, and finally row 3 of $\\textbf{A}$ becomes column 3 of $\\textbf{A}^T$."
   ]
  },
  {
   "cell_type": "markdown",
   "metadata": {
    "slideshow": {
     "slide_type": "slide"
    }
   },
   "source": [
    "## Vectors\n",
    "\n",
    "-  Vectors are a \"special\" type of matrix, which have only one column or one row.\n",
    "\n",
    "-  They come in **two** flavors: **column vectors** and **row vectors**. \n",
    "\n",
    "-  For example, matrix $\\textbf{a}$ is a $3$-by-$1$ column vector, and matrix $\\textbf{a}^T$ is a $1$-by-$3$ row vector.\n",
    "\n",
    "$$\n",
    "\\textbf{a} = \\begin{bmatrix}\n",
    "    1.2  \\\\\n",
    "    -5.9 \\\\\n",
    "    0.0  \\\\\n",
    "\\end{bmatrix}\n",
    "~~~~~\n",
    "\\textbf{a}^T = \\begin{bmatrix}\n",
    "    1.2       & -5.9 & 0.0 \\\\\n",
    "\\end{bmatrix}\n",
    "$$"
   ]
  },
  {
   "cell_type": "markdown",
   "metadata": {
    "slideshow": {
     "slide_type": "slide"
    }
   },
   "source": [
    "## Square Matrix\n",
    "\n",
    "-  A square matrix is a matrix having the same number of rows and columns (i.e., an $n$-by-$n$ matrix). \n",
    "\n",
    "-  Some kinds of square matrices are particularly interesting:\n",
    "    -  **Symmetric Matrix**\n",
    "    -  **Diagonal Matrix**\n",
    "    -  **Scalar Matrix**"
   ]
  },
  {
   "cell_type": "markdown",
   "metadata": {
    "slideshow": {
     "slide_type": "slide"
    }
   },
   "source": [
    "## Symmetric Matrix\n",
    "\n",
    "-  A matrix $\\textbf{A}_{n,n}$ is **symmetric** if its transpose $\\textbf{A}^{T}_{n,n}$ is equal to itself.\n",
    "\n",
    "-  For example:\n",
    "\n",
    "$$\n",
    "\\textbf{A} = \\begin{bmatrix}\n",
    "    1.2       & -5.9   \\\\\n",
    "    -5.9       & 1.2  \\\\\n",
    "\\end{bmatrix}\n",
    "=\n",
    "\\begin{bmatrix}\n",
    "    1.2       & -5.9   \\\\\n",
    "    -5.9       & 1.2  \\\\\n",
    "\\end{bmatrix}\n",
    "= \\textbf{A}^T\n",
    "$$"
   ]
  },
  {
   "cell_type": "markdown",
   "metadata": {
    "slideshow": {
     "slide_type": "slide"
    }
   },
   "source": [
    "## Diagonal Matrix\n",
    "\n",
    "-  A **diagonal** matrix $\\textbf{A}_{n,n}$ is a special type of **symmetric** matrix, in which it has zeros in the off-diagonal elements.\n",
    "\n",
    "-  For example:\n",
    "\n",
    "$$\n",
    "\\textbf{A} = \\begin{bmatrix}\n",
    "    1.2       & 0 & 0   \\\\\n",
    "    0       & 2.7 & 0 \\\\\n",
    "    0       & 0 & -3.1 \\\\\n",
    "\\end{bmatrix}\n",
    "$$"
   ]
  },
  {
   "cell_type": "markdown",
   "metadata": {
    "slideshow": {
     "slide_type": "slide"
    }
   },
   "source": [
    "## Scalar Matrix\n",
    "\n",
    "-  A **scalar** matrix $\\textbf{A}_{n,n}$ is a special kind of **diagonal** matrix, in which it has equal-valued elements along the diagonal.\n",
    "\n",
    "-  For example:\n",
    "\n",
    "$$\n",
    "\\textbf{A} = \\begin{bmatrix}\n",
    "    2.7       & 0 & 0   \\\\\n",
    "    0       & 2.7 & 0 \\\\\n",
    "    0       & 0 & 2.7 \\\\\n",
    "\\end{bmatrix}\n",
    "$$"
   ]
  },
  {
   "cell_type": "markdown",
   "metadata": {
    "slideshow": {
     "slide_type": "slide"
    }
   },
   "source": [
    "# Matrix Operations"
   ]
  },
  {
   "cell_type": "markdown",
   "metadata": {
    "slideshow": {
     "slide_type": "slide"
    }
   },
   "source": [
    "## Matrix Addition and Subtraction\n",
    "\n",
    "-  Just like ordinary algebra, linear algebra has operations like addition and subtraction.\n",
    "\n",
    "-  Two matrices can be added or subtracted **only if** they have the same dimensions, i.e., the same number of rows and columns.\n",
    "\n",
    "-  Addition or subtraction is accomplished **element-wise**. For example, consider the following matrices $\\textbf{A}$ and $\\textbf{B}$.\n",
    "\n",
    "$$\n",
    "\\textbf{A} = \\begin{bmatrix}\n",
    "    1.2       & -0.7   & 9.8\\\\\n",
    "    -5.9       & 1.4  & 6.2\\\\\n",
    "\\end{bmatrix}\n",
    "~~~~~\n",
    "\\textbf{B} = \\begin{bmatrix}\n",
    "    -0.8       & -2.9 & 0.0 \\\\\n",
    "    1.6       & 1.4 & 1.0  \\\\\n",
    "\\end{bmatrix}\n",
    "$$"
   ]
  },
  {
   "cell_type": "markdown",
   "metadata": {
    "slideshow": {
     "slide_type": "slide"
    }
   },
   "source": [
    "## Matrix Addition and Subtraction\n",
    "\n",
    "\n",
    "$$\n",
    "\\textbf{A} + \\textbf{B} = \\begin{bmatrix}\n",
    "    0.4       & -3.6   & 9.8\\\\\n",
    "    -4.3       & 2.8  & 7.2\\\\\n",
    "\\end{bmatrix}\n",
    "~~~~~\n",
    "\\textbf{A} - \\textbf{B} = \\begin{bmatrix}\n",
    "    2.0       & 2.2 & 9.8 \\\\\n",
    "    -7.5      & 0.0 & 5.2  \\\\\n",
    "\\end{bmatrix}\n",
    "$$\n",
    "\n",
    "-  Note that addition is commutative (i.e., $\\textbf{A} + \\textbf{B} = \\textbf{B} + \\textbf{A}$), but subtraction in general is not."
   ]
  },
  {
   "cell_type": "markdown",
   "metadata": {
    "slideshow": {
     "slide_type": "slide"
    }
   },
   "source": [
    "## Matrix Multiplication\n",
    "\n",
    "-  In linear algebra, there are **two** kinds of matrix multiplication: \n",
    "    -  multiplication of a matrix by a scalar (i.e., a number);\n",
    "    -  multiplication of a matrix by another matrix."
   ]
  },
  {
   "cell_type": "markdown",
   "metadata": {
    "slideshow": {
     "slide_type": "slide"
    }
   },
   "source": [
    "## How to Multiply a Matrix by a Scalar\n",
    "\n",
    "-  When you multiply a matrix $\\textbf{A}$ by a scalar, you multiply **every element** in the matrix by that same number. \n",
    "\n",
    "-  This operation produces a new matrix, which is called a **scalar multiple**.\n",
    "\n",
    "-  For example, consider the following:\n",
    "\n",
    "$$\n",
    "\\textbf{A} = \\begin{bmatrix}\n",
    "    1       & 9 & 4   \\\\\n",
    "    5       & 2 & 0 \\\\\n",
    "    -1       & 3 & 3 \\\\\n",
    "\\end{bmatrix}\n",
    "~~~~~\n",
    "k \\cdot \\textbf{A} = \\begin{bmatrix}\n",
    "    k       & 9k & 4k   \\\\\n",
    "    5k       & 2k & 0 \\\\\n",
    "    -1k       & 3k & 3k \\\\\n",
    "\\end{bmatrix}\n",
    "~~~(k \\in \\mathbb{R})\n",
    "$$"
   ]
  },
  {
   "cell_type": "markdown",
   "metadata": {
    "slideshow": {
     "slide_type": "slide"
    }
   },
   "source": [
    "## How to Multiply a Matrix by a Matrix\n",
    "\n",
    "-  The product of a matrix $\\textbf{A}$ by another matrix $\\textbf{B}$, i.e., $\\textbf{A}\\cdot \\textbf{B}$ is defined **only** when the number of columns in $\\textbf{A}$ is equal to the number of rows in $\\textbf{B}$.\n",
    "\n",
    "-  Analogously, $\\textbf{B}\\cdot \\textbf{A}$ is defined only when the number of columns in $\\textbf{B}$ is equal to the number of rows in $\\textbf{A}$.\n",
    "\n",
    "-  More generally, if $\\textbf{A}$ is an $m$-by-$k$ matrix, and $\\textbf{B}$ is an $k$-by-$n$ matrix the matrix product $\\textbf{A}\\cdot \\textbf{B}$ is an $m$-by-$n$ matrix $\\textbf{C}$.\n",
    "\n",
    "-  Each element of $\\textbf{C}$ can be therefore computed according to the following formula:\n",
    "$$\n",
    "c_{ij} = \\sum_{p=1}^k a_{ip}\\cdot b_{pj}\n",
    "$$\n"
   ]
  },
  {
   "cell_type": "markdown",
   "metadata": {
    "slideshow": {
     "slide_type": "slide"
    }
   },
   "source": [
    "## How to Multiply a Matrix by a Matrix\n",
    "\n",
    "-  In the formula above we identify: \n",
    "    -  $c_{ij}$ as the element in row $i$ and column $j$ of the resulting matrix $\\textbf{C}$;\n",
    "    -  $a_{ip}$ as the element in row $i$ and column $p$ of the first operand matrix $\\textbf{A}$;\n",
    "    -  $b_{pj}$ as the element in row $p$ and column $j$ of the second operand matrix $\\textbf{B}$;\n",
    "    -  $\\sum_{p=1}^k$ indicates that $a_{ip}\\cdot b_{pj}$ must be summed over $p = 1\\ldots k$."
   ]
  },
  {
   "cell_type": "markdown",
   "metadata": {
    "slideshow": {
     "slide_type": "slide"
    }
   },
   "source": [
    "## Matrix Multiplication: An Example\n",
    "\n",
    "-  Let's work through an example to show how the above formula works. Suppose we want to compute $\\textbf{A}\\cdot \\textbf{B}$, given the matrices below:\n",
    "\n",
    "$$\n",
    "\\textbf{A} = \\begin{bmatrix}\n",
    "    0       & 1 & 2   \\\\\n",
    "    3       & 4 & 5 \\\\\n",
    "\\end{bmatrix}\n",
    "~~~\n",
    "\\textbf{B} = \\begin{bmatrix}\n",
    "    6       & 7   \\\\\n",
    "    8       & 9 \\\\\n",
    "    10 & 11\\\\\n",
    "\\end{bmatrix}\n",
    "$$\n",
    "-  Let $\\textbf{C} = \\textbf{A}\\cdot \\textbf{B}$, which we know will be a $2$-by-$2$ matrix."
   ]
  },
  {
   "cell_type": "markdown",
   "metadata": {
    "slideshow": {
     "slide_type": "slide"
    }
   },
   "source": [
    "## Matrix Multiplication: An Example\n",
    "\n",
    "$$\n",
    "c_{11} = \\sum_{p=1}^3 a_{1p}\\cdot b_{p1} = 0*6 + 1*8 +2*10 = 0 + 8 + 20 = 28\\\\\n",
    "c_{12} = \\sum_{p=1}^3 a_{1p}\\cdot b_{p2} = 0*7 + 1*9 +2*11 = 0 + 9 + 22 = 31\\\\\n",
    "c_{21} = \\sum_{p=1}^3 a_{2p}\\cdot b_{p1} = 3*6 + 4*8 +5*10 = = 18 + 32 + 50 = 100\\\\\n",
    "c_{22} = \\sum_{p=1}^3 a_{2p}\\cdot b_{p2} = 3*7 + 4*9 +5*11 = 21 + 36 +55 = 112\\\\\n",
    "$$"
   ]
  },
  {
   "cell_type": "markdown",
   "metadata": {
    "slideshow": {
     "slide_type": "slide"
    }
   },
   "source": [
    "## Matrix Multiplication: An Example\n",
    "\n",
    "$$\n",
    "\\textbf{A} \\cdot \\textbf{B} =\n",
    "\\textbf{C} = \\begin{bmatrix}\n",
    "    28       & 31   \\\\\n",
    "    100       & 112 \\\\\n",
    "\\end{bmatrix}\n",
    "$$"
   ]
  },
  {
   "cell_type": "markdown",
   "metadata": {
    "slideshow": {
     "slide_type": "slide"
    }
   },
   "source": [
    "## Multiplication Order\n",
    "\n",
    "-  In some cases, matrix multiplication is defined for $\\textbf{A}\\cdot \\textbf{B}$, but not for $\\textbf{B}\\cdot \\textbf{A}$, and vice versa. \n",
    "\n",
    "-  However, even when matrix multiplication is possible in both directions, results may be different. That is, $\\textbf{A}\\cdot \\textbf{B}$ is generally different from $\\textbf{B}\\cdot \\textbf{A}$.\n",
    "\n",
    "-  The bottom line: when you multiply two matrices, order matters!"
   ]
  },
  {
   "cell_type": "markdown",
   "metadata": {
    "slideshow": {
     "slide_type": "slide"
    }
   },
   "source": [
    "## Identity Matrix\n",
    "\n",
    "-  The **identity matrix** is an $n$-by-$n$ diagonal matrix with $1$'s in the diagonal and $0$'s everywhere else. \n",
    "\n",
    "-  The identity matrix is often denoted by $\\textbf{I}$ (or $\\textbf{I}_{n,n}$ or $\\textbf{I}_{n}$).\n",
    "\n",
    "-  The identity matrix has a nice property: Any matrix that can be multiplied by $\\textbf{I}$ remains the same, that is:\n",
    "\n",
    "$$\n",
    "\\textbf{A}\\cdot\\textbf{I} = \\textbf{I}\\cdot\\textbf{A} = \\textbf{A}\n",
    "$$\n",
    "\n",
    "- Of course, if $\\textbf{A}$ is not a square matrix, $\\textbf{I}$ will have different size depending on whether you do $\\textbf{A}\\cdot\\textbf{I}$ or $\\textbf{I}\\cdot\\textbf{A}$."
   ]
  },
  {
   "cell_type": "markdown",
   "metadata": {
    "slideshow": {
     "slide_type": "slide"
    }
   },
   "source": [
    "## Vector Multiplication\n",
    "\n",
    "-  The multiplication of a vector by a vector produces some interesting results.\n",
    "\n",
    "-  One is known as the vector **inner product** (a.k.a. **dot product** or **scalar product**), whilst the other is called the vector **outer product**.\n"
   ]
  },
  {
   "cell_type": "markdown",
   "metadata": {
    "slideshow": {
     "slide_type": "slide"
    }
   },
   "source": [
    "## Vector Inner Product (Dot Product)\n",
    "\n",
    "-  Assume that $\\textbf{a}$ and $\\textbf{b}$ are vectors, each with the same number of elements $n$. Then, the **inner product** of $\\textbf{a}\\cdot \\textbf{b}$ is a scalar $s\\in \\mathbb{R}$.\n",
    "$$\n",
    "\\textbf{a}^T\\cdot \\textbf{b} = \\textbf{b}^T\\cdot \\textbf{a} = s\n",
    "$$\n",
    "\n",
    "-  $\\textbf{a}$ and $\\textbf{b}$ are column vectors, each having $n$ elements;\n",
    "\n",
    "-  $\\textbf{a}^T$ is the transpose of $\\textbf{a}$, which makes $\\textbf{a}^T$ a row vector;\n",
    "\n",
    "-  $\\textbf{b}^T$ is the transpose of $\\textbf{b}$, which makes $\\textbf{b}^T$ a row vector;\n",
    "\n",
    "-  $s$ is a scalar; that is, $s$ is a real number, **not** a matrix!\n",
    "\n",
    "-  Note that the product of two matrices is usually another matrix. However, the inner product of two vectors is a real number!"
   ]
  },
  {
   "cell_type": "markdown",
   "metadata": {
    "slideshow": {
     "slide_type": "slide"
    }
   },
   "source": [
    "## Vector Outer Product\n",
    "\n",
    "-  Assume that $\\textbf{a}$ and $\\textbf{b}$ are vectors of $m$ and $n$ elements, respectively. Then, the **outer product** of $\\textbf{a}\\otimes \\textbf{b}$ is an $m$-by-$n$ matrix $\\textbf{C}$.\n",
    "\n",
    "$$\n",
    "\\textbf{a}\\otimes \\textbf{b}^T = \\textbf{C}\n",
    "$$\n",
    "\n",
    "-  $\\textbf{a}$ is an $m$-by-$1$ column vector;\n",
    "\n",
    "-  $\\textbf{b}^T$ is the transpose of $\\textbf{b}$, which makes $\\textbf{b}^T$ a $1$-by-$n$ row vector;\n",
    "\n",
    "-  $\\textbf{C}$ is an $m$-by-$n$ matrix.\n",
    "\n",
    "-  Let's see how this works!"
   ]
  },
  {
   "cell_type": "markdown",
   "metadata": {
    "slideshow": {
     "slide_type": "slide"
    }
   },
   "source": [
    "## Vector Outer Product\n",
    "\n",
    "$$\n",
    "\\textbf{a} = \\begin{bmatrix}\n",
    "    u  \\\\\n",
    "    v \\\\\n",
    "\\end{bmatrix}\n",
    "~~\n",
    "\\textbf{b} = \\begin{bmatrix}\n",
    "    x  \\\\\n",
    "    y \\\\\n",
    "    z \\\\\n",
    "\\end{bmatrix}\n",
    "~~~\n",
    "\\textbf{a}\\otimes \\textbf{b}^T = \\textbf{C} = \\begin{bmatrix}\n",
    "    u\\cdot x & u\\cdot y & u\\cdot z  \\\\\n",
    "    v\\cdot x & v\\cdot y & v\\cdot z  \\\\\n",
    "\\end{bmatrix}\n",
    "$$\n",
    "\n",
    "-  Notice that the elements of matrix $\\textbf{C}$ consist of the product of elements from vector $\\textbf{a}$ \"crossed\" with elements from vector $\\textbf{b}$."
   ]
  },
  {
   "cell_type": "markdown",
   "metadata": {
    "slideshow": {
     "slide_type": "slide"
    }
   },
   "source": [
    "## Norm of a Vector\n",
    "\n",
    "-  A **norm** is a function that assigns a strictly positive length to a vector (in a vector space).\n",
    "\n",
    "-  Given a vector $\\textbf{x} \\in \\mathbb{R}^n = (x_1, \\ldots, x_n)$ we define the $\\ell_p$-norm (a.k.a. the $p$-norm), with $p\\geq 1$ as follows:\n",
    "\n",
    "$$\n",
    "||\\textbf{x}||_p = \\Bigg(\\sum_{i=1}^n |x_i|^p \\Bigg)^{1/p}\n",
    "$$\n",
    "\n",
    "where $|x_i|$ is the **absolute value** of $x_i$, and $|x_i| = x_i$ iff $x_i \\geq 0$; $-x_i$, otherwise."
   ]
  },
  {
   "cell_type": "markdown",
   "metadata": {
    "slideshow": {
     "slide_type": "slide"
    }
   },
   "source": [
    "## $\\ell_p$-norm\n",
    "\n",
    "-  $\\ell_1$ ($p=1$) a.k.a. the **taxicab norm** or **Manhattan norm**:\n",
    "    $$ \n",
    "    ||\\textbf{x}||_1 = |\\textbf{x}| = \\sum_{i=1}^n |x_i|\n",
    "    $$\n",
    "-  $\\ell_2$ ($p=2$) a.k.a. the **Euclidean norm**:\n",
    "    $$ \n",
    "    ||\\textbf{x}||_2 = ||\\textbf{x}|| = \\sqrt{x_1^2 + \\ldots + x_n^2}\n",
    "    $$\n",
    "-  $\\ell_{\\infty}$ ($p=\\infty$) as $p$ approaches to $\\infty$ the $p$-norm approaches the **infinity norm** or **maximum norm**:\n",
    "    $$ \n",
    "    ||\\textbf{x}||_{\\infty} = \\max_i |x_i|\n",
    "    $$"
   ]
  }
 ],
 "metadata": {
  "celltoolbar": "Slideshow",
  "kernelspec": {
   "display_name": "Python 3",
   "language": "python",
   "name": "python3"
  },
  "language_info": {
   "codemirror_mode": {
    "name": "ipython",
    "version": 3
   },
   "file_extension": ".py",
   "mimetype": "text/x-python",
   "name": "python",
   "nbconvert_exporter": "python",
   "pygments_lexer": "ipython3",
   "version": "3.6.4"
  }
 },
 "nbformat": 4,
 "nbformat_minor": 2
}
